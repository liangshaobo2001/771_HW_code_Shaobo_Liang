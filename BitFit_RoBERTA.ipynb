{
 "cells": [
  {
   "cell_type": "code",
   "execution_count": 1,
   "metadata": {},
   "outputs": [
    {
     "name": "stderr",
     "output_type": "stream",
     "text": [
      "f:\\Programs\\anaconda3\\envs\\ssm_hw5\\lib\\site-packages\\tqdm\\auto.py:21: TqdmWarning: IProgress not found. Please update jupyter and ipywidgets. See https://ipywidgets.readthedocs.io/en/stable/user_install.html\n",
      "  from .autonotebook import tqdm as notebook_tqdm\n"
     ]
    }
   ],
   "source": [
    "# Load the huggingface sst2 dataset\n",
    "from datasets import load_dataset\n",
    "\n",
    "dataset = load_dataset(\"sst2\")\n"
   ]
  },
  {
   "cell_type": "code",
   "execution_count": 2,
   "metadata": {},
   "outputs": [
    {
     "name": "stdout",
     "output_type": "stream",
     "text": [
      "DatasetDict({\n",
      "    train: Dataset({\n",
      "        features: ['idx', 'sentence', 'label'],\n",
      "        num_rows: 67349\n",
      "    })\n",
      "    validation: Dataset({\n",
      "        features: ['idx', 'sentence', 'label'],\n",
      "        num_rows: 872\n",
      "    })\n",
      "    test: Dataset({\n",
      "        features: ['idx', 'sentence', 'label'],\n",
      "        num_rows: 1821\n",
      "    })\n",
      "})\n",
      "{'idx': 0, 'sentence': 'hide new secretions from the parental units ', 'label': 0}\n"
     ]
    }
   ],
   "source": [
    "print(dataset)\n",
    "print(dataset[\"train\"][0])"
   ]
  },
  {
   "cell_type": "code",
   "execution_count": 3,
   "metadata": {},
   "outputs": [
    {
     "name": "stdout",
     "output_type": "stream",
     "text": [
      "2\n"
     ]
    }
   ],
   "source": [
    "num_labels = len(set(dataset[\"train\"][\"label\"]))\n",
    "print(num_labels)"
   ]
  },
  {
   "cell_type": "code",
   "execution_count": 4,
   "metadata": {},
   "outputs": [
    {
     "name": "stdout",
     "output_type": "stream",
     "text": [
      "DatasetDict({\n",
      "    train: Dataset({\n",
      "        features: ['idx', 'sentence', 'label'],\n",
      "        num_rows: 66002\n",
      "    })\n",
      "    validation: Dataset({\n",
      "        features: ['idx', 'sentence', 'label'],\n",
      "        num_rows: 1347\n",
      "    })\n",
      "    test: Dataset({\n",
      "        features: ['idx', 'sentence', 'label'],\n",
      "        num_rows: 872\n",
      "    })\n",
      "})\n"
     ]
    }
   ],
   "source": [
    "# Delete original test set, split the train set into train and validation, and assign original validation set to test set\n",
    "\n",
    "dataset[\"test\"] = dataset[\"validation\"]\n",
    "\n",
    "train_size = int(len(dataset[\"train\"]) * 0.98)\n",
    "train_set = dataset[\"train\"].select(list(range(train_size)))\n",
    "validation_set = dataset[\"train\"].select(list(range(train_size, len(dataset[\"train\"]))))\n",
    "dataset[\"train\"] = train_set\n",
    "dataset[\"validation\"] = validation_set\n",
    "\n",
    "print(dataset)"
   ]
  },
  {
   "cell_type": "code",
   "execution_count": null,
   "metadata": {},
   "outputs": [],
   "source": []
  },
  {
   "cell_type": "code",
   "execution_count": 5,
   "metadata": {},
   "outputs": [
    {
     "name": "stderr",
     "output_type": "stream",
     "text": [
      "Some weights of RobertaForSequenceClassification were not initialized from the model checkpoint at roberta-base and are newly initialized: ['classifier.dense.bias', 'classifier.dense.weight', 'classifier.out_proj.bias', 'classifier.out_proj.weight']\n",
      "You should probably TRAIN this model on a down-stream task to be able to use it for predictions and inference.\n"
     ]
    }
   ],
   "source": [
    "from transformers import AutoTokenizer, RobertaModel, RobertaForSequenceClassification\n",
    "import torch\n",
    "\n",
    "tokenizer = AutoTokenizer.from_pretrained(\"roberta-base\")\n",
    "# model = RobertaModel.from_pretrained(\"FacebookAI/roberta-base\")\n",
    "model = RobertaForSequenceClassification.from_pretrained(\"roberta-base\", num_labels=num_labels)\n"
   ]
  },
  {
   "cell_type": "code",
   "execution_count": 6,
   "metadata": {},
   "outputs": [
    {
     "name": "stdout",
     "output_type": "stream",
     "text": [
      "Total params: 124647170\n",
      "Trainable params: 102914\n",
      "Percentage trainable: 0.08%\n"
     ]
    }
   ],
   "source": [
    "# BitFit: freeze everything except for bias terms \n",
    "\n",
    "for name, param in model.named_parameters():\n",
    "    if \"bias\" in name:\n",
    "        param.requires_grad = True\n",
    "    else:\n",
    "        param.requires_grad = False\n",
    "\n",
    "total_params = sum(param.numel() for param in model.parameters())\n",
    "trainable_params = sum(param.numel() for param in model.parameters() if param.requires_grad)\n",
    "print(f\"Total params: {total_params}\")\n",
    "print(f\"Trainable params: {trainable_params}\")\n",
    "print(f\"Percentage trainable: {trainable_params / total_params * 100:.2f}%\")"
   ]
  },
  {
   "cell_type": "code",
   "execution_count": 7,
   "metadata": {},
   "outputs": [],
   "source": [
    "# for name, param in model.named_parameters():\n",
    "#     print(f\"{name}: {param.requires_grad}\")"
   ]
  },
  {
   "cell_type": "code",
   "execution_count": 8,
   "metadata": {},
   "outputs": [
    {
     "name": "stdout",
     "output_type": "stream",
     "text": [
      "{'idx': 0, 'sentence': 'hide new secretions from the parental units ', 'label': 0, 'input_ids': [0, 37265, 92, 3556, 2485, 31, 5, 20536, 2833, 1437, 2, 1, 1, 1, 1, 1, 1, 1, 1, 1, 1, 1, 1, 1, 1, 1, 1, 1, 1, 1, 1, 1, 1, 1, 1, 1, 1, 1, 1, 1, 1, 1, 1, 1, 1, 1, 1, 1, 1, 1, 1, 1, 1, 1, 1, 1, 1, 1, 1, 1, 1, 1, 1, 1, 1, 1, 1, 1, 1, 1, 1, 1, 1, 1, 1, 1, 1, 1, 1, 1, 1, 1, 1, 1, 1, 1, 1, 1, 1, 1, 1, 1, 1, 1, 1, 1, 1, 1, 1, 1, 1, 1, 1, 1, 1, 1, 1, 1, 1, 1, 1, 1, 1, 1, 1, 1, 1, 1, 1, 1, 1, 1, 1, 1, 1, 1, 1, 1, 1, 1, 1, 1, 1, 1, 1, 1, 1, 1, 1, 1, 1, 1, 1, 1, 1, 1, 1, 1, 1, 1, 1, 1, 1, 1, 1, 1, 1, 1, 1, 1, 1, 1, 1, 1, 1, 1, 1, 1, 1, 1, 1, 1, 1, 1, 1, 1, 1, 1, 1, 1, 1, 1, 1, 1, 1, 1, 1, 1, 1, 1, 1, 1, 1, 1, 1, 1, 1, 1, 1, 1, 1, 1, 1, 1, 1, 1, 1, 1, 1, 1, 1, 1, 1, 1, 1, 1, 1, 1, 1, 1, 1, 1, 1, 1, 1, 1, 1, 1, 1, 1, 1, 1, 1, 1, 1, 1, 1, 1, 1, 1, 1, 1, 1, 1, 1, 1, 1, 1, 1, 1, 1, 1, 1, 1, 1, 1, 1, 1, 1, 1, 1, 1, 1, 1, 1, 1, 1, 1, 1, 1, 1, 1, 1, 1, 1, 1, 1, 1, 1, 1, 1, 1, 1, 1, 1, 1, 1, 1, 1, 1, 1, 1, 1, 1, 1, 1, 1, 1, 1, 1, 1, 1, 1, 1, 1, 1, 1, 1, 1, 1, 1, 1, 1, 1, 1, 1, 1, 1, 1, 1, 1, 1, 1, 1, 1, 1, 1, 1, 1, 1, 1, 1, 1, 1, 1, 1, 1, 1, 1, 1, 1, 1, 1, 1, 1, 1, 1, 1, 1, 1, 1, 1, 1, 1, 1, 1, 1, 1, 1, 1, 1, 1, 1, 1, 1, 1, 1, 1, 1, 1, 1, 1, 1, 1, 1, 1, 1, 1, 1, 1, 1, 1, 1, 1, 1, 1, 1, 1, 1, 1, 1, 1, 1, 1, 1, 1, 1, 1, 1, 1, 1, 1, 1, 1, 1, 1, 1, 1, 1, 1, 1, 1, 1, 1, 1, 1, 1, 1, 1, 1, 1, 1, 1, 1, 1, 1, 1, 1, 1, 1, 1, 1, 1, 1, 1, 1, 1, 1, 1, 1, 1, 1, 1, 1, 1, 1, 1, 1, 1, 1, 1, 1, 1, 1, 1, 1, 1, 1, 1, 1, 1, 1, 1, 1, 1, 1, 1, 1, 1, 1, 1, 1, 1, 1, 1, 1, 1, 1, 1, 1, 1, 1, 1, 1, 1, 1, 1, 1, 1, 1, 1, 1, 1, 1, 1, 1, 1, 1, 1, 1, 1, 1, 1, 1, 1, 1, 1, 1, 1, 1, 1, 1], 'attention_mask': [1, 1, 1, 1, 1, 1, 1, 1, 1, 1, 1, 0, 0, 0, 0, 0, 0, 0, 0, 0, 0, 0, 0, 0, 0, 0, 0, 0, 0, 0, 0, 0, 0, 0, 0, 0, 0, 0, 0, 0, 0, 0, 0, 0, 0, 0, 0, 0, 0, 0, 0, 0, 0, 0, 0, 0, 0, 0, 0, 0, 0, 0, 0, 0, 0, 0, 0, 0, 0, 0, 0, 0, 0, 0, 0, 0, 0, 0, 0, 0, 0, 0, 0, 0, 0, 0, 0, 0, 0, 0, 0, 0, 0, 0, 0, 0, 0, 0, 0, 0, 0, 0, 0, 0, 0, 0, 0, 0, 0, 0, 0, 0, 0, 0, 0, 0, 0, 0, 0, 0, 0, 0, 0, 0, 0, 0, 0, 0, 0, 0, 0, 0, 0, 0, 0, 0, 0, 0, 0, 0, 0, 0, 0, 0, 0, 0, 0, 0, 0, 0, 0, 0, 0, 0, 0, 0, 0, 0, 0, 0, 0, 0, 0, 0, 0, 0, 0, 0, 0, 0, 0, 0, 0, 0, 0, 0, 0, 0, 0, 0, 0, 0, 0, 0, 0, 0, 0, 0, 0, 0, 0, 0, 0, 0, 0, 0, 0, 0, 0, 0, 0, 0, 0, 0, 0, 0, 0, 0, 0, 0, 0, 0, 0, 0, 0, 0, 0, 0, 0, 0, 0, 0, 0, 0, 0, 0, 0, 0, 0, 0, 0, 0, 0, 0, 0, 0, 0, 0, 0, 0, 0, 0, 0, 0, 0, 0, 0, 0, 0, 0, 0, 0, 0, 0, 0, 0, 0, 0, 0, 0, 0, 0, 0, 0, 0, 0, 0, 0, 0, 0, 0, 0, 0, 0, 0, 0, 0, 0, 0, 0, 0, 0, 0, 0, 0, 0, 0, 0, 0, 0, 0, 0, 0, 0, 0, 0, 0, 0, 0, 0, 0, 0, 0, 0, 0, 0, 0, 0, 0, 0, 0, 0, 0, 0, 0, 0, 0, 0, 0, 0, 0, 0, 0, 0, 0, 0, 0, 0, 0, 0, 0, 0, 0, 0, 0, 0, 0, 0, 0, 0, 0, 0, 0, 0, 0, 0, 0, 0, 0, 0, 0, 0, 0, 0, 0, 0, 0, 0, 0, 0, 0, 0, 0, 0, 0, 0, 0, 0, 0, 0, 0, 0, 0, 0, 0, 0, 0, 0, 0, 0, 0, 0, 0, 0, 0, 0, 0, 0, 0, 0, 0, 0, 0, 0, 0, 0, 0, 0, 0, 0, 0, 0, 0, 0, 0, 0, 0, 0, 0, 0, 0, 0, 0, 0, 0, 0, 0, 0, 0, 0, 0, 0, 0, 0, 0, 0, 0, 0, 0, 0, 0, 0, 0, 0, 0, 0, 0, 0, 0, 0, 0, 0, 0, 0, 0, 0, 0, 0, 0, 0, 0, 0, 0, 0, 0, 0, 0, 0, 0, 0, 0, 0, 0, 0, 0, 0, 0, 0, 0, 0, 0, 0, 0, 0, 0, 0, 0, 0, 0, 0, 0, 0, 0, 0, 0, 0, 0, 0, 0, 0, 0, 0, 0, 0, 0, 0, 0, 0, 0, 0, 0, 0, 0, 0, 0, 0, 0, 0, 0, 0, 0, 0]}\n"
     ]
    }
   ],
   "source": [
    "# Tokenize the dataset\n",
    "def tokenize_function(examples):\n",
    "    return tokenizer(examples[\"sentence\"], padding=\"max_length\", truncation=True)\n",
    "\n",
    "tokenized_dataset = dataset.map(tokenize_function, batched=True)\n",
    "\n",
    "# Print the first example of the training set\n",
    "print(tokenized_dataset[\"train\"][0])\n",
    "\n"
   ]
  },
  {
   "cell_type": "code",
   "execution_count": 9,
   "metadata": {},
   "outputs": [
    {
     "name": "stderr",
     "output_type": "stream",
     "text": [
      "C:\\Users\\Shaobo Liang\\AppData\\Local\\Temp\\ipykernel_11260\\3571061669.py:13: FutureWarning: load_metric is deprecated and will be removed in the next major version of datasets. Use 'evaluate.load' instead, from the new library 🤗 Evaluate: https://huggingface.co/docs/evaluate\n",
      "  metric = load_metric(\"accuracy\")\n",
      "f:\\Programs\\anaconda3\\envs\\ssm_hw5\\lib\\site-packages\\datasets\\load.py:753: FutureWarning: The repository for accuracy contains custom code which must be executed to correctly load the metric. You can inspect the repository content at https://raw.githubusercontent.com/huggingface/datasets/2.17.1/metrics/accuracy/accuracy.py\n",
      "You can avoid this message in future by passing the argument `trust_remote_code=True`.\n",
      "Passing `trust_remote_code=True` will be mandatory to load this metric from the next major release of `datasets`.\n",
      "  warnings.warn(\n",
      "f:\\Programs\\anaconda3\\envs\\ssm_hw5\\lib\\site-packages\\accelerate\\accelerator.py:446: FutureWarning: Passing the following arguments to `Accelerator` is deprecated and will be removed in version 1.0 of Accelerate: dict_keys(['dispatch_batches', 'split_batches']). Please pass an `accelerate.DataLoaderConfiguration` instead: \n",
      "dataloader_config = DataLoaderConfiguration(dispatch_batches=None, split_batches=False)\n",
      "  warnings.warn(\n",
      "  3%|▎         | 500/16501 [02:08<1:08:53,  3.87it/s]"
     ]
    },
    {
     "name": "stdout",
     "output_type": "stream",
     "text": [
      "{'train_accuracy': 0.5435, 'epoch': 0.03}\n",
      "{'loss': 0.6882, 'learning_rate': 9.696988061329618e-05, 'epoch': 0.03}\n"
     ]
    },
    {
     "name": "stderr",
     "output_type": "stream",
     "text": [
      "                                                     \n",
      "  3%|▎         | 500/16501 [02:34<1:08:53,  3.87it/s]"
     ]
    },
    {
     "name": "stdout",
     "output_type": "stream",
     "text": [
      "{'eval_loss': 0.683150053024292, 'eval_accuracy': 0.5664439495174461, 'eval_runtime': 26.2105, 'eval_samples_per_second': 51.392, 'eval_steps_per_second': 12.857, 'epoch': 0.03}\n"
     ]
    },
    {
     "name": "stderr",
     "output_type": "stream",
     "text": [
      "  6%|▌         | 1000/16501 [04:41<1:06:43,  3.87it/s]"
     ]
    },
    {
     "name": "stdout",
     "output_type": "stream",
     "text": [
      "{'train_accuracy': 0.555, 'epoch': 0.06}\n",
      "{'loss': 0.6842, 'learning_rate': 9.393976122659234e-05, 'epoch': 0.06}\n"
     ]
    },
    {
     "name": "stderr",
     "output_type": "stream",
     "text": [
      "                                                      \n",
      "  6%|▌         | 1000/16501 [05:07<1:06:43,  3.87it/s]"
     ]
    },
    {
     "name": "stdout",
     "output_type": "stream",
     "text": [
      "{'eval_loss': 0.6770097613334656, 'eval_accuracy': 0.5664439495174461, 'eval_runtime': 26.1155, 'eval_samples_per_second': 51.579, 'eval_steps_per_second': 12.904, 'epoch': 0.06}\n"
     ]
    },
    {
     "name": "stderr",
     "output_type": "stream",
     "text": [
      "  9%|▉         | 1500/16501 [07:10<1:05:15,  3.83it/s] "
     ]
    },
    {
     "name": "stdout",
     "output_type": "stream",
     "text": [
      "{'train_accuracy': 0.7455, 'epoch': 0.09}\n",
      "{'loss': 0.5574, 'learning_rate': 9.09096418398885e-05, 'epoch': 0.09}\n"
     ]
    },
    {
     "name": "stderr",
     "output_type": "stream",
     "text": [
      "                                                      \n",
      "  9%|▉         | 1500/16501 [07:35<1:05:15,  3.83it/s]"
     ]
    },
    {
     "name": "stdout",
     "output_type": "stream",
     "text": [
      "{'eval_loss': 0.3562694489955902, 'eval_accuracy': 0.8685968819599109, 'eval_runtime': 24.9264, 'eval_samples_per_second': 54.039, 'eval_steps_per_second': 13.52, 'epoch': 0.09}\n"
     ]
    },
    {
     "name": "stderr",
     "output_type": "stream",
     "text": [
      " 12%|█▏        | 2000/16501 [09:39<58:19,  4.14it/s]   "
     ]
    },
    {
     "name": "stdout",
     "output_type": "stream",
     "text": [
      "{'train_accuracy': 0.8775, 'epoch': 0.12}\n",
      "{'loss': 0.3803, 'learning_rate': 8.787952245318465e-05, 'epoch': 0.12}\n"
     ]
    },
    {
     "name": "stderr",
     "output_type": "stream",
     "text": [
      "                                                    \n",
      " 12%|█▏        | 2000/16501 [10:03<58:19,  4.14it/s]"
     ]
    },
    {
     "name": "stdout",
     "output_type": "stream",
     "text": [
      "{'eval_loss': 0.38432273268699646, 'eval_accuracy': 0.8559762435040832, 'eval_runtime': 24.8343, 'eval_samples_per_second': 54.24, 'eval_steps_per_second': 13.57, 'epoch': 0.12}\n"
     ]
    },
    {
     "name": "stderr",
     "output_type": "stream",
     "text": [
      " 15%|█▌        | 2500/16501 [12:07<57:55,  4.03it/s]   "
     ]
    },
    {
     "name": "stdout",
     "output_type": "stream",
     "text": [
      "{'train_accuracy': 0.8885, 'epoch': 0.15}\n",
      "{'loss': 0.3606, 'learning_rate': 8.484940306648083e-05, 'epoch': 0.15}\n"
     ]
    },
    {
     "name": "stderr",
     "output_type": "stream",
     "text": [
      "                                                    \n",
      " 15%|█▌        | 2500/16501 [12:32<57:55,  4.03it/s]"
     ]
    },
    {
     "name": "stdout",
     "output_type": "stream",
     "text": [
      "{'eval_loss': 0.32624727487564087, 'eval_accuracy': 0.8812175204157386, 'eval_runtime': 24.8064, 'eval_samples_per_second': 54.3, 'eval_steps_per_second': 13.585, 'epoch': 0.15}\n"
     ]
    },
    {
     "name": "stderr",
     "output_type": "stream",
     "text": [
      " 18%|█▊        | 3000/16501 [14:35<55:52,  4.03it/s]   "
     ]
    },
    {
     "name": "stdout",
     "output_type": "stream",
     "text": [
      "{'train_accuracy': 0.878, 'epoch': 0.18}\n",
      "{'loss': 0.3564, 'learning_rate': 8.181928367977699e-05, 'epoch': 0.18}\n"
     ]
    },
    {
     "name": "stderr",
     "output_type": "stream",
     "text": [
      "                                                    \n",
      " 18%|█▊        | 3000/16501 [15:00<55:52,  4.03it/s]"
     ]
    },
    {
     "name": "stdout",
     "output_type": "stream",
     "text": [
      "{'eval_loss': 0.3192754089832306, 'eval_accuracy': 0.8916109873793615, 'eval_runtime': 24.9078, 'eval_samples_per_second': 54.08, 'eval_steps_per_second': 13.53, 'epoch': 0.18}\n"
     ]
    },
    {
     "name": "stderr",
     "output_type": "stream",
     "text": [
      " 21%|██        | 3500/16501 [17:04<53:40,  4.04it/s]   "
     ]
    },
    {
     "name": "stdout",
     "output_type": "stream",
     "text": [
      "{'train_accuracy': 0.8845, 'epoch': 0.21}\n",
      "{'loss': 0.3389, 'learning_rate': 7.878916429307314e-05, 'epoch': 0.21}\n"
     ]
    },
    {
     "name": "stderr",
     "output_type": "stream",
     "text": [
      "                                                    \n",
      " 21%|██        | 3500/16501 [17:28<53:40,  4.04it/s]"
     ]
    },
    {
     "name": "stdout",
     "output_type": "stream",
     "text": [
      "{'eval_loss': 0.40325450897216797, 'eval_accuracy': 0.8663697104677061, 'eval_runtime': 24.8904, 'eval_samples_per_second': 54.117, 'eval_steps_per_second': 13.539, 'epoch': 0.21}\n"
     ]
    },
    {
     "name": "stderr",
     "output_type": "stream",
     "text": [
      " 24%|██▍       | 4000/16501 [19:32<52:36,  3.96it/s]   "
     ]
    },
    {
     "name": "stdout",
     "output_type": "stream",
     "text": [
      "{'train_accuracy': 0.88, 'epoch': 0.24}\n",
      "{'loss': 0.3787, 'learning_rate': 7.575904490636932e-05, 'epoch': 0.24}\n"
     ]
    },
    {
     "name": "stderr",
     "output_type": "stream",
     "text": [
      "                                                    \n",
      " 24%|██▍       | 4000/16501 [19:57<52:36,  3.96it/s]"
     ]
    },
    {
     "name": "stdout",
     "output_type": "stream",
     "text": [
      "{'eval_loss': 0.3388642966747284, 'eval_accuracy': 0.8878990348923533, 'eval_runtime': 24.9553, 'eval_samples_per_second': 53.977, 'eval_steps_per_second': 13.504, 'epoch': 0.24}\n"
     ]
    },
    {
     "name": "stderr",
     "output_type": "stream",
     "text": [
      " 27%|██▋       | 4500/16501 [22:00<49:46,  4.02it/s]   "
     ]
    },
    {
     "name": "stdout",
     "output_type": "stream",
     "text": [
      "{'train_accuracy': 0.895, 'epoch': 0.27}\n",
      "{'loss': 0.346, 'learning_rate': 7.272892551966548e-05, 'epoch': 0.27}\n"
     ]
    },
    {
     "name": "stderr",
     "output_type": "stream",
     "text": [
      "                                                    \n",
      " 27%|██▋       | 4500/16501 [22:25<49:46,  4.02it/s]"
     ]
    },
    {
     "name": "stdout",
     "output_type": "stream",
     "text": [
      "{'eval_loss': 0.3278927206993103, 'eval_accuracy': 0.8849294729027468, 'eval_runtime': 25.1449, 'eval_samples_per_second': 53.57, 'eval_steps_per_second': 13.402, 'epoch': 0.27}\n"
     ]
    },
    {
     "name": "stderr",
     "output_type": "stream",
     "text": [
      " 30%|███       | 5000/16501 [24:28<47:13,  4.06it/s]   "
     ]
    },
    {
     "name": "stdout",
     "output_type": "stream",
     "text": [
      "{'train_accuracy': 0.891, 'epoch': 0.3}\n",
      "{'loss': 0.3472, 'learning_rate': 6.969880613296165e-05, 'epoch': 0.3}\n"
     ]
    },
    {
     "name": "stderr",
     "output_type": "stream",
     "text": [
      "                                                    \n",
      " 30%|███       | 5000/16501 [24:53<47:13,  4.06it/s]"
     ]
    },
    {
     "name": "stdout",
     "output_type": "stream",
     "text": [
      "{'eval_loss': 0.3309191167354584, 'eval_accuracy': 0.8923533778767632, 'eval_runtime': 25.0201, 'eval_samples_per_second': 53.837, 'eval_steps_per_second': 13.469, 'epoch': 0.3}\n"
     ]
    },
    {
     "name": "stderr",
     "output_type": "stream",
     "text": [
      " 33%|███▎      | 5500/16501 [26:55<44:39,  4.11it/s]   "
     ]
    },
    {
     "name": "stdout",
     "output_type": "stream",
     "text": [
      "{'train_accuracy': 0.89, 'epoch': 0.33}\n",
      "{'loss': 0.3476, 'learning_rate': 6.666868674625781e-05, 'epoch': 0.33}\n"
     ]
    },
    {
     "name": "stderr",
     "output_type": "stream",
     "text": [
      "                                                    \n",
      " 33%|███▎      | 5500/16501 [27:20<44:39,  4.11it/s]"
     ]
    },
    {
     "name": "stdout",
     "output_type": "stream",
     "text": [
      "{'eval_loss': 0.33134615421295166, 'eval_accuracy': 0.8916109873793615, 'eval_runtime': 25.003, 'eval_samples_per_second': 53.873, 'eval_steps_per_second': 13.478, 'epoch': 0.33}\n"
     ]
    },
    {
     "name": "stderr",
     "output_type": "stream",
     "text": [
      " 36%|███▋      | 6000/16501 [29:24<43:50,  3.99it/s]   "
     ]
    },
    {
     "name": "stdout",
     "output_type": "stream",
     "text": [
      "{'train_accuracy': 0.897, 'epoch': 0.36}\n",
      "{'loss': 0.3253, 'learning_rate': 6.363856735955397e-05, 'epoch': 0.36}\n"
     ]
    },
    {
     "name": "stderr",
     "output_type": "stream",
     "text": [
      "                                                    \n",
      " 36%|███▋      | 6000/16501 [29:49<43:50,  3.99it/s]"
     ]
    },
    {
     "name": "stdout",
     "output_type": "stream",
     "text": [
      "{'eval_loss': 0.33408185839653015, 'eval_accuracy': 0.8953229398663697, 'eval_runtime': 24.8489, 'eval_samples_per_second': 54.208, 'eval_steps_per_second': 13.562, 'epoch': 0.36}\n"
     ]
    },
    {
     "name": "stderr",
     "output_type": "stream",
     "text": [
      " 39%|███▉      | 6500/16501 [31:53<41:22,  4.03it/s]   "
     ]
    },
    {
     "name": "stdout",
     "output_type": "stream",
     "text": [
      "{'train_accuracy': 0.892, 'epoch': 0.39}\n",
      "{'loss': 0.3648, 'learning_rate': 6.060844797285013e-05, 'epoch': 0.39}\n"
     ]
    },
    {
     "name": "stderr",
     "output_type": "stream",
     "text": [
      "                                                    \n",
      " 39%|███▉      | 6500/16501 [32:17<41:22,  4.03it/s]"
     ]
    },
    {
     "name": "stdout",
     "output_type": "stream",
     "text": [
      "{'eval_loss': 0.3344099819660187, 'eval_accuracy': 0.8930957683741648, 'eval_runtime': 24.1219, 'eval_samples_per_second': 55.841, 'eval_steps_per_second': 13.971, 'epoch': 0.39}\n"
     ]
    },
    {
     "name": "stderr",
     "output_type": "stream",
     "text": [
      " 42%|████▏     | 7000/16501 [34:21<38:13,  4.14it/s]   "
     ]
    },
    {
     "name": "stdout",
     "output_type": "stream",
     "text": [
      "{'train_accuracy': 0.887, 'epoch': 0.42}\n",
      "{'loss': 0.3589, 'learning_rate': 5.75783285861463e-05, 'epoch': 0.42}\n"
     ]
    },
    {
     "name": "stderr",
     "output_type": "stream",
     "text": [
      "                                                    \n",
      " 42%|████▏     | 7000/16501 [34:46<38:13,  4.14it/s]"
     ]
    },
    {
     "name": "stdout",
     "output_type": "stream",
     "text": [
      "{'eval_loss': 0.33345291018486023, 'eval_accuracy': 0.896807720861173, 'eval_runtime': 24.9418, 'eval_samples_per_second': 54.006, 'eval_steps_per_second': 13.511, 'epoch': 0.42}\n"
     ]
    },
    {
     "name": "stderr",
     "output_type": "stream",
     "text": [
      " 45%|████▌     | 7500/16501 [36:50<39:30,  3.80it/s]   "
     ]
    },
    {
     "name": "stdout",
     "output_type": "stream",
     "text": [
      "{'train_accuracy': 0.9055, 'epoch': 0.45}\n",
      "{'loss': 0.3193, 'learning_rate': 5.454820919944246e-05, 'epoch': 0.45}\n"
     ]
    },
    {
     "name": "stderr",
     "output_type": "stream",
     "text": [
      "                                                    \n",
      " 45%|████▌     | 7500/16501 [37:15<39:30,  3.80it/s]"
     ]
    },
    {
     "name": "stdout",
     "output_type": "stream",
     "text": [
      "{'eval_loss': 0.3402538597583771, 'eval_accuracy': 0.8930957683741648, 'eval_runtime': 24.9388, 'eval_samples_per_second': 54.012, 'eval_steps_per_second': 13.513, 'epoch': 0.45}\n"
     ]
    },
    {
     "name": "stderr",
     "output_type": "stream",
     "text": [
      " 48%|████▊     | 8000/16501 [39:19<35:49,  3.96it/s]   "
     ]
    },
    {
     "name": "stdout",
     "output_type": "stream",
     "text": [
      "{'train_accuracy': 0.8965, 'epoch': 0.48}\n",
      "{'loss': 0.3417, 'learning_rate': 5.1518089812738623e-05, 'epoch': 0.48}\n"
     ]
    },
    {
     "name": "stderr",
     "output_type": "stream",
     "text": [
      "                                                    \n",
      " 48%|████▊     | 8000/16501 [39:44<35:49,  3.96it/s]"
     ]
    },
    {
     "name": "stdout",
     "output_type": "stream",
     "text": [
      "{'eval_loss': 0.33575698733329773, 'eval_accuracy': 0.8982925018559762, 'eval_runtime': 24.8478, 'eval_samples_per_second': 54.21, 'eval_steps_per_second': 13.563, 'epoch': 0.48}\n"
     ]
    },
    {
     "name": "stderr",
     "output_type": "stream",
     "text": [
      " 52%|█████▏    | 8500/16501 [41:48<33:20,  4.00it/s]   "
     ]
    },
    {
     "name": "stdout",
     "output_type": "stream",
     "text": [
      "{'train_accuracy': 0.9055, 'epoch': 0.52}\n",
      "{'loss': 0.3236, 'learning_rate': 4.848797042603479e-05, 'epoch': 0.52}\n"
     ]
    },
    {
     "name": "stderr",
     "output_type": "stream",
     "text": [
      "                                                    \n",
      " 52%|█████▏    | 8500/16501 [42:12<33:20,  4.00it/s]"
     ]
    },
    {
     "name": "stdout",
     "output_type": "stream",
     "text": [
      "{'eval_loss': 0.3276657164096832, 'eval_accuracy': 0.896807720861173, 'eval_runtime': 24.3186, 'eval_samples_per_second': 55.39, 'eval_steps_per_second': 13.858, 'epoch': 0.52}\n"
     ]
    },
    {
     "name": "stderr",
     "output_type": "stream",
     "text": [
      " 55%|█████▍    | 9000/16501 [44:24<30:51,  4.05it/s]   "
     ]
    },
    {
     "name": "stdout",
     "output_type": "stream",
     "text": [
      "{'train_accuracy': 0.8905, 'epoch': 0.55}\n",
      "{'loss': 0.3395, 'learning_rate': 4.545785103933095e-05, 'epoch': 0.55}\n"
     ]
    },
    {
     "name": "stderr",
     "output_type": "stream",
     "text": [
      "                                                    \n",
      " 55%|█████▍    | 9000/16501 [44:51<30:51,  4.05it/s]"
     ]
    },
    {
     "name": "stdout",
     "output_type": "stream",
     "text": [
      "{'eval_loss': 0.3379031717777252, 'eval_accuracy': 0.896807720861173, 'eval_runtime': 26.4384, 'eval_samples_per_second': 50.949, 'eval_steps_per_second': 12.747, 'epoch': 0.55}\n"
     ]
    },
    {
     "name": "stderr",
     "output_type": "stream",
     "text": [
      " 58%|█████▊    | 9500/16501 [46:59<30:05,  3.88it/s]   "
     ]
    },
    {
     "name": "stdout",
     "output_type": "stream",
     "text": [
      "{'train_accuracy': 0.897, 'epoch': 0.58}\n",
      "{'loss': 0.3351, 'learning_rate': 4.242773165262712e-05, 'epoch': 0.58}\n"
     ]
    },
    {
     "name": "stderr",
     "output_type": "stream",
     "text": [
      "                                                    \n",
      " 58%|█████▊    | 9500/16501 [47:25<30:05,  3.88it/s]"
     ]
    },
    {
     "name": "stdout",
     "output_type": "stream",
     "text": [
      "{'eval_loss': 0.33406710624694824, 'eval_accuracy': 0.8975501113585747, 'eval_runtime': 26.0044, 'eval_samples_per_second': 51.799, 'eval_steps_per_second': 12.959, 'epoch': 0.58}\n"
     ]
    },
    {
     "name": "stderr",
     "output_type": "stream",
     "text": [
      " 61%|██████    | 10000/16501 [49:32<26:30,  4.09it/s]  "
     ]
    },
    {
     "name": "stdout",
     "output_type": "stream",
     "text": [
      "{'train_accuracy': 0.8985, 'epoch': 0.61}\n",
      "{'loss': 0.3317, 'learning_rate': 3.939761226592328e-05, 'epoch': 0.61}\n"
     ]
    },
    {
     "name": "stderr",
     "output_type": "stream",
     "text": [
      "                                                     \n",
      " 61%|██████    | 10000/16501 [49:56<26:30,  4.09it/s]"
     ]
    },
    {
     "name": "stdout",
     "output_type": "stream",
     "text": [
      "{'eval_loss': 0.3321388065814972, 'eval_accuracy': 0.8953229398663697, 'eval_runtime': 24.7573, 'eval_samples_per_second': 54.408, 'eval_steps_per_second': 13.612, 'epoch': 0.61}\n"
     ]
    },
    {
     "name": "stderr",
     "output_type": "stream",
     "text": [
      " 64%|██████▎   | 10500/16501 [52:00<23:07,  4.33it/s]   "
     ]
    },
    {
     "name": "stdout",
     "output_type": "stream",
     "text": [
      "{'train_accuracy': 0.902, 'epoch': 0.64}\n",
      "{'loss': 0.3345, 'learning_rate': 3.6367492879219446e-05, 'epoch': 0.64}\n"
     ]
    },
    {
     "name": "stderr",
     "output_type": "stream",
     "text": [
      "                                                     \n",
      " 64%|██████▎   | 10500/16501 [52:25<23:07,  4.33it/s]"
     ]
    },
    {
     "name": "stdout",
     "output_type": "stream",
     "text": [
      "{'eval_loss': 0.31897345185279846, 'eval_accuracy': 0.8990348923533779, 'eval_runtime': 24.8098, 'eval_samples_per_second': 54.293, 'eval_steps_per_second': 13.583, 'epoch': 0.64}\n"
     ]
    },
    {
     "name": "stderr",
     "output_type": "stream",
     "text": [
      " 67%|██████▋   | 11000/16501 [54:28<22:43,  4.03it/s]   "
     ]
    },
    {
     "name": "stdout",
     "output_type": "stream",
     "text": [
      "{'train_accuracy': 0.8975, 'epoch': 0.67}\n",
      "{'loss': 0.3203, 'learning_rate': 3.3337373492515605e-05, 'epoch': 0.67}\n"
     ]
    },
    {
     "name": "stderr",
     "output_type": "stream",
     "text": [
      "                                                     \n",
      " 67%|██████▋   | 11000/16501 [54:53<22:43,  4.03it/s]"
     ]
    },
    {
     "name": "stdout",
     "output_type": "stream",
     "text": [
      "{'eval_loss': 0.33804261684417725, 'eval_accuracy': 0.8953229398663697, 'eval_runtime': 24.7898, 'eval_samples_per_second': 54.337, 'eval_steps_per_second': 13.594, 'epoch': 0.67}\n"
     ]
    },
    {
     "name": "stderr",
     "output_type": "stream",
     "text": [
      " 70%|██████▉   | 11500/16501 [56:57<21:02,  3.96it/s]   "
     ]
    },
    {
     "name": "stdout",
     "output_type": "stream",
     "text": [
      "{'train_accuracy': 0.892, 'epoch': 0.7}\n",
      "{'loss': 0.3525, 'learning_rate': 3.0307254105811774e-05, 'epoch': 0.7}\n"
     ]
    },
    {
     "name": "stderr",
     "output_type": "stream",
     "text": [
      "                                                     \n",
      " 70%|██████▉   | 11500/16501 [57:21<21:02,  3.96it/s]"
     ]
    },
    {
     "name": "stdout",
     "output_type": "stream",
     "text": [
      "{'eval_loss': 0.32869741320610046, 'eval_accuracy': 0.8953229398663697, 'eval_runtime': 24.8386, 'eval_samples_per_second': 54.23, 'eval_steps_per_second': 13.568, 'epoch': 0.7}\n"
     ]
    },
    {
     "name": "stderr",
     "output_type": "stream",
     "text": [
      " 73%|███████▎  | 12000/16501 [59:25<18:31,  4.05it/s]   "
     ]
    },
    {
     "name": "stdout",
     "output_type": "stream",
     "text": [
      "{'train_accuracy': 0.905, 'epoch': 0.73}\n",
      "{'loss': 0.3297, 'learning_rate': 2.7277134719107933e-05, 'epoch': 0.73}\n"
     ]
    },
    {
     "name": "stderr",
     "output_type": "stream",
     "text": [
      "                                                     \n",
      " 73%|███████▎  | 12000/16501 [59:50<18:31,  4.05it/s]"
     ]
    },
    {
     "name": "stdout",
     "output_type": "stream",
     "text": [
      "{'eval_loss': 0.3301362097263336, 'eval_accuracy': 0.8953229398663697, 'eval_runtime': 24.8249, 'eval_samples_per_second': 54.26, 'eval_steps_per_second': 13.575, 'epoch': 0.73}\n"
     ]
    },
    {
     "name": "stderr",
     "output_type": "stream",
     "text": [
      " 76%|███████▌  | 12500/16501 [1:01:53<16:22,  4.07it/s]"
     ]
    },
    {
     "name": "stdout",
     "output_type": "stream",
     "text": [
      "{'train_accuracy': 0.904, 'epoch': 0.76}\n",
      "{'loss': 0.3073, 'learning_rate': 2.4247015332404095e-05, 'epoch': 0.76}\n"
     ]
    },
    {
     "name": "stderr",
     "output_type": "stream",
     "text": [
      "                                                       \n",
      " 76%|███████▌  | 12500/16501 [1:02:18<16:22,  4.07it/s]"
     ]
    },
    {
     "name": "stdout",
     "output_type": "stream",
     "text": [
      "{'eval_loss': 0.32270166277885437, 'eval_accuracy': 0.8997772828507795, 'eval_runtime': 24.9368, 'eval_samples_per_second': 54.017, 'eval_steps_per_second': 13.514, 'epoch': 0.76}\n"
     ]
    },
    {
     "name": "stderr",
     "output_type": "stream",
     "text": [
      " 79%|███████▉  | 13000/16501 [1:04:21<14:30,  4.02it/s]  "
     ]
    },
    {
     "name": "stdout",
     "output_type": "stream",
     "text": [
      "{'train_accuracy': 0.909, 'epoch': 0.79}\n",
      "{'loss': 0.3107, 'learning_rate': 2.121689594570026e-05, 'epoch': 0.79}\n"
     ]
    },
    {
     "name": "stderr",
     "output_type": "stream",
     "text": [
      "                                                       \n",
      " 79%|███████▉  | 13000/16501 [1:04:46<14:30,  4.02it/s]"
     ]
    },
    {
     "name": "stdout",
     "output_type": "stream",
     "text": [
      "{'eval_loss': 0.32537978887557983, 'eval_accuracy': 0.9005196733481812, 'eval_runtime': 24.7444, 'eval_samples_per_second': 54.437, 'eval_steps_per_second': 13.619, 'epoch': 0.79}\n"
     ]
    },
    {
     "name": "stderr",
     "output_type": "stream",
     "text": [
      " 82%|████████▏ | 13500/16501 [1:06:49<12:20,  4.05it/s]  "
     ]
    },
    {
     "name": "stdout",
     "output_type": "stream",
     "text": [
      "{'train_accuracy': 0.908, 'epoch': 0.82}\n",
      "{'loss': 0.3165, 'learning_rate': 1.8186776558996423e-05, 'epoch': 0.82}\n"
     ]
    },
    {
     "name": "stderr",
     "output_type": "stream",
     "text": [
      "                                                       \n",
      " 82%|████████▏ | 13500/16501 [1:07:14<12:20,  4.05it/s]"
     ]
    },
    {
     "name": "stdout",
     "output_type": "stream",
     "text": [
      "{'eval_loss': 0.3353407382965088, 'eval_accuracy': 0.8953229398663697, 'eval_runtime': 25.2544, 'eval_samples_per_second': 53.337, 'eval_steps_per_second': 13.344, 'epoch': 0.82}\n"
     ]
    },
    {
     "name": "stderr",
     "output_type": "stream",
     "text": [
      " 85%|████████▍ | 14000/16501 [1:09:17<10:18,  4.05it/s]  "
     ]
    },
    {
     "name": "stdout",
     "output_type": "stream",
     "text": [
      "{'train_accuracy': 0.8925, 'epoch': 0.85}\n",
      "{'loss': 0.3432, 'learning_rate': 1.515665717229259e-05, 'epoch': 0.85}\n"
     ]
    },
    {
     "name": "stderr",
     "output_type": "stream",
     "text": [
      "                                                       \n",
      " 85%|████████▍ | 14000/16501 [1:09:42<10:18,  4.05it/s]"
     ]
    },
    {
     "name": "stdout",
     "output_type": "stream",
     "text": [
      "{'eval_loss': 0.33266061544418335, 'eval_accuracy': 0.8975501113585747, 'eval_runtime': 25.0817, 'eval_samples_per_second': 53.704, 'eval_steps_per_second': 13.436, 'epoch': 0.85}\n"
     ]
    },
    {
     "name": "stderr",
     "output_type": "stream",
     "text": [
      " 88%|████████▊ | 14500/16501 [1:11:44<07:44,  4.31it/s]  "
     ]
    },
    {
     "name": "stdout",
     "output_type": "stream",
     "text": [
      "{'train_accuracy': 0.8945, 'epoch': 0.88}\n",
      "{'loss': 0.338, 'learning_rate': 1.2126537785588753e-05, 'epoch': 0.88}\n"
     ]
    },
    {
     "name": "stderr",
     "output_type": "stream",
     "text": [
      "                                                       \n",
      " 88%|████████▊ | 14500/16501 [1:12:09<07:44,  4.31it/s]"
     ]
    },
    {
     "name": "stdout",
     "output_type": "stream",
     "text": [
      "{'eval_loss': 0.32744261622428894, 'eval_accuracy': 0.8982925018559762, 'eval_runtime': 24.8587, 'eval_samples_per_second': 54.186, 'eval_steps_per_second': 13.557, 'epoch': 0.88}\n"
     ]
    },
    {
     "name": "stderr",
     "output_type": "stream",
     "text": [
      " 91%|█████████ | 15000/16501 [1:14:13<06:07,  4.08it/s]  "
     ]
    },
    {
     "name": "stdout",
     "output_type": "stream",
     "text": [
      "{'train_accuracy': 0.904, 'epoch': 0.91}\n",
      "{'loss': 0.3346, 'learning_rate': 9.096418398884916e-06, 'epoch': 0.91}\n"
     ]
    },
    {
     "name": "stderr",
     "output_type": "stream",
     "text": [
      "                                                       \n",
      " 91%|█████████ | 15000/16501 [1:14:38<06:07,  4.08it/s]"
     ]
    },
    {
     "name": "stdout",
     "output_type": "stream",
     "text": [
      "{'eval_loss': 0.3274005651473999, 'eval_accuracy': 0.8990348923533779, 'eval_runtime': 24.717, 'eval_samples_per_second': 54.497, 'eval_steps_per_second': 13.634, 'epoch': 0.91}\n"
     ]
    },
    {
     "name": "stderr",
     "output_type": "stream",
     "text": [
      " 94%|█████████▍| 15500/16501 [1:16:42<04:22,  3.82it/s]  "
     ]
    },
    {
     "name": "stdout",
     "output_type": "stream",
     "text": [
      "{'train_accuracy': 0.907, 'epoch': 0.94}\n",
      "{'loss': 0.3047, 'learning_rate': 6.0662990121810805e-06, 'epoch': 0.94}\n"
     ]
    },
    {
     "name": "stderr",
     "output_type": "stream",
     "text": [
      "                                                       \n",
      " 94%|█████████▍| 15500/16501 [1:17:07<04:22,  3.82it/s]"
     ]
    },
    {
     "name": "stdout",
     "output_type": "stream",
     "text": [
      "{'eval_loss': 0.3245045840740204, 'eval_accuracy': 0.9005196733481812, 'eval_runtime': 24.8567, 'eval_samples_per_second': 54.191, 'eval_steps_per_second': 13.558, 'epoch': 0.94}\n"
     ]
    },
    {
     "name": "stderr",
     "output_type": "stream",
     "text": [
      " 97%|█████████▋| 16000/16501 [1:19:10<02:02,  4.09it/s]  "
     ]
    },
    {
     "name": "stdout",
     "output_type": "stream",
     "text": [
      "{'train_accuracy': 0.9015, 'epoch': 0.97}\n",
      "{'loss': 0.3422, 'learning_rate': 3.036179625477244e-06, 'epoch': 0.97}\n"
     ]
    },
    {
     "name": "stderr",
     "output_type": "stream",
     "text": [
      "                                                       \n",
      " 97%|█████████▋| 16000/16501 [1:19:35<02:02,  4.09it/s]"
     ]
    },
    {
     "name": "stdout",
     "output_type": "stream",
     "text": [
      "{'eval_loss': 0.32371941208839417, 'eval_accuracy': 0.8990348923533779, 'eval_runtime': 24.8443, 'eval_samples_per_second': 54.218, 'eval_steps_per_second': 13.564, 'epoch': 0.97}\n"
     ]
    },
    {
     "name": "stderr",
     "output_type": "stream",
     "text": [
      "100%|█████████▉| 16500/16501 [1:21:37<00:00,  4.07it/s]  "
     ]
    },
    {
     "name": "stdout",
     "output_type": "stream",
     "text": [
      "{'train_accuracy': 0.907, 'epoch': 1.0}\n",
      "{'loss': 0.3168, 'learning_rate': 6.060238773407673e-09, 'epoch': 1.0}\n"
     ]
    },
    {
     "name": "stderr",
     "output_type": "stream",
     "text": [
      "                                                       \n",
      "100%|█████████▉| 16500/16501 [1:22:02<00:00,  4.07it/s]"
     ]
    },
    {
     "name": "stdout",
     "output_type": "stream",
     "text": [
      "{'eval_loss': 0.3231002688407898, 'eval_accuracy': 0.8997772828507795, 'eval_runtime': 24.8394, 'eval_samples_per_second': 54.228, 'eval_steps_per_second': 13.567, 'epoch': 1.0}\n"
     ]
    },
    {
     "name": "stderr",
     "output_type": "stream",
     "text": [
      "100%|██████████| 16501/16501 [1:22:03<00:00,  3.35it/s]"
     ]
    },
    {
     "name": "stdout",
     "output_type": "stream",
     "text": [
      "{'train_runtime': 4923.3133, 'train_samples_per_second': 13.406, 'train_steps_per_second': 3.352, 'train_loss': 0.3659281347819071, 'epoch': 1.0}\n"
     ]
    },
    {
     "name": "stderr",
     "output_type": "stream",
     "text": [
      "\n"
     ]
    },
    {
     "data": {
      "text/plain": [
       "TrainOutput(global_step=16501, training_loss=0.3659281347819071, metrics={'train_runtime': 4923.3133, 'train_samples_per_second': 13.406, 'train_steps_per_second': 3.352, 'train_loss': 0.3659281347819071, 'epoch': 1.0})"
      ]
     },
     "execution_count": 9,
     "metadata": {},
     "output_type": "execute_result"
    }
   ],
   "source": [
    "from transformers import Trainer, TrainingArguments\n",
    "from datasets import load_metric\n",
    "import numpy as np\n",
    "import logging\n",
    "\n",
    "# Hyperparameters\n",
    "step_size = 500\n",
    "lr = 1e-4\n",
    "num_epochs = 1\n",
    "\n",
    "\n",
    "# Eval metric for accuracy\n",
    "metric = load_metric(\"accuracy\")\n",
    "def compute_metrics(eval_pred):\n",
    "    logits, labels = eval_pred\n",
    "    predictions = np.argmax(logits, axis=-1)\n",
    "    result = metric.compute(predictions=predictions, references=labels)\n",
    "\n",
    "    return result\n",
    "\n",
    "\n",
    "# Custom trainer for logging training accuracy\n",
    "class TrainerWithTrainingAccuracy(Trainer):\n",
    "    training_accuracies = []\n",
    "    # curr_step = 0\n",
    "\n",
    "    def training_step(self, model, inputs):\n",
    "        # Perform a regular training step\n",
    "        loss = super().training_step(model, inputs)\n",
    "        \n",
    "        # Compute training accuracy after every training step\n",
    "        self.log_training_accuracy(inputs)\n",
    "        return loss\n",
    "\n",
    "    def log_training_accuracy(self, inputs):\n",
    "        model.eval()\n",
    "        with torch.no_grad():\n",
    "            outputs = self.model(**inputs)\n",
    "            logits = outputs.logits\n",
    "            labels = inputs[\"labels\"]\n",
    "            predictions = np.argmax(logits.cpu().numpy(), axis=-1)\n",
    "            labels = labels.cpu().numpy()\n",
    "            accuracy = metric.compute(predictions=predictions, references=labels)\n",
    "            self.training_accuracies.append(accuracy[\"accuracy\"])\n",
    "            # self.log({\"train_accuracy\": accuracy[\"accuracy\"]})\n",
    "        if len(self.training_accuracies) % step_size == 0:\n",
    "            self.log({\"train_accuracy\": sum(self.training_accuracies) / len(self.training_accuracies)})\n",
    "            self.training_accuracies = []\n",
    "        model.train()\n",
    "\n",
    "\n",
    "training_args = TrainingArguments(\n",
    "    per_device_train_batch_size=4,\n",
    "    per_device_eval_batch_size=4,\n",
    "    num_train_epochs=num_epochs,\n",
    "    logging_dir='./bitfit_logs',\n",
    "    logging_steps=step_size,\n",
    "    do_train=True,\n",
    "    do_eval=True,\n",
    "    evaluation_strategy=\"steps\",\n",
    "    eval_steps=step_size,\n",
    "    output_dir='./bitfit_results',\n",
    "    overwrite_output_dir=True,\n",
    "    save_steps=step_size,\n",
    "    save_total_limit=20,\n",
    "    load_best_model_at_end=True,\n",
    "    metric_for_best_model=\"accuracy\",\n",
    "    learning_rate=lr,\n",
    "    # warmup_steps=500,\n",
    ")\n",
    "\n",
    "trainer = TrainerWithTrainingAccuracy(\n",
    "    model=model, \n",
    "    args=training_args,\n",
    "    train_dataset=tokenized_dataset[\"train\"], \n",
    "    eval_dataset=tokenized_dataset[\"validation\"],\n",
    "    tokenizer=tokenizer,\n",
    "    compute_metrics=compute_metrics\n",
    ")\n",
    "\n",
    "trainer.train()\n",
    "\n",
    "\n"
   ]
  },
  {
   "cell_type": "code",
   "execution_count": 10,
   "metadata": {},
   "outputs": [],
   "source": [
    "# print(trainer.state.log_history[0])\n",
    "# for log in trainer.state.log_history:\n",
    "#     print(log)"
   ]
  },
  {
   "cell_type": "code",
   "execution_count": 11,
   "metadata": {},
   "outputs": [
    {
     "data": {
      "image/png": "[encoded data removed]",
      "text/plain": [
       "<Figure size 640x480 with 1 Axes>"
      ]
     },
     "metadata": {},
     "output_type": "display_data"
    },
    {
     "data": {
      "image/png": "[encoded data removed]",
      "text/plain": [
       "<Figure size 640x480 with 1 Axes>"
      ]
     },
     "metadata": {},
     "output_type": "display_data"
    }
   ],
   "source": [
    "# Plot the results\n",
    "import matplotlib.pyplot as plt\n",
    "\n",
    "train_loss = []\n",
    "train_accuracy = []\n",
    "eval_loss = []\n",
    "eval_accuracy = []\n",
    "\n",
    "for log in trainer.state.log_history:\n",
    "    if 'loss' in log:\n",
    "        train_loss.append(log[\"loss\"])\n",
    "    if 'train_accuracy' in log:\n",
    "        train_accuracy.append(log[\"train_accuracy\"])\n",
    "    elif 'eval_loss' in log:\n",
    "        eval_loss.append(log[\"eval_loss\"])\n",
    "        eval_accuracy.append(log[\"eval_accuracy\"])\n",
    "\n",
    "plt.plot(train_loss, label=\"train_loss\")\n",
    "plt.plot(eval_loss, label=\"eval_loss\")\n",
    "plt.legend()\n",
    "plt.show()\n",
    "\n",
    "plt.plot(train_accuracy, label=\"train_accuracy\")\n",
    "plt.plot(eval_accuracy, label=\"eval_accuracy\")\n",
    "plt.legend()\n",
    "plt.show()"
   ]
  },
  {
   "cell_type": "code",
   "execution_count": 12,
   "metadata": {},
   "outputs": [
    {
     "name": "stdout",
     "output_type": "stream",
     "text": [
      "13000\n"
     ]
    },
    {
     "name": "stderr",
     "output_type": "stream",
     "text": [
      "f:\\Programs\\anaconda3\\envs\\ssm_hw5\\lib\\site-packages\\accelerate\\accelerator.py:446: FutureWarning: Passing the following arguments to `Accelerator` is deprecated and will be removed in version 1.0 of Accelerate: dict_keys(['dispatch_batches', 'split_batches']). Please pass an `accelerate.DataLoaderConfiguration` instead: \n",
      "dataloader_config = DataLoaderConfiguration(dispatch_batches=None, split_batches=False)\n",
      "  warnings.warn(\n",
      "100%|██████████| 218/218 [00:15<00:00, 13.63it/s]\n"
     ]
    },
    {
     "data": {
      "text/plain": [
       "{'eval_loss': 0.3099214434623718,\n",
       " 'eval_accuracy': 0.9059633027522935,\n",
       " 'eval_runtime': 16.0812,\n",
       " 'eval_samples_per_second': 54.225,\n",
       " 'eval_steps_per_second': 13.556}"
      ]
     },
     "execution_count": 12,
     "metadata": {},
     "output_type": "execute_result"
    }
   ],
   "source": [
    "# Load the best model and test \n",
    "\n",
    "# Find the best model checkpoint\n",
    "max_accuracy = 0\n",
    "for log in trainer.state.log_history:\n",
    "    if 'eval_accuracy' in log:\n",
    "        if log['eval_accuracy'] > max_accuracy:\n",
    "            max_accuracy = log['eval_accuracy']\n",
    "            best_checkpoint = log['step']\n",
    "\n",
    "print(best_checkpoint)\n",
    "\n",
    "best_model = RobertaForSequenceClassification.from_pretrained(f\"./bitfit_results/checkpoint-{best_checkpoint}\")\n",
    "\n",
    "# Test the best model\n",
    "trainer = Trainer(\n",
    "    model=best_model, \n",
    "    args=training_args,\n",
    "    train_dataset=tokenized_dataset[\"train\"], \n",
    "    eval_dataset=tokenized_dataset[\"test\"],\n",
    "    tokenizer=tokenizer,\n",
    "    compute_metrics=compute_metrics\n",
    ")\n",
    "\n",
    "trainer.evaluate()\n"
   ]
  }
 ],
 "metadata": {
  "kernelspec": {
   "display_name": "ssm_hw5",
   "language": "python",
   "name": "python3"
  },
  "language_info": {
   "codemirror_mode": {
    "name": "ipython",
    "version": 3
   },
   "file_extension": ".py",
   "mimetype": "text/x-python",
   "name": "python",
   "nbconvert_exporter": "python",
   "pygments_lexer": "ipython3",
   "version": "3.10.13"
  }
 },
 "nbformat": 4,
 "nbformat_minor": 2
}
