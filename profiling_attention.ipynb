{
 "cells": [
  {
   "cell_type": "code",
   "execution_count": 1,
   "metadata": {},
   "outputs": [
    {
     "name": "stderr",
     "output_type": "stream",
     "text": [
      "f:\\Programs\\anaconda3\\envs\\ssm_hw5\\lib\\site-packages\\tqdm\\auto.py:21: TqdmWarning: IProgress not found. Please update jupyter and ipywidgets. See https://ipywidgets.readthedocs.io/en/stable/user_install.html\n",
      "  from .autonotebook import tqdm as notebook_tqdm\n"
     ]
    }
   ],
   "source": [
    "# Code for profiling the performance of attention\n",
    "\n",
    "import torch\n",
    "import torch.nn as nn\n",
    "import time\n",
    "import torchvision.models as models\n",
    "from torch.profiler import profile, record_function, ProfilerActivity\n",
    "from fvcore.nn import FlopCountAnalysis\n",
    "import torchprofile\n",
    "import tracemalloc\n",
    "\n",
    "input_lengths = [10, 100, 1000, 10000]#, 100000]\n",
    "devices = ['cpu', 'cuda']\n",
    "dim = 512\n",
    "\n",
    "class AttentionModel(nn.Module):\n",
    "    def __init__(self):\n",
    "        super(AttentionModel, self).__init__()\n",
    "        self.Q = nn.Linear(dim, dim)\n",
    "        self.K = nn.Linear(dim, dim)\n",
    "        self.V = nn.Linear(dim, dim)\n",
    "        self.softmax = nn.Softmax(dim=2)\n",
    "\n",
    "    def forward(self, input):\n",
    "        return self.softmax((self.Q(input) @ self.K(input).transpose(1, 2)) / (dim ** 0.5)) @ self.V(input)\n",
    "\n",
    "\n",
    "def attn_profiler(input_length, device='cpu'):\n",
    "    device = torch.device(device)\n",
    "\n",
    "    # Randomly sample words for the input sentence\n",
    "    input = torch.randn(1, input_length, dim).to(device)\n",
    "    model = AttentionModel().to(device)\n",
    "\n",
    "    with torch.profiler.profile(\n",
    "            activities=[\n",
    "                torch.profiler.ProfilerActivity.CPU,\n",
    "                torch.profiler.ProfilerActivity.CUDA],\n",
    "            profile_memory=True,   \n",
    "            record_shapes=True) as prof:\n",
    "        start = time.time()\n",
    "        model(input)\n",
    "        end = time.time()\n",
    "\n",
    "    stats = prof.key_averages()\n",
    "    cuda_memory_usage = sum([s.cuda_memory_usage for s in stats if s.cuda_memory_usage > 0])\n",
    "    cpu_memory_usage = sum([s.cpu_memory_usage for s in stats if s.cpu_memory_usage > 0])\n",
    "    memory_usage = cuda_memory_usage if device == torch.device('cuda') else cpu_memory_usage\n",
    "    \n",
    "    runtime = end - start\n",
    "    flop_counter = FlopCountAnalysis(model, input)\n",
    "    flops = flop_counter.total()\n",
    "    \n",
    "    print(f\"Device: {device}, Input length: {input_length}, Time: {runtime:.2e}, FLOPS: {flops:.2e}, Memory: {memory_usage:.2e}\")\n",
    "\n",
    "    # del model\n",
    "\n",
    "    return {\n",
    "        \"input_length\": input_length,\n",
    "        \"device\": device,\n",
    "        \"time\": runtime,\n",
    "        \"flops\": flops,\n",
    "        \"memory\": memory_usage,        \n",
    "    }\n"
   ]
  },
  {
   "cell_type": "code",
   "execution_count": 2,
   "metadata": {},
   "outputs": [
    {
     "name": "stderr",
     "output_type": "stream",
     "text": [
      "Unsupported operator aten::div encountered 1 time(s)\n",
      "Unsupported operator aten::softmax encountered 1 time(s)\n",
      "Unsupported operator aten::div encountered 1 time(s)\n",
      "Unsupported operator aten::softmax encountered 1 time(s)\n",
      "Unsupported operator aten::div encountered 1 time(s)\n",
      "Unsupported operator aten::softmax encountered 1 time(s)\n",
      "Unsupported operator aten::div encountered 1 time(s)\n",
      "Unsupported operator aten::softmax encountered 1 time(s)\n",
      "Unsupported operator aten::div encountered 1 time(s)\n",
      "Unsupported operator aten::softmax encountered 1 time(s)\n",
      "Unsupported operator aten::div encountered 1 time(s)\n",
      "Unsupported operator aten::softmax encountered 1 time(s)\n",
      "Unsupported operator aten::div encountered 1 time(s)\n"
     ]
    },
    {
     "name": "stdout",
     "output_type": "stream",
     "text": [
      "Device: cpu, Input length: 10000, Time: 3.56e-01, FLOPS: 1.10e+11, Memory: 2.16e+09\n",
      "Device: cuda, Input length: 10000, Time: 5.42e-02, FLOPS: 1.10e+11, Memory: 2.19e+09\n",
      "Device: cpu, Input length: 10, Time: 1.52e-03, FLOPS: 7.97e+06, Memory: 1.66e+05\n",
      "Device: cuda, Input length: 10, Time: 4.07e-03, FLOPS: 7.97e+06, Memory: 1.66e+05\n",
      "Device: cpu, Input length: 100, Time: 2.55e-03, FLOPS: 8.89e+07, Memory: 1.84e+06\n",
      "Device: cuda, Input length: 100, Time: 1.52e-03, FLOPS: 8.89e+07, Memory: 1.84e+06\n"
     ]
    },
    {
     "name": "stderr",
     "output_type": "stream",
     "text": [
      "Unsupported operator aten::softmax encountered 1 time(s)\n",
      "Unsupported operator aten::div encountered 1 time(s)\n",
      "Unsupported operator aten::softmax encountered 1 time(s)\n"
     ]
    },
    {
     "name": "stdout",
     "output_type": "stream",
     "text": [
      "Device: cpu, Input length: 1000, Time: 3.64e-02, FLOPS: 1.81e+09, Memory: 3.64e+07\n",
      "Device: cuda, Input length: 1000, Time: 1.53e-03, FLOPS: 1.81e+09, Memory: 3.69e+07\n"
     ]
    },
    {
     "name": "stderr",
     "output_type": "stream",
     "text": [
      "Unsupported operator aten::div encountered 1 time(s)\n",
      "Unsupported operator aten::softmax encountered 1 time(s)\n",
      "Unsupported operator aten::div encountered 1 time(s)\n",
      "Unsupported operator aten::softmax encountered 1 time(s)\n",
      "Unsupported operator aten::div encountered 1 time(s)\n",
      "Unsupported operator aten::softmax encountered 1 time(s)\n",
      "Unsupported operator aten::div encountered 1 time(s)\n",
      "Unsupported operator aten::softmax encountered 1 time(s)\n",
      "Unsupported operator aten::div encountered 1 time(s)\n",
      "Unsupported operator aten::softmax encountered 1 time(s)\n",
      "Unsupported operator aten::div encountered 1 time(s)\n",
      "Unsupported operator aten::softmax encountered 1 time(s)\n",
      "Unsupported operator aten::div encountered 1 time(s)\n",
      "Unsupported operator aten::softmax encountered 1 time(s)\n",
      "Unsupported operator aten::div encountered 1 time(s)\n",
      "Unsupported operator aten::softmax encountered 1 time(s)\n"
     ]
    },
    {
     "name": "stdout",
     "output_type": "stream",
     "text": [
      "Device: cpu, Input length: 10000, Time: 2.84e-01, FLOPS: 1.10e+11, Memory: 2.16e+09\n",
      "Device: cuda, Input length: 10000, Time: 1.54e-03, FLOPS: 1.10e+11, Memory: 2.17e+09\n",
      "Device: cpu, Input length: 10, Time: 2.54e-03, FLOPS: 7.97e+06, Memory: 1.66e+05\n",
      "Device: cuda, Input length: 10, Time: 1.52e-03, FLOPS: 7.97e+06, Memory: 1.66e+05\n",
      "Device: cpu, Input length: 100, Time: 3.05e-03, FLOPS: 8.89e+07, Memory: 1.84e+06\n",
      "Device: cuda, Input length: 100, Time: 1.53e-03, FLOPS: 8.89e+07, Memory: 1.84e+06\n",
      "Device: cpu, Input length: 1000, Time: 7.13e-03, FLOPS: 1.81e+09, Memory: 3.64e+07\n",
      "Device: cuda, Input length: 1000, Time: 1.52e-03, FLOPS: 1.81e+09, Memory: 3.69e+07\n"
     ]
    },
    {
     "name": "stderr",
     "output_type": "stream",
     "text": [
      "Unsupported operator aten::div encountered 1 time(s)\n",
      "Unsupported operator aten::softmax encountered 1 time(s)\n",
      "Unsupported operator aten::div encountered 1 time(s)\n",
      "Unsupported operator aten::softmax encountered 1 time(s)\n",
      "Unsupported operator aten::div encountered 1 time(s)\n",
      "Unsupported operator aten::softmax encountered 1 time(s)\n",
      "Unsupported operator aten::div encountered 1 time(s)\n",
      "Unsupported operator aten::softmax encountered 1 time(s)\n",
      "Unsupported operator aten::div encountered 1 time(s)\n",
      "Unsupported operator aten::softmax encountered 1 time(s)\n",
      "Unsupported operator aten::div encountered 1 time(s)\n",
      "Unsupported operator aten::softmax encountered 1 time(s)\n",
      "Unsupported operator aten::div encountered 1 time(s)\n",
      "Unsupported operator aten::softmax encountered 1 time(s)\n",
      "Unsupported operator aten::div encountered 1 time(s)\n",
      "Unsupported operator aten::softmax encountered 1 time(s)\n"
     ]
    },
    {
     "name": "stdout",
     "output_type": "stream",
     "text": [
      "Device: cpu, Input length: 10000, Time: 2.47e-01, FLOPS: 1.10e+11, Memory: 2.16e+09\n",
      "Device: cuda, Input length: 10000, Time: 1.02e-03, FLOPS: 1.10e+11, Memory: 2.17e+09\n",
      "Device: cpu, Input length: 10, Time: 1.53e-03, FLOPS: 7.97e+06, Memory: 1.66e+05\n",
      "Device: cuda, Input length: 10, Time: 1.02e-03, FLOPS: 7.97e+06, Memory: 1.66e+05\n",
      "Device: cpu, Input length: 100, Time: 2.54e-03, FLOPS: 8.89e+07, Memory: 1.84e+06\n",
      "Device: cuda, Input length: 100, Time: 1.02e-03, FLOPS: 8.89e+07, Memory: 1.84e+06\n",
      "Device: cpu, Input length: 1000, Time: 9.79e-03, FLOPS: 1.81e+09, Memory: 3.64e+07\n",
      "Device: cuda, Input length: 1000, Time: 1.02e-03, FLOPS: 1.81e+09, Memory: 3.69e+07\n"
     ]
    },
    {
     "name": "stderr",
     "output_type": "stream",
     "text": [
      "Unsupported operator aten::div encountered 1 time(s)\n",
      "Unsupported operator aten::softmax encountered 1 time(s)\n",
      "Unsupported operator aten::div encountered 1 time(s)\n",
      "Unsupported operator aten::softmax encountered 1 time(s)\n",
      "Unsupported operator aten::div encountered 1 time(s)\n",
      "Unsupported operator aten::softmax encountered 1 time(s)\n",
      "Unsupported operator aten::div encountered 1 time(s)\n",
      "Unsupported operator aten::softmax encountered 1 time(s)\n",
      "Unsupported operator aten::div encountered 1 time(s)\n",
      "Unsupported operator aten::softmax encountered 1 time(s)\n",
      "Unsupported operator aten::div encountered 1 time(s)\n",
      "Unsupported operator aten::softmax encountered 1 time(s)\n",
      "Unsupported operator aten::div encountered 1 time(s)\n",
      "Unsupported operator aten::softmax encountered 1 time(s)\n",
      "Unsupported operator aten::div encountered 1 time(s)\n",
      "Unsupported operator aten::softmax encountered 1 time(s)\n"
     ]
    },
    {
     "name": "stdout",
     "output_type": "stream",
     "text": [
      "Device: cpu, Input length: 10000, Time: 2.42e-01, FLOPS: 1.10e+11, Memory: 2.16e+09\n",
      "Device: cuda, Input length: 10000, Time: 1.01e-03, FLOPS: 1.10e+11, Memory: 2.17e+09\n",
      "Device: cpu, Input length: 10, Time: 1.52e-03, FLOPS: 7.97e+06, Memory: 1.66e+05\n",
      "Device: cuda, Input length: 10, Time: 1.01e-03, FLOPS: 7.97e+06, Memory: 1.66e+05\n",
      "Device: cpu, Input length: 100, Time: 2.54e-03, FLOPS: 8.89e+07, Memory: 1.84e+06\n",
      "Device: cuda, Input length: 100, Time: 1.02e-03, FLOPS: 8.89e+07, Memory: 1.84e+06\n",
      "Device: cpu, Input length: 1000, Time: 6.10e-03, FLOPS: 1.81e+09, Memory: 3.64e+07\n",
      "Device: cuda, Input length: 1000, Time: 1.52e-03, FLOPS: 1.81e+09, Memory: 3.69e+07\n"
     ]
    },
    {
     "name": "stderr",
     "output_type": "stream",
     "text": [
      "Unsupported operator aten::div encountered 1 time(s)\n",
      "Unsupported operator aten::softmax encountered 1 time(s)\n",
      "Unsupported operator aten::div encountered 1 time(s)\n",
      "Unsupported operator aten::softmax encountered 1 time(s)\n",
      "Unsupported operator aten::div encountered 1 time(s)\n",
      "Unsupported operator aten::softmax encountered 1 time(s)\n",
      "Unsupported operator aten::div encountered 1 time(s)\n",
      "Unsupported operator aten::softmax encountered 1 time(s)\n",
      "Unsupported operator aten::div encountered 1 time(s)\n",
      "Unsupported operator aten::softmax encountered 1 time(s)\n",
      "Unsupported operator aten::div encountered 1 time(s)\n",
      "Unsupported operator aten::softmax encountered 1 time(s)\n",
      "Unsupported operator aten::div encountered 1 time(s)\n",
      "Unsupported operator aten::softmax encountered 1 time(s)\n",
      "Unsupported operator aten::div encountered 1 time(s)\n",
      "Unsupported operator aten::softmax encountered 1 time(s)\n"
     ]
    },
    {
     "name": "stdout",
     "output_type": "stream",
     "text": [
      "Device: cpu, Input length: 10000, Time: 2.41e-01, FLOPS: 1.10e+11, Memory: 2.16e+09\n",
      "Device: cuda, Input length: 10000, Time: 1.02e-03, FLOPS: 1.10e+11, Memory: 2.17e+09\n",
      "Device: cpu, Input length: 10, Time: 1.54e-03, FLOPS: 7.97e+06, Memory: 1.66e+05\n",
      "Device: cuda, Input length: 10, Time: 1.02e-03, FLOPS: 7.97e+06, Memory: 1.66e+05\n",
      "Device: cpu, Input length: 100, Time: 3.56e-03, FLOPS: 8.89e+07, Memory: 1.84e+06\n",
      "Device: cuda, Input length: 100, Time: 1.01e-03, FLOPS: 8.89e+07, Memory: 1.84e+06\n",
      "Device: cpu, Input length: 1000, Time: 7.12e-03, FLOPS: 1.81e+09, Memory: 3.64e+07\n",
      "Device: cuda, Input length: 1000, Time: 1.01e-03, FLOPS: 1.81e+09, Memory: 3.69e+07\n"
     ]
    },
    {
     "name": "stderr",
     "output_type": "stream",
     "text": [
      "Unsupported operator aten::div encountered 1 time(s)\n",
      "Unsupported operator aten::softmax encountered 1 time(s)\n",
      "Unsupported operator aten::div encountered 1 time(s)\n",
      "Unsupported operator aten::softmax encountered 1 time(s)\n",
      "Unsupported operator aten::div encountered 1 time(s)\n",
      "Unsupported operator aten::softmax encountered 1 time(s)\n",
      "Unsupported operator aten::div encountered 1 time(s)\n",
      "Unsupported operator aten::softmax encountered 1 time(s)\n",
      "Unsupported operator aten::div encountered 1 time(s)\n",
      "Unsupported operator aten::softmax encountered 1 time(s)\n",
      "Unsupported operator aten::div encountered 1 time(s)\n",
      "Unsupported operator aten::softmax encountered 1 time(s)\n",
      "Unsupported operator aten::div encountered 1 time(s)\n",
      "Unsupported operator aten::softmax encountered 1 time(s)\n",
      "Unsupported operator aten::div encountered 1 time(s)\n",
      "Unsupported operator aten::softmax encountered 1 time(s)\n"
     ]
    },
    {
     "name": "stdout",
     "output_type": "stream",
     "text": [
      "Device: cpu, Input length: 10000, Time: 2.36e-01, FLOPS: 1.10e+11, Memory: 2.16e+09\n",
      "Device: cuda, Input length: 10000, Time: 1.03e-03, FLOPS: 1.10e+11, Memory: 2.17e+09\n",
      "Device: cpu, Input length: 10, Time: 1.53e-03, FLOPS: 7.97e+06, Memory: 1.66e+05\n",
      "Device: cuda, Input length: 10, Time: 1.02e-03, FLOPS: 7.97e+06, Memory: 1.66e+05\n",
      "Device: cpu, Input length: 100, Time: 3.55e-03, FLOPS: 8.89e+07, Memory: 1.84e+06\n",
      "Device: cuda, Input length: 100, Time: 1.02e-03, FLOPS: 8.89e+07, Memory: 1.84e+06\n",
      "Device: cpu, Input length: 1000, Time: 6.61e-03, FLOPS: 1.81e+09, Memory: 3.64e+07\n",
      "Device: cuda, Input length: 1000, Time: 1.03e-03, FLOPS: 1.81e+09, Memory: 3.69e+07\n"
     ]
    },
    {
     "name": "stderr",
     "output_type": "stream",
     "text": [
      "Unsupported operator aten::div encountered 1 time(s)\n",
      "Unsupported operator aten::softmax encountered 1 time(s)\n",
      "Unsupported operator aten::div encountered 1 time(s)\n",
      "Unsupported operator aten::softmax encountered 1 time(s)\n",
      "Unsupported operator aten::div encountered 1 time(s)\n",
      "Unsupported operator aten::softmax encountered 1 time(s)\n",
      "Unsupported operator aten::div encountered 1 time(s)\n",
      "Unsupported operator aten::softmax encountered 1 time(s)\n",
      "Unsupported operator aten::div encountered 1 time(s)\n",
      "Unsupported operator aten::softmax encountered 1 time(s)\n",
      "Unsupported operator aten::div encountered 1 time(s)\n",
      "Unsupported operator aten::softmax encountered 1 time(s)\n",
      "Unsupported operator aten::div encountered 1 time(s)\n",
      "Unsupported operator aten::softmax encountered 1 time(s)\n",
      "Unsupported operator aten::div encountered 1 time(s)\n",
      "Unsupported operator aten::softmax encountered 1 time(s)\n"
     ]
    },
    {
     "name": "stdout",
     "output_type": "stream",
     "text": [
      "Device: cpu, Input length: 10000, Time: 2.40e-01, FLOPS: 1.10e+11, Memory: 2.16e+09\n",
      "Device: cuda, Input length: 10000, Time: 1.02e-03, FLOPS: 1.10e+11, Memory: 2.17e+09\n",
      "Device: cpu, Input length: 10, Time: 1.52e-03, FLOPS: 7.97e+06, Memory: 1.66e+05\n",
      "Device: cuda, Input length: 10, Time: 1.02e-03, FLOPS: 7.97e+06, Memory: 1.66e+05\n",
      "Device: cpu, Input length: 100, Time: 3.05e-03, FLOPS: 8.89e+07, Memory: 1.84e+06\n",
      "Device: cuda, Input length: 100, Time: 1.01e-03, FLOPS: 8.89e+07, Memory: 1.84e+06\n",
      "Device: cpu, Input length: 1000, Time: 7.67e-03, FLOPS: 1.81e+09, Memory: 3.64e+07\n",
      "Device: cuda, Input length: 1000, Time: 1.01e-03, FLOPS: 1.81e+09, Memory: 3.69e+07\n"
     ]
    },
    {
     "name": "stderr",
     "output_type": "stream",
     "text": [
      "Unsupported operator aten::div encountered 1 time(s)\n",
      "Unsupported operator aten::softmax encountered 1 time(s)\n",
      "Unsupported operator aten::div encountered 1 time(s)\n",
      "Unsupported operator aten::softmax encountered 1 time(s)\n",
      "Unsupported operator aten::div encountered 1 time(s)\n",
      "Unsupported operator aten::softmax encountered 1 time(s)\n",
      "Unsupported operator aten::div encountered 1 time(s)\n",
      "Unsupported operator aten::softmax encountered 1 time(s)\n",
      "Unsupported operator aten::div encountered 1 time(s)\n",
      "Unsupported operator aten::softmax encountered 1 time(s)\n",
      "Unsupported operator aten::div encountered 1 time(s)\n",
      "Unsupported operator aten::softmax encountered 1 time(s)\n",
      "Unsupported operator aten::div encountered 1 time(s)\n",
      "Unsupported operator aten::softmax encountered 1 time(s)\n",
      "Unsupported operator aten::div encountered 1 time(s)\n",
      "Unsupported operator aten::softmax encountered 1 time(s)\n"
     ]
    },
    {
     "name": "stdout",
     "output_type": "stream",
     "text": [
      "Device: cpu, Input length: 10000, Time: 2.49e-01, FLOPS: 1.10e+11, Memory: 2.16e+09\n",
      "Device: cuda, Input length: 10000, Time: 1.03e-03, FLOPS: 1.10e+11, Memory: 2.17e+09\n",
      "Device: cpu, Input length: 10, Time: 1.52e-03, FLOPS: 7.97e+06, Memory: 1.66e+05\n",
      "Device: cuda, Input length: 10, Time: 1.02e-03, FLOPS: 7.97e+06, Memory: 1.66e+05\n",
      "Device: cpu, Input length: 100, Time: 3.57e-03, FLOPS: 8.89e+07, Memory: 1.84e+06\n",
      "Device: cuda, Input length: 100, Time: 1.02e-03, FLOPS: 8.89e+07, Memory: 1.84e+06\n",
      "Device: cpu, Input length: 1000, Time: 6.62e-03, FLOPS: 1.81e+09, Memory: 3.64e+07\n",
      "Device: cuda, Input length: 1000, Time: 1.02e-03, FLOPS: 1.81e+09, Memory: 3.69e+07\n"
     ]
    },
    {
     "name": "stderr",
     "output_type": "stream",
     "text": [
      "Unsupported operator aten::div encountered 1 time(s)\n",
      "Unsupported operator aten::softmax encountered 1 time(s)\n",
      "Unsupported operator aten::div encountered 1 time(s)\n",
      "Unsupported operator aten::softmax encountered 1 time(s)\n",
      "Unsupported operator aten::div encountered 1 time(s)\n",
      "Unsupported operator aten::softmax encountered 1 time(s)\n",
      "Unsupported operator aten::div encountered 1 time(s)\n",
      "Unsupported operator aten::softmax encountered 1 time(s)\n",
      "Unsupported operator aten::div encountered 1 time(s)\n",
      "Unsupported operator aten::softmax encountered 1 time(s)\n",
      "Unsupported operator aten::div encountered 1 time(s)\n",
      "Unsupported operator aten::softmax encountered 1 time(s)\n",
      "Unsupported operator aten::div encountered 1 time(s)\n",
      "Unsupported operator aten::softmax encountered 1 time(s)\n",
      "Unsupported operator aten::div encountered 1 time(s)\n",
      "Unsupported operator aten::softmax encountered 1 time(s)\n"
     ]
    },
    {
     "name": "stdout",
     "output_type": "stream",
     "text": [
      "Device: cpu, Input length: 10000, Time: 2.43e-01, FLOPS: 1.10e+11, Memory: 2.16e+09\n",
      "Device: cuda, Input length: 10000, Time: 1.55e-03, FLOPS: 1.10e+11, Memory: 2.17e+09\n",
      "Device: cpu, Input length: 10, Time: 1.53e-03, FLOPS: 7.97e+06, Memory: 1.66e+05\n",
      "Device: cuda, Input length: 10, Time: 1.02e-03, FLOPS: 7.97e+06, Memory: 1.66e+05\n",
      "Device: cpu, Input length: 100, Time: 3.56e-03, FLOPS: 8.89e+07, Memory: 1.84e+06\n",
      "Device: cuda, Input length: 100, Time: 1.01e-03, FLOPS: 8.89e+07, Memory: 1.84e+06\n",
      "Device: cpu, Input length: 1000, Time: 7.66e-03, FLOPS: 1.81e+09, Memory: 3.64e+07\n",
      "Device: cuda, Input length: 1000, Time: 1.02e-03, FLOPS: 1.81e+09, Memory: 3.69e+07\n"
     ]
    },
    {
     "name": "stderr",
     "output_type": "stream",
     "text": [
      "Unsupported operator aten::div encountered 1 time(s)\n",
      "Unsupported operator aten::softmax encountered 1 time(s)\n",
      "Unsupported operator aten::div encountered 1 time(s)\n",
      "Unsupported operator aten::softmax encountered 1 time(s)\n",
      "Unsupported operator aten::div encountered 1 time(s)\n",
      "Unsupported operator aten::softmax encountered 1 time(s)\n",
      "Unsupported operator aten::div encountered 1 time(s)\n",
      "Unsupported operator aten::softmax encountered 1 time(s)\n",
      "Unsupported operator aten::div encountered 1 time(s)\n",
      "Unsupported operator aten::softmax encountered 1 time(s)\n",
      "Unsupported operator aten::div encountered 1 time(s)\n",
      "Unsupported operator aten::softmax encountered 1 time(s)\n",
      "Unsupported operator aten::div encountered 1 time(s)\n",
      "Unsupported operator aten::softmax encountered 1 time(s)\n",
      "Unsupported operator aten::div encountered 1 time(s)\n",
      "Unsupported operator aten::softmax encountered 1 time(s)\n"
     ]
    },
    {
     "name": "stdout",
     "output_type": "stream",
     "text": [
      "Device: cpu, Input length: 10000, Time: 2.38e-01, FLOPS: 1.10e+11, Memory: 2.16e+09\n",
      "Device: cuda, Input length: 10000, Time: 1.02e-03, FLOPS: 1.10e+11, Memory: 2.17e+09\n",
      "Device: cpu, Input length: 10, Time: 1.54e-03, FLOPS: 7.97e+06, Memory: 1.66e+05\n",
      "Device: cuda, Input length: 10, Time: 1.02e-03, FLOPS: 7.97e+06, Memory: 1.66e+05\n",
      "Device: cpu, Input length: 100, Time: 3.06e-03, FLOPS: 8.89e+07, Memory: 1.84e+06\n",
      "Device: cuda, Input length: 100, Time: 1.01e-03, FLOPS: 8.89e+07, Memory: 1.84e+06\n",
      "Device: cpu, Input length: 1000, Time: 8.74e-03, FLOPS: 1.81e+09, Memory: 3.64e+07\n",
      "Device: cuda, Input length: 1000, Time: 1.02e-03, FLOPS: 1.81e+09, Memory: 3.69e+07\n"
     ]
    },
    {
     "name": "stderr",
     "output_type": "stream",
     "text": [
      "Unsupported operator aten::div encountered 1 time(s)\n",
      "Unsupported operator aten::softmax encountered 1 time(s)\n",
      "Unsupported operator aten::div encountered 1 time(s)\n",
      "Unsupported operator aten::softmax encountered 1 time(s)\n",
      "Unsupported operator aten::div encountered 1 time(s)\n",
      "Unsupported operator aten::softmax encountered 1 time(s)\n",
      "Unsupported operator aten::div encountered 1 time(s)\n",
      "Unsupported operator aten::softmax encountered 1 time(s)\n",
      "Unsupported operator aten::div encountered 1 time(s)\n",
      "Unsupported operator aten::softmax encountered 1 time(s)\n",
      "Unsupported operator aten::div encountered 1 time(s)\n",
      "Unsupported operator aten::softmax encountered 1 time(s)\n",
      "Unsupported operator aten::div encountered 1 time(s)\n",
      "Unsupported operator aten::softmax encountered 1 time(s)\n",
      "Unsupported operator aten::div encountered 1 time(s)\n",
      "Unsupported operator aten::softmax encountered 1 time(s)\n"
     ]
    },
    {
     "name": "stdout",
     "output_type": "stream",
     "text": [
      "Device: cpu, Input length: 10000, Time: 2.42e-01, FLOPS: 1.10e+11, Memory: 2.16e+09\n",
      "Device: cuda, Input length: 10000, Time: 1.02e-03, FLOPS: 1.10e+11, Memory: 2.17e+09\n",
      "Device: cpu, Input length: 10, Time: 1.02e-03, FLOPS: 7.97e+06, Memory: 1.66e+05\n",
      "Device: cuda, Input length: 10, Time: 1.02e-03, FLOPS: 7.97e+06, Memory: 1.66e+05\n",
      "Device: cpu, Input length: 100, Time: 3.05e-03, FLOPS: 8.89e+07, Memory: 1.84e+06\n",
      "Device: cuda, Input length: 100, Time: 1.02e-03, FLOPS: 8.89e+07, Memory: 1.84e+06\n",
      "Device: cpu, Input length: 1000, Time: 8.13e-03, FLOPS: 1.81e+09, Memory: 3.64e+07\n",
      "Device: cuda, Input length: 1000, Time: 1.02e-03, FLOPS: 1.81e+09, Memory: 3.69e+07\n"
     ]
    },
    {
     "name": "stderr",
     "output_type": "stream",
     "text": [
      "Unsupported operator aten::div encountered 1 time(s)\n",
      "Unsupported operator aten::softmax encountered 1 time(s)\n",
      "Unsupported operator aten::div encountered 1 time(s)\n",
      "Unsupported operator aten::softmax encountered 1 time(s)\n",
      "Unsupported operator aten::div encountered 1 time(s)\n"
     ]
    },
    {
     "name": "stdout",
     "output_type": "stream",
     "text": [
      "Device: cpu, Input length: 10000, Time: 2.43e-01, FLOPS: 1.10e+11, Memory: 2.16e+09\n",
      "Device: cuda, Input length: 10000, Time: 1.02e-03, FLOPS: 1.10e+11, Memory: 2.17e+09\n"
     ]
    },
    {
     "name": "stderr",
     "output_type": "stream",
     "text": [
      "Unsupported operator aten::softmax encountered 1 time(s)\n",
      "Unsupported operator aten::div encountered 1 time(s)\n",
      "Unsupported operator aten::softmax encountered 1 time(s)\n",
      "Unsupported operator aten::div encountered 1 time(s)\n",
      "Unsupported operator aten::softmax encountered 1 time(s)\n",
      "Unsupported operator aten::div encountered 1 time(s)\n",
      "Unsupported operator aten::softmax encountered 1 time(s)\n",
      "Unsupported operator aten::div encountered 1 time(s)\n",
      "Unsupported operator aten::softmax encountered 1 time(s)\n",
      "Unsupported operator aten::div encountered 1 time(s)\n",
      "Unsupported operator aten::softmax encountered 1 time(s)\n"
     ]
    },
    {
     "name": "stdout",
     "output_type": "stream",
     "text": [
      "Device: cpu, Input length: 10, Time: 1.53e-03, FLOPS: 7.97e+06, Memory: 1.66e+05\n",
      "Device: cuda, Input length: 10, Time: 1.53e-03, FLOPS: 7.97e+06, Memory: 1.66e+05\n",
      "Device: cpu, Input length: 100, Time: 2.54e-03, FLOPS: 8.89e+07, Memory: 1.84e+06\n",
      "Device: cuda, Input length: 100, Time: 2.03e-03, FLOPS: 8.89e+07, Memory: 1.84e+06\n",
      "Device: cpu, Input length: 1000, Time: 2.59e-02, FLOPS: 1.81e+09, Memory: 3.64e+07\n",
      "Device: cuda, Input length: 1000, Time: 1.02e-03, FLOPS: 1.81e+09, Memory: 3.69e+07\n"
     ]
    },
    {
     "name": "stderr",
     "output_type": "stream",
     "text": [
      "Unsupported operator aten::div encountered 1 time(s)\n",
      "Unsupported operator aten::softmax encountered 1 time(s)\n",
      "Unsupported operator aten::div encountered 1 time(s)\n",
      "Unsupported operator aten::softmax encountered 1 time(s)\n",
      "Unsupported operator aten::div encountered 1 time(s)\n"
     ]
    },
    {
     "name": "stdout",
     "output_type": "stream",
     "text": [
      "Device: cpu, Input length: 10000, Time: 2.59e-01, FLOPS: 1.10e+11, Memory: 2.16e+09\n",
      "Device: cuda, Input length: 10000, Time: 1.02e-03, FLOPS: 1.10e+11, Memory: 2.17e+09\n"
     ]
    },
    {
     "name": "stderr",
     "output_type": "stream",
     "text": [
      "Unsupported operator aten::softmax encountered 1 time(s)\n",
      "Unsupported operator aten::div encountered 1 time(s)\n",
      "Unsupported operator aten::softmax encountered 1 time(s)\n",
      "Unsupported operator aten::div encountered 1 time(s)\n",
      "Unsupported operator aten::softmax encountered 1 time(s)\n",
      "Unsupported operator aten::div encountered 1 time(s)\n",
      "Unsupported operator aten::softmax encountered 1 time(s)\n",
      "Unsupported operator aten::div encountered 1 time(s)\n",
      "Unsupported operator aten::softmax encountered 1 time(s)\n",
      "Unsupported operator aten::div encountered 1 time(s)\n",
      "Unsupported operator aten::softmax encountered 1 time(s)\n"
     ]
    },
    {
     "name": "stdout",
     "output_type": "stream",
     "text": [
      "Device: cpu, Input length: 10, Time: 2.03e-03, FLOPS: 7.97e+06, Memory: 1.66e+05\n",
      "Device: cuda, Input length: 10, Time: 1.53e-03, FLOPS: 7.97e+06, Memory: 1.66e+05\n",
      "Device: cpu, Input length: 100, Time: 3.07e-03, FLOPS: 8.89e+07, Memory: 1.84e+06\n",
      "Device: cuda, Input length: 100, Time: 1.53e-03, FLOPS: 8.89e+07, Memory: 1.84e+06\n",
      "Device: cpu, Input length: 1000, Time: 3.29e-02, FLOPS: 1.81e+09, Memory: 3.64e+07\n",
      "Device: cuda, Input length: 1000, Time: 1.53e-03, FLOPS: 1.81e+09, Memory: 3.69e+07\n"
     ]
    },
    {
     "name": "stderr",
     "output_type": "stream",
     "text": [
      "Unsupported operator aten::div encountered 1 time(s)\n",
      "Unsupported operator aten::softmax encountered 1 time(s)\n",
      "Unsupported operator aten::div encountered 1 time(s)\n",
      "Unsupported operator aten::softmax encountered 1 time(s)\n",
      "Unsupported operator aten::div encountered 1 time(s)\n",
      "Unsupported operator aten::softmax encountered 1 time(s)\n",
      "Unsupported operator aten::div encountered 1 time(s)\n"
     ]
    },
    {
     "name": "stdout",
     "output_type": "stream",
     "text": [
      "Device: cpu, Input length: 10000, Time: 2.67e-01, FLOPS: 1.10e+11, Memory: 2.16e+09\n",
      "Device: cuda, Input length: 10000, Time: 1.02e-03, FLOPS: 1.10e+11, Memory: 2.17e+09\n",
      "Device: cpu, Input length: 10, Time: 1.53e-03, FLOPS: 7.97e+06, Memory: 1.66e+05\n"
     ]
    },
    {
     "name": "stderr",
     "output_type": "stream",
     "text": [
      "Unsupported operator aten::softmax encountered 1 time(s)\n",
      "Unsupported operator aten::div encountered 1 time(s)\n",
      "Unsupported operator aten::softmax encountered 1 time(s)\n",
      "Unsupported operator aten::div encountered 1 time(s)\n",
      "Unsupported operator aten::softmax encountered 1 time(s)\n",
      "Unsupported operator aten::div encountered 1 time(s)\n",
      "Unsupported operator aten::softmax encountered 1 time(s)\n",
      "Unsupported operator aten::div encountered 1 time(s)\n",
      "Unsupported operator aten::softmax encountered 1 time(s)\n"
     ]
    },
    {
     "name": "stdout",
     "output_type": "stream",
     "text": [
      "Device: cuda, Input length: 10, Time: 2.04e-03, FLOPS: 7.97e+06, Memory: 1.66e+05\n",
      "Device: cpu, Input length: 100, Time: 3.05e-03, FLOPS: 8.89e+07, Memory: 1.84e+06\n",
      "Device: cuda, Input length: 100, Time: 2.54e-03, FLOPS: 8.89e+07, Memory: 1.84e+06\n",
      "Device: cpu, Input length: 1000, Time: 2.54e-02, FLOPS: 1.81e+09, Memory: 3.64e+07\n",
      "Device: cuda, Input length: 1000, Time: 1.02e-03, FLOPS: 1.81e+09, Memory: 3.69e+07\n"
     ]
    },
    {
     "name": "stderr",
     "output_type": "stream",
     "text": [
      "Unsupported operator aten::div encountered 1 time(s)\n",
      "Unsupported operator aten::softmax encountered 1 time(s)\n",
      "Unsupported operator aten::div encountered 1 time(s)\n",
      "Unsupported operator aten::softmax encountered 1 time(s)\n",
      "Unsupported operator aten::div encountered 1 time(s)\n",
      "Unsupported operator aten::softmax encountered 1 time(s)\n",
      "Unsupported operator aten::div encountered 1 time(s)\n",
      "Unsupported operator aten::softmax encountered 1 time(s)\n",
      "Unsupported operator aten::div encountered 1 time(s)\n",
      "Unsupported operator aten::softmax encountered 1 time(s)\n",
      "Unsupported operator aten::div encountered 1 time(s)\n",
      "Unsupported operator aten::softmax encountered 1 time(s)\n",
      "Unsupported operator aten::div encountered 1 time(s)\n",
      "Unsupported operator aten::softmax encountered 1 time(s)\n",
      "Unsupported operator aten::div encountered 1 time(s)\n",
      "Unsupported operator aten::softmax encountered 1 time(s)\n"
     ]
    },
    {
     "name": "stdout",
     "output_type": "stream",
     "text": [
      "Device: cpu, Input length: 10000, Time: 2.60e-01, FLOPS: 1.10e+11, Memory: 2.16e+09\n",
      "Device: cuda, Input length: 10000, Time: 1.02e-03, FLOPS: 1.10e+11, Memory: 2.17e+09\n",
      "Device: cpu, Input length: 10, Time: 1.02e-03, FLOPS: 7.97e+06, Memory: 1.66e+05\n",
      "Device: cuda, Input length: 10, Time: 1.02e-03, FLOPS: 7.97e+06, Memory: 1.66e+05\n",
      "Device: cpu, Input length: 100, Time: 2.54e-03, FLOPS: 8.89e+07, Memory: 1.84e+06\n",
      "Device: cuda, Input length: 100, Time: 1.53e-03, FLOPS: 8.89e+07, Memory: 1.84e+06\n",
      "Device: cpu, Input length: 1000, Time: 7.12e-03, FLOPS: 1.81e+09, Memory: 3.64e+07\n",
      "Device: cuda, Input length: 1000, Time: 1.53e-03, FLOPS: 1.81e+09, Memory: 3.69e+07\n"
     ]
    },
    {
     "name": "stderr",
     "output_type": "stream",
     "text": [
      "Unsupported operator aten::div encountered 1 time(s)\n",
      "Unsupported operator aten::softmax encountered 1 time(s)\n",
      "Unsupported operator aten::div encountered 1 time(s)\n",
      "Unsupported operator aten::softmax encountered 1 time(s)\n",
      "Unsupported operator aten::div encountered 1 time(s)\n",
      "Unsupported operator aten::softmax encountered 1 time(s)\n",
      "Unsupported operator aten::div encountered 1 time(s)\n",
      "Unsupported operator aten::softmax encountered 1 time(s)\n",
      "Unsupported operator aten::div encountered 1 time(s)\n",
      "Unsupported operator aten::softmax encountered 1 time(s)\n",
      "Unsupported operator aten::div encountered 1 time(s)\n",
      "Unsupported operator aten::softmax encountered 1 time(s)\n",
      "Unsupported operator aten::div encountered 1 time(s)\n",
      "Unsupported operator aten::softmax encountered 1 time(s)\n",
      "Unsupported operator aten::div encountered 1 time(s)\n",
      "Unsupported operator aten::softmax encountered 1 time(s)\n"
     ]
    },
    {
     "name": "stdout",
     "output_type": "stream",
     "text": [
      "Device: cpu, Input length: 10000, Time: 2.44e-01, FLOPS: 1.10e+11, Memory: 2.16e+09\n",
      "Device: cuda, Input length: 10000, Time: 1.05e-03, FLOPS: 1.10e+11, Memory: 2.17e+09\n",
      "Device: cpu, Input length: 10, Time: 1.53e-03, FLOPS: 7.97e+06, Memory: 1.66e+05\n",
      "Device: cuda, Input length: 10, Time: 1.01e-03, FLOPS: 7.97e+06, Memory: 1.66e+05\n",
      "Device: cpu, Input length: 100, Time: 2.54e-03, FLOPS: 8.89e+07, Memory: 1.84e+06\n",
      "Device: cuda, Input length: 100, Time: 1.02e-03, FLOPS: 8.89e+07, Memory: 1.84e+06\n",
      "Device: cpu, Input length: 1000, Time: 7.14e-03, FLOPS: 1.81e+09, Memory: 3.64e+07\n",
      "Device: cuda, Input length: 1000, Time: 1.53e-03, FLOPS: 1.81e+09, Memory: 3.69e+07\n"
     ]
    },
    {
     "name": "stderr",
     "output_type": "stream",
     "text": [
      "Unsupported operator aten::div encountered 1 time(s)\n",
      "Unsupported operator aten::softmax encountered 1 time(s)\n",
      "Unsupported operator aten::div encountered 1 time(s)\n",
      "Unsupported operator aten::softmax encountered 1 time(s)\n",
      "Unsupported operator aten::div encountered 1 time(s)\n",
      "Unsupported operator aten::softmax encountered 1 time(s)\n",
      "Unsupported operator aten::div encountered 1 time(s)\n",
      "Unsupported operator aten::softmax encountered 1 time(s)\n",
      "Unsupported operator aten::div encountered 1 time(s)\n",
      "Unsupported operator aten::softmax encountered 1 time(s)\n",
      "Unsupported operator aten::div encountered 1 time(s)\n",
      "Unsupported operator aten::softmax encountered 1 time(s)\n",
      "Unsupported operator aten::div encountered 1 time(s)\n",
      "Unsupported operator aten::softmax encountered 1 time(s)\n",
      "Unsupported operator aten::div encountered 1 time(s)\n",
      "Unsupported operator aten::softmax encountered 1 time(s)\n"
     ]
    },
    {
     "name": "stdout",
     "output_type": "stream",
     "text": [
      "Device: cpu, Input length: 10000, Time: 2.41e-01, FLOPS: 1.10e+11, Memory: 2.16e+09\n",
      "Device: cuda, Input length: 10000, Time: 1.01e-03, FLOPS: 1.10e+11, Memory: 2.17e+09\n",
      "Device: cpu, Input length: 10, Time: 1.54e-03, FLOPS: 7.97e+06, Memory: 1.66e+05\n",
      "Device: cuda, Input length: 10, Time: 1.02e-03, FLOPS: 7.97e+06, Memory: 1.66e+05\n",
      "Device: cpu, Input length: 100, Time: 2.55e-03, FLOPS: 8.89e+07, Memory: 1.84e+06\n",
      "Device: cuda, Input length: 100, Time: 1.01e-03, FLOPS: 8.89e+07, Memory: 1.84e+06\n",
      "Device: cpu, Input length: 1000, Time: 7.16e-03, FLOPS: 1.81e+09, Memory: 3.64e+07\n",
      "Device: cuda, Input length: 1000, Time: 1.03e-03, FLOPS: 1.81e+09, Memory: 3.69e+07\n"
     ]
    },
    {
     "name": "stderr",
     "output_type": "stream",
     "text": [
      "Unsupported operator aten::div encountered 1 time(s)\n",
      "Unsupported operator aten::softmax encountered 1 time(s)\n",
      "Unsupported operator aten::div encountered 1 time(s)\n",
      "Unsupported operator aten::softmax encountered 1 time(s)\n",
      "Unsupported operator aten::div encountered 1 time(s)\n",
      "Unsupported operator aten::softmax encountered 1 time(s)\n",
      "Unsupported operator aten::div encountered 1 time(s)\n",
      "Unsupported operator aten::softmax encountered 1 time(s)\n",
      "Unsupported operator aten::div encountered 1 time(s)\n",
      "Unsupported operator aten::softmax encountered 1 time(s)\n",
      "Unsupported operator aten::div encountered 1 time(s)\n",
      "Unsupported operator aten::softmax encountered 1 time(s)\n",
      "Unsupported operator aten::div encountered 1 time(s)\n",
      "Unsupported operator aten::softmax encountered 1 time(s)\n",
      "Unsupported operator aten::div encountered 1 time(s)\n",
      "Unsupported operator aten::softmax encountered 1 time(s)\n"
     ]
    },
    {
     "name": "stdout",
     "output_type": "stream",
     "text": [
      "Device: cpu, Input length: 10000, Time: 2.36e-01, FLOPS: 1.10e+11, Memory: 2.16e+09\n",
      "Device: cuda, Input length: 10000, Time: 1.02e-03, FLOPS: 1.10e+11, Memory: 2.17e+09\n",
      "Device: cpu, Input length: 10, Time: 1.53e-03, FLOPS: 7.97e+06, Memory: 1.66e+05\n",
      "Device: cuda, Input length: 10, Time: 1.02e-03, FLOPS: 7.97e+06, Memory: 1.66e+05\n",
      "Device: cpu, Input length: 100, Time: 2.87e-03, FLOPS: 8.89e+07, Memory: 1.84e+06\n",
      "Device: cuda, Input length: 100, Time: 1.02e-03, FLOPS: 8.89e+07, Memory: 1.84e+06\n",
      "Device: cpu, Input length: 1000, Time: 5.59e-03, FLOPS: 1.81e+09, Memory: 3.64e+07\n",
      "Device: cuda, Input length: 1000, Time: 2.03e-03, FLOPS: 1.81e+09, Memory: 3.69e+07\n"
     ]
    },
    {
     "name": "stderr",
     "output_type": "stream",
     "text": [
      "Unsupported operator aten::div encountered 1 time(s)\n",
      "Unsupported operator aten::softmax encountered 1 time(s)\n",
      "Unsupported operator aten::div encountered 1 time(s)\n",
      "Unsupported operator aten::softmax encountered 1 time(s)\n",
      "Unsupported operator aten::div encountered 1 time(s)\n",
      "Unsupported operator aten::softmax encountered 1 time(s)\n",
      "Unsupported operator aten::div encountered 1 time(s)\n",
      "Unsupported operator aten::softmax encountered 1 time(s)\n",
      "Unsupported operator aten::div encountered 1 time(s)\n",
      "Unsupported operator aten::softmax encountered 1 time(s)\n",
      "Unsupported operator aten::div encountered 1 time(s)\n",
      "Unsupported operator aten::softmax encountered 1 time(s)\n",
      "Unsupported operator aten::div encountered 1 time(s)\n",
      "Unsupported operator aten::softmax encountered 1 time(s)\n",
      "Unsupported operator aten::div encountered 1 time(s)\n",
      "Unsupported operator aten::softmax encountered 1 time(s)\n"
     ]
    },
    {
     "name": "stdout",
     "output_type": "stream",
     "text": [
      "Device: cpu, Input length: 10000, Time: 2.39e-01, FLOPS: 1.10e+11, Memory: 2.16e+09\n",
      "Device: cuda, Input length: 10000, Time: 1.04e-03, FLOPS: 1.10e+11, Memory: 2.17e+09\n",
      "Device: cpu, Input length: 10, Time: 1.52e-03, FLOPS: 7.97e+06, Memory: 1.66e+05\n",
      "Device: cuda, Input length: 10, Time: 1.01e-03, FLOPS: 7.97e+06, Memory: 1.66e+05\n",
      "Device: cpu, Input length: 100, Time: 3.06e-03, FLOPS: 8.89e+07, Memory: 1.84e+06\n",
      "Device: cuda, Input length: 100, Time: 1.01e-03, FLOPS: 8.89e+07, Memory: 1.84e+06\n",
      "Device: cpu, Input length: 1000, Time: 7.10e-03, FLOPS: 1.81e+09, Memory: 3.64e+07\n",
      "Device: cuda, Input length: 1000, Time: 1.03e-03, FLOPS: 1.81e+09, Memory: 3.69e+07\n"
     ]
    },
    {
     "name": "stderr",
     "output_type": "stream",
     "text": [
      "Unsupported operator aten::div encountered 1 time(s)\n",
      "Unsupported operator aten::softmax encountered 1 time(s)\n",
      "Unsupported operator aten::div encountered 1 time(s)\n",
      "Unsupported operator aten::softmax encountered 1 time(s)\n",
      "Unsupported operator aten::div encountered 1 time(s)\n",
      "Unsupported operator aten::softmax encountered 1 time(s)\n",
      "Unsupported operator aten::div encountered 1 time(s)\n",
      "Unsupported operator aten::softmax encountered 1 time(s)\n",
      "Unsupported operator aten::div encountered 1 time(s)\n",
      "Unsupported operator aten::softmax encountered 1 time(s)\n",
      "Unsupported operator aten::div encountered 1 time(s)\n",
      "Unsupported operator aten::softmax encountered 1 time(s)\n",
      "Unsupported operator aten::div encountered 1 time(s)\n",
      "Unsupported operator aten::softmax encountered 1 time(s)\n",
      "Unsupported operator aten::div encountered 1 time(s)\n",
      "Unsupported operator aten::softmax encountered 1 time(s)\n"
     ]
    },
    {
     "name": "stdout",
     "output_type": "stream",
     "text": [
      "Device: cpu, Input length: 10000, Time: 2.35e-01, FLOPS: 1.10e+11, Memory: 2.16e+09\n",
      "Device: cuda, Input length: 10000, Time: 1.53e-03, FLOPS: 1.10e+11, Memory: 2.17e+09\n",
      "Device: cpu, Input length: 10, Time: 1.02e-03, FLOPS: 7.97e+06, Memory: 1.66e+05\n",
      "Device: cuda, Input length: 10, Time: 1.02e-03, FLOPS: 7.97e+06, Memory: 1.66e+05\n",
      "Device: cpu, Input length: 100, Time: 2.54e-03, FLOPS: 8.89e+07, Memory: 1.84e+06\n",
      "Device: cuda, Input length: 100, Time: 1.02e-03, FLOPS: 8.89e+07, Memory: 1.84e+06\n",
      "Device: cpu, Input length: 1000, Time: 6.62e-03, FLOPS: 1.81e+09, Memory: 3.64e+07\n",
      "Device: cuda, Input length: 1000, Time: 1.52e-03, FLOPS: 1.81e+09, Memory: 3.69e+07\n"
     ]
    },
    {
     "name": "stderr",
     "output_type": "stream",
     "text": [
      "Unsupported operator aten::div encountered 1 time(s)\n",
      "Unsupported operator aten::softmax encountered 1 time(s)\n",
      "Unsupported operator aten::div encountered 1 time(s)\n",
      "Unsupported operator aten::softmax encountered 1 time(s)\n",
      "Unsupported operator aten::div encountered 1 time(s)\n",
      "Unsupported operator aten::softmax encountered 1 time(s)\n",
      "Unsupported operator aten::div encountered 1 time(s)\n",
      "Unsupported operator aten::softmax encountered 1 time(s)\n",
      "Unsupported operator aten::div encountered 1 time(s)\n",
      "Unsupported operator aten::softmax encountered 1 time(s)\n",
      "Unsupported operator aten::div encountered 1 time(s)\n",
      "Unsupported operator aten::softmax encountered 1 time(s)\n",
      "Unsupported operator aten::div encountered 1 time(s)\n",
      "Unsupported operator aten::softmax encountered 1 time(s)\n",
      "Unsupported operator aten::div encountered 1 time(s)\n",
      "Unsupported operator aten::softmax encountered 1 time(s)\n"
     ]
    },
    {
     "name": "stdout",
     "output_type": "stream",
     "text": [
      "Device: cpu, Input length: 10000, Time: 2.36e-01, FLOPS: 1.10e+11, Memory: 2.16e+09\n",
      "Device: cuda, Input length: 10000, Time: 1.02e-03, FLOPS: 1.10e+11, Memory: 2.17e+09\n",
      "Device: cpu, Input length: 10, Time: 2.03e-03, FLOPS: 7.97e+06, Memory: 1.66e+05\n",
      "Device: cuda, Input length: 10, Time: 1.02e-03, FLOPS: 7.97e+06, Memory: 1.66e+05\n",
      "Device: cpu, Input length: 100, Time: 2.54e-03, FLOPS: 8.89e+07, Memory: 1.84e+06\n",
      "Device: cuda, Input length: 100, Time: 1.02e-03, FLOPS: 8.89e+07, Memory: 1.84e+06\n",
      "Device: cpu, Input length: 1000, Time: 6.64e-03, FLOPS: 1.81e+09, Memory: 3.64e+07\n",
      "Device: cuda, Input length: 1000, Time: 2.03e-03, FLOPS: 1.81e+09, Memory: 3.69e+07\n"
     ]
    },
    {
     "name": "stderr",
     "output_type": "stream",
     "text": [
      "Unsupported operator aten::div encountered 1 time(s)\n",
      "Unsupported operator aten::softmax encountered 1 time(s)\n",
      "Unsupported operator aten::div encountered 1 time(s)\n",
      "Unsupported operator aten::softmax encountered 1 time(s)\n",
      "Unsupported operator aten::div encountered 1 time(s)\n",
      "Unsupported operator aten::softmax encountered 1 time(s)\n",
      "Unsupported operator aten::div encountered 1 time(s)\n"
     ]
    },
    {
     "name": "stdout",
     "output_type": "stream",
     "text": [
      "Device: cpu, Input length: 10000, Time: 2.44e-01, FLOPS: 1.10e+11, Memory: 2.16e+09\n",
      "Device: cuda, Input length: 10000, Time: 1.02e-03, FLOPS: 1.10e+11, Memory: 2.17e+09\n",
      "Device: cpu, Input length: 10, Time: 1.52e-03, FLOPS: 7.97e+06, Memory: 1.66e+05\n"
     ]
    },
    {
     "name": "stderr",
     "output_type": "stream",
     "text": [
      "Unsupported operator aten::softmax encountered 1 time(s)\n",
      "Unsupported operator aten::div encountered 1 time(s)\n",
      "Unsupported operator aten::softmax encountered 1 time(s)\n",
      "Unsupported operator aten::div encountered 1 time(s)\n",
      "Unsupported operator aten::softmax encountered 1 time(s)\n",
      "Unsupported operator aten::div encountered 1 time(s)\n",
      "Unsupported operator aten::softmax encountered 1 time(s)\n",
      "Unsupported operator aten::div encountered 1 time(s)\n",
      "Unsupported operator aten::softmax encountered 1 time(s)\n"
     ]
    },
    {
     "name": "stdout",
     "output_type": "stream",
     "text": [
      "Device: cuda, Input length: 10, Time: 1.02e-03, FLOPS: 7.97e+06, Memory: 1.66e+05\n",
      "Device: cpu, Input length: 100, Time: 2.54e-03, FLOPS: 8.89e+07, Memory: 1.84e+06\n",
      "Device: cuda, Input length: 100, Time: 1.01e-03, FLOPS: 8.89e+07, Memory: 1.84e+06\n",
      "Device: cpu, Input length: 1000, Time: 3.11e-02, FLOPS: 1.81e+09, Memory: 3.64e+07\n",
      "Device: cuda, Input length: 1000, Time: 5.08e-04, FLOPS: 1.81e+09, Memory: 3.69e+07\n"
     ]
    },
    {
     "name": "stderr",
     "output_type": "stream",
     "text": [
      "Unsupported operator aten::div encountered 1 time(s)\n",
      "Unsupported operator aten::softmax encountered 1 time(s)\n",
      "Unsupported operator aten::div encountered 1 time(s)\n",
      "Unsupported operator aten::softmax encountered 1 time(s)\n",
      "Unsupported operator aten::div encountered 1 time(s)\n"
     ]
    },
    {
     "name": "stdout",
     "output_type": "stream",
     "text": [
      "Device: cpu, Input length: 10000, Time: 2.59e-01, FLOPS: 1.10e+11, Memory: 2.16e+09\n",
      "Device: cuda, Input length: 10000, Time: 5.08e-04, FLOPS: 1.10e+11, Memory: 2.17e+09\n"
     ]
    },
    {
     "name": "stderr",
     "output_type": "stream",
     "text": [
      "Unsupported operator aten::softmax encountered 1 time(s)\n",
      "Unsupported operator aten::div encountered 1 time(s)\n",
      "Unsupported operator aten::softmax encountered 1 time(s)\n",
      "Unsupported operator aten::div encountered 1 time(s)\n",
      "Unsupported operator aten::softmax encountered 1 time(s)\n",
      "Unsupported operator aten::div encountered 1 time(s)\n",
      "Unsupported operator aten::softmax encountered 1 time(s)\n",
      "Unsupported operator aten::div encountered 1 time(s)\n",
      "Unsupported operator aten::softmax encountered 1 time(s)\n",
      "Unsupported operator aten::div encountered 1 time(s)\n",
      "Unsupported operator aten::softmax encountered 1 time(s)\n"
     ]
    },
    {
     "name": "stdout",
     "output_type": "stream",
     "text": [
      "Device: cpu, Input length: 10, Time: 1.52e-03, FLOPS: 7.97e+06, Memory: 1.66e+05\n",
      "Device: cuda, Input length: 10, Time: 1.02e-03, FLOPS: 7.97e+06, Memory: 1.66e+05\n",
      "Device: cpu, Input length: 100, Time: 3.05e-03, FLOPS: 8.89e+07, Memory: 1.84e+06\n",
      "Device: cuda, Input length: 100, Time: 1.01e-03, FLOPS: 8.89e+07, Memory: 1.84e+06\n",
      "Device: cpu, Input length: 1000, Time: 3.11e-02, FLOPS: 1.81e+09, Memory: 3.64e+07\n",
      "Device: cuda, Input length: 1000, Time: 1.03e-03, FLOPS: 1.81e+09, Memory: 3.69e+07\n"
     ]
    },
    {
     "name": "stderr",
     "output_type": "stream",
     "text": [
      "Unsupported operator aten::div encountered 1 time(s)\n",
      "Unsupported operator aten::softmax encountered 1 time(s)\n",
      "Unsupported operator aten::div encountered 1 time(s)\n",
      "Unsupported operator aten::softmax encountered 1 time(s)\n",
      "Unsupported operator aten::div encountered 1 time(s)\n",
      "Unsupported operator aten::softmax encountered 1 time(s)\n",
      "Unsupported operator aten::div encountered 1 time(s)\n",
      "Unsupported operator aten::softmax encountered 1 time(s)\n",
      "Unsupported operator aten::div encountered 1 time(s)\n",
      "Unsupported operator aten::softmax encountered 1 time(s)\n",
      "Unsupported operator aten::div encountered 1 time(s)\n",
      "Unsupported operator aten::softmax encountered 1 time(s)\n",
      "Unsupported operator aten::div encountered 1 time(s)\n",
      "Unsupported operator aten::softmax encountered 1 time(s)\n",
      "Unsupported operator aten::div encountered 1 time(s)\n",
      "Unsupported operator aten::softmax encountered 1 time(s)\n"
     ]
    },
    {
     "name": "stdout",
     "output_type": "stream",
     "text": [
      "Device: cpu, Input length: 10000, Time: 2.53e-01, FLOPS: 1.10e+11, Memory: 2.16e+09\n",
      "Device: cuda, Input length: 10000, Time: 1.02e-03, FLOPS: 1.10e+11, Memory: 2.17e+09\n",
      "Device: cpu, Input length: 10, Time: 1.02e-03, FLOPS: 7.97e+06, Memory: 1.66e+05\n",
      "Device: cuda, Input length: 10, Time: 1.02e-03, FLOPS: 7.97e+06, Memory: 1.66e+05\n",
      "Device: cpu, Input length: 100, Time: 2.54e-03, FLOPS: 8.89e+07, Memory: 1.84e+06\n",
      "Device: cuda, Input length: 100, Time: 1.02e-03, FLOPS: 8.89e+07, Memory: 1.84e+06\n",
      "Device: cpu, Input length: 1000, Time: 5.60e-03, FLOPS: 1.81e+09, Memory: 3.64e+07\n",
      "Device: cuda, Input length: 1000, Time: 1.51e-03, FLOPS: 1.81e+09, Memory: 3.69e+07\n"
     ]
    },
    {
     "name": "stderr",
     "output_type": "stream",
     "text": [
      "Unsupported operator aten::div encountered 1 time(s)\n",
      "Unsupported operator aten::softmax encountered 1 time(s)\n",
      "Unsupported operator aten::div encountered 1 time(s)\n",
      "Unsupported operator aten::softmax encountered 1 time(s)\n",
      "Unsupported operator aten::div encountered 1 time(s)\n",
      "Unsupported operator aten::softmax encountered 1 time(s)\n",
      "Unsupported operator aten::div encountered 1 time(s)\n",
      "Unsupported operator aten::softmax encountered 1 time(s)\n",
      "Unsupported operator aten::div encountered 1 time(s)\n",
      "Unsupported operator aten::softmax encountered 1 time(s)\n",
      "Unsupported operator aten::div encountered 1 time(s)\n",
      "Unsupported operator aten::softmax encountered 1 time(s)\n",
      "Unsupported operator aten::div encountered 1 time(s)\n",
      "Unsupported operator aten::softmax encountered 1 time(s)\n",
      "Unsupported operator aten::div encountered 1 time(s)\n",
      "Unsupported operator aten::softmax encountered 1 time(s)\n"
     ]
    },
    {
     "name": "stdout",
     "output_type": "stream",
     "text": [
      "Device: cpu, Input length: 10000, Time: 2.63e-01, FLOPS: 1.10e+11, Memory: 2.16e+09\n",
      "Device: cuda, Input length: 10000, Time: 1.02e-03, FLOPS: 1.10e+11, Memory: 2.17e+09\n",
      "Device: cpu, Input length: 10, Time: 1.52e-03, FLOPS: 7.97e+06, Memory: 1.66e+05\n",
      "Device: cuda, Input length: 10, Time: 1.02e-03, FLOPS: 7.97e+06, Memory: 1.66e+05\n",
      "Device: cpu, Input length: 100, Time: 2.54e-03, FLOPS: 8.89e+07, Memory: 1.84e+06\n",
      "Device: cuda, Input length: 100, Time: 1.01e-03, FLOPS: 8.89e+07, Memory: 1.84e+06\n",
      "Device: cpu, Input length: 1000, Time: 8.15e-03, FLOPS: 1.81e+09, Memory: 3.64e+07\n",
      "Device: cuda, Input length: 1000, Time: 1.04e-03, FLOPS: 1.81e+09, Memory: 3.69e+07\n"
     ]
    },
    {
     "name": "stderr",
     "output_type": "stream",
     "text": [
      "Unsupported operator aten::div encountered 1 time(s)\n",
      "Unsupported operator aten::softmax encountered 1 time(s)\n",
      "Unsupported operator aten::div encountered 1 time(s)\n",
      "Unsupported operator aten::softmax encountered 1 time(s)\n",
      "Unsupported operator aten::div encountered 1 time(s)\n",
      "Unsupported operator aten::softmax encountered 1 time(s)\n",
      "Unsupported operator aten::div encountered 1 time(s)\n",
      "Unsupported operator aten::softmax encountered 1 time(s)\n",
      "Unsupported operator aten::div encountered 1 time(s)\n",
      "Unsupported operator aten::softmax encountered 1 time(s)\n",
      "Unsupported operator aten::div encountered 1 time(s)\n",
      "Unsupported operator aten::softmax encountered 1 time(s)\n",
      "Unsupported operator aten::div encountered 1 time(s)\n",
      "Unsupported operator aten::softmax encountered 1 time(s)\n",
      "Unsupported operator aten::div encountered 1 time(s)\n",
      "Unsupported operator aten::softmax encountered 1 time(s)\n"
     ]
    },
    {
     "name": "stdout",
     "output_type": "stream",
     "text": [
      "Device: cpu, Input length: 10000, Time: 2.44e-01, FLOPS: 1.10e+11, Memory: 2.16e+09\n",
      "Device: cuda, Input length: 10000, Time: 1.02e-03, FLOPS: 1.10e+11, Memory: 2.17e+09\n",
      "Device: cpu, Input length: 10, Time: 1.03e-03, FLOPS: 7.97e+06, Memory: 1.66e+05\n",
      "Device: cuda, Input length: 10, Time: 2.03e-03, FLOPS: 7.97e+06, Memory: 1.66e+05\n",
      "Device: cpu, Input length: 100, Time: 2.54e-03, FLOPS: 8.89e+07, Memory: 1.84e+06\n",
      "Device: cuda, Input length: 100, Time: 1.02e-03, FLOPS: 8.89e+07, Memory: 1.84e+06\n",
      "Device: cpu, Input length: 1000, Time: 6.64e-03, FLOPS: 1.81e+09, Memory: 3.64e+07\n",
      "Device: cuda, Input length: 1000, Time: 1.02e-03, FLOPS: 1.81e+09, Memory: 3.69e+07\n"
     ]
    },
    {
     "name": "stderr",
     "output_type": "stream",
     "text": [
      "Unsupported operator aten::div encountered 1 time(s)\n",
      "Unsupported operator aten::softmax encountered 1 time(s)\n",
      "Unsupported operator aten::div encountered 1 time(s)\n",
      "Unsupported operator aten::softmax encountered 1 time(s)\n",
      "Unsupported operator aten::div encountered 1 time(s)\n",
      "Unsupported operator aten::softmax encountered 1 time(s)\n",
      "Unsupported operator aten::div encountered 1 time(s)\n",
      "Unsupported operator aten::softmax encountered 1 time(s)\n",
      "Unsupported operator aten::div encountered 1 time(s)\n",
      "Unsupported operator aten::softmax encountered 1 time(s)\n",
      "Unsupported operator aten::div encountered 1 time(s)\n",
      "Unsupported operator aten::softmax encountered 1 time(s)\n",
      "Unsupported operator aten::div encountered 1 time(s)\n",
      "Unsupported operator aten::softmax encountered 1 time(s)\n",
      "Unsupported operator aten::div encountered 1 time(s)\n",
      "Unsupported operator aten::softmax encountered 1 time(s)\n"
     ]
    },
    {
     "name": "stdout",
     "output_type": "stream",
     "text": [
      "Device: cpu, Input length: 10000, Time: 2.43e-01, FLOPS: 1.10e+11, Memory: 2.16e+09\n",
      "Device: cuda, Input length: 10000, Time: 1.02e-03, FLOPS: 1.10e+11, Memory: 2.17e+09\n",
      "Device: cpu, Input length: 10, Time: 1.53e-03, FLOPS: 7.97e+06, Memory: 1.66e+05\n",
      "Device: cuda, Input length: 10, Time: 1.02e-03, FLOPS: 7.97e+06, Memory: 1.66e+05\n",
      "Device: cpu, Input length: 100, Time: 2.54e-03, FLOPS: 8.89e+07, Memory: 1.84e+06\n",
      "Device: cuda, Input length: 100, Time: 1.02e-03, FLOPS: 8.89e+07, Memory: 1.84e+06\n",
      "Device: cpu, Input length: 1000, Time: 7.12e-03, FLOPS: 1.81e+09, Memory: 3.64e+07\n",
      "Device: cuda, Input length: 1000, Time: 1.02e-03, FLOPS: 1.81e+09, Memory: 3.69e+07\n"
     ]
    },
    {
     "name": "stderr",
     "output_type": "stream",
     "text": [
      "Unsupported operator aten::div encountered 1 time(s)\n",
      "Unsupported operator aten::softmax encountered 1 time(s)\n",
      "Unsupported operator aten::div encountered 1 time(s)\n",
      "Unsupported operator aten::softmax encountered 1 time(s)\n",
      "Unsupported operator aten::div encountered 1 time(s)\n",
      "Unsupported operator aten::softmax encountered 1 time(s)\n",
      "Unsupported operator aten::div encountered 1 time(s)\n",
      "Unsupported operator aten::softmax encountered 1 time(s)\n",
      "Unsupported operator aten::div encountered 1 time(s)\n",
      "Unsupported operator aten::softmax encountered 1 time(s)\n",
      "Unsupported operator aten::div encountered 1 time(s)\n",
      "Unsupported operator aten::softmax encountered 1 time(s)\n",
      "Unsupported operator aten::div encountered 1 time(s)\n",
      "Unsupported operator aten::softmax encountered 1 time(s)\n",
      "Unsupported operator aten::div encountered 1 time(s)\n",
      "Unsupported operator aten::softmax encountered 1 time(s)\n"
     ]
    },
    {
     "name": "stdout",
     "output_type": "stream",
     "text": [
      "Device: cpu, Input length: 10000, Time: 2.36e-01, FLOPS: 1.10e+11, Memory: 2.16e+09\n",
      "Device: cuda, Input length: 10000, Time: 1.02e-03, FLOPS: 1.10e+11, Memory: 2.17e+09\n",
      "Device: cpu, Input length: 10, Time: 1.52e-03, FLOPS: 7.97e+06, Memory: 1.66e+05\n",
      "Device: cuda, Input length: 10, Time: 1.02e-03, FLOPS: 7.97e+06, Memory: 1.66e+05\n",
      "Device: cpu, Input length: 100, Time: 2.54e-03, FLOPS: 8.89e+07, Memory: 1.84e+06\n",
      "Device: cuda, Input length: 100, Time: 1.02e-03, FLOPS: 8.89e+07, Memory: 1.84e+06\n",
      "Device: cpu, Input length: 1000, Time: 6.10e-03, FLOPS: 1.81e+09, Memory: 3.64e+07\n",
      "Device: cuda, Input length: 1000, Time: 1.02e-03, FLOPS: 1.81e+09, Memory: 3.69e+07\n"
     ]
    },
    {
     "name": "stderr",
     "output_type": "stream",
     "text": [
      "Unsupported operator aten::div encountered 1 time(s)\n",
      "Unsupported operator aten::softmax encountered 1 time(s)\n",
      "Unsupported operator aten::div encountered 1 time(s)\n",
      "Unsupported operator aten::softmax encountered 1 time(s)\n",
      "Unsupported operator aten::div encountered 1 time(s)\n",
      "Unsupported operator aten::softmax encountered 1 time(s)\n",
      "Unsupported operator aten::div encountered 1 time(s)\n",
      "Unsupported operator aten::softmax encountered 1 time(s)\n",
      "Unsupported operator aten::div encountered 1 time(s)\n",
      "Unsupported operator aten::softmax encountered 1 time(s)\n",
      "Unsupported operator aten::div encountered 1 time(s)\n",
      "Unsupported operator aten::softmax encountered 1 time(s)\n",
      "Unsupported operator aten::div encountered 1 time(s)\n",
      "Unsupported operator aten::softmax encountered 1 time(s)\n",
      "Unsupported operator aten::div encountered 1 time(s)\n",
      "Unsupported operator aten::softmax encountered 1 time(s)\n"
     ]
    },
    {
     "name": "stdout",
     "output_type": "stream",
     "text": [
      "Device: cpu, Input length: 10000, Time: 2.40e-01, FLOPS: 1.10e+11, Memory: 2.16e+09\n",
      "Device: cuda, Input length: 10000, Time: 1.01e-03, FLOPS: 1.10e+11, Memory: 2.17e+09\n",
      "Device: cpu, Input length: 10, Time: 1.02e-03, FLOPS: 7.97e+06, Memory: 1.66e+05\n",
      "Device: cuda, Input length: 10, Time: 5.10e-04, FLOPS: 7.97e+06, Memory: 1.66e+05\n",
      "Device: cpu, Input length: 100, Time: 2.55e-03, FLOPS: 8.89e+07, Memory: 1.84e+06\n",
      "Device: cuda, Input length: 100, Time: 5.13e-04, FLOPS: 8.89e+07, Memory: 1.84e+06\n",
      "Device: cpu, Input length: 1000, Time: 6.84e-03, FLOPS: 1.81e+09, Memory: 3.64e+07\n",
      "Device: cuda, Input length: 1000, Time: 1.02e-03, FLOPS: 1.81e+09, Memory: 3.69e+07\n"
     ]
    },
    {
     "name": "stderr",
     "output_type": "stream",
     "text": [
      "Unsupported operator aten::div encountered 1 time(s)\n",
      "Unsupported operator aten::softmax encountered 1 time(s)\n",
      "Unsupported operator aten::div encountered 1 time(s)\n",
      "Unsupported operator aten::softmax encountered 1 time(s)\n",
      "Unsupported operator aten::div encountered 1 time(s)\n",
      "Unsupported operator aten::softmax encountered 1 time(s)\n",
      "Unsupported operator aten::div encountered 1 time(s)\n"
     ]
    },
    {
     "name": "stdout",
     "output_type": "stream",
     "text": [
      "Device: cpu, Input length: 10000, Time: 2.34e-01, FLOPS: 1.10e+11, Memory: 2.16e+09\n",
      "Device: cuda, Input length: 10000, Time: 1.02e-03, FLOPS: 1.10e+11, Memory: 2.17e+09\n",
      "Device: cpu, Input length: 10, Time: 1.52e-03, FLOPS: 7.97e+06, Memory: 1.66e+05\n"
     ]
    },
    {
     "name": "stderr",
     "output_type": "stream",
     "text": [
      "Unsupported operator aten::softmax encountered 1 time(s)\n",
      "Unsupported operator aten::div encountered 1 time(s)\n",
      "Unsupported operator aten::softmax encountered 1 time(s)\n",
      "Unsupported operator aten::div encountered 1 time(s)\n",
      "Unsupported operator aten::softmax encountered 1 time(s)\n",
      "Unsupported operator aten::div encountered 1 time(s)\n",
      "Unsupported operator aten::softmax encountered 1 time(s)\n",
      "Unsupported operator aten::div encountered 1 time(s)\n",
      "Unsupported operator aten::softmax encountered 1 time(s)\n"
     ]
    },
    {
     "name": "stdout",
     "output_type": "stream",
     "text": [
      "Device: cuda, Input length: 10, Time: 1.01e-03, FLOPS: 7.97e+06, Memory: 1.66e+05\n",
      "Device: cpu, Input length: 100, Time: 3.06e-03, FLOPS: 8.89e+07, Memory: 1.84e+06\n",
      "Device: cuda, Input length: 100, Time: 1.02e-03, FLOPS: 8.89e+07, Memory: 1.84e+06\n",
      "Device: cpu, Input length: 1000, Time: 2.60e-02, FLOPS: 1.81e+09, Memory: 3.64e+07\n",
      "Device: cuda, Input length: 1000, Time: 1.02e-03, FLOPS: 1.81e+09, Memory: 3.69e+07\n"
     ]
    },
    {
     "name": "stderr",
     "output_type": "stream",
     "text": [
      "Unsupported operator aten::div encountered 1 time(s)\n",
      "Unsupported operator aten::softmax encountered 1 time(s)\n",
      "Unsupported operator aten::div encountered 1 time(s)\n",
      "Unsupported operator aten::softmax encountered 1 time(s)\n",
      "Unsupported operator aten::div encountered 1 time(s)\n",
      "Unsupported operator aten::softmax encountered 1 time(s)\n",
      "Unsupported operator aten::div encountered 1 time(s)\n"
     ]
    },
    {
     "name": "stdout",
     "output_type": "stream",
     "text": [
      "Device: cpu, Input length: 10000, Time: 2.55e-01, FLOPS: 1.10e+11, Memory: 2.16e+09\n",
      "Device: cuda, Input length: 10000, Time: 1.02e-03, FLOPS: 1.10e+11, Memory: 2.17e+09\n",
      "Device: cpu, Input length: 10, Time: 1.53e-03, FLOPS: 7.97e+06, Memory: 1.66e+05\n"
     ]
    },
    {
     "name": "stderr",
     "output_type": "stream",
     "text": [
      "Unsupported operator aten::softmax encountered 1 time(s)\n",
      "Unsupported operator aten::div encountered 1 time(s)\n",
      "Unsupported operator aten::softmax encountered 1 time(s)\n",
      "Unsupported operator aten::div encountered 1 time(s)\n",
      "Unsupported operator aten::softmax encountered 1 time(s)\n",
      "Unsupported operator aten::div encountered 1 time(s)\n",
      "Unsupported operator aten::softmax encountered 1 time(s)\n",
      "Unsupported operator aten::div encountered 1 time(s)\n",
      "Unsupported operator aten::softmax encountered 1 time(s)\n"
     ]
    },
    {
     "name": "stdout",
     "output_type": "stream",
     "text": [
      "Device: cuda, Input length: 10, Time: 1.01e-03, FLOPS: 7.97e+06, Memory: 1.66e+05\n",
      "Device: cpu, Input length: 100, Time: 2.54e-03, FLOPS: 8.89e+07, Memory: 1.84e+06\n",
      "Device: cuda, Input length: 100, Time: 1.53e-03, FLOPS: 8.89e+07, Memory: 1.84e+06\n",
      "Device: cpu, Input length: 1000, Time: 2.81e-02, FLOPS: 1.81e+09, Memory: 3.64e+07\n",
      "Device: cuda, Input length: 1000, Time: 1.02e-03, FLOPS: 1.81e+09, Memory: 3.69e+07\n"
     ]
    },
    {
     "name": "stderr",
     "output_type": "stream",
     "text": [
      "Unsupported operator aten::div encountered 1 time(s)\n",
      "Unsupported operator aten::softmax encountered 1 time(s)\n",
      "Unsupported operator aten::div encountered 1 time(s)\n",
      "Unsupported operator aten::softmax encountered 1 time(s)\n",
      "Unsupported operator aten::div encountered 1 time(s)\n"
     ]
    },
    {
     "name": "stdout",
     "output_type": "stream",
     "text": [
      "Device: cpu, Input length: 10000, Time: 2.58e-01, FLOPS: 1.10e+11, Memory: 2.16e+09\n",
      "Device: cuda, Input length: 10000, Time: 1.02e-03, FLOPS: 1.10e+11, Memory: 2.17e+09\n"
     ]
    },
    {
     "name": "stderr",
     "output_type": "stream",
     "text": [
      "Unsupported operator aten::softmax encountered 1 time(s)\n",
      "Unsupported operator aten::div encountered 1 time(s)\n",
      "Unsupported operator aten::softmax encountered 1 time(s)\n",
      "Unsupported operator aten::div encountered 1 time(s)\n",
      "Unsupported operator aten::softmax encountered 1 time(s)\n",
      "Unsupported operator aten::div encountered 1 time(s)\n",
      "Unsupported operator aten::softmax encountered 1 time(s)\n",
      "Unsupported operator aten::div encountered 1 time(s)\n",
      "Unsupported operator aten::softmax encountered 1 time(s)\n",
      "Unsupported operator aten::div encountered 1 time(s)\n",
      "Unsupported operator aten::softmax encountered 1 time(s)\n"
     ]
    },
    {
     "name": "stdout",
     "output_type": "stream",
     "text": [
      "Device: cpu, Input length: 10, Time: 1.52e-03, FLOPS: 7.97e+06, Memory: 1.66e+05\n",
      "Device: cuda, Input length: 10, Time: 1.01e-03, FLOPS: 7.97e+06, Memory: 1.66e+05\n",
      "Device: cpu, Input length: 100, Time: 2.53e-03, FLOPS: 8.89e+07, Memory: 1.84e+06\n",
      "Device: cuda, Input length: 100, Time: 1.02e-03, FLOPS: 8.89e+07, Memory: 1.84e+06\n",
      "Device: cpu, Input length: 1000, Time: 2.63e-02, FLOPS: 1.81e+09, Memory: 3.64e+07\n",
      "Device: cuda, Input length: 1000, Time: 1.01e-03, FLOPS: 1.81e+09, Memory: 3.69e+07\n"
     ]
    },
    {
     "name": "stderr",
     "output_type": "stream",
     "text": [
      "Unsupported operator aten::div encountered 1 time(s)\n",
      "Unsupported operator aten::softmax encountered 1 time(s)\n",
      "Unsupported operator aten::div encountered 1 time(s)\n",
      "Unsupported operator aten::softmax encountered 1 time(s)\n",
      "Unsupported operator aten::div encountered 1 time(s)\n",
      "Unsupported operator aten::softmax encountered 1 time(s)\n",
      "Unsupported operator aten::div encountered 1 time(s)\n",
      "Unsupported operator aten::softmax encountered 1 time(s)\n",
      "Unsupported operator aten::div encountered 1 time(s)\n",
      "Unsupported operator aten::softmax encountered 1 time(s)\n",
      "Unsupported operator aten::div encountered 1 time(s)\n",
      "Unsupported operator aten::softmax encountered 1 time(s)\n",
      "Unsupported operator aten::div encountered 1 time(s)\n",
      "Unsupported operator aten::softmax encountered 1 time(s)\n",
      "Unsupported operator aten::div encountered 1 time(s)\n",
      "Unsupported operator aten::softmax encountered 1 time(s)\n"
     ]
    },
    {
     "name": "stdout",
     "output_type": "stream",
     "text": [
      "Device: cpu, Input length: 10000, Time: 2.61e-01, FLOPS: 1.10e+11, Memory: 2.16e+09\n",
      "Device: cuda, Input length: 10000, Time: 1.02e-03, FLOPS: 1.10e+11, Memory: 2.17e+09\n",
      "Device: cpu, Input length: 10, Time: 1.53e-03, FLOPS: 7.97e+06, Memory: 1.66e+05\n",
      "Device: cuda, Input length: 10, Time: 1.02e-03, FLOPS: 7.97e+06, Memory: 1.66e+05\n",
      "Device: cpu, Input length: 100, Time: 2.54e-03, FLOPS: 8.89e+07, Memory: 1.84e+06\n",
      "Device: cuda, Input length: 100, Time: 1.02e-03, FLOPS: 8.89e+07, Memory: 1.84e+06\n",
      "Device: cpu, Input length: 1000, Time: 8.20e-03, FLOPS: 1.81e+09, Memory: 3.64e+07\n",
      "Device: cuda, Input length: 1000, Time: 2.03e-03, FLOPS: 1.81e+09, Memory: 3.69e+07\n"
     ]
    },
    {
     "name": "stderr",
     "output_type": "stream",
     "text": [
      "Unsupported operator aten::div encountered 1 time(s)\n",
      "Unsupported operator aten::softmax encountered 1 time(s)\n",
      "Unsupported operator aten::div encountered 1 time(s)\n",
      "Unsupported operator aten::softmax encountered 1 time(s)\n",
      "Unsupported operator aten::div encountered 1 time(s)\n",
      "Unsupported operator aten::softmax encountered 1 time(s)\n",
      "Unsupported operator aten::div encountered 1 time(s)\n",
      "Unsupported operator aten::softmax encountered 1 time(s)\n",
      "Unsupported operator aten::div encountered 1 time(s)\n",
      "Unsupported operator aten::softmax encountered 1 time(s)\n",
      "Unsupported operator aten::div encountered 1 time(s)\n",
      "Unsupported operator aten::softmax encountered 1 time(s)\n",
      "Unsupported operator aten::div encountered 1 time(s)\n",
      "Unsupported operator aten::softmax encountered 1 time(s)\n",
      "Unsupported operator aten::div encountered 1 time(s)\n",
      "Unsupported operator aten::softmax encountered 1 time(s)\n"
     ]
    },
    {
     "name": "stdout",
     "output_type": "stream",
     "text": [
      "Device: cpu, Input length: 10000, Time: 2.38e-01, FLOPS: 1.10e+11, Memory: 2.16e+09\n",
      "Device: cuda, Input length: 10000, Time: 1.03e-03, FLOPS: 1.10e+11, Memory: 2.17e+09\n",
      "Device: cpu, Input length: 10, Time: 1.52e-03, FLOPS: 7.97e+06, Memory: 1.66e+05\n",
      "Device: cuda, Input length: 10, Time: 1.03e-03, FLOPS: 7.97e+06, Memory: 1.66e+05\n",
      "Device: cpu, Input length: 100, Time: 2.56e-03, FLOPS: 8.89e+07, Memory: 1.84e+06\n",
      "Device: cuda, Input length: 100, Time: 1.01e-03, FLOPS: 8.89e+07, Memory: 1.84e+06\n",
      "Device: cpu, Input length: 1000, Time: 7.65e-03, FLOPS: 1.81e+09, Memory: 3.64e+07\n",
      "Device: cuda, Input length: 1000, Time: 1.53e-03, FLOPS: 1.81e+09, Memory: 3.69e+07\n"
     ]
    },
    {
     "name": "stderr",
     "output_type": "stream",
     "text": [
      "Unsupported operator aten::div encountered 1 time(s)\n",
      "Unsupported operator aten::softmax encountered 1 time(s)\n",
      "Unsupported operator aten::div encountered 1 time(s)\n",
      "Unsupported operator aten::softmax encountered 1 time(s)\n",
      "Unsupported operator aten::div encountered 1 time(s)\n",
      "Unsupported operator aten::softmax encountered 1 time(s)\n",
      "Unsupported operator aten::div encountered 1 time(s)\n",
      "Unsupported operator aten::softmax encountered 1 time(s)\n",
      "Unsupported operator aten::div encountered 1 time(s)\n",
      "Unsupported operator aten::softmax encountered 1 time(s)\n",
      "Unsupported operator aten::div encountered 1 time(s)\n",
      "Unsupported operator aten::softmax encountered 1 time(s)\n",
      "Unsupported operator aten::div encountered 1 time(s)\n",
      "Unsupported operator aten::softmax encountered 1 time(s)\n",
      "Unsupported operator aten::div encountered 1 time(s)\n",
      "Unsupported operator aten::softmax encountered 1 time(s)\n"
     ]
    },
    {
     "name": "stdout",
     "output_type": "stream",
     "text": [
      "Device: cpu, Input length: 10000, Time: 2.41e-01, FLOPS: 1.10e+11, Memory: 2.16e+09\n",
      "Device: cuda, Input length: 10000, Time: 1.02e-03, FLOPS: 1.10e+11, Memory: 2.17e+09\n",
      "Device: cpu, Input length: 10, Time: 1.53e-03, FLOPS: 7.97e+06, Memory: 1.66e+05\n",
      "Device: cuda, Input length: 10, Time: 1.01e-03, FLOPS: 7.97e+06, Memory: 1.66e+05\n",
      "Device: cpu, Input length: 100, Time: 3.55e-03, FLOPS: 8.89e+07, Memory: 1.84e+06\n",
      "Device: cuda, Input length: 100, Time: 5.10e-04, FLOPS: 8.89e+07, Memory: 1.84e+06\n",
      "Device: cpu, Input length: 1000, Time: 8.69e-03, FLOPS: 1.81e+09, Memory: 3.64e+07\n",
      "Device: cuda, Input length: 1000, Time: 1.02e-03, FLOPS: 1.81e+09, Memory: 3.69e+07\n"
     ]
    },
    {
     "name": "stderr",
     "output_type": "stream",
     "text": [
      "Unsupported operator aten::div encountered 1 time(s)\n",
      "Unsupported operator aten::softmax encountered 1 time(s)\n",
      "Unsupported operator aten::div encountered 1 time(s)\n",
      "Unsupported operator aten::softmax encountered 1 time(s)\n",
      "Unsupported operator aten::div encountered 1 time(s)\n",
      "Unsupported operator aten::softmax encountered 1 time(s)\n",
      "Unsupported operator aten::div encountered 1 time(s)\n",
      "Unsupported operator aten::softmax encountered 1 time(s)\n",
      "Unsupported operator aten::div encountered 1 time(s)\n",
      "Unsupported operator aten::softmax encountered 1 time(s)\n",
      "Unsupported operator aten::div encountered 1 time(s)\n",
      "Unsupported operator aten::softmax encountered 1 time(s)\n",
      "Unsupported operator aten::div encountered 1 time(s)\n",
      "Unsupported operator aten::softmax encountered 1 time(s)\n",
      "Unsupported operator aten::div encountered 1 time(s)\n",
      "Unsupported operator aten::softmax encountered 1 time(s)\n"
     ]
    },
    {
     "name": "stdout",
     "output_type": "stream",
     "text": [
      "Device: cpu, Input length: 10000, Time: 2.42e-01, FLOPS: 1.10e+11, Memory: 2.16e+09\n",
      "Device: cuda, Input length: 10000, Time: 5.00e-04, FLOPS: 1.10e+11, Memory: 2.17e+09\n",
      "Device: cpu, Input length: 10, Time: 1.53e-03, FLOPS: 7.97e+06, Memory: 1.66e+05\n",
      "Device: cuda, Input length: 10, Time: 1.02e-03, FLOPS: 7.97e+06, Memory: 1.66e+05\n",
      "Device: cpu, Input length: 100, Time: 3.05e-03, FLOPS: 8.89e+07, Memory: 1.84e+06\n",
      "Device: cuda, Input length: 100, Time: 1.01e-03, FLOPS: 8.89e+07, Memory: 1.84e+06\n",
      "Device: cpu, Input length: 1000, Time: 7.16e-03, FLOPS: 1.81e+09, Memory: 3.64e+07\n",
      "Device: cuda, Input length: 1000, Time: 1.02e-03, FLOPS: 1.81e+09, Memory: 3.69e+07\n"
     ]
    },
    {
     "name": "stderr",
     "output_type": "stream",
     "text": [
      "Unsupported operator aten::div encountered 1 time(s)\n",
      "Unsupported operator aten::softmax encountered 1 time(s)\n",
      "Unsupported operator aten::div encountered 1 time(s)\n",
      "Unsupported operator aten::softmax encountered 1 time(s)\n",
      "Unsupported operator aten::div encountered 1 time(s)\n",
      "Unsupported operator aten::softmax encountered 1 time(s)\n",
      "Unsupported operator aten::div encountered 1 time(s)\n",
      "Unsupported operator aten::softmax encountered 1 time(s)\n",
      "Unsupported operator aten::div encountered 1 time(s)\n"
     ]
    },
    {
     "name": "stdout",
     "output_type": "stream",
     "text": [
      "Device: cpu, Input length: 10000, Time: 2.50e-01, FLOPS: 1.10e+11, Memory: 2.16e+09\n",
      "Device: cuda, Input length: 10000, Time: 1.03e-03, FLOPS: 1.10e+11, Memory: 2.17e+09\n",
      "Device: cpu, Input length: 10, Time: 1.03e-03, FLOPS: 7.97e+06, Memory: 1.66e+05\n",
      "Device: cuda, Input length: 10, Time: 2.03e-03, FLOPS: 7.97e+06, Memory: 1.66e+05\n"
     ]
    },
    {
     "name": "stderr",
     "output_type": "stream",
     "text": [
      "Unsupported operator aten::softmax encountered 1 time(s)\n",
      "Unsupported operator aten::div encountered 1 time(s)\n",
      "Unsupported operator aten::softmax encountered 1 time(s)\n",
      "Unsupported operator aten::div encountered 1 time(s)\n",
      "Unsupported operator aten::softmax encountered 1 time(s)\n",
      "Unsupported operator aten::div encountered 1 time(s)\n",
      "Unsupported operator aten::softmax encountered 1 time(s)\n"
     ]
    },
    {
     "name": "stdout",
     "output_type": "stream",
     "text": [
      "Device: cpu, Input length: 100, Time: 2.54e-03, FLOPS: 8.89e+07, Memory: 1.84e+06\n",
      "Device: cuda, Input length: 100, Time: 1.02e-03, FLOPS: 8.89e+07, Memory: 1.84e+06\n",
      "Device: cpu, Input length: 1000, Time: 2.96e-02, FLOPS: 1.81e+09, Memory: 3.64e+07\n",
      "Device: cuda, Input length: 1000, Time: 5.12e-04, FLOPS: 1.81e+09, Memory: 3.69e+07\n"
     ]
    },
    {
     "name": "stderr",
     "output_type": "stream",
     "text": [
      "Unsupported operator aten::div encountered 1 time(s)\n",
      "Unsupported operator aten::softmax encountered 1 time(s)\n",
      "Unsupported operator aten::div encountered 1 time(s)\n",
      "Unsupported operator aten::softmax encountered 1 time(s)\n",
      "Unsupported operator aten::div encountered 1 time(s)\n",
      "Unsupported operator aten::softmax encountered 1 time(s)\n",
      "Unsupported operator aten::div encountered 1 time(s)\n",
      "Unsupported operator aten::softmax encountered 1 time(s)\n",
      "Unsupported operator aten::div encountered 1 time(s)\n",
      "Unsupported operator aten::softmax encountered 1 time(s)\n",
      "Unsupported operator aten::div encountered 1 time(s)\n",
      "Unsupported operator aten::softmax encountered 1 time(s)\n",
      "Unsupported operator aten::div encountered 1 time(s)\n",
      "Unsupported operator aten::softmax encountered 1 time(s)\n",
      "Unsupported operator aten::div encountered 1 time(s)\n",
      "Unsupported operator aten::softmax encountered 1 time(s)\n"
     ]
    },
    {
     "name": "stdout",
     "output_type": "stream",
     "text": [
      "Device: cpu, Input length: 10000, Time: 2.51e-01, FLOPS: 1.10e+11, Memory: 2.16e+09\n",
      "Device: cuda, Input length: 10000, Time: 5.10e-04, FLOPS: 1.10e+11, Memory: 2.17e+09\n",
      "Device: cpu, Input length: 10, Time: 1.52e-03, FLOPS: 7.97e+06, Memory: 1.66e+05\n",
      "Device: cuda, Input length: 10, Time: 1.01e-03, FLOPS: 7.97e+06, Memory: 1.66e+05\n",
      "Device: cpu, Input length: 100, Time: 2.54e-03, FLOPS: 8.89e+07, Memory: 1.84e+06\n",
      "Device: cuda, Input length: 100, Time: 1.01e-03, FLOPS: 8.89e+07, Memory: 1.84e+06\n",
      "Device: cpu, Input length: 1000, Time: 6.62e-03, FLOPS: 1.81e+09, Memory: 3.64e+07\n",
      "Device: cuda, Input length: 1000, Time: 1.02e-03, FLOPS: 1.81e+09, Memory: 3.69e+07\n"
     ]
    },
    {
     "name": "stderr",
     "output_type": "stream",
     "text": [
      "Unsupported operator aten::div encountered 1 time(s)\n",
      "Unsupported operator aten::softmax encountered 1 time(s)\n",
      "Unsupported operator aten::div encountered 1 time(s)\n",
      "Unsupported operator aten::softmax encountered 1 time(s)\n",
      "Unsupported operator aten::div encountered 1 time(s)\n",
      "Unsupported operator aten::softmax encountered 1 time(s)\n",
      "Unsupported operator aten::div encountered 1 time(s)\n",
      "Unsupported operator aten::softmax encountered 1 time(s)\n",
      "Unsupported operator aten::div encountered 1 time(s)\n",
      "Unsupported operator aten::softmax encountered 1 time(s)\n",
      "Unsupported operator aten::div encountered 1 time(s)\n",
      "Unsupported operator aten::softmax encountered 1 time(s)\n",
      "Unsupported operator aten::div encountered 1 time(s)\n",
      "Unsupported operator aten::softmax encountered 1 time(s)\n",
      "Unsupported operator aten::div encountered 1 time(s)\n",
      "Unsupported operator aten::softmax encountered 1 time(s)\n"
     ]
    },
    {
     "name": "stdout",
     "output_type": "stream",
     "text": [
      "Device: cpu, Input length: 10000, Time: 2.49e-01, FLOPS: 1.10e+11, Memory: 2.16e+09\n",
      "Device: cuda, Input length: 10000, Time: 1.02e-03, FLOPS: 1.10e+11, Memory: 2.17e+09\n",
      "Device: cpu, Input length: 10, Time: 1.02e-03, FLOPS: 7.97e+06, Memory: 1.66e+05\n",
      "Device: cuda, Input length: 10, Time: 2.03e-03, FLOPS: 7.97e+06, Memory: 1.66e+05\n",
      "Device: cpu, Input length: 100, Time: 3.05e-03, FLOPS: 8.89e+07, Memory: 1.84e+06\n",
      "Device: cuda, Input length: 100, Time: 2.03e-03, FLOPS: 8.89e+07, Memory: 1.84e+06\n",
      "Device: cpu, Input length: 1000, Time: 7.13e-03, FLOPS: 1.81e+09, Memory: 3.64e+07\n",
      "Device: cuda, Input length: 1000, Time: 1.02e-03, FLOPS: 1.81e+09, Memory: 3.69e+07\n"
     ]
    },
    {
     "name": "stderr",
     "output_type": "stream",
     "text": [
      "Unsupported operator aten::div encountered 1 time(s)\n",
      "Unsupported operator aten::softmax encountered 1 time(s)\n",
      "Unsupported operator aten::div encountered 1 time(s)\n",
      "Unsupported operator aten::softmax encountered 1 time(s)\n",
      "Unsupported operator aten::div encountered 1 time(s)\n",
      "Unsupported operator aten::softmax encountered 1 time(s)\n",
      "Unsupported operator aten::div encountered 1 time(s)\n",
      "Unsupported operator aten::softmax encountered 1 time(s)\n",
      "Unsupported operator aten::div encountered 1 time(s)\n",
      "Unsupported operator aten::softmax encountered 1 time(s)\n",
      "Unsupported operator aten::div encountered 1 time(s)\n",
      "Unsupported operator aten::softmax encountered 1 time(s)\n",
      "Unsupported operator aten::div encountered 1 time(s)\n",
      "Unsupported operator aten::softmax encountered 1 time(s)\n",
      "Unsupported operator aten::div encountered 1 time(s)\n",
      "Unsupported operator aten::softmax encountered 1 time(s)\n"
     ]
    },
    {
     "name": "stdout",
     "output_type": "stream",
     "text": [
      "Device: cpu, Input length: 10000, Time: 2.40e-01, FLOPS: 1.10e+11, Memory: 2.16e+09\n",
      "Device: cuda, Input length: 10000, Time: 1.02e-03, FLOPS: 1.10e+11, Memory: 2.17e+09\n",
      "Device: cpu, Input length: 10, Time: 1.52e-03, FLOPS: 7.97e+06, Memory: 1.66e+05\n",
      "Device: cuda, Input length: 10, Time: 1.02e-03, FLOPS: 7.97e+06, Memory: 1.66e+05\n",
      "Device: cpu, Input length: 100, Time: 3.06e-03, FLOPS: 8.89e+07, Memory: 1.84e+06\n",
      "Device: cuda, Input length: 100, Time: 2.03e-03, FLOPS: 8.89e+07, Memory: 1.84e+06\n",
      "Device: cpu, Input length: 1000, Time: 6.12e-03, FLOPS: 1.81e+09, Memory: 3.64e+07\n",
      "Device: cuda, Input length: 1000, Time: 2.03e-03, FLOPS: 1.81e+09, Memory: 3.69e+07\n"
     ]
    },
    {
     "name": "stderr",
     "output_type": "stream",
     "text": [
      "Unsupported operator aten::div encountered 1 time(s)\n",
      "Unsupported operator aten::softmax encountered 1 time(s)\n",
      "Unsupported operator aten::div encountered 1 time(s)\n",
      "Unsupported operator aten::softmax encountered 1 time(s)\n",
      "Unsupported operator aten::div encountered 1 time(s)\n",
      "Unsupported operator aten::softmax encountered 1 time(s)\n",
      "Unsupported operator aten::div encountered 1 time(s)\n"
     ]
    },
    {
     "name": "stdout",
     "output_type": "stream",
     "text": [
      "Device: cpu, Input length: 10000, Time: 2.39e-01, FLOPS: 1.10e+11, Memory: 2.16e+09\n",
      "Device: cuda, Input length: 10000, Time: 5.06e-04, FLOPS: 1.10e+11, Memory: 2.17e+09\n",
      "Device: cpu, Input length: 10, Time: 1.53e-03, FLOPS: 7.97e+06, Memory: 1.66e+05\n"
     ]
    },
    {
     "name": "stderr",
     "output_type": "stream",
     "text": [
      "Unsupported operator aten::softmax encountered 1 time(s)\n",
      "Unsupported operator aten::div encountered 1 time(s)\n",
      "Unsupported operator aten::softmax encountered 1 time(s)\n",
      "Unsupported operator aten::div encountered 1 time(s)\n",
      "Unsupported operator aten::softmax encountered 1 time(s)\n",
      "Unsupported operator aten::div encountered 1 time(s)\n",
      "Unsupported operator aten::softmax encountered 1 time(s)\n",
      "Unsupported operator aten::div encountered 1 time(s)\n",
      "Unsupported operator aten::softmax encountered 1 time(s)\n"
     ]
    },
    {
     "name": "stdout",
     "output_type": "stream",
     "text": [
      "Device: cuda, Input length: 10, Time: 1.01e-03, FLOPS: 7.97e+06, Memory: 1.66e+05\n",
      "Device: cpu, Input length: 100, Time: 2.54e-03, FLOPS: 8.89e+07, Memory: 1.84e+06\n",
      "Device: cuda, Input length: 100, Time: 1.02e-03, FLOPS: 8.89e+07, Memory: 1.84e+06\n",
      "Device: cpu, Input length: 1000, Time: 2.95e-02, FLOPS: 1.81e+09, Memory: 3.64e+07\n",
      "Device: cuda, Input length: 1000, Time: 1.03e-03, FLOPS: 1.81e+09, Memory: 3.69e+07\n"
     ]
    },
    {
     "name": "stderr",
     "output_type": "stream",
     "text": [
      "Unsupported operator aten::div encountered 1 time(s)\n",
      "Unsupported operator aten::softmax encountered 1 time(s)\n",
      "Unsupported operator aten::div encountered 1 time(s)\n",
      "Unsupported operator aten::softmax encountered 1 time(s)\n",
      "Unsupported operator aten::div encountered 1 time(s)\n",
      "Unsupported operator aten::softmax encountered 1 time(s)\n",
      "Unsupported operator aten::div encountered 1 time(s)\n"
     ]
    },
    {
     "name": "stdout",
     "output_type": "stream",
     "text": [
      "Device: cpu, Input length: 10000, Time: 2.57e-01, FLOPS: 1.10e+11, Memory: 2.16e+09\n",
      "Device: cuda, Input length: 10000, Time: 1.02e-03, FLOPS: 1.10e+11, Memory: 2.17e+09\n",
      "Device: cpu, Input length: 10, Time: 1.01e-03, FLOPS: 7.97e+06, Memory: 1.66e+05\n"
     ]
    },
    {
     "name": "stderr",
     "output_type": "stream",
     "text": [
      "Unsupported operator aten::softmax encountered 1 time(s)\n",
      "Unsupported operator aten::div encountered 1 time(s)\n",
      "Unsupported operator aten::softmax encountered 1 time(s)\n",
      "Unsupported operator aten::div encountered 1 time(s)\n",
      "Unsupported operator aten::softmax encountered 1 time(s)\n",
      "Unsupported operator aten::div encountered 1 time(s)\n",
      "Unsupported operator aten::softmax encountered 1 time(s)\n",
      "Unsupported operator aten::div encountered 1 time(s)\n",
      "Unsupported operator aten::softmax encountered 1 time(s)\n"
     ]
    },
    {
     "name": "stdout",
     "output_type": "stream",
     "text": [
      "Device: cuda, Input length: 10, Time: 1.53e-03, FLOPS: 7.97e+06, Memory: 1.66e+05\n",
      "Device: cpu, Input length: 100, Time: 3.06e-03, FLOPS: 8.89e+07, Memory: 1.84e+06\n",
      "Device: cuda, Input length: 100, Time: 1.02e-03, FLOPS: 8.89e+07, Memory: 1.84e+06\n",
      "Device: cpu, Input length: 1000, Time: 2.65e-02, FLOPS: 1.81e+09, Memory: 3.64e+07\n",
      "Device: cuda, Input length: 1000, Time: 1.02e-03, FLOPS: 1.81e+09, Memory: 3.69e+07\n"
     ]
    },
    {
     "name": "stderr",
     "output_type": "stream",
     "text": [
      "Unsupported operator aten::div encountered 1 time(s)\n",
      "Unsupported operator aten::softmax encountered 1 time(s)\n",
      "Unsupported operator aten::div encountered 1 time(s)\n",
      "Unsupported operator aten::softmax encountered 1 time(s)\n",
      "Unsupported operator aten::div encountered 1 time(s)\n",
      "Unsupported operator aten::softmax encountered 1 time(s)\n",
      "Unsupported operator aten::div encountered 1 time(s)\n"
     ]
    },
    {
     "name": "stdout",
     "output_type": "stream",
     "text": [
      "Device: cpu, Input length: 10000, Time: 2.59e-01, FLOPS: 1.10e+11, Memory: 2.16e+09\n",
      "Device: cuda, Input length: 10000, Time: 5.06e-04, FLOPS: 1.10e+11, Memory: 2.17e+09\n",
      "Device: cpu, Input length: 10, Time: 2.03e-03, FLOPS: 7.97e+06, Memory: 1.66e+05\n"
     ]
    },
    {
     "name": "stderr",
     "output_type": "stream",
     "text": [
      "Unsupported operator aten::softmax encountered 1 time(s)\n",
      "Unsupported operator aten::div encountered 1 time(s)\n",
      "Unsupported operator aten::softmax encountered 1 time(s)\n",
      "Unsupported operator aten::div encountered 1 time(s)\n",
      "Unsupported operator aten::softmax encountered 1 time(s)\n",
      "Unsupported operator aten::div encountered 1 time(s)\n",
      "Unsupported operator aten::softmax encountered 1 time(s)\n",
      "Unsupported operator aten::div encountered 1 time(s)\n",
      "Unsupported operator aten::softmax encountered 1 time(s)\n"
     ]
    },
    {
     "name": "stdout",
     "output_type": "stream",
     "text": [
      "Device: cuda, Input length: 10, Time: 1.06e-03, FLOPS: 7.97e+06, Memory: 1.66e+05\n",
      "Device: cpu, Input length: 100, Time: 2.03e-03, FLOPS: 8.89e+07, Memory: 1.84e+06\n",
      "Device: cuda, Input length: 100, Time: 1.52e-03, FLOPS: 8.89e+07, Memory: 1.84e+06\n",
      "Device: cpu, Input length: 1000, Time: 2.75e-02, FLOPS: 1.81e+09, Memory: 3.64e+07\n",
      "Device: cuda, Input length: 1000, Time: 1.01e-03, FLOPS: 1.81e+09, Memory: 3.69e+07\n"
     ]
    },
    {
     "name": "stderr",
     "output_type": "stream",
     "text": [
      "Unsupported operator aten::div encountered 1 time(s)\n",
      "Unsupported operator aten::softmax encountered 1 time(s)\n",
      "Unsupported operator aten::div encountered 1 time(s)\n",
      "Unsupported operator aten::softmax encountered 1 time(s)\n",
      "Unsupported operator aten::div encountered 1 time(s)\n"
     ]
    },
    {
     "name": "stdout",
     "output_type": "stream",
     "text": [
      "Device: cpu, Input length: 10000, Time: 2.57e-01, FLOPS: 1.10e+11, Memory: 2.16e+09\n",
      "Device: cuda, Input length: 10000, Time: 1.02e-03, FLOPS: 1.10e+11, Memory: 2.17e+09\n"
     ]
    },
    {
     "name": "stderr",
     "output_type": "stream",
     "text": [
      "Unsupported operator aten::softmax encountered 1 time(s)\n",
      "Unsupported operator aten::div encountered 1 time(s)\n",
      "Unsupported operator aten::softmax encountered 1 time(s)\n",
      "Unsupported operator aten::div encountered 1 time(s)\n",
      "Unsupported operator aten::softmax encountered 1 time(s)\n",
      "Unsupported operator aten::div encountered 1 time(s)\n",
      "Unsupported operator aten::softmax encountered 1 time(s)\n",
      "Unsupported operator aten::div encountered 1 time(s)\n",
      "Unsupported operator aten::softmax encountered 1 time(s)\n",
      "Unsupported operator aten::div encountered 1 time(s)\n",
      "Unsupported operator aten::softmax encountered 1 time(s)\n"
     ]
    },
    {
     "name": "stdout",
     "output_type": "stream",
     "text": [
      "Device: cpu, Input length: 10, Time: 1.52e-03, FLOPS: 7.97e+06, Memory: 1.66e+05\n",
      "Device: cuda, Input length: 10, Time: 2.03e-03, FLOPS: 7.97e+06, Memory: 1.66e+05\n",
      "Device: cpu, Input length: 100, Time: 2.55e-03, FLOPS: 8.89e+07, Memory: 1.84e+06\n",
      "Device: cuda, Input length: 100, Time: 1.02e-03, FLOPS: 8.89e+07, Memory: 1.84e+06\n",
      "Device: cpu, Input length: 1000, Time: 2.56e-02, FLOPS: 1.81e+09, Memory: 3.64e+07\n",
      "Device: cuda, Input length: 1000, Time: 2.07e-03, FLOPS: 1.81e+09, Memory: 3.69e+07\n"
     ]
    },
    {
     "name": "stderr",
     "output_type": "stream",
     "text": [
      "Unsupported operator aten::div encountered 1 time(s)\n",
      "Unsupported operator aten::softmax encountered 1 time(s)\n",
      "Unsupported operator aten::div encountered 1 time(s)\n",
      "Unsupported operator aten::softmax encountered 1 time(s)\n",
      "Unsupported operator aten::div encountered 1 time(s)\n",
      "Unsupported operator aten::softmax encountered 1 time(s)\n",
      "Unsupported operator aten::div encountered 1 time(s)\n"
     ]
    },
    {
     "name": "stdout",
     "output_type": "stream",
     "text": [
      "Device: cpu, Input length: 10000, Time: 2.57e-01, FLOPS: 1.10e+11, Memory: 2.16e+09\n",
      "Device: cuda, Input length: 10000, Time: 5.10e-04, FLOPS: 1.10e+11, Memory: 2.17e+09\n",
      "Device: cpu, Input length: 10, Time: 1.53e-03, FLOPS: 7.97e+06, Memory: 1.66e+05\n"
     ]
    },
    {
     "name": "stderr",
     "output_type": "stream",
     "text": [
      "Unsupported operator aten::softmax encountered 1 time(s)\n",
      "Unsupported operator aten::div encountered 1 time(s)\n",
      "Unsupported operator aten::softmax encountered 1 time(s)\n",
      "Unsupported operator aten::div encountered 1 time(s)\n",
      "Unsupported operator aten::softmax encountered 1 time(s)\n",
      "Unsupported operator aten::div encountered 1 time(s)\n",
      "Unsupported operator aten::softmax encountered 1 time(s)\n",
      "Unsupported operator aten::div encountered 1 time(s)\n",
      "Unsupported operator aten::softmax encountered 1 time(s)\n"
     ]
    },
    {
     "name": "stdout",
     "output_type": "stream",
     "text": [
      "Device: cuda, Input length: 10, Time: 1.01e-03, FLOPS: 7.97e+06, Memory: 1.66e+05\n",
      "Device: cpu, Input length: 100, Time: 3.05e-03, FLOPS: 8.89e+07, Memory: 1.84e+06\n",
      "Device: cuda, Input length: 100, Time: 1.53e-03, FLOPS: 8.89e+07, Memory: 1.84e+06\n",
      "Device: cpu, Input length: 1000, Time: 2.96e-02, FLOPS: 1.81e+09, Memory: 3.64e+07\n",
      "Device: cuda, Input length: 1000, Time: 1.00e-03, FLOPS: 1.81e+09, Memory: 3.69e+07\n"
     ]
    },
    {
     "name": "stderr",
     "output_type": "stream",
     "text": [
      "Unsupported operator aten::div encountered 1 time(s)\n",
      "Unsupported operator aten::softmax encountered 1 time(s)\n",
      "Unsupported operator aten::div encountered 1 time(s)\n",
      "Unsupported operator aten::softmax encountered 1 time(s)\n",
      "Unsupported operator aten::div encountered 1 time(s)\n",
      "Unsupported operator aten::softmax encountered 1 time(s)\n",
      "Unsupported operator aten::div encountered 1 time(s)\n",
      "Unsupported operator aten::softmax encountered 1 time(s)\n",
      "Unsupported operator aten::div encountered 1 time(s)\n",
      "Unsupported operator aten::softmax encountered 1 time(s)\n",
      "Unsupported operator aten::div encountered 1 time(s)\n",
      "Unsupported operator aten::softmax encountered 1 time(s)\n",
      "Unsupported operator aten::div encountered 1 time(s)\n",
      "Unsupported operator aten::softmax encountered 1 time(s)\n",
      "Unsupported operator aten::div encountered 1 time(s)\n",
      "Unsupported operator aten::softmax encountered 1 time(s)\n"
     ]
    },
    {
     "name": "stdout",
     "output_type": "stream",
     "text": [
      "Device: cpu, Input length: 10000, Time: 2.58e-01, FLOPS: 1.10e+11, Memory: 2.16e+09\n",
      "Device: cuda, Input length: 10000, Time: 1.02e-03, FLOPS: 1.10e+11, Memory: 2.17e+09\n",
      "Device: cpu, Input length: 10, Time: 1.52e-03, FLOPS: 7.97e+06, Memory: 1.66e+05\n",
      "Device: cuda, Input length: 10, Time: 1.03e-03, FLOPS: 7.97e+06, Memory: 1.66e+05\n",
      "Device: cpu, Input length: 100, Time: 3.07e-03, FLOPS: 8.89e+07, Memory: 1.84e+06\n",
      "Device: cuda, Input length: 100, Time: 1.53e-03, FLOPS: 8.89e+07, Memory: 1.84e+06\n",
      "Device: cpu, Input length: 1000, Time: 6.63e-03, FLOPS: 1.81e+09, Memory: 3.64e+07\n",
      "Device: cuda, Input length: 1000, Time: 1.02e-03, FLOPS: 1.81e+09, Memory: 3.69e+07\n"
     ]
    },
    {
     "name": "stderr",
     "output_type": "stream",
     "text": [
      "Unsupported operator aten::div encountered 1 time(s)\n",
      "Unsupported operator aten::softmax encountered 1 time(s)\n",
      "Unsupported operator aten::div encountered 1 time(s)\n",
      "Unsupported operator aten::softmax encountered 1 time(s)\n",
      "Unsupported operator aten::div encountered 1 time(s)\n",
      "Unsupported operator aten::softmax encountered 1 time(s)\n",
      "Unsupported operator aten::div encountered 1 time(s)\n",
      "Unsupported operator aten::softmax encountered 1 time(s)\n",
      "Unsupported operator aten::div encountered 1 time(s)\n",
      "Unsupported operator aten::softmax encountered 1 time(s)\n",
      "Unsupported operator aten::div encountered 1 time(s)\n",
      "Unsupported operator aten::softmax encountered 1 time(s)\n",
      "Unsupported operator aten::div encountered 1 time(s)\n",
      "Unsupported operator aten::softmax encountered 1 time(s)\n",
      "Unsupported operator aten::div encountered 1 time(s)\n",
      "Unsupported operator aten::softmax encountered 1 time(s)\n"
     ]
    },
    {
     "name": "stdout",
     "output_type": "stream",
     "text": [
      "Device: cpu, Input length: 10000, Time: 2.44e-01, FLOPS: 1.10e+11, Memory: 2.16e+09\n",
      "Device: cuda, Input length: 10000, Time: 1.02e-03, FLOPS: 1.10e+11, Memory: 2.17e+09\n",
      "Device: cpu, Input length: 10, Time: 1.53e-03, FLOPS: 7.97e+06, Memory: 1.66e+05\n",
      "Device: cuda, Input length: 10, Time: 1.02e-03, FLOPS: 7.97e+06, Memory: 1.66e+05\n",
      "Device: cpu, Input length: 100, Time: 3.06e-03, FLOPS: 8.89e+07, Memory: 1.84e+06\n",
      "Device: cuda, Input length: 100, Time: 2.55e-03, FLOPS: 8.89e+07, Memory: 1.84e+06\n",
      "Device: cpu, Input length: 1000, Time: 7.66e-03, FLOPS: 1.81e+09, Memory: 3.64e+07\n",
      "Device: cuda, Input length: 1000, Time: 1.02e-03, FLOPS: 1.81e+09, Memory: 3.69e+07\n"
     ]
    },
    {
     "name": "stderr",
     "output_type": "stream",
     "text": [
      "Unsupported operator aten::div encountered 1 time(s)\n",
      "Unsupported operator aten::softmax encountered 1 time(s)\n",
      "Unsupported operator aten::div encountered 1 time(s)\n",
      "Unsupported operator aten::softmax encountered 1 time(s)\n",
      "Unsupported operator aten::div encountered 1 time(s)\n",
      "Unsupported operator aten::softmax encountered 1 time(s)\n",
      "Unsupported operator aten::div encountered 1 time(s)\n",
      "Unsupported operator aten::softmax encountered 1 time(s)\n",
      "Unsupported operator aten::div encountered 1 time(s)\n",
      "Unsupported operator aten::softmax encountered 1 time(s)\n",
      "Unsupported operator aten::div encountered 1 time(s)\n",
      "Unsupported operator aten::softmax encountered 1 time(s)\n",
      "Unsupported operator aten::div encountered 1 time(s)\n",
      "Unsupported operator aten::softmax encountered 1 time(s)\n",
      "Unsupported operator aten::div encountered 1 time(s)\n",
      "Unsupported operator aten::softmax encountered 1 time(s)\n"
     ]
    },
    {
     "name": "stdout",
     "output_type": "stream",
     "text": [
      "Device: cpu, Input length: 10000, Time: 2.37e-01, FLOPS: 1.10e+11, Memory: 2.16e+09\n",
      "Device: cuda, Input length: 10000, Time: 1.02e-03, FLOPS: 1.10e+11, Memory: 2.17e+09\n",
      "Device: cpu, Input length: 10, Time: 1.53e-03, FLOPS: 7.97e+06, Memory: 1.66e+05\n",
      "Device: cuda, Input length: 10, Time: 1.02e-03, FLOPS: 7.97e+06, Memory: 1.66e+05\n",
      "Device: cpu, Input length: 100, Time: 3.56e-03, FLOPS: 8.89e+07, Memory: 1.84e+06\n",
      "Device: cuda, Input length: 100, Time: 2.63e-03, FLOPS: 8.89e+07, Memory: 1.84e+06\n",
      "Device: cpu, Input length: 1000, Time: 6.62e-03, FLOPS: 1.81e+09, Memory: 3.64e+07\n",
      "Device: cuda, Input length: 1000, Time: 1.02e-03, FLOPS: 1.81e+09, Memory: 3.69e+07\n"
     ]
    },
    {
     "name": "stderr",
     "output_type": "stream",
     "text": [
      "Unsupported operator aten::div encountered 1 time(s)\n",
      "Unsupported operator aten::softmax encountered 1 time(s)\n",
      "Unsupported operator aten::div encountered 1 time(s)\n",
      "Unsupported operator aten::softmax encountered 1 time(s)\n",
      "Unsupported operator aten::div encountered 1 time(s)\n",
      "Unsupported operator aten::softmax encountered 1 time(s)\n",
      "Unsupported operator aten::div encountered 1 time(s)\n",
      "Unsupported operator aten::softmax encountered 1 time(s)\n",
      "Unsupported operator aten::div encountered 1 time(s)\n",
      "Unsupported operator aten::softmax encountered 1 time(s)\n",
      "Unsupported operator aten::div encountered 1 time(s)\n",
      "Unsupported operator aten::softmax encountered 1 time(s)\n",
      "Unsupported operator aten::div encountered 1 time(s)\n",
      "Unsupported operator aten::softmax encountered 1 time(s)\n",
      "Unsupported operator aten::div encountered 1 time(s)\n",
      "Unsupported operator aten::softmax encountered 1 time(s)\n"
     ]
    },
    {
     "name": "stdout",
     "output_type": "stream",
     "text": [
      "Device: cpu, Input length: 10000, Time: 2.40e-01, FLOPS: 1.10e+11, Memory: 2.16e+09\n",
      "Device: cuda, Input length: 10000, Time: 1.02e-03, FLOPS: 1.10e+11, Memory: 2.17e+09\n",
      "Device: cpu, Input length: 10, Time: 1.02e-03, FLOPS: 7.97e+06, Memory: 1.66e+05\n",
      "Device: cuda, Input length: 10, Time: 1.01e-03, FLOPS: 7.97e+06, Memory: 1.66e+05\n",
      "Device: cpu, Input length: 100, Time: 3.58e-03, FLOPS: 8.89e+07, Memory: 1.84e+06\n",
      "Device: cuda, Input length: 100, Time: 2.03e-03, FLOPS: 8.89e+07, Memory: 1.84e+06\n",
      "Device: cpu, Input length: 1000, Time: 7.67e-03, FLOPS: 1.81e+09, Memory: 3.64e+07\n",
      "Device: cuda, Input length: 1000, Time: 2.03e-03, FLOPS: 1.81e+09, Memory: 3.69e+07\n"
     ]
    },
    {
     "name": "stderr",
     "output_type": "stream",
     "text": [
      "Unsupported operator aten::div encountered 1 time(s)\n",
      "Unsupported operator aten::softmax encountered 1 time(s)\n",
      "Unsupported operator aten::div encountered 1 time(s)\n",
      "Unsupported operator aten::softmax encountered 1 time(s)\n",
      "Unsupported operator aten::div encountered 1 time(s)\n"
     ]
    },
    {
     "name": "stdout",
     "output_type": "stream",
     "text": [
      "Device: cpu, Input length: 10000, Time: 2.36e-01, FLOPS: 1.10e+11, Memory: 2.16e+09\n",
      "Device: cuda, Input length: 10000, Time: 1.02e-03, FLOPS: 1.10e+11, Memory: 2.17e+09\n"
     ]
    },
    {
     "name": "stderr",
     "output_type": "stream",
     "text": [
      "Unsupported operator aten::softmax encountered 1 time(s)\n",
      "Unsupported operator aten::div encountered 1 time(s)\n",
      "Unsupported operator aten::softmax encountered 1 time(s)\n",
      "Unsupported operator aten::div encountered 1 time(s)\n",
      "Unsupported operator aten::softmax encountered 1 time(s)\n",
      "Unsupported operator aten::div encountered 1 time(s)\n",
      "Unsupported operator aten::softmax encountered 1 time(s)\n",
      "Unsupported operator aten::div encountered 1 time(s)\n",
      "Unsupported operator aten::softmax encountered 1 time(s)\n",
      "Unsupported operator aten::div encountered 1 time(s)\n",
      "Unsupported operator aten::softmax encountered 1 time(s)\n"
     ]
    },
    {
     "name": "stdout",
     "output_type": "stream",
     "text": [
      "Device: cpu, Input length: 10, Time: 1.53e-03, FLOPS: 7.97e+06, Memory: 1.66e+05\n",
      "Device: cuda, Input length: 10, Time: 1.02e-03, FLOPS: 7.97e+06, Memory: 1.66e+05\n",
      "Device: cpu, Input length: 100, Time: 3.56e-03, FLOPS: 8.89e+07, Memory: 1.84e+06\n",
      "Device: cuda, Input length: 100, Time: 2.04e-03, FLOPS: 8.89e+07, Memory: 1.84e+06\n",
      "Device: cpu, Input length: 1000, Time: 3.07e-02, FLOPS: 1.81e+09, Memory: 3.64e+07\n",
      "Device: cuda, Input length: 1000, Time: 1.02e-03, FLOPS: 1.81e+09, Memory: 3.69e+07\n"
     ]
    },
    {
     "name": "stderr",
     "output_type": "stream",
     "text": [
      "Unsupported operator aten::div encountered 1 time(s)\n",
      "Unsupported operator aten::softmax encountered 1 time(s)\n",
      "Unsupported operator aten::div encountered 1 time(s)\n",
      "Unsupported operator aten::softmax encountered 1 time(s)\n",
      "Unsupported operator aten::div encountered 1 time(s)\n"
     ]
    },
    {
     "name": "stdout",
     "output_type": "stream",
     "text": [
      "Device: cpu, Input length: 10000, Time: 2.55e-01, FLOPS: 1.10e+11, Memory: 2.16e+09\n",
      "Device: cuda, Input length: 10000, Time: 1.02e-03, FLOPS: 1.10e+11, Memory: 2.17e+09\n"
     ]
    },
    {
     "name": "stderr",
     "output_type": "stream",
     "text": [
      "Unsupported operator aten::softmax encountered 1 time(s)\n",
      "Unsupported operator aten::div encountered 1 time(s)\n",
      "Unsupported operator aten::softmax encountered 1 time(s)\n",
      "Unsupported operator aten::div encountered 1 time(s)\n",
      "Unsupported operator aten::softmax encountered 1 time(s)\n",
      "Unsupported operator aten::div encountered 1 time(s)\n",
      "Unsupported operator aten::softmax encountered 1 time(s)\n",
      "Unsupported operator aten::div encountered 1 time(s)\n",
      "Unsupported operator aten::softmax encountered 1 time(s)\n",
      "Unsupported operator aten::div encountered 1 time(s)\n",
      "Unsupported operator aten::softmax encountered 1 time(s)\n"
     ]
    },
    {
     "name": "stdout",
     "output_type": "stream",
     "text": [
      "Device: cpu, Input length: 10, Time: 1.54e-03, FLOPS: 7.97e+06, Memory: 1.66e+05\n",
      "Device: cuda, Input length: 10, Time: 1.02e-03, FLOPS: 7.97e+06, Memory: 1.66e+05\n",
      "Device: cpu, Input length: 100, Time: 3.05e-03, FLOPS: 8.89e+07, Memory: 1.84e+06\n",
      "Device: cuda, Input length: 100, Time: 1.07e-03, FLOPS: 8.89e+07, Memory: 1.84e+06\n",
      "Device: cpu, Input length: 1000, Time: 2.79e-02, FLOPS: 1.81e+09, Memory: 3.64e+07\n",
      "Device: cuda, Input length: 1000, Time: 1.03e-03, FLOPS: 1.81e+09, Memory: 3.69e+07\n"
     ]
    },
    {
     "name": "stderr",
     "output_type": "stream",
     "text": [
      "Unsupported operator aten::div encountered 1 time(s)\n",
      "Unsupported operator aten::softmax encountered 1 time(s)\n",
      "Unsupported operator aten::div encountered 1 time(s)\n",
      "Unsupported operator aten::softmax encountered 1 time(s)\n",
      "Unsupported operator aten::div encountered 1 time(s)\n",
      "Unsupported operator aten::softmax encountered 1 time(s)\n",
      "Unsupported operator aten::div encountered 1 time(s)\n"
     ]
    },
    {
     "name": "stdout",
     "output_type": "stream",
     "text": [
      "Device: cpu, Input length: 10000, Time: 2.58e-01, FLOPS: 1.10e+11, Memory: 2.16e+09\n",
      "Device: cuda, Input length: 10000, Time: 5.36e-04, FLOPS: 1.10e+11, Memory: 2.17e+09\n",
      "Device: cpu, Input length: 10, Time: 2.04e-03, FLOPS: 7.97e+06, Memory: 1.66e+05\n"
     ]
    },
    {
     "name": "stderr",
     "output_type": "stream",
     "text": [
      "Unsupported operator aten::softmax encountered 1 time(s)\n",
      "Unsupported operator aten::div encountered 1 time(s)\n",
      "Unsupported operator aten::softmax encountered 1 time(s)\n",
      "Unsupported operator aten::div encountered 1 time(s)\n",
      "Unsupported operator aten::softmax encountered 1 time(s)\n",
      "Unsupported operator aten::div encountered 1 time(s)\n",
      "Unsupported operator aten::softmax encountered 1 time(s)\n",
      "Unsupported operator aten::div encountered 1 time(s)\n",
      "Unsupported operator aten::softmax encountered 1 time(s)\n"
     ]
    },
    {
     "name": "stdout",
     "output_type": "stream",
     "text": [
      "Device: cuda, Input length: 10, Time: 1.01e-03, FLOPS: 7.97e+06, Memory: 1.66e+05\n",
      "Device: cpu, Input length: 100, Time: 3.06e-03, FLOPS: 8.89e+07, Memory: 1.84e+06\n",
      "Device: cuda, Input length: 100, Time: 1.02e-03, FLOPS: 8.89e+07, Memory: 1.84e+06\n",
      "Device: cpu, Input length: 1000, Time: 2.90e-02, FLOPS: 1.81e+09, Memory: 3.64e+07\n",
      "Device: cuda, Input length: 1000, Time: 1.02e-03, FLOPS: 1.81e+09, Memory: 3.69e+07\n"
     ]
    },
    {
     "name": "stderr",
     "output_type": "stream",
     "text": [
      "Unsupported operator aten::div encountered 1 time(s)\n",
      "Unsupported operator aten::softmax encountered 1 time(s)\n",
      "Unsupported operator aten::div encountered 1 time(s)\n",
      "Unsupported operator aten::softmax encountered 1 time(s)\n",
      "Unsupported operator aten::div encountered 1 time(s)\n",
      "Unsupported operator aten::softmax encountered 1 time(s)\n",
      "Unsupported operator aten::div encountered 1 time(s)\n",
      "Unsupported operator aten::softmax encountered 1 time(s)\n",
      "Unsupported operator aten::div encountered 1 time(s)\n",
      "Unsupported operator aten::softmax encountered 1 time(s)\n",
      "Unsupported operator aten::div encountered 1 time(s)\n",
      "Unsupported operator aten::softmax encountered 1 time(s)\n",
      "Unsupported operator aten::div encountered 1 time(s)\n",
      "Unsupported operator aten::softmax encountered 1 time(s)\n",
      "Unsupported operator aten::div encountered 1 time(s)\n",
      "Unsupported operator aten::softmax encountered 1 time(s)\n"
     ]
    },
    {
     "name": "stdout",
     "output_type": "stream",
     "text": [
      "Device: cpu, Input length: 10000, Time: 2.65e-01, FLOPS: 1.10e+11, Memory: 2.16e+09\n",
      "Device: cuda, Input length: 10000, Time: 1.02e-03, FLOPS: 1.10e+11, Memory: 2.17e+09\n",
      "Device: cpu, Input length: 10, Time: 1.53e-03, FLOPS: 7.97e+06, Memory: 1.66e+05\n",
      "Device: cuda, Input length: 10, Time: 1.55e-03, FLOPS: 7.97e+06, Memory: 1.66e+05\n",
      "Device: cpu, Input length: 100, Time: 3.05e-03, FLOPS: 8.89e+07, Memory: 1.84e+06\n",
      "Device: cuda, Input length: 100, Time: 1.02e-03, FLOPS: 8.89e+07, Memory: 1.84e+06\n",
      "Device: cpu, Input length: 1000, Time: 7.66e-03, FLOPS: 1.81e+09, Memory: 3.64e+07\n",
      "Device: cuda, Input length: 1000, Time: 1.02e-03, FLOPS: 1.81e+09, Memory: 3.69e+07\n"
     ]
    },
    {
     "name": "stderr",
     "output_type": "stream",
     "text": [
      "Unsupported operator aten::div encountered 1 time(s)\n",
      "Unsupported operator aten::softmax encountered 1 time(s)\n",
      "Unsupported operator aten::div encountered 1 time(s)\n",
      "Unsupported operator aten::softmax encountered 1 time(s)\n",
      "Unsupported operator aten::div encountered 1 time(s)\n",
      "Unsupported operator aten::softmax encountered 1 time(s)\n",
      "Unsupported operator aten::div encountered 1 time(s)\n",
      "Unsupported operator aten::softmax encountered 1 time(s)\n",
      "Unsupported operator aten::div encountered 1 time(s)\n",
      "Unsupported operator aten::softmax encountered 1 time(s)\n",
      "Unsupported operator aten::div encountered 1 time(s)\n",
      "Unsupported operator aten::softmax encountered 1 time(s)\n",
      "Unsupported operator aten::div encountered 1 time(s)\n",
      "Unsupported operator aten::softmax encountered 1 time(s)\n",
      "Unsupported operator aten::div encountered 1 time(s)\n",
      "Unsupported operator aten::softmax encountered 1 time(s)\n"
     ]
    },
    {
     "name": "stdout",
     "output_type": "stream",
     "text": [
      "Device: cpu, Input length: 10000, Time: 2.36e-01, FLOPS: 1.10e+11, Memory: 2.16e+09\n",
      "Device: cuda, Input length: 10000, Time: 1.02e-03, FLOPS: 1.10e+11, Memory: 2.17e+09\n",
      "Device: cpu, Input length: 10, Time: 1.52e-03, FLOPS: 7.97e+06, Memory: 1.66e+05\n",
      "Device: cuda, Input length: 10, Time: 1.52e-03, FLOPS: 7.97e+06, Memory: 1.66e+05\n",
      "Device: cpu, Input length: 100, Time: 2.55e-03, FLOPS: 8.89e+07, Memory: 1.84e+06\n",
      "Device: cuda, Input length: 100, Time: 1.02e-03, FLOPS: 8.89e+07, Memory: 1.84e+06\n",
      "Device: cpu, Input length: 1000, Time: 6.12e-03, FLOPS: 1.81e+09, Memory: 3.64e+07\n",
      "Device: cuda, Input length: 1000, Time: 1.54e-03, FLOPS: 1.81e+09, Memory: 3.69e+07\n"
     ]
    },
    {
     "name": "stderr",
     "output_type": "stream",
     "text": [
      "Unsupported operator aten::div encountered 1 time(s)\n",
      "Unsupported operator aten::softmax encountered 1 time(s)\n",
      "Unsupported operator aten::div encountered 1 time(s)\n",
      "Unsupported operator aten::softmax encountered 1 time(s)\n",
      "Unsupported operator aten::div encountered 1 time(s)\n",
      "Unsupported operator aten::softmax encountered 1 time(s)\n",
      "Unsupported operator aten::div encountered 1 time(s)\n",
      "Unsupported operator aten::softmax encountered 1 time(s)\n",
      "Unsupported operator aten::div encountered 1 time(s)\n",
      "Unsupported operator aten::softmax encountered 1 time(s)\n",
      "Unsupported operator aten::div encountered 1 time(s)\n",
      "Unsupported operator aten::softmax encountered 1 time(s)\n",
      "Unsupported operator aten::div encountered 1 time(s)\n",
      "Unsupported operator aten::softmax encountered 1 time(s)\n",
      "Unsupported operator aten::div encountered 1 time(s)\n",
      "Unsupported operator aten::softmax encountered 1 time(s)\n"
     ]
    },
    {
     "name": "stdout",
     "output_type": "stream",
     "text": [
      "Device: cpu, Input length: 10000, Time: 2.41e-01, FLOPS: 1.10e+11, Memory: 2.16e+09\n",
      "Device: cuda, Input length: 10000, Time: 5.11e-04, FLOPS: 1.10e+11, Memory: 2.17e+09\n",
      "Device: cpu, Input length: 10, Time: 1.52e-03, FLOPS: 7.97e+06, Memory: 1.66e+05\n",
      "Device: cuda, Input length: 10, Time: 1.52e-03, FLOPS: 7.97e+06, Memory: 1.66e+05\n",
      "Device: cpu, Input length: 100, Time: 3.06e-03, FLOPS: 8.89e+07, Memory: 1.84e+06\n",
      "Device: cuda, Input length: 100, Time: 1.02e-03, FLOPS: 8.89e+07, Memory: 1.84e+06\n",
      "Device: cpu, Input length: 1000, Time: 6.63e-03, FLOPS: 1.81e+09, Memory: 3.64e+07\n",
      "Device: cuda, Input length: 1000, Time: 1.53e-03, FLOPS: 1.81e+09, Memory: 3.69e+07\n"
     ]
    },
    {
     "name": "stderr",
     "output_type": "stream",
     "text": [
      "Unsupported operator aten::div encountered 1 time(s)\n",
      "Unsupported operator aten::softmax encountered 1 time(s)\n",
      "Unsupported operator aten::div encountered 1 time(s)\n",
      "Unsupported operator aten::softmax encountered 1 time(s)\n",
      "Unsupported operator aten::div encountered 1 time(s)\n",
      "Unsupported operator aten::softmax encountered 1 time(s)\n",
      "Unsupported operator aten::div encountered 1 time(s)\n",
      "Unsupported operator aten::softmax encountered 1 time(s)\n",
      "Unsupported operator aten::div encountered 1 time(s)\n",
      "Unsupported operator aten::softmax encountered 1 time(s)\n",
      "Unsupported operator aten::div encountered 1 time(s)\n",
      "Unsupported operator aten::softmax encountered 1 time(s)\n",
      "Unsupported operator aten::div encountered 1 time(s)\n",
      "Unsupported operator aten::softmax encountered 1 time(s)\n",
      "Unsupported operator aten::div encountered 1 time(s)\n",
      "Unsupported operator aten::softmax encountered 1 time(s)\n"
     ]
    },
    {
     "name": "stdout",
     "output_type": "stream",
     "text": [
      "Device: cpu, Input length: 10000, Time: 2.34e-01, FLOPS: 1.10e+11, Memory: 2.16e+09\n",
      "Device: cuda, Input length: 10000, Time: 1.02e-03, FLOPS: 1.10e+11, Memory: 2.17e+09\n",
      "Device: cpu, Input length: 10, Time: 1.53e-03, FLOPS: 7.97e+06, Memory: 1.66e+05\n",
      "Device: cuda, Input length: 10, Time: 1.02e-03, FLOPS: 7.97e+06, Memory: 1.66e+05\n",
      "Device: cpu, Input length: 100, Time: 2.55e-03, FLOPS: 8.89e+07, Memory: 1.84e+06\n",
      "Device: cuda, Input length: 100, Time: 1.02e-03, FLOPS: 8.89e+07, Memory: 1.84e+06\n",
      "Device: cpu, Input length: 1000, Time: 6.13e-03, FLOPS: 1.81e+09, Memory: 3.64e+07\n",
      "Device: cuda, Input length: 1000, Time: 1.01e-03, FLOPS: 1.81e+09, Memory: 3.69e+07\n"
     ]
    },
    {
     "name": "stderr",
     "output_type": "stream",
     "text": [
      "Unsupported operator aten::div encountered 1 time(s)\n",
      "Unsupported operator aten::softmax encountered 1 time(s)\n",
      "Unsupported operator aten::div encountered 1 time(s)\n",
      "Unsupported operator aten::softmax encountered 1 time(s)\n",
      "Unsupported operator aten::div encountered 1 time(s)\n",
      "Unsupported operator aten::softmax encountered 1 time(s)\n",
      "Unsupported operator aten::div encountered 1 time(s)\n",
      "Unsupported operator aten::softmax encountered 1 time(s)\n",
      "Unsupported operator aten::div encountered 1 time(s)\n",
      "Unsupported operator aten::softmax encountered 1 time(s)\n",
      "Unsupported operator aten::div encountered 1 time(s)\n",
      "Unsupported operator aten::softmax encountered 1 time(s)\n",
      "Unsupported operator aten::div encountered 1 time(s)\n",
      "Unsupported operator aten::softmax encountered 1 time(s)\n",
      "Unsupported operator aten::div encountered 1 time(s)\n",
      "Unsupported operator aten::softmax encountered 1 time(s)\n"
     ]
    },
    {
     "name": "stdout",
     "output_type": "stream",
     "text": [
      "Device: cpu, Input length: 10000, Time: 2.38e-01, FLOPS: 1.10e+11, Memory: 2.16e+09\n",
      "Device: cuda, Input length: 10000, Time: 1.02e-03, FLOPS: 1.10e+11, Memory: 2.17e+09\n",
      "Device: cpu, Input length: 10, Time: 1.01e-03, FLOPS: 7.97e+06, Memory: 1.66e+05\n",
      "Device: cuda, Input length: 10, Time: 1.01e-03, FLOPS: 7.97e+06, Memory: 1.66e+05\n",
      "Device: cpu, Input length: 100, Time: 2.54e-03, FLOPS: 8.89e+07, Memory: 1.84e+06\n",
      "Device: cuda, Input length: 100, Time: 1.01e-03, FLOPS: 8.89e+07, Memory: 1.84e+06\n",
      "Device: cpu, Input length: 1000, Time: 7.14e-03, FLOPS: 1.81e+09, Memory: 3.64e+07\n",
      "Device: cuda, Input length: 1000, Time: 1.03e-03, FLOPS: 1.81e+09, Memory: 3.69e+07\n"
     ]
    },
    {
     "name": "stderr",
     "output_type": "stream",
     "text": [
      "Unsupported operator aten::div encountered 1 time(s)\n",
      "Unsupported operator aten::softmax encountered 1 time(s)\n",
      "Unsupported operator aten::div encountered 1 time(s)\n",
      "Unsupported operator aten::softmax encountered 1 time(s)\n",
      "Unsupported operator aten::div encountered 1 time(s)\n",
      "Unsupported operator aten::softmax encountered 1 time(s)\n",
      "Unsupported operator aten::div encountered 1 time(s)\n",
      "Unsupported operator aten::softmax encountered 1 time(s)\n",
      "Unsupported operator aten::div encountered 1 time(s)\n",
      "Unsupported operator aten::softmax encountered 1 time(s)\n",
      "Unsupported operator aten::div encountered 1 time(s)\n",
      "Unsupported operator aten::softmax encountered 1 time(s)\n",
      "Unsupported operator aten::div encountered 1 time(s)\n",
      "Unsupported operator aten::softmax encountered 1 time(s)\n",
      "Unsupported operator aten::div encountered 1 time(s)\n",
      "Unsupported operator aten::softmax encountered 1 time(s)\n"
     ]
    },
    {
     "name": "stdout",
     "output_type": "stream",
     "text": [
      "Device: cpu, Input length: 10000, Time: 2.43e-01, FLOPS: 1.10e+11, Memory: 2.16e+09\n",
      "Device: cuda, Input length: 10000, Time: 1.02e-03, FLOPS: 1.10e+11, Memory: 2.17e+09\n",
      "Device: cpu, Input length: 10, Time: 1.52e-03, FLOPS: 7.97e+06, Memory: 1.66e+05\n",
      "Device: cuda, Input length: 10, Time: 1.01e-03, FLOPS: 7.97e+06, Memory: 1.66e+05\n",
      "Device: cpu, Input length: 100, Time: 2.55e-03, FLOPS: 8.89e+07, Memory: 1.84e+06\n",
      "Device: cuda, Input length: 100, Time: 1.02e-03, FLOPS: 8.89e+07, Memory: 1.84e+06\n",
      "Device: cpu, Input length: 1000, Time: 6.62e-03, FLOPS: 1.81e+09, Memory: 3.64e+07\n",
      "Device: cuda, Input length: 1000, Time: 1.02e-03, FLOPS: 1.81e+09, Memory: 3.69e+07\n"
     ]
    },
    {
     "name": "stderr",
     "output_type": "stream",
     "text": [
      "Unsupported operator aten::div encountered 1 time(s)\n",
      "Unsupported operator aten::softmax encountered 1 time(s)\n",
      "Unsupported operator aten::div encountered 1 time(s)\n",
      "Unsupported operator aten::softmax encountered 1 time(s)\n",
      "Unsupported operator aten::div encountered 1 time(s)\n",
      "Unsupported operator aten::softmax encountered 1 time(s)\n",
      "Unsupported operator aten::div encountered 1 time(s)\n",
      "Unsupported operator aten::softmax encountered 1 time(s)\n",
      "Unsupported operator aten::div encountered 1 time(s)\n",
      "Unsupported operator aten::softmax encountered 1 time(s)\n",
      "Unsupported operator aten::div encountered 1 time(s)\n",
      "Unsupported operator aten::softmax encountered 1 time(s)\n",
      "Unsupported operator aten::div encountered 1 time(s)\n",
      "Unsupported operator aten::softmax encountered 1 time(s)\n",
      "Unsupported operator aten::div encountered 1 time(s)\n",
      "Unsupported operator aten::softmax encountered 1 time(s)\n"
     ]
    },
    {
     "name": "stdout",
     "output_type": "stream",
     "text": [
      "Device: cpu, Input length: 10000, Time: 2.51e-01, FLOPS: 1.10e+11, Memory: 2.16e+09\n",
      "Device: cuda, Input length: 10000, Time: 1.02e-03, FLOPS: 1.10e+11, Memory: 2.17e+09\n",
      "Device: cpu, Input length: 10, Time: 1.53e-03, FLOPS: 7.97e+06, Memory: 1.66e+05\n",
      "Device: cuda, Input length: 10, Time: 1.02e-03, FLOPS: 7.97e+06, Memory: 1.66e+05\n",
      "Device: cpu, Input length: 100, Time: 2.55e-03, FLOPS: 8.89e+07, Memory: 1.84e+06\n",
      "Device: cuda, Input length: 100, Time: 1.02e-03, FLOPS: 8.89e+07, Memory: 1.84e+06\n",
      "Device: cpu, Input length: 1000, Time: 7.14e-03, FLOPS: 1.81e+09, Memory: 3.64e+07\n",
      "Device: cuda, Input length: 1000, Time: 1.56e-03, FLOPS: 1.81e+09, Memory: 3.69e+07\n"
     ]
    },
    {
     "name": "stderr",
     "output_type": "stream",
     "text": [
      "Unsupported operator aten::div encountered 1 time(s)\n",
      "Unsupported operator aten::softmax encountered 1 time(s)\n",
      "Unsupported operator aten::div encountered 1 time(s)\n",
      "Unsupported operator aten::softmax encountered 1 time(s)\n",
      "Unsupported operator aten::div encountered 1 time(s)\n",
      "Unsupported operator aten::softmax encountered 1 time(s)\n",
      "Unsupported operator aten::div encountered 1 time(s)\n",
      "Unsupported operator aten::softmax encountered 1 time(s)\n",
      "Unsupported operator aten::div encountered 1 time(s)\n",
      "Unsupported operator aten::softmax encountered 1 time(s)\n",
      "Unsupported operator aten::div encountered 1 time(s)\n",
      "Unsupported operator aten::softmax encountered 1 time(s)\n",
      "Unsupported operator aten::div encountered 1 time(s)\n",
      "Unsupported operator aten::softmax encountered 1 time(s)\n",
      "Unsupported operator aten::div encountered 1 time(s)\n",
      "Unsupported operator aten::softmax encountered 1 time(s)\n"
     ]
    },
    {
     "name": "stdout",
     "output_type": "stream",
     "text": [
      "Device: cpu, Input length: 10000, Time: 2.35e-01, FLOPS: 1.10e+11, Memory: 2.16e+09\n",
      "Device: cuda, Input length: 10000, Time: 1.03e-03, FLOPS: 1.10e+11, Memory: 2.17e+09\n",
      "Device: cpu, Input length: 10, Time: 1.02e-03, FLOPS: 7.97e+06, Memory: 1.66e+05\n",
      "Device: cuda, Input length: 10, Time: 1.02e-03, FLOPS: 7.97e+06, Memory: 1.66e+05\n",
      "Device: cpu, Input length: 100, Time: 2.55e-03, FLOPS: 8.89e+07, Memory: 1.84e+06\n",
      "Device: cuda, Input length: 100, Time: 1.02e-03, FLOPS: 8.89e+07, Memory: 1.84e+06\n",
      "Device: cpu, Input length: 1000, Time: 6.11e-03, FLOPS: 1.81e+09, Memory: 3.64e+07\n",
      "Device: cuda, Input length: 1000, Time: 1.02e-03, FLOPS: 1.81e+09, Memory: 3.69e+07\n"
     ]
    },
    {
     "name": "stderr",
     "output_type": "stream",
     "text": [
      "Unsupported operator aten::div encountered 1 time(s)\n",
      "Unsupported operator aten::softmax encountered 1 time(s)\n",
      "Unsupported operator aten::div encountered 1 time(s)\n",
      "Unsupported operator aten::softmax encountered 1 time(s)\n",
      "Unsupported operator aten::div encountered 1 time(s)\n",
      "Unsupported operator aten::softmax encountered 1 time(s)\n",
      "Unsupported operator aten::div encountered 1 time(s)\n",
      "Unsupported operator aten::softmax encountered 1 time(s)\n",
      "Unsupported operator aten::div encountered 1 time(s)\n",
      "Unsupported operator aten::softmax encountered 1 time(s)\n",
      "Unsupported operator aten::div encountered 1 time(s)\n",
      "Unsupported operator aten::softmax encountered 1 time(s)\n"
     ]
    },
    {
     "name": "stdout",
     "output_type": "stream",
     "text": [
      "Device: cpu, Input length: 10000, Time: 2.37e-01, FLOPS: 1.10e+11, Memory: 2.16e+09\n",
      "Device: cuda, Input length: 10000, Time: 1.03e-03, FLOPS: 1.10e+11, Memory: 2.17e+09\n",
      "Device: cpu, Input length: 10, Time: 1.02e-03, FLOPS: 7.97e+06, Memory: 1.66e+05\n",
      "Device: cuda, Input length: 10, Time: 1.01e-03, FLOPS: 7.97e+06, Memory: 1.66e+05\n",
      "Device: cpu, Input length: 100, Time: 3.06e-03, FLOPS: 8.89e+07, Memory: 1.84e+06\n",
      "Device: cuda, Input length: 100, Time: 1.01e-03, FLOPS: 8.89e+07, Memory: 1.84e+06\n"
     ]
    },
    {
     "name": "stderr",
     "output_type": "stream",
     "text": [
      "Unsupported operator aten::div encountered 1 time(s)\n",
      "Unsupported operator aten::softmax encountered 1 time(s)\n",
      "Unsupported operator aten::div encountered 1 time(s)\n",
      "Unsupported operator aten::softmax encountered 1 time(s)\n"
     ]
    },
    {
     "name": "stdout",
     "output_type": "stream",
     "text": [
      "Device: cpu, Input length: 1000, Time: 2.78e-02, FLOPS: 1.81e+09, Memory: 3.64e+07\n",
      "Device: cuda, Input length: 1000, Time: 1.03e-03, FLOPS: 1.81e+09, Memory: 3.69e+07\n"
     ]
    },
    {
     "name": "stderr",
     "output_type": "stream",
     "text": [
      "Unsupported operator aten::div encountered 1 time(s)\n",
      "Unsupported operator aten::softmax encountered 1 time(s)\n",
      "Unsupported operator aten::div encountered 1 time(s)\n",
      "Unsupported operator aten::softmax encountered 1 time(s)\n",
      "Unsupported operator aten::div encountered 1 time(s)\n",
      "Unsupported operator aten::softmax encountered 1 time(s)\n",
      "Unsupported operator aten::div encountered 1 time(s)\n"
     ]
    },
    {
     "name": "stdout",
     "output_type": "stream",
     "text": [
      "Device: cpu, Input length: 10000, Time: 2.59e-01, FLOPS: 1.10e+11, Memory: 2.16e+09\n",
      "Device: cuda, Input length: 10000, Time: 1.02e-03, FLOPS: 1.10e+11, Memory: 2.17e+09\n",
      "Device: cpu, Input length: 10, Time: 1.52e-03, FLOPS: 7.97e+06, Memory: 1.66e+05\n"
     ]
    },
    {
     "name": "stderr",
     "output_type": "stream",
     "text": [
      "Unsupported operator aten::softmax encountered 1 time(s)\n",
      "Unsupported operator aten::div encountered 1 time(s)\n",
      "Unsupported operator aten::softmax encountered 1 time(s)\n",
      "Unsupported operator aten::div encountered 1 time(s)\n",
      "Unsupported operator aten::softmax encountered 1 time(s)\n",
      "Unsupported operator aten::div encountered 1 time(s)\n",
      "Unsupported operator aten::softmax encountered 1 time(s)\n",
      "Unsupported operator aten::div encountered 1 time(s)\n",
      "Unsupported operator aten::softmax encountered 1 time(s)\n"
     ]
    },
    {
     "name": "stdout",
     "output_type": "stream",
     "text": [
      "Device: cuda, Input length: 10, Time: 2.03e-03, FLOPS: 7.97e+06, Memory: 1.66e+05\n",
      "Device: cpu, Input length: 100, Time: 3.04e-03, FLOPS: 8.89e+07, Memory: 1.84e+06\n",
      "Device: cuda, Input length: 100, Time: 2.03e-03, FLOPS: 8.89e+07, Memory: 1.84e+06\n",
      "Device: cpu, Input length: 1000, Time: 2.49e-02, FLOPS: 1.81e+09, Memory: 3.64e+07\n",
      "Device: cuda, Input length: 1000, Time: 1.02e-03, FLOPS: 1.81e+09, Memory: 3.69e+07\n"
     ]
    },
    {
     "name": "stderr",
     "output_type": "stream",
     "text": [
      "Unsupported operator aten::div encountered 1 time(s)\n",
      "Unsupported operator aten::softmax encountered 1 time(s)\n",
      "Unsupported operator aten::div encountered 1 time(s)\n",
      "Unsupported operator aten::softmax encountered 1 time(s)\n",
      "Unsupported operator aten::div encountered 1 time(s)\n",
      "Unsupported operator aten::softmax encountered 1 time(s)\n",
      "Unsupported operator aten::div encountered 1 time(s)\n"
     ]
    },
    {
     "name": "stdout",
     "output_type": "stream",
     "text": [
      "Device: cpu, Input length: 10000, Time: 2.57e-01, FLOPS: 1.10e+11, Memory: 2.16e+09\n",
      "Device: cuda, Input length: 10000, Time: 1.02e-03, FLOPS: 1.10e+11, Memory: 2.17e+09\n",
      "Device: cpu, Input length: 10, Time: 1.52e-03, FLOPS: 7.97e+06, Memory: 1.66e+05\n"
     ]
    },
    {
     "name": "stderr",
     "output_type": "stream",
     "text": [
      "Unsupported operator aten::softmax encountered 1 time(s)\n",
      "Unsupported operator aten::div encountered 1 time(s)\n",
      "Unsupported operator aten::softmax encountered 1 time(s)\n",
      "Unsupported operator aten::div encountered 1 time(s)\n",
      "Unsupported operator aten::softmax encountered 1 time(s)\n",
      "Unsupported operator aten::div encountered 1 time(s)\n",
      "Unsupported operator aten::softmax encountered 1 time(s)\n",
      "Unsupported operator aten::div encountered 1 time(s)\n",
      "Unsupported operator aten::softmax encountered 1 time(s)\n"
     ]
    },
    {
     "name": "stdout",
     "output_type": "stream",
     "text": [
      "Device: cuda, Input length: 10, Time: 1.02e-03, FLOPS: 7.97e+06, Memory: 1.66e+05\n",
      "Device: cpu, Input length: 100, Time: 2.54e-03, FLOPS: 8.89e+07, Memory: 1.84e+06\n",
      "Device: cuda, Input length: 100, Time: 1.02e-03, FLOPS: 8.89e+07, Memory: 1.84e+06\n",
      "Device: cpu, Input length: 1000, Time: 2.95e-02, FLOPS: 1.81e+09, Memory: 3.64e+07\n",
      "Device: cuda, Input length: 1000, Time: 1.02e-03, FLOPS: 1.81e+09, Memory: 3.69e+07\n"
     ]
    },
    {
     "name": "stderr",
     "output_type": "stream",
     "text": [
      "Unsupported operator aten::div encountered 1 time(s)\n",
      "Unsupported operator aten::softmax encountered 1 time(s)\n",
      "Unsupported operator aten::div encountered 1 time(s)\n",
      "Unsupported operator aten::softmax encountered 1 time(s)\n",
      "Unsupported operator aten::div encountered 1 time(s)\n",
      "Unsupported operator aten::softmax encountered 1 time(s)\n",
      "Unsupported operator aten::div encountered 1 time(s)\n"
     ]
    },
    {
     "name": "stdout",
     "output_type": "stream",
     "text": [
      "Device: cpu, Input length: 10000, Time: 2.61e-01, FLOPS: 1.10e+11, Memory: 2.16e+09\n",
      "Device: cuda, Input length: 10000, Time: 1.03e-03, FLOPS: 1.10e+11, Memory: 2.17e+09\n",
      "Device: cpu, Input length: 10, Time: 1.53e-03, FLOPS: 7.97e+06, Memory: 1.66e+05\n"
     ]
    },
    {
     "name": "stderr",
     "output_type": "stream",
     "text": [
      "Unsupported operator aten::softmax encountered 1 time(s)\n",
      "Unsupported operator aten::div encountered 1 time(s)\n",
      "Unsupported operator aten::softmax encountered 1 time(s)\n",
      "Unsupported operator aten::div encountered 1 time(s)\n",
      "Unsupported operator aten::softmax encountered 1 time(s)\n",
      "Unsupported operator aten::div encountered 1 time(s)\n",
      "Unsupported operator aten::softmax encountered 1 time(s)\n",
      "Unsupported operator aten::div encountered 1 time(s)\n",
      "Unsupported operator aten::softmax encountered 1 time(s)\n"
     ]
    },
    {
     "name": "stdout",
     "output_type": "stream",
     "text": [
      "Device: cuda, Input length: 10, Time: 1.01e-03, FLOPS: 7.97e+06, Memory: 1.66e+05\n",
      "Device: cpu, Input length: 100, Time: 3.03e-03, FLOPS: 8.89e+07, Memory: 1.84e+06\n",
      "Device: cuda, Input length: 100, Time: 5.09e-04, FLOPS: 8.89e+07, Memory: 1.84e+06\n",
      "Device: cpu, Input length: 1000, Time: 3.56e-02, FLOPS: 1.81e+09, Memory: 3.64e+07\n",
      "Device: cuda, Input length: 1000, Time: 1.02e-03, FLOPS: 1.81e+09, Memory: 3.69e+07\n"
     ]
    },
    {
     "name": "stderr",
     "output_type": "stream",
     "text": [
      "Unsupported operator aten::div encountered 1 time(s)\n",
      "Unsupported operator aten::softmax encountered 1 time(s)\n",
      "Unsupported operator aten::div encountered 1 time(s)\n",
      "Unsupported operator aten::softmax encountered 1 time(s)\n",
      "Unsupported operator aten::div encountered 1 time(s)\n"
     ]
    },
    {
     "name": "stdout",
     "output_type": "stream",
     "text": [
      "Device: cpu, Input length: 10000, Time: 2.58e-01, FLOPS: 1.10e+11, Memory: 2.16e+09\n",
      "Device: cuda, Input length: 10000, Time: 1.01e-03, FLOPS: 1.10e+11, Memory: 2.17e+09\n"
     ]
    },
    {
     "name": "stderr",
     "output_type": "stream",
     "text": [
      "Unsupported operator aten::softmax encountered 1 time(s)\n",
      "Unsupported operator aten::div encountered 1 time(s)\n",
      "Unsupported operator aten::softmax encountered 1 time(s)\n",
      "Unsupported operator aten::div encountered 1 time(s)\n",
      "Unsupported operator aten::softmax encountered 1 time(s)\n",
      "Unsupported operator aten::div encountered 1 time(s)\n",
      "Unsupported operator aten::softmax encountered 1 time(s)\n",
      "Unsupported operator aten::div encountered 1 time(s)\n",
      "Unsupported operator aten::softmax encountered 1 time(s)\n",
      "Unsupported operator aten::div encountered 1 time(s)\n",
      "Unsupported operator aten::softmax encountered 1 time(s)\n"
     ]
    },
    {
     "name": "stdout",
     "output_type": "stream",
     "text": [
      "Device: cpu, Input length: 10, Time: 1.53e-03, FLOPS: 7.97e+06, Memory: 1.66e+05\n",
      "Device: cuda, Input length: 10, Time: 1.52e-03, FLOPS: 7.97e+06, Memory: 1.66e+05\n",
      "Device: cpu, Input length: 100, Time: 3.05e-03, FLOPS: 8.89e+07, Memory: 1.84e+06\n",
      "Device: cuda, Input length: 100, Time: 1.01e-03, FLOPS: 8.89e+07, Memory: 1.84e+06\n",
      "Device: cpu, Input length: 1000, Time: 2.95e-02, FLOPS: 1.81e+09, Memory: 3.64e+07\n",
      "Device: cuda, Input length: 1000, Time: 1.02e-03, FLOPS: 1.81e+09, Memory: 3.69e+07\n"
     ]
    },
    {
     "name": "stderr",
     "output_type": "stream",
     "text": [
      "Unsupported operator aten::div encountered 1 time(s)\n",
      "Unsupported operator aten::softmax encountered 1 time(s)\n",
      "Unsupported operator aten::div encountered 1 time(s)\n",
      "Unsupported operator aten::softmax encountered 1 time(s)\n",
      "Unsupported operator aten::div encountered 1 time(s)\n",
      "Unsupported operator aten::softmax encountered 1 time(s)\n",
      "Unsupported operator aten::div encountered 1 time(s)\n",
      "Unsupported operator aten::softmax encountered 1 time(s)\n",
      "Unsupported operator aten::div encountered 1 time(s)\n",
      "Unsupported operator aten::softmax encountered 1 time(s)\n",
      "Unsupported operator aten::div encountered 1 time(s)\n",
      "Unsupported operator aten::softmax encountered 1 time(s)\n",
      "Unsupported operator aten::div encountered 1 time(s)\n",
      "Unsupported operator aten::softmax encountered 1 time(s)\n",
      "Unsupported operator aten::div encountered 1 time(s)\n",
      "Unsupported operator aten::softmax encountered 1 time(s)\n"
     ]
    },
    {
     "name": "stdout",
     "output_type": "stream",
     "text": [
      "Device: cpu, Input length: 10000, Time: 2.57e-01, FLOPS: 1.10e+11, Memory: 2.16e+09\n",
      "Device: cuda, Input length: 10000, Time: 1.02e-03, FLOPS: 1.10e+11, Memory: 2.17e+09\n",
      "Device: cpu, Input length: 10, Time: 1.02e-03, FLOPS: 7.97e+06, Memory: 1.66e+05\n",
      "Device: cuda, Input length: 10, Time: 5.07e-04, FLOPS: 7.97e+06, Memory: 1.66e+05\n",
      "Device: cpu, Input length: 100, Time: 2.54e-03, FLOPS: 8.89e+07, Memory: 1.84e+06\n",
      "Device: cuda, Input length: 100, Time: 5.14e-04, FLOPS: 8.89e+07, Memory: 1.84e+06\n",
      "Device: cpu, Input length: 1000, Time: 7.14e-03, FLOPS: 1.81e+09, Memory: 3.64e+07\n",
      "Device: cuda, Input length: 1000, Time: 1.03e-03, FLOPS: 1.81e+09, Memory: 3.69e+07\n"
     ]
    },
    {
     "name": "stderr",
     "output_type": "stream",
     "text": [
      "Unsupported operator aten::div encountered 1 time(s)\n",
      "Unsupported operator aten::softmax encountered 1 time(s)\n",
      "Unsupported operator aten::div encountered 1 time(s)\n",
      "Unsupported operator aten::softmax encountered 1 time(s)\n",
      "Unsupported operator aten::div encountered 1 time(s)\n",
      "Unsupported operator aten::softmax encountered 1 time(s)\n",
      "Unsupported operator aten::div encountered 1 time(s)\n",
      "Unsupported operator aten::softmax encountered 1 time(s)\n",
      "Unsupported operator aten::div encountered 1 time(s)\n",
      "Unsupported operator aten::softmax encountered 1 time(s)\n",
      "Unsupported operator aten::div encountered 1 time(s)\n",
      "Unsupported operator aten::softmax encountered 1 time(s)\n",
      "Unsupported operator aten::div encountered 1 time(s)\n",
      "Unsupported operator aten::softmax encountered 1 time(s)\n",
      "Unsupported operator aten::div encountered 1 time(s)\n",
      "Unsupported operator aten::softmax encountered 1 time(s)\n"
     ]
    },
    {
     "name": "stdout",
     "output_type": "stream",
     "text": [
      "Device: cpu, Input length: 10000, Time: 2.37e-01, FLOPS: 1.10e+11, Memory: 2.16e+09\n",
      "Device: cuda, Input length: 10000, Time: 1.02e-03, FLOPS: 1.10e+11, Memory: 2.17e+09\n",
      "Device: cpu, Input length: 10, Time: 1.02e-03, FLOPS: 7.97e+06, Memory: 1.66e+05\n",
      "Device: cuda, Input length: 10, Time: 1.02e-03, FLOPS: 7.97e+06, Memory: 1.66e+05\n",
      "Device: cpu, Input length: 100, Time: 3.06e-03, FLOPS: 8.89e+07, Memory: 1.84e+06\n",
      "Device: cuda, Input length: 100, Time: 1.02e-03, FLOPS: 8.89e+07, Memory: 1.84e+06\n",
      "Device: cpu, Input length: 1000, Time: 7.15e-03, FLOPS: 1.81e+09, Memory: 3.64e+07\n",
      "Device: cuda, Input length: 1000, Time: 1.02e-03, FLOPS: 1.81e+09, Memory: 3.69e+07\n"
     ]
    },
    {
     "name": "stderr",
     "output_type": "stream",
     "text": [
      "Unsupported operator aten::div encountered 1 time(s)\n",
      "Unsupported operator aten::softmax encountered 1 time(s)\n",
      "Unsupported operator aten::div encountered 1 time(s)\n",
      "Unsupported operator aten::softmax encountered 1 time(s)\n",
      "Unsupported operator aten::div encountered 1 time(s)\n",
      "Unsupported operator aten::softmax encountered 1 time(s)\n",
      "Unsupported operator aten::div encountered 1 time(s)\n",
      "Unsupported operator aten::softmax encountered 1 time(s)\n",
      "Unsupported operator aten::div encountered 1 time(s)\n",
      "Unsupported operator aten::softmax encountered 1 time(s)\n",
      "Unsupported operator aten::div encountered 1 time(s)\n",
      "Unsupported operator aten::softmax encountered 1 time(s)\n",
      "Unsupported operator aten::div encountered 1 time(s)\n",
      "Unsupported operator aten::softmax encountered 1 time(s)\n",
      "Unsupported operator aten::div encountered 1 time(s)\n",
      "Unsupported operator aten::softmax encountered 1 time(s)\n"
     ]
    },
    {
     "name": "stdout",
     "output_type": "stream",
     "text": [
      "Device: cpu, Input length: 10000, Time: 2.39e-01, FLOPS: 1.10e+11, Memory: 2.16e+09\n",
      "Device: cuda, Input length: 10000, Time: 1.02e-03, FLOPS: 1.10e+11, Memory: 2.17e+09\n",
      "Device: cpu, Input length: 10, Time: 1.02e-03, FLOPS: 7.97e+06, Memory: 1.66e+05\n",
      "Device: cuda, Input length: 10, Time: 1.01e-03, FLOPS: 7.97e+06, Memory: 1.66e+05\n",
      "Device: cpu, Input length: 100, Time: 3.05e-03, FLOPS: 8.89e+07, Memory: 1.84e+06\n",
      "Device: cuda, Input length: 100, Time: 5.09e-04, FLOPS: 8.89e+07, Memory: 1.84e+06\n",
      "Device: cpu, Input length: 1000, Time: 7.11e-03, FLOPS: 1.81e+09, Memory: 3.64e+07\n",
      "Device: cuda, Input length: 1000, Time: 1.02e-03, FLOPS: 1.81e+09, Memory: 3.69e+07\n"
     ]
    },
    {
     "name": "stderr",
     "output_type": "stream",
     "text": [
      "Unsupported operator aten::div encountered 1 time(s)\n",
      "Unsupported operator aten::softmax encountered 1 time(s)\n",
      "Unsupported operator aten::div encountered 1 time(s)\n",
      "Unsupported operator aten::softmax encountered 1 time(s)\n",
      "Unsupported operator aten::div encountered 1 time(s)\n",
      "Unsupported operator aten::softmax encountered 1 time(s)\n",
      "Unsupported operator aten::div encountered 1 time(s)\n",
      "Unsupported operator aten::softmax encountered 1 time(s)\n",
      "Unsupported operator aten::div encountered 1 time(s)\n",
      "Unsupported operator aten::softmax encountered 1 time(s)\n",
      "Unsupported operator aten::div encountered 1 time(s)\n",
      "Unsupported operator aten::softmax encountered 1 time(s)\n",
      "Unsupported operator aten::div encountered 1 time(s)\n",
      "Unsupported operator aten::softmax encountered 1 time(s)\n",
      "Unsupported operator aten::div encountered 1 time(s)\n",
      "Unsupported operator aten::softmax encountered 1 time(s)\n"
     ]
    },
    {
     "name": "stdout",
     "output_type": "stream",
     "text": [
      "Device: cpu, Input length: 10000, Time: 2.43e-01, FLOPS: 1.10e+11, Memory: 2.16e+09\n",
      "Device: cuda, Input length: 10000, Time: 5.09e-04, FLOPS: 1.10e+11, Memory: 2.17e+09\n",
      "Device: cpu, Input length: 10, Time: 1.54e-03, FLOPS: 7.97e+06, Memory: 1.66e+05\n",
      "Device: cuda, Input length: 10, Time: 1.01e-03, FLOPS: 7.97e+06, Memory: 1.66e+05\n",
      "Device: cpu, Input length: 100, Time: 2.55e-03, FLOPS: 8.89e+07, Memory: 1.84e+06\n",
      "Device: cuda, Input length: 100, Time: 1.02e-03, FLOPS: 8.89e+07, Memory: 1.84e+06\n",
      "Device: cpu, Input length: 1000, Time: 8.19e-03, FLOPS: 1.81e+09, Memory: 3.64e+07\n",
      "Device: cuda, Input length: 1000, Time: 1.01e-03, FLOPS: 1.81e+09, Memory: 3.69e+07\n"
     ]
    },
    {
     "name": "stderr",
     "output_type": "stream",
     "text": [
      "Unsupported operator aten::div encountered 1 time(s)\n",
      "Unsupported operator aten::softmax encountered 1 time(s)\n",
      "Unsupported operator aten::div encountered 1 time(s)\n",
      "Unsupported operator aten::softmax encountered 1 time(s)\n",
      "Unsupported operator aten::div encountered 1 time(s)\n",
      "Unsupported operator aten::softmax encountered 1 time(s)\n",
      "Unsupported operator aten::div encountered 1 time(s)\n",
      "Unsupported operator aten::softmax encountered 1 time(s)\n",
      "Unsupported operator aten::div encountered 1 time(s)\n",
      "Unsupported operator aten::softmax encountered 1 time(s)\n",
      "Unsupported operator aten::div encountered 1 time(s)\n",
      "Unsupported operator aten::softmax encountered 1 time(s)\n",
      "Unsupported operator aten::div encountered 1 time(s)\n",
      "Unsupported operator aten::softmax encountered 1 time(s)\n",
      "Unsupported operator aten::div encountered 1 time(s)\n",
      "Unsupported operator aten::softmax encountered 1 time(s)\n"
     ]
    },
    {
     "name": "stdout",
     "output_type": "stream",
     "text": [
      "Device: cpu, Input length: 10000, Time: 2.34e-01, FLOPS: 1.10e+11, Memory: 2.16e+09\n",
      "Device: cuda, Input length: 10000, Time: 5.16e-04, FLOPS: 1.10e+11, Memory: 2.17e+09\n",
      "Device: cpu, Input length: 10, Time: 1.53e-03, FLOPS: 7.97e+06, Memory: 1.66e+05\n",
      "Device: cuda, Input length: 10, Time: 1.02e-03, FLOPS: 7.97e+06, Memory: 1.66e+05\n",
      "Device: cpu, Input length: 100, Time: 2.55e-03, FLOPS: 8.89e+07, Memory: 1.84e+06\n",
      "Device: cuda, Input length: 100, Time: 1.01e-03, FLOPS: 8.89e+07, Memory: 1.84e+06\n",
      "Device: cpu, Input length: 1000, Time: 7.12e-03, FLOPS: 1.81e+09, Memory: 3.64e+07\n",
      "Device: cuda, Input length: 1000, Time: 1.02e-03, FLOPS: 1.81e+09, Memory: 3.69e+07\n"
     ]
    },
    {
     "name": "stderr",
     "output_type": "stream",
     "text": [
      "Unsupported operator aten::div encountered 1 time(s)\n",
      "Unsupported operator aten::softmax encountered 1 time(s)\n",
      "Unsupported operator aten::div encountered 1 time(s)\n",
      "Unsupported operator aten::softmax encountered 1 time(s)\n",
      "Unsupported operator aten::div encountered 1 time(s)\n",
      "Unsupported operator aten::softmax encountered 1 time(s)\n",
      "Unsupported operator aten::div encountered 1 time(s)\n",
      "Unsupported operator aten::softmax encountered 1 time(s)\n",
      "Unsupported operator aten::div encountered 1 time(s)\n",
      "Unsupported operator aten::softmax encountered 1 time(s)\n",
      "Unsupported operator aten::div encountered 1 time(s)\n",
      "Unsupported operator aten::softmax encountered 1 time(s)\n",
      "Unsupported operator aten::div encountered 1 time(s)\n",
      "Unsupported operator aten::softmax encountered 1 time(s)\n",
      "Unsupported operator aten::div encountered 1 time(s)\n",
      "Unsupported operator aten::softmax encountered 1 time(s)\n"
     ]
    },
    {
     "name": "stdout",
     "output_type": "stream",
     "text": [
      "Device: cpu, Input length: 10000, Time: 2.40e-01, FLOPS: 1.10e+11, Memory: 2.16e+09\n",
      "Device: cuda, Input length: 10000, Time: 1.02e-03, FLOPS: 1.10e+11, Memory: 2.17e+09\n",
      "Device: cpu, Input length: 10, Time: 1.54e-03, FLOPS: 7.97e+06, Memory: 1.66e+05\n",
      "Device: cuda, Input length: 10, Time: 1.02e-03, FLOPS: 7.97e+06, Memory: 1.66e+05\n",
      "Device: cpu, Input length: 100, Time: 2.56e-03, FLOPS: 8.89e+07, Memory: 1.84e+06\n",
      "Device: cuda, Input length: 100, Time: 1.01e-03, FLOPS: 8.89e+07, Memory: 1.84e+06\n",
      "Device: cpu, Input length: 1000, Time: 8.15e-03, FLOPS: 1.81e+09, Memory: 3.64e+07\n",
      "Device: cuda, Input length: 1000, Time: 1.05e-03, FLOPS: 1.81e+09, Memory: 3.69e+07\n"
     ]
    },
    {
     "name": "stderr",
     "output_type": "stream",
     "text": [
      "Unsupported operator aten::div encountered 1 time(s)\n",
      "Unsupported operator aten::softmax encountered 1 time(s)\n",
      "Unsupported operator aten::div encountered 1 time(s)\n",
      "Unsupported operator aten::softmax encountered 1 time(s)\n",
      "Unsupported operator aten::div encountered 1 time(s)\n",
      "Unsupported operator aten::softmax encountered 1 time(s)\n"
     ]
    },
    {
     "name": "stdout",
     "output_type": "stream",
     "text": [
      "Device: cpu, Input length: 10000, Time: 2.40e-01, FLOPS: 1.10e+11, Memory: 2.16e+09\n",
      "Device: cuda, Input length: 10000, Time: 1.03e-03, FLOPS: 1.10e+11, Memory: 2.17e+09\n",
      "Device: cpu, Input length: 10, Time: 1.52e-03, FLOPS: 7.97e+06, Memory: 1.66e+05\n"
     ]
    },
    {
     "name": "stderr",
     "output_type": "stream",
     "text": [
      "Unsupported operator aten::div encountered 1 time(s)\n",
      "Unsupported operator aten::softmax encountered 1 time(s)\n",
      "Unsupported operator aten::div encountered 1 time(s)\n",
      "Unsupported operator aten::softmax encountered 1 time(s)\n",
      "Unsupported operator aten::div encountered 1 time(s)\n",
      "Unsupported operator aten::softmax encountered 1 time(s)\n",
      "Unsupported operator aten::div encountered 1 time(s)\n",
      "Unsupported operator aten::softmax encountered 1 time(s)\n",
      "Unsupported operator aten::div encountered 1 time(s)\n",
      "Unsupported operator aten::softmax encountered 1 time(s)\n"
     ]
    },
    {
     "name": "stdout",
     "output_type": "stream",
     "text": [
      "Device: cuda, Input length: 10, Time: 5.08e-04, FLOPS: 7.97e+06, Memory: 1.66e+05\n",
      "Device: cpu, Input length: 100, Time: 3.06e-03, FLOPS: 8.89e+07, Memory: 1.84e+06\n",
      "Device: cuda, Input length: 100, Time: 1.02e-03, FLOPS: 8.89e+07, Memory: 1.84e+06\n",
      "Device: cpu, Input length: 1000, Time: 2.63e-02, FLOPS: 1.81e+09, Memory: 3.64e+07\n",
      "Device: cuda, Input length: 1000, Time: 1.03e-03, FLOPS: 1.81e+09, Memory: 3.69e+07\n"
     ]
    },
    {
     "name": "stderr",
     "output_type": "stream",
     "text": [
      "Unsupported operator aten::div encountered 1 time(s)\n",
      "Unsupported operator aten::softmax encountered 1 time(s)\n",
      "Unsupported operator aten::div encountered 1 time(s)\n",
      "Unsupported operator aten::softmax encountered 1 time(s)\n",
      "Unsupported operator aten::div encountered 1 time(s)\n"
     ]
    },
    {
     "name": "stdout",
     "output_type": "stream",
     "text": [
      "Device: cpu, Input length: 10000, Time: 2.60e-01, FLOPS: 1.10e+11, Memory: 2.16e+09\n",
      "Device: cuda, Input length: 10000, Time: 5.15e-04, FLOPS: 1.10e+11, Memory: 2.17e+09\n"
     ]
    },
    {
     "name": "stderr",
     "output_type": "stream",
     "text": [
      "Unsupported operator aten::softmax encountered 1 time(s)\n",
      "Unsupported operator aten::div encountered 1 time(s)\n",
      "Unsupported operator aten::softmax encountered 1 time(s)\n",
      "Unsupported operator aten::div encountered 1 time(s)\n",
      "Unsupported operator aten::softmax encountered 1 time(s)\n",
      "Unsupported operator aten::div encountered 1 time(s)\n",
      "Unsupported operator aten::softmax encountered 1 time(s)\n",
      "Unsupported operator aten::div encountered 1 time(s)\n",
      "Unsupported operator aten::softmax encountered 1 time(s)\n",
      "Unsupported operator aten::div encountered 1 time(s)\n",
      "Unsupported operator aten::softmax encountered 1 time(s)\n"
     ]
    },
    {
     "name": "stdout",
     "output_type": "stream",
     "text": [
      "Device: cpu, Input length: 10, Time: 1.52e-03, FLOPS: 7.97e+06, Memory: 1.66e+05\n",
      "Device: cuda, Input length: 10, Time: 1.53e-03, FLOPS: 7.97e+06, Memory: 1.66e+05\n",
      "Device: cpu, Input length: 100, Time: 3.07e-03, FLOPS: 8.89e+07, Memory: 1.84e+06\n",
      "Device: cuda, Input length: 100, Time: 1.02e-03, FLOPS: 8.89e+07, Memory: 1.84e+06\n",
      "Device: cpu, Input length: 1000, Time: 2.70e-02, FLOPS: 1.81e+09, Memory: 3.64e+07\n",
      "Device: cuda, Input length: 1000, Time: 1.03e-03, FLOPS: 1.81e+09, Memory: 3.69e+07\n"
     ]
    },
    {
     "name": "stderr",
     "output_type": "stream",
     "text": [
      "Unsupported operator aten::div encountered 1 time(s)\n",
      "Unsupported operator aten::softmax encountered 1 time(s)\n",
      "Unsupported operator aten::div encountered 1 time(s)\n",
      "Unsupported operator aten::softmax encountered 1 time(s)\n",
      "Unsupported operator aten::div encountered 1 time(s)\n",
      "Unsupported operator aten::softmax encountered 1 time(s)\n",
      "Unsupported operator aten::div encountered 1 time(s)\n"
     ]
    },
    {
     "name": "stdout",
     "output_type": "stream",
     "text": [
      "Device: cpu, Input length: 10000, Time: 2.62e-01, FLOPS: 1.10e+11, Memory: 2.16e+09\n",
      "Device: cuda, Input length: 10000, Time: 1.03e-03, FLOPS: 1.10e+11, Memory: 2.17e+09\n",
      "Device: cpu, Input length: 10, Time: 1.02e-03, FLOPS: 7.97e+06, Memory: 1.66e+05\n"
     ]
    },
    {
     "name": "stderr",
     "output_type": "stream",
     "text": [
      "Unsupported operator aten::softmax encountered 1 time(s)\n",
      "Unsupported operator aten::div encountered 1 time(s)\n",
      "Unsupported operator aten::softmax encountered 1 time(s)\n",
      "Unsupported operator aten::div encountered 1 time(s)\n",
      "Unsupported operator aten::softmax encountered 1 time(s)\n",
      "Unsupported operator aten::div encountered 1 time(s)\n",
      "Unsupported operator aten::softmax encountered 1 time(s)\n",
      "Unsupported operator aten::div encountered 1 time(s)\n",
      "Unsupported operator aten::softmax encountered 1 time(s)\n"
     ]
    },
    {
     "name": "stdout",
     "output_type": "stream",
     "text": [
      "Device: cuda, Input length: 10, Time: 1.01e-03, FLOPS: 7.97e+06, Memory: 1.66e+05\n",
      "Device: cpu, Input length: 100, Time: 2.54e-03, FLOPS: 8.89e+07, Memory: 1.84e+06\n",
      "Device: cuda, Input length: 100, Time: 1.02e-03, FLOPS: 8.89e+07, Memory: 1.84e+06\n",
      "Device: cpu, Input length: 1000, Time: 2.34e-02, FLOPS: 1.81e+09, Memory: 3.64e+07\n",
      "Device: cuda, Input length: 1000, Time: 1.01e-03, FLOPS: 1.81e+09, Memory: 3.69e+07\n"
     ]
    },
    {
     "name": "stderr",
     "output_type": "stream",
     "text": [
      "Unsupported operator aten::div encountered 1 time(s)\n",
      "Unsupported operator aten::softmax encountered 1 time(s)\n",
      "Unsupported operator aten::div encountered 1 time(s)\n",
      "Unsupported operator aten::softmax encountered 1 time(s)\n",
      "Unsupported operator aten::div encountered 1 time(s)\n",
      "Unsupported operator aten::softmax encountered 1 time(s)\n",
      "Unsupported operator aten::div encountered 1 time(s)\n"
     ]
    },
    {
     "name": "stdout",
     "output_type": "stream",
     "text": [
      "Device: cpu, Input length: 10000, Time: 2.60e-01, FLOPS: 1.10e+11, Memory: 2.16e+09\n",
      "Device: cuda, Input length: 10000, Time: 1.02e-03, FLOPS: 1.10e+11, Memory: 2.17e+09\n",
      "Device: cpu, Input length: 10, Time: 1.52e-03, FLOPS: 7.97e+06, Memory: 1.66e+05\n"
     ]
    },
    {
     "name": "stderr",
     "output_type": "stream",
     "text": [
      "Unsupported operator aten::softmax encountered 1 time(s)\n",
      "Unsupported operator aten::div encountered 1 time(s)\n",
      "Unsupported operator aten::softmax encountered 1 time(s)\n",
      "Unsupported operator aten::div encountered 1 time(s)\n",
      "Unsupported operator aten::softmax encountered 1 time(s)\n",
      "Unsupported operator aten::div encountered 1 time(s)\n",
      "Unsupported operator aten::softmax encountered 1 time(s)\n",
      "Unsupported operator aten::div encountered 1 time(s)\n",
      "Unsupported operator aten::softmax encountered 1 time(s)\n"
     ]
    },
    {
     "name": "stdout",
     "output_type": "stream",
     "text": [
      "Device: cuda, Input length: 10, Time: 1.02e-03, FLOPS: 7.97e+06, Memory: 1.66e+05\n",
      "Device: cpu, Input length: 100, Time: 3.29e-03, FLOPS: 8.89e+07, Memory: 1.84e+06\n",
      "Device: cuda, Input length: 100, Time: 1.02e-03, FLOPS: 8.89e+07, Memory: 1.84e+06\n",
      "Device: cpu, Input length: 1000, Time: 2.75e-02, FLOPS: 1.81e+09, Memory: 3.64e+07\n",
      "Device: cuda, Input length: 1000, Time: 1.02e-03, FLOPS: 1.81e+09, Memory: 3.69e+07\n"
     ]
    },
    {
     "name": "stderr",
     "output_type": "stream",
     "text": [
      "Unsupported operator aten::div encountered 1 time(s)\n",
      "Unsupported operator aten::softmax encountered 1 time(s)\n",
      "Unsupported operator aten::div encountered 1 time(s)\n",
      "Unsupported operator aten::softmax encountered 1 time(s)\n",
      "Unsupported operator aten::div encountered 1 time(s)\n",
      "Unsupported operator aten::softmax encountered 1 time(s)\n",
      "Unsupported operator aten::div encountered 1 time(s)\n",
      "Unsupported operator aten::softmax encountered 1 time(s)\n",
      "Unsupported operator aten::div encountered 1 time(s)\n",
      "Unsupported operator aten::softmax encountered 1 time(s)\n",
      "Unsupported operator aten::div encountered 1 time(s)\n",
      "Unsupported operator aten::softmax encountered 1 time(s)\n",
      "Unsupported operator aten::div encountered 1 time(s)\n",
      "Unsupported operator aten::softmax encountered 1 time(s)\n",
      "Unsupported operator aten::div encountered 1 time(s)\n",
      "Unsupported operator aten::softmax encountered 1 time(s)\n"
     ]
    },
    {
     "name": "stdout",
     "output_type": "stream",
     "text": [
      "Device: cpu, Input length: 10000, Time: 2.52e-01, FLOPS: 1.10e+11, Memory: 2.16e+09\n",
      "Device: cuda, Input length: 10000, Time: 5.09e-04, FLOPS: 1.10e+11, Memory: 2.17e+09\n",
      "Device: cpu, Input length: 10, Time: 1.53e-03, FLOPS: 7.97e+06, Memory: 1.66e+05\n",
      "Device: cuda, Input length: 10, Time: 1.02e-03, FLOPS: 7.97e+06, Memory: 1.66e+05\n",
      "Device: cpu, Input length: 100, Time: 3.05e-03, FLOPS: 8.89e+07, Memory: 1.84e+06\n",
      "Device: cuda, Input length: 100, Time: 1.01e-03, FLOPS: 8.89e+07, Memory: 1.84e+06\n",
      "Device: cpu, Input length: 1000, Time: 6.11e-03, FLOPS: 1.81e+09, Memory: 3.64e+07\n",
      "Device: cuda, Input length: 1000, Time: 1.02e-03, FLOPS: 1.81e+09, Memory: 3.69e+07\n"
     ]
    },
    {
     "name": "stderr",
     "output_type": "stream",
     "text": [
      "Unsupported operator aten::div encountered 1 time(s)\n",
      "Unsupported operator aten::softmax encountered 1 time(s)\n",
      "Unsupported operator aten::div encountered 1 time(s)\n",
      "Unsupported operator aten::softmax encountered 1 time(s)\n",
      "Unsupported operator aten::div encountered 1 time(s)\n",
      "Unsupported operator aten::softmax encountered 1 time(s)\n",
      "Unsupported operator aten::div encountered 1 time(s)\n",
      "Unsupported operator aten::softmax encountered 1 time(s)\n",
      "Unsupported operator aten::div encountered 1 time(s)\n",
      "Unsupported operator aten::softmax encountered 1 time(s)\n",
      "Unsupported operator aten::div encountered 1 time(s)\n",
      "Unsupported operator aten::softmax encountered 1 time(s)\n",
      "Unsupported operator aten::div encountered 1 time(s)\n",
      "Unsupported operator aten::softmax encountered 1 time(s)\n",
      "Unsupported operator aten::div encountered 1 time(s)\n",
      "Unsupported operator aten::softmax encountered 1 time(s)\n"
     ]
    },
    {
     "name": "stdout",
     "output_type": "stream",
     "text": [
      "Device: cpu, Input length: 10000, Time: 2.42e-01, FLOPS: 1.10e+11, Memory: 2.16e+09\n",
      "Device: cuda, Input length: 10000, Time: 1.02e-03, FLOPS: 1.10e+11, Memory: 2.17e+09\n",
      "Device: cpu, Input length: 10, Time: 1.52e-03, FLOPS: 7.97e+06, Memory: 1.66e+05\n",
      "Device: cuda, Input length: 10, Time: 1.02e-03, FLOPS: 7.97e+06, Memory: 1.66e+05\n",
      "Device: cpu, Input length: 100, Time: 2.55e-03, FLOPS: 8.89e+07, Memory: 1.84e+06\n",
      "Device: cuda, Input length: 100, Time: 1.53e-03, FLOPS: 8.89e+07, Memory: 1.84e+06\n",
      "Device: cpu, Input length: 1000, Time: 7.66e-03, FLOPS: 1.81e+09, Memory: 3.64e+07\n",
      "Device: cuda, Input length: 1000, Time: 1.53e-03, FLOPS: 1.81e+09, Memory: 3.69e+07\n"
     ]
    },
    {
     "name": "stderr",
     "output_type": "stream",
     "text": [
      "Unsupported operator aten::div encountered 1 time(s)\n",
      "Unsupported operator aten::softmax encountered 1 time(s)\n",
      "Unsupported operator aten::div encountered 1 time(s)\n",
      "Unsupported operator aten::softmax encountered 1 time(s)\n",
      "Unsupported operator aten::div encountered 1 time(s)\n",
      "Unsupported operator aten::softmax encountered 1 time(s)\n",
      "Unsupported operator aten::div encountered 1 time(s)\n",
      "Unsupported operator aten::softmax encountered 1 time(s)\n",
      "Unsupported operator aten::div encountered 1 time(s)\n",
      "Unsupported operator aten::softmax encountered 1 time(s)\n",
      "Unsupported operator aten::div encountered 1 time(s)\n",
      "Unsupported operator aten::softmax encountered 1 time(s)\n",
      "Unsupported operator aten::div encountered 1 time(s)\n",
      "Unsupported operator aten::softmax encountered 1 time(s)\n",
      "Unsupported operator aten::div encountered 1 time(s)\n",
      "Unsupported operator aten::softmax encountered 1 time(s)\n"
     ]
    },
    {
     "name": "stdout",
     "output_type": "stream",
     "text": [
      "Device: cpu, Input length: 10000, Time: 2.30e-01, FLOPS: 1.10e+11, Memory: 2.16e+09\n",
      "Device: cuda, Input length: 10000, Time: 1.02e-03, FLOPS: 1.10e+11, Memory: 2.17e+09\n",
      "Device: cpu, Input length: 10, Time: 1.53e-03, FLOPS: 7.97e+06, Memory: 1.66e+05\n",
      "Device: cuda, Input length: 10, Time: 1.02e-03, FLOPS: 7.97e+06, Memory: 1.66e+05\n",
      "Device: cpu, Input length: 100, Time: 3.56e-03, FLOPS: 8.89e+07, Memory: 1.84e+06\n",
      "Device: cuda, Input length: 100, Time: 1.01e-03, FLOPS: 8.89e+07, Memory: 1.84e+06\n",
      "Device: cpu, Input length: 1000, Time: 6.63e-03, FLOPS: 1.81e+09, Memory: 3.64e+07\n",
      "Device: cuda, Input length: 1000, Time: 1.03e-03, FLOPS: 1.81e+09, Memory: 3.69e+07\n"
     ]
    },
    {
     "name": "stderr",
     "output_type": "stream",
     "text": [
      "Unsupported operator aten::div encountered 1 time(s)\n",
      "Unsupported operator aten::softmax encountered 1 time(s)\n",
      "Unsupported operator aten::div encountered 1 time(s)\n",
      "Unsupported operator aten::softmax encountered 1 time(s)\n",
      "Unsupported operator aten::div encountered 1 time(s)\n",
      "Unsupported operator aten::softmax encountered 1 time(s)\n",
      "Unsupported operator aten::div encountered 1 time(s)\n",
      "Unsupported operator aten::softmax encountered 1 time(s)\n",
      "Unsupported operator aten::div encountered 1 time(s)\n",
      "Unsupported operator aten::softmax encountered 1 time(s)\n",
      "Unsupported operator aten::div encountered 1 time(s)\n",
      "Unsupported operator aten::softmax encountered 1 time(s)\n",
      "Unsupported operator aten::div encountered 1 time(s)\n",
      "Unsupported operator aten::softmax encountered 1 time(s)\n",
      "Unsupported operator aten::div encountered 1 time(s)\n",
      "Unsupported operator aten::softmax encountered 1 time(s)\n"
     ]
    },
    {
     "name": "stdout",
     "output_type": "stream",
     "text": [
      "Device: cpu, Input length: 10000, Time: 2.37e-01, FLOPS: 1.10e+11, Memory: 2.16e+09\n",
      "Device: cuda, Input length: 10000, Time: 1.03e-03, FLOPS: 1.10e+11, Memory: 2.17e+09\n",
      "Device: cpu, Input length: 10, Time: 1.54e-03, FLOPS: 7.97e+06, Memory: 1.66e+05\n",
      "Device: cuda, Input length: 10, Time: 1.01e-03, FLOPS: 7.97e+06, Memory: 1.66e+05\n",
      "Device: cpu, Input length: 100, Time: 3.56e-03, FLOPS: 8.89e+07, Memory: 1.84e+06\n",
      "Device: cuda, Input length: 100, Time: 1.02e-03, FLOPS: 8.89e+07, Memory: 1.84e+06\n",
      "Device: cpu, Input length: 1000, Time: 8.15e-03, FLOPS: 1.81e+09, Memory: 3.64e+07\n",
      "Device: cuda, Input length: 1000, Time: 1.54e-03, FLOPS: 1.81e+09, Memory: 3.69e+07\n"
     ]
    },
    {
     "name": "stderr",
     "output_type": "stream",
     "text": [
      "Unsupported operator aten::div encountered 1 time(s)\n",
      "Unsupported operator aten::softmax encountered 1 time(s)\n",
      "Unsupported operator aten::div encountered 1 time(s)\n",
      "Unsupported operator aten::softmax encountered 1 time(s)\n",
      "Unsupported operator aten::div encountered 1 time(s)\n",
      "Unsupported operator aten::softmax encountered 1 time(s)\n",
      "Unsupported operator aten::div encountered 1 time(s)\n",
      "Unsupported operator aten::softmax encountered 1 time(s)\n",
      "Unsupported operator aten::div encountered 1 time(s)\n",
      "Unsupported operator aten::softmax encountered 1 time(s)\n",
      "Unsupported operator aten::div encountered 1 time(s)\n",
      "Unsupported operator aten::softmax encountered 1 time(s)\n",
      "Unsupported operator aten::div encountered 1 time(s)\n",
      "Unsupported operator aten::softmax encountered 1 time(s)\n",
      "Unsupported operator aten::div encountered 1 time(s)\n",
      "Unsupported operator aten::softmax encountered 1 time(s)\n"
     ]
    },
    {
     "name": "stdout",
     "output_type": "stream",
     "text": [
      "Device: cpu, Input length: 10000, Time: 2.47e-01, FLOPS: 1.10e+11, Memory: 2.16e+09\n",
      "Device: cuda, Input length: 10000, Time: 1.02e-03, FLOPS: 1.10e+11, Memory: 2.17e+09\n",
      "Device: cpu, Input length: 10, Time: 1.52e-03, FLOPS: 7.97e+06, Memory: 1.66e+05\n",
      "Device: cuda, Input length: 10, Time: 1.01e-03, FLOPS: 7.97e+06, Memory: 1.66e+05\n",
      "Device: cpu, Input length: 100, Time: 4.07e-03, FLOPS: 8.89e+07, Memory: 1.84e+06\n",
      "Device: cuda, Input length: 100, Time: 1.01e-03, FLOPS: 8.89e+07, Memory: 1.84e+06\n",
      "Device: cpu, Input length: 1000, Time: 7.63e-03, FLOPS: 1.81e+09, Memory: 3.64e+07\n",
      "Device: cuda, Input length: 1000, Time: 1.02e-03, FLOPS: 1.81e+09, Memory: 3.69e+07\n"
     ]
    },
    {
     "name": "stderr",
     "output_type": "stream",
     "text": [
      "Unsupported operator aten::div encountered 1 time(s)\n",
      "Unsupported operator aten::softmax encountered 1 time(s)\n",
      "Unsupported operator aten::div encountered 1 time(s)\n",
      "Unsupported operator aten::softmax encountered 1 time(s)\n",
      "Unsupported operator aten::div encountered 1 time(s)\n",
      "Unsupported operator aten::softmax encountered 1 time(s)\n",
      "Unsupported operator aten::div encountered 1 time(s)\n",
      "Unsupported operator aten::softmax encountered 1 time(s)\n",
      "Unsupported operator aten::div encountered 1 time(s)\n",
      "Unsupported operator aten::softmax encountered 1 time(s)\n",
      "Unsupported operator aten::div encountered 1 time(s)\n",
      "Unsupported operator aten::softmax encountered 1 time(s)\n",
      "Unsupported operator aten::div encountered 1 time(s)\n",
      "Unsupported operator aten::softmax encountered 1 time(s)\n",
      "Unsupported operator aten::div encountered 1 time(s)\n",
      "Unsupported operator aten::softmax encountered 1 time(s)\n"
     ]
    },
    {
     "name": "stdout",
     "output_type": "stream",
     "text": [
      "Device: cpu, Input length: 10000, Time: 2.41e-01, FLOPS: 1.10e+11, Memory: 2.16e+09\n",
      "Device: cuda, Input length: 10000, Time: 1.02e-03, FLOPS: 1.10e+11, Memory: 2.17e+09\n",
      "Device: cpu, Input length: 10, Time: 1.54e-03, FLOPS: 7.97e+06, Memory: 1.66e+05\n",
      "Device: cuda, Input length: 10, Time: 5.11e-04, FLOPS: 7.97e+06, Memory: 1.66e+05\n",
      "Device: cpu, Input length: 100, Time: 2.55e-03, FLOPS: 8.89e+07, Memory: 1.84e+06\n",
      "Device: cuda, Input length: 100, Time: 1.02e-03, FLOPS: 8.89e+07, Memory: 1.84e+06\n",
      "Device: cpu, Input length: 1000, Time: 7.65e-03, FLOPS: 1.81e+09, Memory: 3.64e+07\n",
      "Device: cuda, Input length: 1000, Time: 1.01e-03, FLOPS: 1.81e+09, Memory: 3.69e+07\n"
     ]
    },
    {
     "name": "stderr",
     "output_type": "stream",
     "text": [
      "Unsupported operator aten::div encountered 1 time(s)\n",
      "Unsupported operator aten::softmax encountered 1 time(s)\n",
      "Unsupported operator aten::div encountered 1 time(s)\n",
      "Unsupported operator aten::softmax encountered 1 time(s)\n",
      "Unsupported operator aten::div encountered 1 time(s)\n",
      "Unsupported operator aten::softmax encountered 1 time(s)\n",
      "Unsupported operator aten::div encountered 1 time(s)\n",
      "Unsupported operator aten::softmax encountered 1 time(s)\n",
      "Unsupported operator aten::div encountered 1 time(s)\n",
      "Unsupported operator aten::softmax encountered 1 time(s)\n",
      "Unsupported operator aten::div encountered 1 time(s)\n",
      "Unsupported operator aten::softmax encountered 1 time(s)\n",
      "Unsupported operator aten::div encountered 1 time(s)\n",
      "Unsupported operator aten::softmax encountered 1 time(s)\n",
      "Unsupported operator aten::div encountered 1 time(s)\n",
      "Unsupported operator aten::softmax encountered 1 time(s)\n"
     ]
    },
    {
     "name": "stdout",
     "output_type": "stream",
     "text": [
      "Device: cpu, Input length: 10000, Time: 2.39e-01, FLOPS: 1.10e+11, Memory: 2.16e+09\n",
      "Device: cuda, Input length: 10000, Time: 5.10e-04, FLOPS: 1.10e+11, Memory: 2.17e+09\n",
      "Device: cpu, Input length: 10, Time: 1.52e-03, FLOPS: 7.97e+06, Memory: 1.66e+05\n",
      "Device: cuda, Input length: 10, Time: 1.01e-03, FLOPS: 7.97e+06, Memory: 1.66e+05\n",
      "Device: cpu, Input length: 100, Time: 3.57e-03, FLOPS: 8.89e+07, Memory: 1.84e+06\n",
      "Device: cuda, Input length: 100, Time: 1.02e-03, FLOPS: 8.89e+07, Memory: 1.84e+06\n",
      "Device: cpu, Input length: 1000, Time: 7.68e-03, FLOPS: 1.81e+09, Memory: 3.64e+07\n",
      "Device: cuda, Input length: 1000, Time: 1.02e-03, FLOPS: 1.81e+09, Memory: 3.69e+07\n"
     ]
    },
    {
     "name": "stderr",
     "output_type": "stream",
     "text": [
      "Unsupported operator aten::div encountered 1 time(s)\n",
      "Unsupported operator aten::softmax encountered 1 time(s)\n",
      "Unsupported operator aten::div encountered 1 time(s)\n",
      "Unsupported operator aten::softmax encountered 1 time(s)\n",
      "Unsupported operator aten::div encountered 1 time(s)\n"
     ]
    },
    {
     "name": "stdout",
     "output_type": "stream",
     "text": [
      "Device: cpu, Input length: 10000, Time: 2.37e-01, FLOPS: 1.10e+11, Memory: 2.16e+09\n",
      "Device: cuda, Input length: 10000, Time: 5.08e-04, FLOPS: 1.10e+11, Memory: 2.17e+09\n"
     ]
    },
    {
     "name": "stderr",
     "output_type": "stream",
     "text": [
      "Unsupported operator aten::softmax encountered 1 time(s)\n",
      "Unsupported operator aten::div encountered 1 time(s)\n",
      "Unsupported operator aten::softmax encountered 1 time(s)\n",
      "Unsupported operator aten::div encountered 1 time(s)\n",
      "Unsupported operator aten::softmax encountered 1 time(s)\n",
      "Unsupported operator aten::div encountered 1 time(s)\n",
      "Unsupported operator aten::softmax encountered 1 time(s)\n",
      "Unsupported operator aten::div encountered 1 time(s)\n",
      "Unsupported operator aten::softmax encountered 1 time(s)\n",
      "Unsupported operator aten::div encountered 1 time(s)\n",
      "Unsupported operator aten::softmax encountered 1 time(s)\n"
     ]
    },
    {
     "name": "stdout",
     "output_type": "stream",
     "text": [
      "Device: cpu, Input length: 10, Time: 1.53e-03, FLOPS: 7.97e+06, Memory: 1.66e+05\n",
      "Device: cuda, Input length: 10, Time: 2.54e-03, FLOPS: 7.97e+06, Memory: 1.66e+05\n",
      "Device: cpu, Input length: 100, Time: 3.56e-03, FLOPS: 8.89e+07, Memory: 1.84e+06\n",
      "Device: cuda, Input length: 100, Time: 1.01e-03, FLOPS: 8.89e+07, Memory: 1.84e+06\n",
      "Device: cpu, Input length: 1000, Time: 3.11e-02, FLOPS: 1.81e+09, Memory: 3.64e+07\n",
      "Device: cuda, Input length: 1000, Time: 1.02e-03, FLOPS: 1.81e+09, Memory: 3.69e+07\n"
     ]
    },
    {
     "name": "stderr",
     "output_type": "stream",
     "text": [
      "Unsupported operator aten::div encountered 1 time(s)\n",
      "Unsupported operator aten::softmax encountered 1 time(s)\n",
      "Unsupported operator aten::div encountered 1 time(s)\n",
      "Unsupported operator aten::softmax encountered 1 time(s)\n",
      "Unsupported operator aten::div encountered 1 time(s)\n",
      "Unsupported operator aten::softmax encountered 1 time(s)\n",
      "Unsupported operator aten::div encountered 1 time(s)\n"
     ]
    },
    {
     "name": "stdout",
     "output_type": "stream",
     "text": [
      "Device: cpu, Input length: 10000, Time: 2.58e-01, FLOPS: 1.10e+11, Memory: 2.16e+09\n",
      "Device: cuda, Input length: 10000, Time: 5.07e-04, FLOPS: 1.10e+11, Memory: 2.17e+09\n",
      "Device: cpu, Input length: 10, Time: 1.53e-03, FLOPS: 7.97e+06, Memory: 1.66e+05\n"
     ]
    },
    {
     "name": "stderr",
     "output_type": "stream",
     "text": [
      "Unsupported operator aten::softmax encountered 1 time(s)\n",
      "Unsupported operator aten::div encountered 1 time(s)\n",
      "Unsupported operator aten::softmax encountered 1 time(s)\n",
      "Unsupported operator aten::div encountered 1 time(s)\n",
      "Unsupported operator aten::softmax encountered 1 time(s)\n",
      "Unsupported operator aten::div encountered 1 time(s)\n",
      "Unsupported operator aten::softmax encountered 1 time(s)\n",
      "Unsupported operator aten::div encountered 1 time(s)\n",
      "Unsupported operator aten::softmax encountered 1 time(s)\n"
     ]
    },
    {
     "name": "stdout",
     "output_type": "stream",
     "text": [
      "Device: cuda, Input length: 10, Time: 1.01e-03, FLOPS: 7.97e+06, Memory: 1.66e+05\n",
      "Device: cpu, Input length: 100, Time: 3.05e-03, FLOPS: 8.89e+07, Memory: 1.84e+06\n",
      "Device: cuda, Input length: 100, Time: 1.01e-03, FLOPS: 8.89e+07, Memory: 1.84e+06\n",
      "Device: cpu, Input length: 1000, Time: 2.54e-02, FLOPS: 1.81e+09, Memory: 3.64e+07\n",
      "Device: cuda, Input length: 1000, Time: 1.02e-03, FLOPS: 1.81e+09, Memory: 3.69e+07\n"
     ]
    },
    {
     "name": "stderr",
     "output_type": "stream",
     "text": [
      "Unsupported operator aten::div encountered 1 time(s)\n",
      "Unsupported operator aten::softmax encountered 1 time(s)\n",
      "Unsupported operator aten::div encountered 1 time(s)\n",
      "Unsupported operator aten::softmax encountered 1 time(s)\n",
      "Unsupported operator aten::div encountered 1 time(s)\n"
     ]
    },
    {
     "name": "stdout",
     "output_type": "stream",
     "text": [
      "Device: cpu, Input length: 10000, Time: 2.58e-01, FLOPS: 1.10e+11, Memory: 2.16e+09\n",
      "Device: cuda, Input length: 10000, Time: 1.02e-03, FLOPS: 1.10e+11, Memory: 2.17e+09\n"
     ]
    },
    {
     "name": "stderr",
     "output_type": "stream",
     "text": [
      "Unsupported operator aten::softmax encountered 1 time(s)\n",
      "Unsupported operator aten::div encountered 1 time(s)\n",
      "Unsupported operator aten::softmax encountered 1 time(s)\n",
      "Unsupported operator aten::div encountered 1 time(s)\n",
      "Unsupported operator aten::softmax encountered 1 time(s)\n",
      "Unsupported operator aten::div encountered 1 time(s)\n",
      "Unsupported operator aten::softmax encountered 1 time(s)\n",
      "Unsupported operator aten::div encountered 1 time(s)\n",
      "Unsupported operator aten::softmax encountered 1 time(s)\n",
      "Unsupported operator aten::div encountered 1 time(s)\n",
      "Unsupported operator aten::softmax encountered 1 time(s)\n"
     ]
    },
    {
     "name": "stdout",
     "output_type": "stream",
     "text": [
      "Device: cpu, Input length: 10, Time: 1.52e-03, FLOPS: 7.97e+06, Memory: 1.66e+05\n",
      "Device: cuda, Input length: 10, Time: 1.02e-03, FLOPS: 7.97e+06, Memory: 1.66e+05\n",
      "Device: cpu, Input length: 100, Time: 3.06e-03, FLOPS: 8.89e+07, Memory: 1.84e+06\n",
      "Device: cuda, Input length: 100, Time: 1.01e-03, FLOPS: 8.89e+07, Memory: 1.84e+06\n",
      "Device: cpu, Input length: 1000, Time: 2.94e-02, FLOPS: 1.81e+09, Memory: 3.64e+07\n",
      "Device: cuda, Input length: 1000, Time: 1.02e-03, FLOPS: 1.81e+09, Memory: 3.69e+07\n"
     ]
    },
    {
     "name": "stderr",
     "output_type": "stream",
     "text": [
      "Unsupported operator aten::div encountered 1 time(s)\n",
      "Unsupported operator aten::softmax encountered 1 time(s)\n",
      "Unsupported operator aten::div encountered 1 time(s)\n",
      "Unsupported operator aten::softmax encountered 1 time(s)\n",
      "Unsupported operator aten::div encountered 1 time(s)\n",
      "Unsupported operator aten::softmax encountered 1 time(s)\n",
      "Unsupported operator aten::div encountered 1 time(s)\n",
      "Unsupported operator aten::softmax encountered 1 time(s)\n",
      "Unsupported operator aten::div encountered 1 time(s)\n",
      "Unsupported operator aten::softmax encountered 1 time(s)\n",
      "Unsupported operator aten::div encountered 1 time(s)\n",
      "Unsupported operator aten::softmax encountered 1 time(s)\n",
      "Unsupported operator aten::div encountered 1 time(s)\n",
      "Unsupported operator aten::softmax encountered 1 time(s)\n",
      "Unsupported operator aten::div encountered 1 time(s)\n",
      "Unsupported operator aten::softmax encountered 1 time(s)\n"
     ]
    },
    {
     "name": "stdout",
     "output_type": "stream",
     "text": [
      "Device: cpu, Input length: 10000, Time: 2.56e-01, FLOPS: 1.10e+11, Memory: 2.16e+09\n",
      "Device: cuda, Input length: 10000, Time: 1.02e-03, FLOPS: 1.10e+11, Memory: 2.17e+09\n",
      "Device: cpu, Input length: 10, Time: 1.59e-03, FLOPS: 7.97e+06, Memory: 1.66e+05\n",
      "Device: cuda, Input length: 10, Time: 1.53e-03, FLOPS: 7.97e+06, Memory: 1.66e+05\n",
      "Device: cpu, Input length: 100, Time: 3.56e-03, FLOPS: 8.89e+07, Memory: 1.84e+06\n",
      "Device: cuda, Input length: 100, Time: 1.01e-03, FLOPS: 8.89e+07, Memory: 1.84e+06\n",
      "Device: cpu, Input length: 1000, Time: 6.62e-03, FLOPS: 1.81e+09, Memory: 3.64e+07\n",
      "Device: cuda, Input length: 1000, Time: 1.02e-03, FLOPS: 1.81e+09, Memory: 3.69e+07\n"
     ]
    },
    {
     "name": "stderr",
     "output_type": "stream",
     "text": [
      "Unsupported operator aten::div encountered 1 time(s)\n",
      "Unsupported operator aten::softmax encountered 1 time(s)\n",
      "Unsupported operator aten::div encountered 1 time(s)\n",
      "Unsupported operator aten::softmax encountered 1 time(s)\n",
      "Unsupported operator aten::div encountered 1 time(s)\n",
      "Unsupported operator aten::softmax encountered 1 time(s)\n",
      "Unsupported operator aten::div encountered 1 time(s)\n",
      "Unsupported operator aten::softmax encountered 1 time(s)\n",
      "Unsupported operator aten::div encountered 1 time(s)\n",
      "Unsupported operator aten::softmax encountered 1 time(s)\n",
      "Unsupported operator aten::div encountered 1 time(s)\n",
      "Unsupported operator aten::softmax encountered 1 time(s)\n",
      "Unsupported operator aten::div encountered 1 time(s)\n",
      "Unsupported operator aten::softmax encountered 1 time(s)\n",
      "Unsupported operator aten::div encountered 1 time(s)\n",
      "Unsupported operator aten::softmax encountered 1 time(s)\n"
     ]
    },
    {
     "name": "stdout",
     "output_type": "stream",
     "text": [
      "Device: cpu, Input length: 10000, Time: 2.40e-01, FLOPS: 1.10e+11, Memory: 2.16e+09\n",
      "Device: cuda, Input length: 10000, Time: 1.02e-03, FLOPS: 1.10e+11, Memory: 2.17e+09\n",
      "Device: cpu, Input length: 10, Time: 1.54e-03, FLOPS: 7.97e+06, Memory: 1.66e+05\n",
      "Device: cuda, Input length: 10, Time: 1.02e-03, FLOPS: 7.97e+06, Memory: 1.66e+05\n",
      "Device: cpu, Input length: 100, Time: 4.07e-03, FLOPS: 8.89e+07, Memory: 1.84e+06\n",
      "Device: cuda, Input length: 100, Time: 1.53e-03, FLOPS: 8.89e+07, Memory: 1.84e+06\n",
      "Device: cpu, Input length: 1000, Time: 8.16e-03, FLOPS: 1.81e+09, Memory: 3.64e+07\n",
      "Device: cuda, Input length: 1000, Time: 1.02e-03, FLOPS: 1.81e+09, Memory: 3.69e+07\n"
     ]
    },
    {
     "name": "stderr",
     "output_type": "stream",
     "text": [
      "Unsupported operator aten::div encountered 1 time(s)\n",
      "Unsupported operator aten::softmax encountered 1 time(s)\n",
      "Unsupported operator aten::div encountered 1 time(s)\n",
      "Unsupported operator aten::softmax encountered 1 time(s)\n",
      "Unsupported operator aten::div encountered 1 time(s)\n",
      "Unsupported operator aten::softmax encountered 1 time(s)\n",
      "Unsupported operator aten::div encountered 1 time(s)\n",
      "Unsupported operator aten::softmax encountered 1 time(s)\n",
      "Unsupported operator aten::div encountered 1 time(s)\n",
      "Unsupported operator aten::softmax encountered 1 time(s)\n",
      "Unsupported operator aten::div encountered 1 time(s)\n",
      "Unsupported operator aten::softmax encountered 1 time(s)\n",
      "Unsupported operator aten::div encountered 1 time(s)\n",
      "Unsupported operator aten::softmax encountered 1 time(s)\n",
      "Unsupported operator aten::div encountered 1 time(s)\n",
      "Unsupported operator aten::softmax encountered 1 time(s)\n"
     ]
    },
    {
     "name": "stdout",
     "output_type": "stream",
     "text": [
      "Device: cpu, Input length: 10000, Time: 2.38e-01, FLOPS: 1.10e+11, Memory: 2.16e+09\n",
      "Device: cuda, Input length: 10000, Time: 1.52e-03, FLOPS: 1.10e+11, Memory: 2.17e+09\n",
      "Device: cpu, Input length: 10, Time: 1.02e-03, FLOPS: 7.97e+06, Memory: 1.66e+05\n",
      "Device: cuda, Input length: 10, Time: 1.01e-03, FLOPS: 7.97e+06, Memory: 1.66e+05\n",
      "Device: cpu, Input length: 100, Time: 3.56e-03, FLOPS: 8.89e+07, Memory: 1.84e+06\n",
      "Device: cuda, Input length: 100, Time: 2.54e-03, FLOPS: 8.89e+07, Memory: 1.84e+06\n",
      "Device: cpu, Input length: 1000, Time: 6.12e-03, FLOPS: 1.81e+09, Memory: 3.64e+07\n",
      "Device: cuda, Input length: 1000, Time: 1.02e-03, FLOPS: 1.81e+09, Memory: 3.69e+07\n"
     ]
    },
    {
     "name": "stderr",
     "output_type": "stream",
     "text": [
      "Unsupported operator aten::div encountered 1 time(s)\n",
      "Unsupported operator aten::softmax encountered 1 time(s)\n",
      "Unsupported operator aten::div encountered 1 time(s)\n",
      "Unsupported operator aten::softmax encountered 1 time(s)\n",
      "Unsupported operator aten::div encountered 1 time(s)\n",
      "Unsupported operator aten::softmax encountered 1 time(s)\n",
      "Unsupported operator aten::div encountered 1 time(s)\n",
      "Unsupported operator aten::softmax encountered 1 time(s)\n",
      "Unsupported operator aten::div encountered 1 time(s)\n",
      "Unsupported operator aten::softmax encountered 1 time(s)\n",
      "Unsupported operator aten::div encountered 1 time(s)\n",
      "Unsupported operator aten::softmax encountered 1 time(s)\n",
      "Unsupported operator aten::div encountered 1 time(s)\n",
      "Unsupported operator aten::softmax encountered 1 time(s)\n",
      "Unsupported operator aten::div encountered 1 time(s)\n",
      "Unsupported operator aten::softmax encountered 1 time(s)\n"
     ]
    },
    {
     "name": "stdout",
     "output_type": "stream",
     "text": [
      "Device: cpu, Input length: 10000, Time: 2.42e-01, FLOPS: 1.10e+11, Memory: 2.16e+09\n",
      "Device: cuda, Input length: 10000, Time: 1.54e-03, FLOPS: 1.10e+11, Memory: 2.17e+09\n",
      "Device: cpu, Input length: 10, Time: 2.04e-03, FLOPS: 7.97e+06, Memory: 1.66e+05\n",
      "Device: cuda, Input length: 10, Time: 2.03e-03, FLOPS: 7.97e+06, Memory: 1.66e+05\n",
      "Device: cpu, Input length: 100, Time: 3.09e-03, FLOPS: 8.89e+07, Memory: 1.84e+06\n",
      "Device: cuda, Input length: 100, Time: 1.53e-03, FLOPS: 8.89e+07, Memory: 1.84e+06\n",
      "Device: cpu, Input length: 1000, Time: 8.67e-03, FLOPS: 1.81e+09, Memory: 3.64e+07\n",
      "Device: cuda, Input length: 1000, Time: 2.03e-03, FLOPS: 1.81e+09, Memory: 3.69e+07\n"
     ]
    },
    {
     "name": "stderr",
     "output_type": "stream",
     "text": [
      "Unsupported operator aten::div encountered 1 time(s)\n",
      "Unsupported operator aten::softmax encountered 1 time(s)\n",
      "Unsupported operator aten::div encountered 1 time(s)\n",
      "Unsupported operator aten::softmax encountered 1 time(s)\n",
      "Unsupported operator aten::div encountered 1 time(s)\n",
      "Unsupported operator aten::softmax encountered 1 time(s)\n",
      "Unsupported operator aten::div encountered 1 time(s)\n"
     ]
    },
    {
     "name": "stdout",
     "output_type": "stream",
     "text": [
      "Device: cpu, Input length: 10000, Time: 2.71e-01, FLOPS: 1.10e+11, Memory: 2.16e+09\n",
      "Device: cuda, Input length: 10000, Time: 1.01e-03, FLOPS: 1.10e+11, Memory: 2.17e+09\n",
      "Device: cpu, Input length: 10, Time: 1.53e-03, FLOPS: 7.97e+06, Memory: 1.66e+05\n"
     ]
    },
    {
     "name": "stderr",
     "output_type": "stream",
     "text": [
      "Unsupported operator aten::softmax encountered 1 time(s)\n",
      "Unsupported operator aten::div encountered 1 time(s)\n",
      "Unsupported operator aten::softmax encountered 1 time(s)\n",
      "Unsupported operator aten::div encountered 1 time(s)\n",
      "Unsupported operator aten::softmax encountered 1 time(s)\n",
      "Unsupported operator aten::div encountered 1 time(s)\n",
      "Unsupported operator aten::softmax encountered 1 time(s)\n",
      "Unsupported operator aten::div encountered 1 time(s)\n",
      "Unsupported operator aten::softmax encountered 1 time(s)\n"
     ]
    },
    {
     "name": "stdout",
     "output_type": "stream",
     "text": [
      "Device: cuda, Input length: 10, Time: 1.02e-03, FLOPS: 7.97e+06, Memory: 1.66e+05\n",
      "Device: cpu, Input length: 100, Time: 2.02e-03, FLOPS: 8.89e+07, Memory: 1.84e+06\n",
      "Device: cuda, Input length: 100, Time: 1.02e-03, FLOPS: 8.89e+07, Memory: 1.84e+06\n",
      "Device: cpu, Input length: 1000, Time: 3.06e-02, FLOPS: 1.81e+09, Memory: 3.64e+07\n",
      "Device: cuda, Input length: 1000, Time: 1.02e-03, FLOPS: 1.81e+09, Memory: 3.69e+07\n"
     ]
    },
    {
     "name": "stderr",
     "output_type": "stream",
     "text": [
      "Unsupported operator aten::div encountered 1 time(s)\n",
      "Unsupported operator aten::softmax encountered 1 time(s)\n",
      "Unsupported operator aten::div encountered 1 time(s)\n",
      "Unsupported operator aten::softmax encountered 1 time(s)\n",
      "Unsupported operator aten::div encountered 1 time(s)\n"
     ]
    },
    {
     "name": "stdout",
     "output_type": "stream",
     "text": [
      "Device: cpu, Input length: 10000, Time: 2.60e-01, FLOPS: 1.10e+11, Memory: 2.16e+09\n",
      "Device: cuda, Input length: 10000, Time: 1.02e-03, FLOPS: 1.10e+11, Memory: 2.17e+09\n"
     ]
    },
    {
     "name": "stderr",
     "output_type": "stream",
     "text": [
      "Unsupported operator aten::softmax encountered 1 time(s)\n",
      "Unsupported operator aten::div encountered 1 time(s)\n",
      "Unsupported operator aten::softmax encountered 1 time(s)\n",
      "Unsupported operator aten::div encountered 1 time(s)\n",
      "Unsupported operator aten::softmax encountered 1 time(s)\n",
      "Unsupported operator aten::div encountered 1 time(s)\n",
      "Unsupported operator aten::softmax encountered 1 time(s)\n",
      "Unsupported operator aten::div encountered 1 time(s)\n",
      "Unsupported operator aten::softmax encountered 1 time(s)\n",
      "Unsupported operator aten::div encountered 1 time(s)\n",
      "Unsupported operator aten::softmax encountered 1 time(s)\n"
     ]
    },
    {
     "name": "stdout",
     "output_type": "stream",
     "text": [
      "Device: cpu, Input length: 10, Time: 1.53e-03, FLOPS: 7.97e+06, Memory: 1.66e+05\n",
      "Device: cuda, Input length: 10, Time: 1.54e-03, FLOPS: 7.97e+06, Memory: 1.66e+05\n",
      "Device: cpu, Input length: 100, Time: 2.55e-03, FLOPS: 8.89e+07, Memory: 1.84e+06\n",
      "Device: cuda, Input length: 100, Time: 1.02e-03, FLOPS: 8.89e+07, Memory: 1.84e+06\n",
      "Device: cpu, Input length: 1000, Time: 2.80e-02, FLOPS: 1.81e+09, Memory: 3.64e+07\n",
      "Device: cuda, Input length: 1000, Time: 1.02e-03, FLOPS: 1.81e+09, Memory: 3.69e+07\n"
     ]
    },
    {
     "name": "stderr",
     "output_type": "stream",
     "text": [
      "Unsupported operator aten::div encountered 1 time(s)\n",
      "Unsupported operator aten::softmax encountered 1 time(s)\n",
      "Unsupported operator aten::div encountered 1 time(s)\n",
      "Unsupported operator aten::softmax encountered 1 time(s)\n",
      "Unsupported operator aten::div encountered 1 time(s)\n"
     ]
    },
    {
     "name": "stdout",
     "output_type": "stream",
     "text": [
      "Device: cpu, Input length: 10000, Time: 2.57e-01, FLOPS: 1.10e+11, Memory: 2.16e+09\n",
      "Device: cuda, Input length: 10000, Time: 5.14e-04, FLOPS: 1.10e+11, Memory: 2.17e+09\n"
     ]
    },
    {
     "name": "stderr",
     "output_type": "stream",
     "text": [
      "Unsupported operator aten::softmax encountered 1 time(s)\n",
      "Unsupported operator aten::div encountered 1 time(s)\n",
      "Unsupported operator aten::softmax encountered 1 time(s)\n",
      "Unsupported operator aten::div encountered 1 time(s)\n",
      "Unsupported operator aten::softmax encountered 1 time(s)\n",
      "Unsupported operator aten::div encountered 1 time(s)\n",
      "Unsupported operator aten::softmax encountered 1 time(s)\n",
      "Unsupported operator aten::div encountered 1 time(s)\n",
      "Unsupported operator aten::softmax encountered 1 time(s)\n",
      "Unsupported operator aten::div encountered 1 time(s)\n",
      "Unsupported operator aten::softmax encountered 1 time(s)\n"
     ]
    },
    {
     "name": "stdout",
     "output_type": "stream",
     "text": [
      "Device: cpu, Input length: 10, Time: 1.54e-03, FLOPS: 7.97e+06, Memory: 1.66e+05\n",
      "Device: cuda, Input length: 10, Time: 1.53e-03, FLOPS: 7.97e+06, Memory: 1.66e+05\n",
      "Device: cpu, Input length: 100, Time: 3.63e-03, FLOPS: 8.89e+07, Memory: 1.84e+06\n",
      "Device: cuda, Input length: 100, Time: 1.53e-03, FLOPS: 8.89e+07, Memory: 1.84e+06\n",
      "Device: cpu, Input length: 1000, Time: 3.17e-02, FLOPS: 1.81e+09, Memory: 3.64e+07\n",
      "Device: cuda, Input length: 1000, Time: 1.01e-03, FLOPS: 1.81e+09, Memory: 3.69e+07\n"
     ]
    },
    {
     "name": "stderr",
     "output_type": "stream",
     "text": [
      "Unsupported operator aten::div encountered 1 time(s)\n",
      "Unsupported operator aten::softmax encountered 1 time(s)\n",
      "Unsupported operator aten::div encountered 1 time(s)\n",
      "Unsupported operator aten::softmax encountered 1 time(s)\n",
      "Unsupported operator aten::div encountered 1 time(s)\n",
      "Unsupported operator aten::softmax encountered 1 time(s)\n",
      "Unsupported operator aten::div encountered 1 time(s)\n"
     ]
    },
    {
     "name": "stdout",
     "output_type": "stream",
     "text": [
      "Device: cpu, Input length: 10000, Time: 2.59e-01, FLOPS: 1.10e+11, Memory: 2.16e+09\n",
      "Device: cuda, Input length: 10000, Time: 1.03e-03, FLOPS: 1.10e+11, Memory: 2.17e+09\n",
      "Device: cpu, Input length: 10, Time: 1.53e-03, FLOPS: 7.97e+06, Memory: 1.66e+05\n"
     ]
    },
    {
     "name": "stderr",
     "output_type": "stream",
     "text": [
      "Unsupported operator aten::softmax encountered 1 time(s)\n",
      "Unsupported operator aten::div encountered 1 time(s)\n",
      "Unsupported operator aten::softmax encountered 1 time(s)\n",
      "Unsupported operator aten::div encountered 1 time(s)\n",
      "Unsupported operator aten::softmax encountered 1 time(s)\n",
      "Unsupported operator aten::div encountered 1 time(s)\n",
      "Unsupported operator aten::softmax encountered 1 time(s)\n",
      "Unsupported operator aten::div encountered 1 time(s)\n",
      "Unsupported operator aten::softmax encountered 1 time(s)\n"
     ]
    },
    {
     "name": "stdout",
     "output_type": "stream",
     "text": [
      "Device: cuda, Input length: 10, Time: 1.52e-03, FLOPS: 7.97e+06, Memory: 1.66e+05\n",
      "Device: cpu, Input length: 100, Time: 2.54e-03, FLOPS: 8.89e+07, Memory: 1.84e+06\n",
      "Device: cuda, Input length: 100, Time: 1.53e-03, FLOPS: 8.89e+07, Memory: 1.84e+06\n",
      "Device: cpu, Input length: 1000, Time: 3.31e-02, FLOPS: 1.81e+09, Memory: 3.64e+07\n",
      "Device: cuda, Input length: 1000, Time: 1.02e-03, FLOPS: 1.81e+09, Memory: 3.69e+07\n"
     ]
    },
    {
     "name": "stderr",
     "output_type": "stream",
     "text": [
      "Unsupported operator aten::div encountered 1 time(s)\n",
      "Unsupported operator aten::softmax encountered 1 time(s)\n",
      "Unsupported operator aten::div encountered 1 time(s)\n",
      "Unsupported operator aten::softmax encountered 1 time(s)\n",
      "Unsupported operator aten::div encountered 1 time(s)\n",
      "Unsupported operator aten::softmax encountered 1 time(s)\n",
      "Unsupported operator aten::div encountered 1 time(s)\n"
     ]
    },
    {
     "name": "stdout",
     "output_type": "stream",
     "text": [
      "Device: cpu, Input length: 10000, Time: 2.59e-01, FLOPS: 1.10e+11, Memory: 2.16e+09\n",
      "Device: cuda, Input length: 10000, Time: 1.02e-03, FLOPS: 1.10e+11, Memory: 2.17e+09\n",
      "Device: cpu, Input length: 10, Time: 1.52e-03, FLOPS: 7.97e+06, Memory: 1.66e+05\n"
     ]
    },
    {
     "name": "stderr",
     "output_type": "stream",
     "text": [
      "Unsupported operator aten::softmax encountered 1 time(s)\n",
      "Unsupported operator aten::div encountered 1 time(s)\n",
      "Unsupported operator aten::softmax encountered 1 time(s)\n",
      "Unsupported operator aten::div encountered 1 time(s)\n",
      "Unsupported operator aten::softmax encountered 1 time(s)\n",
      "Unsupported operator aten::div encountered 1 time(s)\n",
      "Unsupported operator aten::softmax encountered 1 time(s)\n",
      "Unsupported operator aten::div encountered 1 time(s)\n",
      "Unsupported operator aten::softmax encountered 1 time(s)\n"
     ]
    },
    {
     "name": "stdout",
     "output_type": "stream",
     "text": [
      "Device: cuda, Input length: 10, Time: 1.01e-03, FLOPS: 7.97e+06, Memory: 1.66e+05\n",
      "Device: cpu, Input length: 100, Time: 2.53e-03, FLOPS: 8.89e+07, Memory: 1.84e+06\n",
      "Device: cuda, Input length: 100, Time: 1.02e-03, FLOPS: 8.89e+07, Memory: 1.84e+06\n",
      "Device: cpu, Input length: 1000, Time: 2.63e-02, FLOPS: 1.81e+09, Memory: 3.64e+07\n",
      "Device: cuda, Input length: 1000, Time: 1.02e-03, FLOPS: 1.81e+09, Memory: 3.69e+07\n"
     ]
    },
    {
     "name": "stderr",
     "output_type": "stream",
     "text": [
      "Unsupported operator aten::div encountered 1 time(s)\n",
      "Unsupported operator aten::softmax encountered 1 time(s)\n",
      "Unsupported operator aten::div encountered 1 time(s)\n",
      "Unsupported operator aten::softmax encountered 1 time(s)\n",
      "Unsupported operator aten::div encountered 1 time(s)\n",
      "Unsupported operator aten::softmax encountered 1 time(s)\n",
      "Unsupported operator aten::div encountered 1 time(s)\n"
     ]
    },
    {
     "name": "stdout",
     "output_type": "stream",
     "text": [
      "Device: cpu, Input length: 10000, Time: 2.56e-01, FLOPS: 1.10e+11, Memory: 2.16e+09\n",
      "Device: cuda, Input length: 10000, Time: 1.04e-03, FLOPS: 1.10e+11, Memory: 2.17e+09\n",
      "Device: cpu, Input length: 10, Time: 1.53e-03, FLOPS: 7.97e+06, Memory: 1.66e+05\n"
     ]
    },
    {
     "name": "stderr",
     "output_type": "stream",
     "text": [
      "Unsupported operator aten::softmax encountered 1 time(s)\n",
      "Unsupported operator aten::div encountered 1 time(s)\n",
      "Unsupported operator aten::softmax encountered 1 time(s)\n",
      "Unsupported operator aten::div encountered 1 time(s)\n",
      "Unsupported operator aten::softmax encountered 1 time(s)\n",
      "Unsupported operator aten::div encountered 1 time(s)\n",
      "Unsupported operator aten::softmax encountered 1 time(s)\n",
      "Unsupported operator aten::div encountered 1 time(s)\n",
      "Unsupported operator aten::softmax encountered 1 time(s)\n"
     ]
    },
    {
     "name": "stdout",
     "output_type": "stream",
     "text": [
      "Device: cuda, Input length: 10, Time: 1.02e-03, FLOPS: 7.97e+06, Memory: 1.66e+05\n",
      "Device: cpu, Input length: 100, Time: 2.04e-03, FLOPS: 8.89e+07, Memory: 1.84e+06\n",
      "Device: cuda, Input length: 100, Time: 5.11e-04, FLOPS: 8.89e+07, Memory: 1.84e+06\n",
      "Device: cpu, Input length: 1000, Time: 2.81e-02, FLOPS: 1.81e+09, Memory: 3.64e+07\n",
      "Device: cuda, Input length: 1000, Time: 1.02e-03, FLOPS: 1.81e+09, Memory: 3.69e+07\n"
     ]
    },
    {
     "name": "stderr",
     "output_type": "stream",
     "text": [
      "Unsupported operator aten::div encountered 1 time(s)\n",
      "Unsupported operator aten::softmax encountered 1 time(s)\n",
      "Unsupported operator aten::div encountered 1 time(s)\n",
      "Unsupported operator aten::softmax encountered 1 time(s)\n",
      "Unsupported operator aten::div encountered 1 time(s)\n"
     ]
    },
    {
     "name": "stdout",
     "output_type": "stream",
     "text": [
      "Device: cpu, Input length: 10000, Time: 2.55e-01, FLOPS: 1.10e+11, Memory: 2.16e+09\n",
      "Device: cuda, Input length: 10000, Time: 1.02e-03, FLOPS: 1.10e+11, Memory: 2.17e+09\n"
     ]
    },
    {
     "name": "stderr",
     "output_type": "stream",
     "text": [
      "Unsupported operator aten::softmax encountered 1 time(s)\n",
      "Unsupported operator aten::div encountered 1 time(s)\n",
      "Unsupported operator aten::softmax encountered 1 time(s)\n",
      "Unsupported operator aten::div encountered 1 time(s)\n",
      "Unsupported operator aten::softmax encountered 1 time(s)\n",
      "Unsupported operator aten::div encountered 1 time(s)\n",
      "Unsupported operator aten::softmax encountered 1 time(s)\n",
      "Unsupported operator aten::div encountered 1 time(s)\n",
      "Unsupported operator aten::softmax encountered 1 time(s)\n",
      "Unsupported operator aten::div encountered 1 time(s)\n",
      "Unsupported operator aten::softmax encountered 1 time(s)\n"
     ]
    },
    {
     "name": "stdout",
     "output_type": "stream",
     "text": [
      "Device: cpu, Input length: 10, Time: 1.52e-03, FLOPS: 7.97e+06, Memory: 1.66e+05\n",
      "Device: cuda, Input length: 10, Time: 1.01e-03, FLOPS: 7.97e+06, Memory: 1.66e+05\n",
      "Device: cpu, Input length: 100, Time: 3.05e-03, FLOPS: 8.89e+07, Memory: 1.84e+06\n",
      "Device: cuda, Input length: 100, Time: 1.02e-03, FLOPS: 8.89e+07, Memory: 1.84e+06\n",
      "Device: cpu, Input length: 1000, Time: 2.56e-02, FLOPS: 1.81e+09, Memory: 3.64e+07\n",
      "Device: cuda, Input length: 1000, Time: 1.02e-03, FLOPS: 1.81e+09, Memory: 3.69e+07\n"
     ]
    },
    {
     "name": "stderr",
     "output_type": "stream",
     "text": [
      "Unsupported operator aten::div encountered 1 time(s)\n",
      "Unsupported operator aten::softmax encountered 1 time(s)\n",
      "Unsupported operator aten::div encountered 1 time(s)\n",
      "Unsupported operator aten::softmax encountered 1 time(s)\n",
      "Unsupported operator aten::div encountered 1 time(s)\n"
     ]
    },
    {
     "name": "stdout",
     "output_type": "stream",
     "text": [
      "Device: cpu, Input length: 10000, Time: 2.60e-01, FLOPS: 1.10e+11, Memory: 2.16e+09\n",
      "Device: cuda, Input length: 10000, Time: 1.02e-03, FLOPS: 1.10e+11, Memory: 2.17e+09\n"
     ]
    },
    {
     "name": "stderr",
     "output_type": "stream",
     "text": [
      "Unsupported operator aten::softmax encountered 1 time(s)\n",
      "Unsupported operator aten::div encountered 1 time(s)\n",
      "Unsupported operator aten::softmax encountered 1 time(s)\n",
      "Unsupported operator aten::div encountered 1 time(s)\n",
      "Unsupported operator aten::softmax encountered 1 time(s)\n",
      "Unsupported operator aten::div encountered 1 time(s)\n",
      "Unsupported operator aten::softmax encountered 1 time(s)\n",
      "Unsupported operator aten::div encountered 1 time(s)\n",
      "Unsupported operator aten::softmax encountered 1 time(s)\n",
      "Unsupported operator aten::div encountered 1 time(s)\n",
      "Unsupported operator aten::softmax encountered 1 time(s)\n"
     ]
    },
    {
     "name": "stdout",
     "output_type": "stream",
     "text": [
      "Device: cpu, Input length: 10, Time: 2.05e-03, FLOPS: 7.97e+06, Memory: 1.66e+05\n",
      "Device: cuda, Input length: 10, Time: 1.02e-03, FLOPS: 7.97e+06, Memory: 1.66e+05\n",
      "Device: cpu, Input length: 100, Time: 3.07e-03, FLOPS: 8.89e+07, Memory: 1.84e+06\n",
      "Device: cuda, Input length: 100, Time: 1.02e-03, FLOPS: 8.89e+07, Memory: 1.84e+06\n",
      "Device: cpu, Input length: 1000, Time: 2.80e-02, FLOPS: 1.81e+09, Memory: 3.64e+07\n",
      "Device: cuda, Input length: 1000, Time: 2.04e-03, FLOPS: 1.81e+09, Memory: 3.69e+07\n"
     ]
    },
    {
     "name": "stderr",
     "output_type": "stream",
     "text": [
      "Unsupported operator aten::div encountered 1 time(s)\n",
      "Unsupported operator aten::softmax encountered 1 time(s)\n",
      "Unsupported operator aten::div encountered 1 time(s)\n",
      "Unsupported operator aten::softmax encountered 1 time(s)\n",
      "Unsupported operator aten::div encountered 1 time(s)\n",
      "Unsupported operator aten::softmax encountered 1 time(s)\n",
      "Unsupported operator aten::div encountered 1 time(s)\n"
     ]
    },
    {
     "name": "stdout",
     "output_type": "stream",
     "text": [
      "Device: cpu, Input length: 10000, Time: 2.59e-01, FLOPS: 1.10e+11, Memory: 2.16e+09\n",
      "Device: cuda, Input length: 10000, Time: 1.03e-03, FLOPS: 1.10e+11, Memory: 2.17e+09\n",
      "Device: cpu, Input length: 10, Time: 1.53e-03, FLOPS: 7.97e+06, Memory: 1.66e+05\n"
     ]
    },
    {
     "name": "stderr",
     "output_type": "stream",
     "text": [
      "Unsupported operator aten::softmax encountered 1 time(s)\n",
      "Unsupported operator aten::div encountered 1 time(s)\n",
      "Unsupported operator aten::softmax encountered 1 time(s)\n",
      "Unsupported operator aten::div encountered 1 time(s)\n",
      "Unsupported operator aten::softmax encountered 1 time(s)\n",
      "Unsupported operator aten::div encountered 1 time(s)\n",
      "Unsupported operator aten::softmax encountered 1 time(s)\n",
      "Unsupported operator aten::div encountered 1 time(s)\n",
      "Unsupported operator aten::softmax encountered 1 time(s)\n"
     ]
    },
    {
     "name": "stdout",
     "output_type": "stream",
     "text": [
      "Device: cuda, Input length: 10, Time: 1.02e-03, FLOPS: 7.97e+06, Memory: 1.66e+05\n",
      "Device: cpu, Input length: 100, Time: 2.54e-03, FLOPS: 8.89e+07, Memory: 1.84e+06\n",
      "Device: cuda, Input length: 100, Time: 2.03e-03, FLOPS: 8.89e+07, Memory: 1.84e+06\n",
      "Device: cpu, Input length: 1000, Time: 2.67e-02, FLOPS: 1.81e+09, Memory: 3.64e+07\n",
      "Device: cuda, Input length: 1000, Time: 1.02e-03, FLOPS: 1.81e+09, Memory: 3.69e+07\n"
     ]
    },
    {
     "name": "stderr",
     "output_type": "stream",
     "text": [
      "Unsupported operator aten::div encountered 1 time(s)\n",
      "Unsupported operator aten::softmax encountered 1 time(s)\n",
      "Unsupported operator aten::div encountered 1 time(s)\n",
      "Unsupported operator aten::softmax encountered 1 time(s)\n",
      "Unsupported operator aten::div encountered 1 time(s)\n",
      "Unsupported operator aten::softmax encountered 1 time(s)\n",
      "Unsupported operator aten::div encountered 1 time(s)\n"
     ]
    },
    {
     "name": "stdout",
     "output_type": "stream",
     "text": [
      "Device: cpu, Input length: 10000, Time: 2.63e-01, FLOPS: 1.10e+11, Memory: 2.16e+09\n",
      "Device: cuda, Input length: 10000, Time: 1.02e-03, FLOPS: 1.10e+11, Memory: 2.17e+09\n",
      "Device: cpu, Input length: 10, Time: 1.52e-03, FLOPS: 7.97e+06, Memory: 1.66e+05\n"
     ]
    },
    {
     "name": "stderr",
     "output_type": "stream",
     "text": [
      "Unsupported operator aten::softmax encountered 1 time(s)\n",
      "Unsupported operator aten::div encountered 1 time(s)\n",
      "Unsupported operator aten::softmax encountered 1 time(s)\n",
      "Unsupported operator aten::div encountered 1 time(s)\n",
      "Unsupported operator aten::softmax encountered 1 time(s)\n",
      "Unsupported operator aten::div encountered 1 time(s)\n",
      "Unsupported operator aten::softmax encountered 1 time(s)\n",
      "Unsupported operator aten::div encountered 1 time(s)\n",
      "Unsupported operator aten::softmax encountered 1 time(s)\n"
     ]
    },
    {
     "name": "stdout",
     "output_type": "stream",
     "text": [
      "Device: cuda, Input length: 10, Time: 1.02e-03, FLOPS: 7.97e+06, Memory: 1.66e+05\n",
      "Device: cpu, Input length: 100, Time: 2.54e-03, FLOPS: 8.89e+07, Memory: 1.84e+06\n",
      "Device: cuda, Input length: 100, Time: 1.02e-03, FLOPS: 8.89e+07, Memory: 1.84e+06\n",
      "Device: cpu, Input length: 1000, Time: 2.65e-02, FLOPS: 1.81e+09, Memory: 3.64e+07\n",
      "Device: cuda, Input length: 1000, Time: 1.60e-03, FLOPS: 1.81e+09, Memory: 3.69e+07\n"
     ]
    },
    {
     "name": "stderr",
     "output_type": "stream",
     "text": [
      "Unsupported operator aten::div encountered 1 time(s)\n",
      "Unsupported operator aten::softmax encountered 1 time(s)\n",
      "Unsupported operator aten::div encountered 1 time(s)\n",
      "Unsupported operator aten::softmax encountered 1 time(s)\n",
      "Unsupported operator aten::div encountered 1 time(s)\n",
      "Unsupported operator aten::softmax encountered 1 time(s)\n",
      "Unsupported operator aten::div encountered 1 time(s)\n"
     ]
    },
    {
     "name": "stdout",
     "output_type": "stream",
     "text": [
      "Device: cpu, Input length: 10000, Time: 2.57e-01, FLOPS: 1.10e+11, Memory: 2.16e+09\n",
      "Device: cuda, Input length: 10000, Time: 5.08e-04, FLOPS: 1.10e+11, Memory: 2.17e+09\n",
      "Device: cpu, Input length: 10, Time: 1.02e-03, FLOPS: 7.97e+06, Memory: 1.66e+05\n"
     ]
    },
    {
     "name": "stderr",
     "output_type": "stream",
     "text": [
      "Unsupported operator aten::softmax encountered 1 time(s)\n",
      "Unsupported operator aten::div encountered 1 time(s)\n",
      "Unsupported operator aten::softmax encountered 1 time(s)\n",
      "Unsupported operator aten::div encountered 1 time(s)\n",
      "Unsupported operator aten::softmax encountered 1 time(s)\n",
      "Unsupported operator aten::div encountered 1 time(s)\n",
      "Unsupported operator aten::softmax encountered 1 time(s)\n",
      "Unsupported operator aten::div encountered 1 time(s)\n",
      "Unsupported operator aten::softmax encountered 1 time(s)\n"
     ]
    },
    {
     "name": "stdout",
     "output_type": "stream",
     "text": [
      "Device: cuda, Input length: 10, Time: 1.01e-03, FLOPS: 7.97e+06, Memory: 1.66e+05\n",
      "Device: cpu, Input length: 100, Time: 3.56e-03, FLOPS: 8.89e+07, Memory: 1.84e+06\n",
      "Device: cuda, Input length: 100, Time: 1.02e-03, FLOPS: 8.89e+07, Memory: 1.84e+06\n",
      "Device: cpu, Input length: 1000, Time: 2.55e-02, FLOPS: 1.81e+09, Memory: 3.64e+07\n",
      "Device: cuda, Input length: 1000, Time: 5.39e-04, FLOPS: 1.81e+09, Memory: 3.69e+07\n"
     ]
    },
    {
     "name": "stderr",
     "output_type": "stream",
     "text": [
      "Unsupported operator aten::div encountered 1 time(s)\n",
      "Unsupported operator aten::softmax encountered 1 time(s)\n",
      "Unsupported operator aten::div encountered 1 time(s)\n",
      "Unsupported operator aten::softmax encountered 1 time(s)\n"
     ]
    },
    {
     "name": "stdout",
     "output_type": "stream",
     "text": [
      "Device: cpu, Input length: 10000, Time: 2.61e-01, FLOPS: 1.10e+11, Memory: 2.16e+09\n",
      "Device: cuda, Input length: 10000, Time: 1.02e-03, FLOPS: 1.10e+11, Memory: 2.17e+09\n"
     ]
    },
    {
     "data": {
      "image/png": "[encoded data removed]",
      "text/plain": [
       "<Figure size 1000x600 with 1 Axes>"
      ]
     },
     "metadata": {},
     "output_type": "display_data"
    },
    {
     "data": {
      "image/png": "[encoded data removed]",
      "text/plain": [
       "<Figure size 1000x600 with 1 Axes>"
      ]
     },
     "metadata": {},
     "output_type": "display_data"
    },
    {
     "data": {
      "image/png": "[encoded data removed]",
      "text/plain": [
       "<Figure size 1000x600 with 1 Axes>"
      ]
     },
     "metadata": {},
     "output_type": "display_data"
    }
   ],
   "source": [
    "import pandas as pd\n",
    "import matplotlib.pyplot as plt\n",
    "import seaborn as sns\n",
    "\n",
    "# Do a warmup run \n",
    "attn_profiler(10000)\n",
    "attn_profiler(10000, 'cuda')\n",
    "\n",
    "# Initialize lists to store results\n",
    "results = []\n",
    "\n",
    "# Run the profiler 100 times for each input length and device, and store the results\n",
    "for i in range(100):\n",
    "    for input_length in input_lengths:\n",
    "        for device in devices:\n",
    "            result = attn_profiler(input_length, device)  # Result is a dictionary\n",
    "            results.append(result)  # Append the whole result dictionary to the list\n",
    "\n",
    "# Convert the list of dictionaries to a DataFrame\n",
    "df = pd.DataFrame(results)\n",
    "\n",
    "# Plotting time, FLOPS, and memory separately with error bars\n",
    "metrics = ['time', 'flops', 'memory']\n",
    "titles = {\n",
    "    'time': 'Execution Time vs Input Length',\n",
    "    'flops': 'FLOPS vs Input Length',\n",
    "    'memory': 'Memory Usage vs Input Length'\n",
    "}\n",
    "y_labels = {\n",
    "    'time': 'Time (s)',\n",
    "    'flops': 'FLOPS',\n",
    "    'memory': 'Memory Usage (bytes)'\n",
    "}\n",
    "\n",
    "# Plot each metric\n",
    "for metric in metrics:\n",
    "    plt.figure(figsize=(10, 6))\n",
    "    sns.lineplot(\n",
    "        data=df,\n",
    "        x='input_length', \n",
    "        y=metric, \n",
    "        hue='device', \n",
    "        errorbar='sd',  \n",
    "        marker='o'\n",
    "    )\n",
    "    \n",
    "    plt.title(titles[metric])\n",
    "    plt.xlabel('Input Length')\n",
    "    plt.ylabel(y_labels[metric])\n",
    "    plt.xscale('log')  \n",
    "    plt.yscale('log')\n",
    "    plt.legend(title='Device')\n",
    "    plt.grid(True)\n",
    "    plt.show()"
   ]
  },
  {
   "cell_type": "code",
   "execution_count": null,
   "metadata": {},
   "outputs": [],
   "source": []
  }
 ],
 "metadata": {
  "kernelspec": {
   "display_name": "ssm_hw5",
   "language": "python",
   "name": "python3"
  },
  "language_info": {
   "codemirror_mode": {
    "name": "ipython",
    "version": 3
   },
   "file_extension": ".py",
   "mimetype": "text/x-python",
   "name": "python",
   "nbconvert_exporter": "python",
   "pygments_lexer": "ipython3",
   "version": "3.10.13"
  }
 },
 "nbformat": 4,
 "nbformat_minor": 2
}
