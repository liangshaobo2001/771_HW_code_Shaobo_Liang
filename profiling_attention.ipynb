{
 "cells": [
  {
   "cell_type": "code",
   "execution_count": 1,
   "metadata": {},
   "outputs": [
    {
     "name": "stderr",
     "output_type": "stream",
     "text": [
      "f:\\Programs\\anaconda3\\envs\\ssm_hw5\\lib\\site-packages\\tqdm\\auto.py:21: TqdmWarning: IProgress not found. Please update jupyter and ipywidgets. See https://ipywidgets.readthedocs.io/en/stable/user_install.html\n",
      "  from .autonotebook import tqdm as notebook_tqdm\n"
     ]
    }
   ],
   "source": [
    "# Code for profiling the performance of attention\n",
    "\n",
    "import torch\n",
    "import torch.nn as nn\n",
    "import time\n",
    "import torchvision.models as models\n",
    "from torch.profiler import profile, record_function, ProfilerActivity\n",
    "from fvcore.nn import FlopCountAnalysis\n",
    "import torchprofile\n",
    "import tracemalloc\n",
    "\n",
    "input_lengths = [10, 100, 1000, 10000]#, 100000]\n",
    "devices = ['cpu', 'cuda']\n",
    "dim = 512\n",
    "\n",
    "class AttentionModel(nn.Module):\n",
    "    def __init__(self):\n",
    "        super(AttentionModel, self).__init__()\n",
    "        self.Q = nn.Linear(dim, dim)\n",
    "        self.K = nn.Linear(dim, dim)\n",
    "        self.V = nn.Linear(dim, dim)\n",
    "        self.softmax = nn.Softmax(dim=2)\n",
    "\n",
    "    def forward(self, input):\n",
    "        return self.softmax((self.Q(input) @ self.K(input).transpose(1, 2)) / (dim ** 0.5)) @ self.V(input)\n",
    "\n",
    "\n",
    "def attn_profiler(input_length, device='cpu'):\n",
    "    device = torch.device(device)\n",
    "\n",
    "    # Randomly sample words for the input sentence\n",
    "    input = torch.randn(1, input_length, dim).to(device)\n",
    "    model = AttentionModel().to(device)\n",
    "\n",
    "    with torch.profiler.profile(\n",
    "            activities=[\n",
    "                torch.profiler.ProfilerActivity.CPU,\n",
    "                torch.profiler.ProfilerActivity.CUDA],\n",
    "            profile_memory=True,   \n",
    "            record_shapes=True) as prof:\n",
    "        # start = time.time()\n",
    "        model(input)\n",
    "        # end = time.time()\n",
    "\n",
    "    start = time.time()\n",
    "    for i in range(10):\n",
    "        model(input)\n",
    "    end = time.time()\n",
    "\n",
    "    stats = prof.key_averages()\n",
    "    cuda_memory_usage = sum([s.cuda_memory_usage for s in stats if s.cuda_memory_usage > 0])\n",
    "    cpu_memory_usage = sum([s.cpu_memory_usage for s in stats if s.cpu_memory_usage > 0])\n",
    "    memory_usage = cuda_memory_usage if device == torch.device('cuda') else cpu_memory_usage\n",
    "    \n",
    "    runtime = end - start\n",
    "    flop_counter = FlopCountAnalysis(model, input)\n",
    "    flops = flop_counter.total()\n",
    "    \n",
    "    print(f\"Device: {device}, Input length: {input_length}, Time: {runtime:.2e}, FLOPS: {flops:.2e}, Memory: {memory_usage:.2e}\")\n",
    "\n",
    "    # del model\n",
    "\n",
    "    return {\n",
    "        \"input_length\": input_length,\n",
    "        \"device\": device,\n",
    "        \"time\": runtime,\n",
    "        \"flops\": flops,\n",
    "        \"memory\": memory_usage,        \n",
    "    }\n"
   ]
  },
  {
   "cell_type": "code",
   "execution_count": 2,
   "metadata": {},
   "outputs": [
    {
     "name": "stderr",
     "output_type": "stream",
     "text": [
      "Unsupported operator aten::div encountered 1 time(s)\n",
      "Unsupported operator aten::softmax encountered 1 time(s)\n",
      "Unsupported operator aten::div encountered 1 time(s)\n",
      "Unsupported operator aten::softmax encountered 1 time(s)\n"
     ]
    },
    {
     "name": "stdout",
     "output_type": "stream",
     "text": [
      "Device: cpu, Input length: 10000, Time: 2.36e+00, FLOPS: 1.10e+11, Memory: 2.16e+09\n",
      "Device: cuda, Input length: 10000, Time: 2.04e-03, FLOPS: 1.10e+11, Memory: 2.19e+09\n"
     ]
    },
    {
     "name": "stderr",
     "output_type": "stream",
     "text": [
      "  0%|          | 0/100 [00:00<?, ?it/s]Unsupported operator aten::div encountered 1 time(s)\n",
      "Unsupported operator aten::softmax encountered 1 time(s)\n",
      "Unsupported operator aten::div encountered 1 time(s)\n"
     ]
    },
    {
     "name": "stdout",
     "output_type": "stream",
     "text": [
      "Device: cpu, Input length: 10, Time: 4.58e-03, FLOPS: 7.97e+06, Memory: 1.66e+05\n"
     ]
    },
    {
     "name": "stderr",
     "output_type": "stream",
     "text": [
      "Unsupported operator aten::softmax encountered 1 time(s)\n",
      "Unsupported operator aten::div encountered 1 time(s)\n",
      "Unsupported operator aten::softmax encountered 1 time(s)\n",
      "Unsupported operator aten::div encountered 1 time(s)\n",
      "Unsupported operator aten::softmax encountered 1 time(s)\n",
      "Unsupported operator aten::div encountered 1 time(s)\n",
      "Unsupported operator aten::softmax encountered 1 time(s)\n",
      "Unsupported operator aten::div encountered 1 time(s)\n"
     ]
    },
    {
     "name": "stdout",
     "output_type": "stream",
     "text": [
      "Device: cuda, Input length: 10, Time: 2.05e-03, FLOPS: 7.97e+06, Memory: 1.66e+05\n",
      "Device: cpu, Input length: 100, Time: 9.20e-03, FLOPS: 8.89e+07, Memory: 1.84e+06\n",
      "Device: cuda, Input length: 100, Time: 2.04e-03, FLOPS: 8.89e+07, Memory: 1.84e+06\n",
      "Device: cpu, Input length: 1000, Time: 4.49e-02, FLOPS: 1.81e+09, Memory: 3.64e+07\n"
     ]
    },
    {
     "name": "stderr",
     "output_type": "stream",
     "text": [
      "Unsupported operator aten::softmax encountered 1 time(s)\n"
     ]
    },
    {
     "name": "stdout",
     "output_type": "stream",
     "text": [
      "Device: cuda, Input length: 1000, Time: 2.04e-03, FLOPS: 1.81e+09, Memory: 3.69e+07\n"
     ]
    },
    {
     "name": "stderr",
     "output_type": "stream",
     "text": [
      "Unsupported operator aten::div encountered 1 time(s)\n",
      "Unsupported operator aten::softmax encountered 1 time(s)\n",
      "Unsupported operator aten::div encountered 1 time(s)\n",
      "Unsupported operator aten::softmax encountered 1 time(s)\n",
      "  1%|          | 1/100 [00:03<05:14,  3.18s/it]Unsupported operator aten::div encountered 1 time(s)\n",
      "Unsupported operator aten::softmax encountered 1 time(s)\n",
      "Unsupported operator aten::div encountered 1 time(s)\n",
      "Unsupported operator aten::softmax encountered 1 time(s)\n",
      "Unsupported operator aten::div encountered 1 time(s)\n",
      "Unsupported operator aten::softmax encountered 1 time(s)\n",
      "Unsupported operator aten::div encountered 1 time(s)\n",
      "Unsupported operator aten::softmax encountered 1 time(s)\n"
     ]
    },
    {
     "name": "stdout",
     "output_type": "stream",
     "text": [
      "Device: cpu, Input length: 10000, Time: 2.36e+00, FLOPS: 1.10e+11, Memory: 2.16e+09\n",
      "Device: cuda, Input length: 10000, Time: 2.04e-03, FLOPS: 1.10e+11, Memory: 2.17e+09\n",
      "Device: cpu, Input length: 10, Time: 5.08e-03, FLOPS: 7.97e+06, Memory: 1.66e+05\n",
      "Device: cuda, Input length: 10, Time: 2.54e-03, FLOPS: 7.97e+06, Memory: 1.66e+05\n",
      "Device: cpu, Input length: 100, Time: 9.17e-03, FLOPS: 8.89e+07, Memory: 1.84e+06\n",
      "Device: cuda, Input length: 100, Time: 2.04e-03, FLOPS: 8.89e+07, Memory: 1.84e+06\n"
     ]
    },
    {
     "name": "stderr",
     "output_type": "stream",
     "text": [
      "Unsupported operator aten::div encountered 1 time(s)\n",
      "Unsupported operator aten::softmax encountered 1 time(s)\n",
      "Unsupported operator aten::div encountered 1 time(s)\n",
      "Unsupported operator aten::softmax encountered 1 time(s)\n"
     ]
    },
    {
     "name": "stdout",
     "output_type": "stream",
     "text": [
      "Device: cpu, Input length: 1000, Time: 4.40e-02, FLOPS: 1.81e+09, Memory: 3.64e+07\n",
      "Device: cuda, Input length: 1000, Time: 2.04e-03, FLOPS: 1.81e+09, Memory: 3.69e+07\n"
     ]
    },
    {
     "name": "stderr",
     "output_type": "stream",
     "text": [
      "Unsupported operator aten::div encountered 1 time(s)\n",
      "Unsupported operator aten::softmax encountered 1 time(s)\n",
      "Unsupported operator aten::div encountered 1 time(s)\n",
      "Unsupported operator aten::softmax encountered 1 time(s)\n",
      "  2%|▏         | 2/100 [00:06<05:09,  3.16s/it]"
     ]
    },
    {
     "name": "stdout",
     "output_type": "stream",
     "text": [
      "Device: cpu, Input length: 10000, Time: 2.32e+00, FLOPS: 1.10e+11, Memory: 2.16e+09\n",
      "Device: cuda, Input length: 10000, Time: 2.04e-03, FLOPS: 1.10e+11, Memory: 2.17e+09\n"
     ]
    },
    {
     "name": "stderr",
     "output_type": "stream",
     "text": [
      "Unsupported operator aten::div encountered 1 time(s)\n",
      "Unsupported operator aten::softmax encountered 1 time(s)\n",
      "Unsupported operator aten::div encountered 1 time(s)\n",
      "Unsupported operator aten::softmax encountered 1 time(s)\n",
      "Unsupported operator aten::div encountered 1 time(s)\n",
      "Unsupported operator aten::softmax encountered 1 time(s)\n",
      "Unsupported operator aten::div encountered 1 time(s)\n",
      "Unsupported operator aten::softmax encountered 1 time(s)\n",
      "Unsupported operator aten::div encountered 1 time(s)\n",
      "Unsupported operator aten::softmax encountered 1 time(s)\n",
      "Unsupported operator aten::div encountered 1 time(s)\n",
      "Unsupported operator aten::softmax encountered 1 time(s)\n"
     ]
    },
    {
     "name": "stdout",
     "output_type": "stream",
     "text": [
      "Device: cpu, Input length: 10, Time: 4.57e-03, FLOPS: 7.97e+06, Memory: 1.66e+05\n",
      "Device: cuda, Input length: 10, Time: 4.05e-03, FLOPS: 7.97e+06, Memory: 1.66e+05\n",
      "Device: cpu, Input length: 100, Time: 1.02e-02, FLOPS: 8.89e+07, Memory: 1.84e+06\n",
      "Device: cuda, Input length: 100, Time: 2.03e-03, FLOPS: 8.89e+07, Memory: 1.84e+06\n",
      "Device: cpu, Input length: 1000, Time: 4.48e-02, FLOPS: 1.81e+09, Memory: 3.64e+07\n",
      "Device: cuda, Input length: 1000, Time: 2.04e-03, FLOPS: 1.81e+09, Memory: 3.69e+07\n"
     ]
    },
    {
     "name": "stderr",
     "output_type": "stream",
     "text": [
      "Unsupported operator aten::div encountered 1 time(s)\n",
      "Unsupported operator aten::softmax encountered 1 time(s)\n",
      "Unsupported operator aten::div encountered 1 time(s)\n",
      "Unsupported operator aten::softmax encountered 1 time(s)\n",
      "  3%|▎         | 3/100 [00:09<05:14,  3.25s/it]Unsupported operator aten::div encountered 1 time(s)\n",
      "Unsupported operator aten::softmax encountered 1 time(s)\n",
      "Unsupported operator aten::div encountered 1 time(s)\n"
     ]
    },
    {
     "name": "stdout",
     "output_type": "stream",
     "text": [
      "Device: cpu, Input length: 10000, Time: 2.39e+00, FLOPS: 1.10e+11, Memory: 2.16e+09\n",
      "Device: cuda, Input length: 10000, Time: 2.02e-03, FLOPS: 1.10e+11, Memory: 2.17e+09\n",
      "Device: cpu, Input length: 10, Time: 4.57e-03, FLOPS: 7.97e+06, Memory: 1.66e+05\n"
     ]
    },
    {
     "name": "stderr",
     "output_type": "stream",
     "text": [
      "Unsupported operator aten::softmax encountered 1 time(s)\n",
      "Unsupported operator aten::div encountered 1 time(s)\n",
      "Unsupported operator aten::softmax encountered 1 time(s)\n",
      "Unsupported operator aten::div encountered 1 time(s)\n",
      "Unsupported operator aten::softmax encountered 1 time(s)\n",
      "Unsupported operator aten::div encountered 1 time(s)\n",
      "Unsupported operator aten::softmax encountered 1 time(s)\n",
      "Unsupported operator aten::div encountered 1 time(s)\n",
      "Unsupported operator aten::softmax encountered 1 time(s)\n"
     ]
    },
    {
     "name": "stdout",
     "output_type": "stream",
     "text": [
      "Device: cuda, Input length: 10, Time: 2.53e-03, FLOPS: 7.97e+06, Memory: 1.66e+05\n",
      "Device: cpu, Input length: 100, Time: 9.67e-03, FLOPS: 8.89e+07, Memory: 1.84e+06\n",
      "Device: cuda, Input length: 100, Time: 2.03e-03, FLOPS: 8.89e+07, Memory: 1.84e+06\n",
      "Device: cpu, Input length: 1000, Time: 4.59e-02, FLOPS: 1.81e+09, Memory: 3.64e+07\n",
      "Device: cuda, Input length: 1000, Time: 2.03e-03, FLOPS: 1.81e+09, Memory: 3.69e+07\n"
     ]
    },
    {
     "name": "stderr",
     "output_type": "stream",
     "text": [
      "Unsupported operator aten::div encountered 1 time(s)\n",
      "Unsupported operator aten::softmax encountered 1 time(s)\n",
      "Unsupported operator aten::div encountered 1 time(s)\n",
      "Unsupported operator aten::softmax encountered 1 time(s)\n",
      "  4%|▍         | 4/100 [00:12<05:06,  3.19s/it]Unsupported operator aten::div encountered 1 time(s)\n",
      "Unsupported operator aten::softmax encountered 1 time(s)\n",
      "Unsupported operator aten::div encountered 1 time(s)\n"
     ]
    },
    {
     "name": "stdout",
     "output_type": "stream",
     "text": [
      "Device: cpu, Input length: 10000, Time: 2.31e+00, FLOPS: 1.10e+11, Memory: 2.16e+09\n",
      "Device: cuda, Input length: 10000, Time: 1.54e-03, FLOPS: 1.10e+11, Memory: 2.17e+09\n",
      "Device: cpu, Input length: 10, Time: 4.57e-03, FLOPS: 7.97e+06, Memory: 1.66e+05\n"
     ]
    },
    {
     "name": "stderr",
     "output_type": "stream",
     "text": [
      "Unsupported operator aten::softmax encountered 1 time(s)\n",
      "Unsupported operator aten::div encountered 1 time(s)\n",
      "Unsupported operator aten::softmax encountered 1 time(s)\n",
      "Unsupported operator aten::div encountered 1 time(s)\n",
      "Unsupported operator aten::softmax encountered 1 time(s)\n",
      "Unsupported operator aten::div encountered 1 time(s)\n",
      "Unsupported operator aten::softmax encountered 1 time(s)\n",
      "Unsupported operator aten::div encountered 1 time(s)\n",
      "Unsupported operator aten::softmax encountered 1 time(s)\n"
     ]
    },
    {
     "name": "stdout",
     "output_type": "stream",
     "text": [
      "Device: cuda, Input length: 10, Time: 2.54e-03, FLOPS: 7.97e+06, Memory: 1.66e+05\n",
      "Device: cpu, Input length: 100, Time: 9.71e-03, FLOPS: 8.89e+07, Memory: 1.84e+06\n",
      "Device: cuda, Input length: 100, Time: 2.03e-03, FLOPS: 8.89e+07, Memory: 1.84e+06\n",
      "Device: cpu, Input length: 1000, Time: 4.24e-02, FLOPS: 1.81e+09, Memory: 3.64e+07\n",
      "Device: cuda, Input length: 1000, Time: 2.04e-03, FLOPS: 1.81e+09, Memory: 3.69e+07\n"
     ]
    },
    {
     "name": "stderr",
     "output_type": "stream",
     "text": [
      "Unsupported operator aten::div encountered 1 time(s)\n",
      "Unsupported operator aten::softmax encountered 1 time(s)\n",
      "Unsupported operator aten::div encountered 1 time(s)\n",
      "Unsupported operator aten::softmax encountered 1 time(s)\n",
      "  5%|▌         | 5/100 [00:15<05:02,  3.18s/it]"
     ]
    },
    {
     "name": "stdout",
     "output_type": "stream",
     "text": [
      "Device: cpu, Input length: 10000, Time: 2.30e+00, FLOPS: 1.10e+11, Memory: 2.16e+09\n",
      "Device: cuda, Input length: 10000, Time: 2.03e-03, FLOPS: 1.10e+11, Memory: 2.17e+09\n"
     ]
    },
    {
     "name": "stderr",
     "output_type": "stream",
     "text": [
      "Unsupported operator aten::div encountered 1 time(s)\n",
      "Unsupported operator aten::softmax encountered 1 time(s)\n",
      "Unsupported operator aten::div encountered 1 time(s)\n",
      "Unsupported operator aten::softmax encountered 1 time(s)\n",
      "Unsupported operator aten::div encountered 1 time(s)\n",
      "Unsupported operator aten::softmax encountered 1 time(s)\n",
      "Unsupported operator aten::div encountered 1 time(s)\n",
      "Unsupported operator aten::softmax encountered 1 time(s)\n",
      "Unsupported operator aten::div encountered 1 time(s)\n",
      "Unsupported operator aten::softmax encountered 1 time(s)\n",
      "Unsupported operator aten::div encountered 1 time(s)\n",
      "Unsupported operator aten::softmax encountered 1 time(s)\n"
     ]
    },
    {
     "name": "stdout",
     "output_type": "stream",
     "text": [
      "Device: cpu, Input length: 10, Time: 4.58e-03, FLOPS: 7.97e+06, Memory: 1.66e+05\n",
      "Device: cuda, Input length: 10, Time: 2.54e-03, FLOPS: 7.97e+06, Memory: 1.66e+05\n",
      "Device: cpu, Input length: 100, Time: 9.44e-03, FLOPS: 8.89e+07, Memory: 1.84e+06\n",
      "Device: cuda, Input length: 100, Time: 2.04e-03, FLOPS: 8.89e+07, Memory: 1.84e+06\n",
      "Device: cpu, Input length: 1000, Time: 4.39e-02, FLOPS: 1.81e+09, Memory: 3.64e+07\n",
      "Device: cuda, Input length: 1000, Time: 2.28e-03, FLOPS: 1.81e+09, Memory: 3.69e+07\n"
     ]
    },
    {
     "name": "stderr",
     "output_type": "stream",
     "text": [
      "Unsupported operator aten::div encountered 1 time(s)\n",
      "Unsupported operator aten::softmax encountered 1 time(s)\n",
      "Unsupported operator aten::div encountered 1 time(s)\n",
      "Unsupported operator aten::softmax encountered 1 time(s)\n",
      "  6%|▌         | 6/100 [00:19<05:00,  3.20s/it]"
     ]
    },
    {
     "name": "stdout",
     "output_type": "stream",
     "text": [
      "Device: cpu, Input length: 10000, Time: 2.29e+00, FLOPS: 1.10e+11, Memory: 2.16e+09\n",
      "Device: cuda, Input length: 10000, Time: 1.68e-03, FLOPS: 1.10e+11, Memory: 2.17e+09\n"
     ]
    },
    {
     "name": "stderr",
     "output_type": "stream",
     "text": [
      "Unsupported operator aten::div encountered 1 time(s)\n",
      "Unsupported operator aten::softmax encountered 1 time(s)\n",
      "Unsupported operator aten::div encountered 1 time(s)\n",
      "Unsupported operator aten::softmax encountered 1 time(s)\n",
      "Unsupported operator aten::div encountered 1 time(s)\n",
      "Unsupported operator aten::softmax encountered 1 time(s)\n",
      "Unsupported operator aten::div encountered 1 time(s)\n",
      "Unsupported operator aten::softmax encountered 1 time(s)\n",
      "Unsupported operator aten::div encountered 1 time(s)\n",
      "Unsupported operator aten::softmax encountered 1 time(s)\n",
      "Unsupported operator aten::div encountered 1 time(s)\n",
      "Unsupported operator aten::softmax encountered 1 time(s)\n"
     ]
    },
    {
     "name": "stdout",
     "output_type": "stream",
     "text": [
      "Device: cpu, Input length: 10, Time: 4.06e-03, FLOPS: 7.97e+06, Memory: 1.66e+05\n",
      "Device: cuda, Input length: 10, Time: 2.59e-03, FLOPS: 7.97e+06, Memory: 1.66e+05\n",
      "Device: cpu, Input length: 100, Time: 9.17e-03, FLOPS: 8.89e+07, Memory: 1.84e+06\n",
      "Device: cuda, Input length: 100, Time: 2.04e-03, FLOPS: 8.89e+07, Memory: 1.84e+06\n",
      "Device: cpu, Input length: 1000, Time: 4.22e-02, FLOPS: 1.81e+09, Memory: 3.64e+07\n",
      "Device: cuda, Input length: 1000, Time: 2.04e-03, FLOPS: 1.81e+09, Memory: 3.69e+07\n"
     ]
    },
    {
     "name": "stderr",
     "output_type": "stream",
     "text": [
      "Unsupported operator aten::div encountered 1 time(s)\n",
      "Unsupported operator aten::softmax encountered 1 time(s)\n",
      "Unsupported operator aten::div encountered 1 time(s)\n",
      "Unsupported operator aten::softmax encountered 1 time(s)\n",
      "  7%|▋         | 7/100 [00:22<04:57,  3.20s/it]"
     ]
    },
    {
     "name": "stdout",
     "output_type": "stream",
     "text": [
      "Device: cpu, Input length: 10000, Time: 2.28e+00, FLOPS: 1.10e+11, Memory: 2.16e+09\n",
      "Device: cuda, Input length: 10000, Time: 2.04e-03, FLOPS: 1.10e+11, Memory: 2.17e+09\n"
     ]
    },
    {
     "name": "stderr",
     "output_type": "stream",
     "text": [
      "Unsupported operator aten::div encountered 1 time(s)\n",
      "Unsupported operator aten::softmax encountered 1 time(s)\n",
      "Unsupported operator aten::div encountered 1 time(s)\n",
      "Unsupported operator aten::softmax encountered 1 time(s)\n",
      "Unsupported operator aten::div encountered 1 time(s)\n",
      "Unsupported operator aten::softmax encountered 1 time(s)\n",
      "Unsupported operator aten::div encountered 1 time(s)\n",
      "Unsupported operator aten::softmax encountered 1 time(s)\n",
      "Unsupported operator aten::div encountered 1 time(s)\n",
      "Unsupported operator aten::softmax encountered 1 time(s)\n",
      "Unsupported operator aten::div encountered 1 time(s)\n",
      "Unsupported operator aten::softmax encountered 1 time(s)\n"
     ]
    },
    {
     "name": "stdout",
     "output_type": "stream",
     "text": [
      "Device: cpu, Input length: 10, Time: 4.07e-03, FLOPS: 7.97e+06, Memory: 1.66e+05\n",
      "Device: cuda, Input length: 10, Time: 2.04e-03, FLOPS: 7.97e+06, Memory: 1.66e+05\n",
      "Device: cpu, Input length: 100, Time: 9.67e-03, FLOPS: 8.89e+07, Memory: 1.84e+06\n",
      "Device: cuda, Input length: 100, Time: 2.05e-03, FLOPS: 8.89e+07, Memory: 1.84e+06\n",
      "Device: cpu, Input length: 1000, Time: 4.39e-02, FLOPS: 1.81e+09, Memory: 3.64e+07\n",
      "Device: cuda, Input length: 1000, Time: 2.04e-03, FLOPS: 1.81e+09, Memory: 3.69e+07\n"
     ]
    },
    {
     "name": "stderr",
     "output_type": "stream",
     "text": [
      "Unsupported operator aten::div encountered 1 time(s)\n",
      "Unsupported operator aten::softmax encountered 1 time(s)\n",
      "Unsupported operator aten::div encountered 1 time(s)\n",
      "Unsupported operator aten::softmax encountered 1 time(s)\n",
      "  8%|▊         | 8/100 [00:25<04:57,  3.23s/it]"
     ]
    },
    {
     "name": "stdout",
     "output_type": "stream",
     "text": [
      "Device: cpu, Input length: 10000, Time: 2.36e+00, FLOPS: 1.10e+11, Memory: 2.16e+09\n",
      "Device: cuda, Input length: 10000, Time: 2.04e-03, FLOPS: 1.10e+11, Memory: 2.17e+09\n"
     ]
    },
    {
     "name": "stderr",
     "output_type": "stream",
     "text": [
      "Unsupported operator aten::div encountered 1 time(s)\n",
      "Unsupported operator aten::softmax encountered 1 time(s)\n",
      "Unsupported operator aten::div encountered 1 time(s)\n",
      "Unsupported operator aten::softmax encountered 1 time(s)\n",
      "Unsupported operator aten::div encountered 1 time(s)\n",
      "Unsupported operator aten::softmax encountered 1 time(s)\n",
      "Unsupported operator aten::div encountered 1 time(s)\n",
      "Unsupported operator aten::softmax encountered 1 time(s)\n",
      "Unsupported operator aten::div encountered 1 time(s)\n",
      "Unsupported operator aten::softmax encountered 1 time(s)\n",
      "Unsupported operator aten::div encountered 1 time(s)\n",
      "Unsupported operator aten::softmax encountered 1 time(s)\n"
     ]
    },
    {
     "name": "stdout",
     "output_type": "stream",
     "text": [
      "Device: cpu, Input length: 10, Time: 4.58e-03, FLOPS: 7.97e+06, Memory: 1.66e+05\n",
      "Device: cuda, Input length: 10, Time: 4.06e-03, FLOPS: 7.97e+06, Memory: 1.66e+05\n",
      "Device: cpu, Input length: 100, Time: 9.17e-03, FLOPS: 8.89e+07, Memory: 1.84e+06\n",
      "Device: cuda, Input length: 100, Time: 2.04e-03, FLOPS: 8.89e+07, Memory: 1.84e+06\n",
      "Device: cpu, Input length: 1000, Time: 4.24e-02, FLOPS: 1.81e+09, Memory: 3.64e+07\n",
      "Device: cuda, Input length: 1000, Time: 5.09e-03, FLOPS: 1.81e+09, Memory: 3.69e+07\n"
     ]
    },
    {
     "name": "stderr",
     "output_type": "stream",
     "text": [
      "Unsupported operator aten::div encountered 1 time(s)\n",
      "Unsupported operator aten::softmax encountered 1 time(s)\n",
      "Unsupported operator aten::div encountered 1 time(s)\n",
      "Unsupported operator aten::softmax encountered 1 time(s)\n",
      "  9%|▉         | 9/100 [00:28<04:56,  3.26s/it]"
     ]
    },
    {
     "name": "stdout",
     "output_type": "stream",
     "text": [
      "Device: cpu, Input length: 10000, Time: 2.30e+00, FLOPS: 1.10e+11, Memory: 2.16e+09\n",
      "Device: cuda, Input length: 10000, Time: 2.03e-03, FLOPS: 1.10e+11, Memory: 2.17e+09\n"
     ]
    },
    {
     "name": "stderr",
     "output_type": "stream",
     "text": [
      "Unsupported operator aten::div encountered 1 time(s)\n",
      "Unsupported operator aten::softmax encountered 1 time(s)\n",
      "Unsupported operator aten::div encountered 1 time(s)\n",
      "Unsupported operator aten::softmax encountered 1 time(s)\n",
      "Unsupported operator aten::div encountered 1 time(s)\n",
      "Unsupported operator aten::softmax encountered 1 time(s)\n",
      "Unsupported operator aten::div encountered 1 time(s)\n",
      "Unsupported operator aten::softmax encountered 1 time(s)\n",
      "Unsupported operator aten::div encountered 1 time(s)\n",
      "Unsupported operator aten::softmax encountered 1 time(s)\n",
      "Unsupported operator aten::div encountered 1 time(s)\n",
      "Unsupported operator aten::softmax encountered 1 time(s)\n"
     ]
    },
    {
     "name": "stdout",
     "output_type": "stream",
     "text": [
      "Device: cpu, Input length: 10, Time: 4.58e-03, FLOPS: 7.97e+06, Memory: 1.66e+05\n",
      "Device: cuda, Input length: 10, Time: 2.04e-03, FLOPS: 7.97e+06, Memory: 1.66e+05\n",
      "Device: cpu, Input length: 100, Time: 1.17e-02, FLOPS: 8.89e+07, Memory: 1.84e+06\n",
      "Device: cuda, Input length: 100, Time: 4.07e-03, FLOPS: 8.89e+07, Memory: 1.84e+06\n",
      "Device: cpu, Input length: 1000, Time: 4.39e-02, FLOPS: 1.81e+09, Memory: 3.64e+07\n",
      "Device: cuda, Input length: 1000, Time: 2.03e-03, FLOPS: 1.81e+09, Memory: 3.69e+07\n"
     ]
    },
    {
     "name": "stderr",
     "output_type": "stream",
     "text": [
      "Unsupported operator aten::div encountered 1 time(s)\n",
      "Unsupported operator aten::softmax encountered 1 time(s)\n",
      "Unsupported operator aten::div encountered 1 time(s)\n",
      "Unsupported operator aten::softmax encountered 1 time(s)\n",
      " 10%|█         | 10/100 [00:32<04:51,  3.24s/it]"
     ]
    },
    {
     "name": "stdout",
     "output_type": "stream",
     "text": [
      "Device: cpu, Input length: 10000, Time: 2.27e+00, FLOPS: 1.10e+11, Memory: 2.16e+09\n",
      "Device: cuda, Input length: 10000, Time: 2.02e-03, FLOPS: 1.10e+11, Memory: 2.17e+09\n"
     ]
    },
    {
     "name": "stderr",
     "output_type": "stream",
     "text": [
      "Unsupported operator aten::div encountered 1 time(s)\n",
      "Unsupported operator aten::softmax encountered 1 time(s)\n",
      "Unsupported operator aten::div encountered 1 time(s)\n",
      "Unsupported operator aten::softmax encountered 1 time(s)\n",
      "Unsupported operator aten::div encountered 1 time(s)\n",
      "Unsupported operator aten::softmax encountered 1 time(s)\n",
      "Unsupported operator aten::div encountered 1 time(s)\n",
      "Unsupported operator aten::softmax encountered 1 time(s)\n",
      "Unsupported operator aten::div encountered 1 time(s)\n",
      "Unsupported operator aten::softmax encountered 1 time(s)\n",
      "Unsupported operator aten::div encountered 1 time(s)\n",
      "Unsupported operator aten::softmax encountered 1 time(s)\n"
     ]
    },
    {
     "name": "stdout",
     "output_type": "stream",
     "text": [
      "Device: cpu, Input length: 10, Time: 4.08e-03, FLOPS: 7.97e+06, Memory: 1.66e+05\n",
      "Device: cuda, Input length: 10, Time: 2.04e-03, FLOPS: 7.97e+06, Memory: 1.66e+05\n",
      "Device: cpu, Input length: 100, Time: 9.17e-03, FLOPS: 8.89e+07, Memory: 1.84e+06\n",
      "Device: cuda, Input length: 100, Time: 2.03e-03, FLOPS: 8.89e+07, Memory: 1.84e+06\n",
      "Device: cpu, Input length: 1000, Time: 4.39e-02, FLOPS: 1.81e+09, Memory: 3.64e+07\n",
      "Device: cuda, Input length: 1000, Time: 3.06e-03, FLOPS: 1.81e+09, Memory: 3.69e+07\n"
     ]
    },
    {
     "name": "stderr",
     "output_type": "stream",
     "text": [
      "Unsupported operator aten::div encountered 1 time(s)\n",
      "Unsupported operator aten::softmax encountered 1 time(s)\n",
      "Unsupported operator aten::div encountered 1 time(s)\n",
      "Unsupported operator aten::softmax encountered 1 time(s)\n",
      " 11%|█         | 11/100 [00:35<04:51,  3.28s/it]"
     ]
    },
    {
     "name": "stdout",
     "output_type": "stream",
     "text": [
      "Device: cpu, Input length: 10000, Time: 2.36e+00, FLOPS: 1.10e+11, Memory: 2.16e+09\n",
      "Device: cuda, Input length: 10000, Time: 2.03e-03, FLOPS: 1.10e+11, Memory: 2.17e+09\n"
     ]
    },
    {
     "name": "stderr",
     "output_type": "stream",
     "text": [
      "Unsupported operator aten::div encountered 1 time(s)\n",
      "Unsupported operator aten::softmax encountered 1 time(s)\n",
      "Unsupported operator aten::div encountered 1 time(s)\n",
      "Unsupported operator aten::softmax encountered 1 time(s)\n",
      "Unsupported operator aten::div encountered 1 time(s)\n",
      "Unsupported operator aten::softmax encountered 1 time(s)\n",
      "Unsupported operator aten::div encountered 1 time(s)\n",
      "Unsupported operator aten::softmax encountered 1 time(s)\n",
      "Unsupported operator aten::div encountered 1 time(s)\n",
      "Unsupported operator aten::softmax encountered 1 time(s)\n",
      "Unsupported operator aten::div encountered 1 time(s)\n",
      "Unsupported operator aten::softmax encountered 1 time(s)\n"
     ]
    },
    {
     "name": "stdout",
     "output_type": "stream",
     "text": [
      "Device: cpu, Input length: 10, Time: 4.58e-03, FLOPS: 7.97e+06, Memory: 1.66e+05\n",
      "Device: cuda, Input length: 10, Time: 2.03e-03, FLOPS: 7.97e+06, Memory: 1.66e+05\n",
      "Device: cpu, Input length: 100, Time: 9.17e-03, FLOPS: 8.89e+07, Memory: 1.84e+06\n",
      "Device: cuda, Input length: 100, Time: 2.04e-03, FLOPS: 8.89e+07, Memory: 1.84e+06\n",
      "Device: cpu, Input length: 1000, Time: 4.38e-02, FLOPS: 1.81e+09, Memory: 3.64e+07\n",
      "Device: cuda, Input length: 1000, Time: 2.04e-03, FLOPS: 1.81e+09, Memory: 3.69e+07\n"
     ]
    },
    {
     "name": "stderr",
     "output_type": "stream",
     "text": [
      "Unsupported operator aten::div encountered 1 time(s)\n",
      "Unsupported operator aten::softmax encountered 1 time(s)\n",
      "Unsupported operator aten::div encountered 1 time(s)\n",
      "Unsupported operator aten::softmax encountered 1 time(s)\n",
      " 12%|█▏        | 12/100 [00:38<04:47,  3.27s/it]"
     ]
    },
    {
     "name": "stdout",
     "output_type": "stream",
     "text": [
      "Device: cpu, Input length: 10000, Time: 2.28e+00, FLOPS: 1.10e+11, Memory: 2.16e+09\n",
      "Device: cuda, Input length: 10000, Time: 1.52e-03, FLOPS: 1.10e+11, Memory: 2.17e+09\n"
     ]
    },
    {
     "name": "stderr",
     "output_type": "stream",
     "text": [
      "Unsupported operator aten::div encountered 1 time(s)\n",
      "Unsupported operator aten::softmax encountered 1 time(s)\n",
      "Unsupported operator aten::div encountered 1 time(s)\n",
      "Unsupported operator aten::softmax encountered 1 time(s)\n",
      "Unsupported operator aten::div encountered 1 time(s)\n",
      "Unsupported operator aten::softmax encountered 1 time(s)\n",
      "Unsupported operator aten::div encountered 1 time(s)\n",
      "Unsupported operator aten::softmax encountered 1 time(s)\n",
      "Unsupported operator aten::div encountered 1 time(s)\n",
      "Unsupported operator aten::softmax encountered 1 time(s)\n",
      "Unsupported operator aten::div encountered 1 time(s)\n",
      "Unsupported operator aten::softmax encountered 1 time(s)\n"
     ]
    },
    {
     "name": "stdout",
     "output_type": "stream",
     "text": [
      "Device: cpu, Input length: 10, Time: 4.59e-03, FLOPS: 7.97e+06, Memory: 1.66e+05\n",
      "Device: cuda, Input length: 10, Time: 2.03e-03, FLOPS: 7.97e+06, Memory: 1.66e+05\n",
      "Device: cpu, Input length: 100, Time: 9.68e-03, FLOPS: 8.89e+07, Memory: 1.84e+06\n",
      "Device: cuda, Input length: 100, Time: 2.04e-03, FLOPS: 8.89e+07, Memory: 1.84e+06\n",
      "Device: cpu, Input length: 1000, Time: 4.41e-02, FLOPS: 1.81e+09, Memory: 3.64e+07\n",
      "Device: cuda, Input length: 1000, Time: 2.04e-03, FLOPS: 1.81e+09, Memory: 3.69e+07\n"
     ]
    },
    {
     "name": "stderr",
     "output_type": "stream",
     "text": [
      "Unsupported operator aten::div encountered 1 time(s)\n",
      "Unsupported operator aten::softmax encountered 1 time(s)\n",
      "Unsupported operator aten::div encountered 1 time(s)\n",
      "Unsupported operator aten::softmax encountered 1 time(s)\n",
      " 13%|█▎        | 13/100 [00:42<04:45,  3.29s/it]"
     ]
    },
    {
     "name": "stdout",
     "output_type": "stream",
     "text": [
      "Device: cpu, Input length: 10000, Time: 2.33e+00, FLOPS: 1.10e+11, Memory: 2.16e+09\n",
      "Device: cuda, Input length: 10000, Time: 2.05e-03, FLOPS: 1.10e+11, Memory: 2.17e+09\n"
     ]
    },
    {
     "name": "stderr",
     "output_type": "stream",
     "text": [
      "Unsupported operator aten::div encountered 1 time(s)\n",
      "Unsupported operator aten::softmax encountered 1 time(s)\n",
      "Unsupported operator aten::div encountered 1 time(s)\n",
      "Unsupported operator aten::softmax encountered 1 time(s)\n",
      "Unsupported operator aten::div encountered 1 time(s)\n",
      "Unsupported operator aten::softmax encountered 1 time(s)\n",
      "Unsupported operator aten::div encountered 1 time(s)\n",
      "Unsupported operator aten::softmax encountered 1 time(s)\n",
      "Unsupported operator aten::div encountered 1 time(s)\n",
      "Unsupported operator aten::softmax encountered 1 time(s)\n",
      "Unsupported operator aten::div encountered 1 time(s)\n",
      "Unsupported operator aten::softmax encountered 1 time(s)\n"
     ]
    },
    {
     "name": "stdout",
     "output_type": "stream",
     "text": [
      "Device: cpu, Input length: 10, Time: 4.58e-03, FLOPS: 7.97e+06, Memory: 1.66e+05\n",
      "Device: cuda, Input length: 10, Time: 2.55e-03, FLOPS: 7.97e+06, Memory: 1.66e+05\n",
      "Device: cpu, Input length: 100, Time: 9.68e-03, FLOPS: 8.89e+07, Memory: 1.84e+06\n",
      "Device: cuda, Input length: 100, Time: 2.03e-03, FLOPS: 8.89e+07, Memory: 1.84e+06\n",
      "Device: cpu, Input length: 1000, Time: 4.23e-02, FLOPS: 1.81e+09, Memory: 3.64e+07\n",
      "Device: cuda, Input length: 1000, Time: 2.04e-03, FLOPS: 1.81e+09, Memory: 3.69e+07\n"
     ]
    },
    {
     "name": "stderr",
     "output_type": "stream",
     "text": [
      "Unsupported operator aten::div encountered 1 time(s)\n",
      "Unsupported operator aten::softmax encountered 1 time(s)\n",
      "Unsupported operator aten::div encountered 1 time(s)\n",
      "Unsupported operator aten::softmax encountered 1 time(s)\n",
      " 14%|█▍        | 14/100 [00:45<04:41,  3.27s/it]"
     ]
    },
    {
     "name": "stdout",
     "output_type": "stream",
     "text": [
      "Device: cpu, Input length: 10000, Time: 2.29e+00, FLOPS: 1.10e+11, Memory: 2.16e+09\n",
      "Device: cuda, Input length: 10000, Time: 2.04e-03, FLOPS: 1.10e+11, Memory: 2.17e+09\n"
     ]
    },
    {
     "name": "stderr",
     "output_type": "stream",
     "text": [
      "Unsupported operator aten::div encountered 1 time(s)\n",
      "Unsupported operator aten::softmax encountered 1 time(s)\n",
      "Unsupported operator aten::div encountered 1 time(s)\n",
      "Unsupported operator aten::softmax encountered 1 time(s)\n",
      "Unsupported operator aten::div encountered 1 time(s)\n",
      "Unsupported operator aten::softmax encountered 1 time(s)\n",
      "Unsupported operator aten::div encountered 1 time(s)\n",
      "Unsupported operator aten::softmax encountered 1 time(s)\n",
      "Unsupported operator aten::div encountered 1 time(s)\n",
      "Unsupported operator aten::softmax encountered 1 time(s)\n",
      "Unsupported operator aten::div encountered 1 time(s)\n",
      "Unsupported operator aten::softmax encountered 1 time(s)\n"
     ]
    },
    {
     "name": "stdout",
     "output_type": "stream",
     "text": [
      "Device: cpu, Input length: 10, Time: 4.06e-03, FLOPS: 7.97e+06, Memory: 1.66e+05\n",
      "Device: cuda, Input length: 10, Time: 2.54e-03, FLOPS: 7.97e+06, Memory: 1.66e+05\n",
      "Device: cpu, Input length: 100, Time: 1.02e-02, FLOPS: 8.89e+07, Memory: 1.84e+06\n",
      "Device: cuda, Input length: 100, Time: 4.59e-03, FLOPS: 8.89e+07, Memory: 1.84e+06\n",
      "Device: cpu, Input length: 1000, Time: 4.38e-02, FLOPS: 1.81e+09, Memory: 3.64e+07\n",
      "Device: cuda, Input length: 1000, Time: 2.04e-03, FLOPS: 1.81e+09, Memory: 3.69e+07\n"
     ]
    },
    {
     "name": "stderr",
     "output_type": "stream",
     "text": [
      "Unsupported operator aten::div encountered 1 time(s)\n",
      "Unsupported operator aten::softmax encountered 1 time(s)\n",
      "Unsupported operator aten::div encountered 1 time(s)\n",
      "Unsupported operator aten::softmax encountered 1 time(s)\n",
      " 15%|█▌        | 15/100 [00:48<04:38,  3.27s/it]"
     ]
    },
    {
     "name": "stdout",
     "output_type": "stream",
     "text": [
      "Device: cpu, Input length: 10000, Time: 2.30e+00, FLOPS: 1.10e+11, Memory: 2.16e+09\n",
      "Device: cuda, Input length: 10000, Time: 2.04e-03, FLOPS: 1.10e+11, Memory: 2.17e+09\n"
     ]
    },
    {
     "name": "stderr",
     "output_type": "stream",
     "text": [
      "Unsupported operator aten::div encountered 1 time(s)\n",
      "Unsupported operator aten::softmax encountered 1 time(s)\n",
      "Unsupported operator aten::div encountered 1 time(s)\n",
      "Unsupported operator aten::softmax encountered 1 time(s)\n",
      "Unsupported operator aten::div encountered 1 time(s)\n",
      "Unsupported operator aten::softmax encountered 1 time(s)\n",
      "Unsupported operator aten::div encountered 1 time(s)\n",
      "Unsupported operator aten::softmax encountered 1 time(s)\n",
      "Unsupported operator aten::div encountered 1 time(s)\n",
      "Unsupported operator aten::softmax encountered 1 time(s)\n",
      "Unsupported operator aten::div encountered 1 time(s)\n",
      "Unsupported operator aten::softmax encountered 1 time(s)\n"
     ]
    },
    {
     "name": "stdout",
     "output_type": "stream",
     "text": [
      "Device: cpu, Input length: 10, Time: 4.59e-03, FLOPS: 7.97e+06, Memory: 1.66e+05\n",
      "Device: cuda, Input length: 10, Time: 2.55e-03, FLOPS: 7.97e+06, Memory: 1.66e+05\n",
      "Device: cpu, Input length: 100, Time: 9.23e-03, FLOPS: 8.89e+07, Memory: 1.84e+06\n",
      "Device: cuda, Input length: 100, Time: 2.04e-03, FLOPS: 8.89e+07, Memory: 1.84e+06\n",
      "Device: cpu, Input length: 1000, Time: 4.44e-02, FLOPS: 1.81e+09, Memory: 3.64e+07\n",
      "Device: cuda, Input length: 1000, Time: 2.04e-03, FLOPS: 1.81e+09, Memory: 3.69e+07\n"
     ]
    },
    {
     "name": "stderr",
     "output_type": "stream",
     "text": [
      "Unsupported operator aten::div encountered 1 time(s)\n",
      "Unsupported operator aten::softmax encountered 1 time(s)\n",
      "Unsupported operator aten::div encountered 1 time(s)\n",
      "Unsupported operator aten::softmax encountered 1 time(s)\n",
      " 16%|█▌        | 16/100 [00:51<04:35,  3.28s/it]"
     ]
    },
    {
     "name": "stdout",
     "output_type": "stream",
     "text": [
      "Device: cpu, Input length: 10000, Time: 2.27e+00, FLOPS: 1.10e+11, Memory: 2.16e+09\n",
      "Device: cuda, Input length: 10000, Time: 1.53e-03, FLOPS: 1.10e+11, Memory: 2.17e+09\n"
     ]
    },
    {
     "name": "stderr",
     "output_type": "stream",
     "text": [
      "Unsupported operator aten::div encountered 1 time(s)\n",
      "Unsupported operator aten::softmax encountered 1 time(s)\n",
      "Unsupported operator aten::div encountered 1 time(s)\n",
      "Unsupported operator aten::softmax encountered 1 time(s)\n",
      "Unsupported operator aten::div encountered 1 time(s)\n",
      "Unsupported operator aten::softmax encountered 1 time(s)\n",
      "Unsupported operator aten::div encountered 1 time(s)\n",
      "Unsupported operator aten::softmax encountered 1 time(s)\n",
      "Unsupported operator aten::div encountered 1 time(s)\n",
      "Unsupported operator aten::softmax encountered 1 time(s)\n",
      "Unsupported operator aten::div encountered 1 time(s)\n",
      "Unsupported operator aten::softmax encountered 1 time(s)\n"
     ]
    },
    {
     "name": "stdout",
     "output_type": "stream",
     "text": [
      "Device: cpu, Input length: 10, Time: 4.57e-03, FLOPS: 7.97e+06, Memory: 1.66e+05\n",
      "Device: cuda, Input length: 10, Time: 3.06e-03, FLOPS: 7.97e+06, Memory: 1.66e+05\n",
      "Device: cpu, Input length: 100, Time: 1.07e-02, FLOPS: 8.89e+07, Memory: 1.84e+06\n",
      "Device: cuda, Input length: 100, Time: 4.60e-03, FLOPS: 8.89e+07, Memory: 1.84e+06\n",
      "Device: cpu, Input length: 1000, Time: 4.44e-02, FLOPS: 1.81e+09, Memory: 3.64e+07\n",
      "Device: cuda, Input length: 1000, Time: 2.03e-03, FLOPS: 1.81e+09, Memory: 3.69e+07\n"
     ]
    },
    {
     "name": "stderr",
     "output_type": "stream",
     "text": [
      "Unsupported operator aten::div encountered 1 time(s)\n",
      "Unsupported operator aten::softmax encountered 1 time(s)\n",
      "Unsupported operator aten::div encountered 1 time(s)\n",
      "Unsupported operator aten::softmax encountered 1 time(s)\n",
      " 17%|█▋        | 17/100 [00:55<04:30,  3.25s/it]"
     ]
    },
    {
     "name": "stdout",
     "output_type": "stream",
     "text": [
      "Device: cpu, Input length: 10000, Time: 2.29e+00, FLOPS: 1.10e+11, Memory: 2.16e+09\n",
      "Device: cuda, Input length: 10000, Time: 2.03e-03, FLOPS: 1.10e+11, Memory: 2.17e+09\n"
     ]
    },
    {
     "name": "stderr",
     "output_type": "stream",
     "text": [
      "Unsupported operator aten::div encountered 1 time(s)\n",
      "Unsupported operator aten::softmax encountered 1 time(s)\n",
      "Unsupported operator aten::div encountered 1 time(s)\n",
      "Unsupported operator aten::softmax encountered 1 time(s)\n",
      "Unsupported operator aten::div encountered 1 time(s)\n",
      "Unsupported operator aten::softmax encountered 1 time(s)\n",
      "Unsupported operator aten::div encountered 1 time(s)\n",
      "Unsupported operator aten::softmax encountered 1 time(s)\n",
      "Unsupported operator aten::div encountered 1 time(s)\n",
      "Unsupported operator aten::softmax encountered 1 time(s)\n",
      "Unsupported operator aten::div encountered 1 time(s)\n",
      "Unsupported operator aten::softmax encountered 1 time(s)\n"
     ]
    },
    {
     "name": "stdout",
     "output_type": "stream",
     "text": [
      "Device: cpu, Input length: 10, Time: 4.07e-03, FLOPS: 7.97e+06, Memory: 1.66e+05\n",
      "Device: cuda, Input length: 10, Time: 3.07e-03, FLOPS: 7.97e+06, Memory: 1.66e+05\n",
      "Device: cpu, Input length: 100, Time: 1.02e-02, FLOPS: 8.89e+07, Memory: 1.84e+06\n",
      "Device: cuda, Input length: 100, Time: 2.04e-03, FLOPS: 8.89e+07, Memory: 1.84e+06\n",
      "Device: cpu, Input length: 1000, Time: 4.35e-02, FLOPS: 1.81e+09, Memory: 3.64e+07\n",
      "Device: cuda, Input length: 1000, Time: 2.04e-03, FLOPS: 1.81e+09, Memory: 3.69e+07\n"
     ]
    },
    {
     "name": "stderr",
     "output_type": "stream",
     "text": [
      "Unsupported operator aten::div encountered 1 time(s)\n",
      "Unsupported operator aten::softmax encountered 1 time(s)\n",
      "Unsupported operator aten::div encountered 1 time(s)\n",
      "Unsupported operator aten::softmax encountered 1 time(s)\n",
      " 18%|█▊        | 18/100 [00:58<04:26,  3.25s/it]"
     ]
    },
    {
     "name": "stdout",
     "output_type": "stream",
     "text": [
      "Device: cpu, Input length: 10000, Time: 2.34e+00, FLOPS: 1.10e+11, Memory: 2.16e+09\n",
      "Device: cuda, Input length: 10000, Time: 2.04e-03, FLOPS: 1.10e+11, Memory: 2.17e+09\n"
     ]
    },
    {
     "name": "stderr",
     "output_type": "stream",
     "text": [
      "Unsupported operator aten::div encountered 1 time(s)\n",
      "Unsupported operator aten::softmax encountered 1 time(s)\n",
      "Unsupported operator aten::div encountered 1 time(s)\n",
      "Unsupported operator aten::softmax encountered 1 time(s)\n",
      "Unsupported operator aten::div encountered 1 time(s)\n",
      "Unsupported operator aten::softmax encountered 1 time(s)\n",
      "Unsupported operator aten::div encountered 1 time(s)\n",
      "Unsupported operator aten::softmax encountered 1 time(s)\n",
      "Unsupported operator aten::div encountered 1 time(s)\n",
      "Unsupported operator aten::softmax encountered 1 time(s)\n",
      "Unsupported operator aten::div encountered 1 time(s)\n",
      "Unsupported operator aten::softmax encountered 1 time(s)\n"
     ]
    },
    {
     "name": "stdout",
     "output_type": "stream",
     "text": [
      "Device: cpu, Input length: 10, Time: 4.57e-03, FLOPS: 7.97e+06, Memory: 1.66e+05\n",
      "Device: cuda, Input length: 10, Time: 2.03e-03, FLOPS: 7.97e+06, Memory: 1.66e+05\n",
      "Device: cpu, Input length: 100, Time: 1.02e-02, FLOPS: 8.89e+07, Memory: 1.84e+06\n",
      "Device: cuda, Input length: 100, Time: 4.08e-03, FLOPS: 8.89e+07, Memory: 1.84e+06\n",
      "Device: cpu, Input length: 1000, Time: 4.44e-02, FLOPS: 1.81e+09, Memory: 3.64e+07\n",
      "Device: cuda, Input length: 1000, Time: 4.58e-03, FLOPS: 1.81e+09, Memory: 3.69e+07\n"
     ]
    },
    {
     "name": "stderr",
     "output_type": "stream",
     "text": [
      "Unsupported operator aten::div encountered 1 time(s)\n",
      "Unsupported operator aten::softmax encountered 1 time(s)\n",
      "Unsupported operator aten::div encountered 1 time(s)\n",
      "Unsupported operator aten::softmax encountered 1 time(s)\n",
      " 19%|█▉        | 19/100 [01:01<04:22,  3.24s/it]"
     ]
    },
    {
     "name": "stdout",
     "output_type": "stream",
     "text": [
      "Device: cpu, Input length: 10000, Time: 2.29e+00, FLOPS: 1.10e+11, Memory: 2.16e+09\n",
      "Device: cuda, Input length: 10000, Time: 2.06e-03, FLOPS: 1.10e+11, Memory: 2.17e+09\n"
     ]
    },
    {
     "name": "stderr",
     "output_type": "stream",
     "text": [
      "Unsupported operator aten::div encountered 1 time(s)\n",
      "Unsupported operator aten::softmax encountered 1 time(s)\n",
      "Unsupported operator aten::div encountered 1 time(s)\n",
      "Unsupported operator aten::softmax encountered 1 time(s)\n",
      "Unsupported operator aten::div encountered 1 time(s)\n",
      "Unsupported operator aten::softmax encountered 1 time(s)\n",
      "Unsupported operator aten::div encountered 1 time(s)\n",
      "Unsupported operator aten::softmax encountered 1 time(s)\n",
      "Unsupported operator aten::div encountered 1 time(s)\n",
      "Unsupported operator aten::softmax encountered 1 time(s)\n",
      "Unsupported operator aten::div encountered 1 time(s)\n",
      "Unsupported operator aten::softmax encountered 1 time(s)\n"
     ]
    },
    {
     "name": "stdout",
     "output_type": "stream",
     "text": [
      "Device: cpu, Input length: 10, Time: 4.07e-03, FLOPS: 7.97e+06, Memory: 1.66e+05\n",
      "Device: cuda, Input length: 10, Time: 2.53e-03, FLOPS: 7.97e+06, Memory: 1.66e+05\n",
      "Device: cpu, Input length: 100, Time: 1.02e-02, FLOPS: 8.89e+07, Memory: 1.84e+06\n",
      "Device: cuda, Input length: 100, Time: 2.05e-03, FLOPS: 8.89e+07, Memory: 1.84e+06\n",
      "Device: cpu, Input length: 1000, Time: 4.34e-02, FLOPS: 1.81e+09, Memory: 3.64e+07\n",
      "Device: cuda, Input length: 1000, Time: 2.04e-03, FLOPS: 1.81e+09, Memory: 3.69e+07\n"
     ]
    },
    {
     "name": "stderr",
     "output_type": "stream",
     "text": [
      "Unsupported operator aten::div encountered 1 time(s)\n",
      "Unsupported operator aten::softmax encountered 1 time(s)\n",
      "Unsupported operator aten::div encountered 1 time(s)\n",
      "Unsupported operator aten::softmax encountered 1 time(s)\n",
      " 20%|██        | 20/100 [01:04<04:20,  3.26s/it]"
     ]
    },
    {
     "name": "stdout",
     "output_type": "stream",
     "text": [
      "Device: cpu, Input length: 10000, Time: 2.31e+00, FLOPS: 1.10e+11, Memory: 2.16e+09\n",
      "Device: cuda, Input length: 10000, Time: 2.04e-03, FLOPS: 1.10e+11, Memory: 2.17e+09\n"
     ]
    },
    {
     "name": "stderr",
     "output_type": "stream",
     "text": [
      "Unsupported operator aten::div encountered 1 time(s)\n",
      "Unsupported operator aten::softmax encountered 1 time(s)\n",
      "Unsupported operator aten::div encountered 1 time(s)\n",
      "Unsupported operator aten::softmax encountered 1 time(s)\n",
      "Unsupported operator aten::div encountered 1 time(s)\n",
      "Unsupported operator aten::softmax encountered 1 time(s)\n",
      "Unsupported operator aten::div encountered 1 time(s)\n",
      "Unsupported operator aten::softmax encountered 1 time(s)\n",
      "Unsupported operator aten::div encountered 1 time(s)\n",
      "Unsupported operator aten::softmax encountered 1 time(s)\n",
      "Unsupported operator aten::div encountered 1 time(s)\n",
      "Unsupported operator aten::softmax encountered 1 time(s)\n"
     ]
    },
    {
     "name": "stdout",
     "output_type": "stream",
     "text": [
      "Device: cpu, Input length: 10, Time: 4.06e-03, FLOPS: 7.97e+06, Memory: 1.66e+05\n",
      "Device: cuda, Input length: 10, Time: 4.57e-03, FLOPS: 7.97e+06, Memory: 1.66e+05\n",
      "Device: cpu, Input length: 100, Time: 8.65e-03, FLOPS: 8.89e+07, Memory: 1.84e+06\n",
      "Device: cuda, Input length: 100, Time: 2.55e-03, FLOPS: 8.89e+07, Memory: 1.84e+06\n",
      "Device: cpu, Input length: 1000, Time: 4.28e-02, FLOPS: 1.81e+09, Memory: 3.64e+07\n",
      "Device: cuda, Input length: 1000, Time: 2.05e-03, FLOPS: 1.81e+09, Memory: 3.69e+07\n"
     ]
    },
    {
     "name": "stderr",
     "output_type": "stream",
     "text": [
      "Unsupported operator aten::div encountered 1 time(s)\n",
      "Unsupported operator aten::softmax encountered 1 time(s)\n",
      "Unsupported operator aten::div encountered 1 time(s)\n",
      "Unsupported operator aten::softmax encountered 1 time(s)\n",
      " 21%|██        | 21/100 [01:08<04:17,  3.26s/it]"
     ]
    },
    {
     "name": "stdout",
     "output_type": "stream",
     "text": [
      "Device: cpu, Input length: 10000, Time: 2.29e+00, FLOPS: 1.10e+11, Memory: 2.16e+09\n",
      "Device: cuda, Input length: 10000, Time: 1.52e-03, FLOPS: 1.10e+11, Memory: 2.17e+09\n"
     ]
    },
    {
     "name": "stderr",
     "output_type": "stream",
     "text": [
      "Unsupported operator aten::div encountered 1 time(s)\n",
      "Unsupported operator aten::softmax encountered 1 time(s)\n",
      "Unsupported operator aten::div encountered 1 time(s)\n",
      "Unsupported operator aten::softmax encountered 1 time(s)\n",
      "Unsupported operator aten::div encountered 1 time(s)\n",
      "Unsupported operator aten::softmax encountered 1 time(s)\n",
      "Unsupported operator aten::div encountered 1 time(s)\n",
      "Unsupported operator aten::softmax encountered 1 time(s)\n",
      "Unsupported operator aten::div encountered 1 time(s)\n",
      "Unsupported operator aten::softmax encountered 1 time(s)\n",
      "Unsupported operator aten::div encountered 1 time(s)\n",
      "Unsupported operator aten::softmax encountered 1 time(s)\n"
     ]
    },
    {
     "name": "stdout",
     "output_type": "stream",
     "text": [
      "Device: cpu, Input length: 10, Time: 4.59e-03, FLOPS: 7.97e+06, Memory: 1.66e+05\n",
      "Device: cuda, Input length: 10, Time: 2.55e-03, FLOPS: 7.97e+06, Memory: 1.66e+05\n",
      "Device: cpu, Input length: 100, Time: 9.70e-03, FLOPS: 8.89e+07, Memory: 1.84e+06\n",
      "Device: cuda, Input length: 100, Time: 2.03e-03, FLOPS: 8.89e+07, Memory: 1.84e+06\n",
      "Device: cpu, Input length: 1000, Time: 4.44e-02, FLOPS: 1.81e+09, Memory: 3.64e+07\n",
      "Device: cuda, Input length: 1000, Time: 2.05e-03, FLOPS: 1.81e+09, Memory: 3.69e+07\n"
     ]
    },
    {
     "name": "stderr",
     "output_type": "stream",
     "text": [
      "Unsupported operator aten::div encountered 1 time(s)\n",
      "Unsupported operator aten::softmax encountered 1 time(s)\n",
      "Unsupported operator aten::div encountered 1 time(s)\n",
      "Unsupported operator aten::softmax encountered 1 time(s)\n",
      " 22%|██▏       | 22/100 [01:11<04:13,  3.26s/it]"
     ]
    },
    {
     "name": "stdout",
     "output_type": "stream",
     "text": [
      "Device: cpu, Input length: 10000, Time: 2.28e+00, FLOPS: 1.10e+11, Memory: 2.16e+09\n",
      "Device: cuda, Input length: 10000, Time: 1.52e-03, FLOPS: 1.10e+11, Memory: 2.17e+09\n"
     ]
    },
    {
     "name": "stderr",
     "output_type": "stream",
     "text": [
      "Unsupported operator aten::div encountered 1 time(s)\n",
      "Unsupported operator aten::softmax encountered 1 time(s)\n",
      "Unsupported operator aten::div encountered 1 time(s)\n",
      "Unsupported operator aten::softmax encountered 1 time(s)\n",
      "Unsupported operator aten::div encountered 1 time(s)\n",
      "Unsupported operator aten::softmax encountered 1 time(s)\n",
      "Unsupported operator aten::div encountered 1 time(s)\n",
      "Unsupported operator aten::softmax encountered 1 time(s)\n",
      "Unsupported operator aten::div encountered 1 time(s)\n",
      "Unsupported operator aten::softmax encountered 1 time(s)\n",
      "Unsupported operator aten::div encountered 1 time(s)\n",
      "Unsupported operator aten::softmax encountered 1 time(s)\n"
     ]
    },
    {
     "name": "stdout",
     "output_type": "stream",
     "text": [
      "Device: cpu, Input length: 10, Time: 4.06e-03, FLOPS: 7.97e+06, Memory: 1.66e+05\n",
      "Device: cuda, Input length: 10, Time: 2.56e-03, FLOPS: 7.97e+06, Memory: 1.66e+05\n",
      "Device: cpu, Input length: 100, Time: 9.18e-03, FLOPS: 8.89e+07, Memory: 1.84e+06\n",
      "Device: cuda, Input length: 100, Time: 2.54e-03, FLOPS: 8.89e+07, Memory: 1.84e+06\n",
      "Device: cpu, Input length: 1000, Time: 4.50e-02, FLOPS: 1.81e+09, Memory: 3.64e+07\n",
      "Device: cuda, Input length: 1000, Time: 2.56e-03, FLOPS: 1.81e+09, Memory: 3.69e+07\n"
     ]
    },
    {
     "name": "stderr",
     "output_type": "stream",
     "text": [
      "Unsupported operator aten::div encountered 1 time(s)\n",
      "Unsupported operator aten::softmax encountered 1 time(s)\n",
      "Unsupported operator aten::div encountered 1 time(s)\n",
      "Unsupported operator aten::softmax encountered 1 time(s)\n",
      " 23%|██▎       | 23/100 [01:14<04:14,  3.31s/it]"
     ]
    },
    {
     "name": "stdout",
     "output_type": "stream",
     "text": [
      "Device: cpu, Input length: 10000, Time: 2.36e+00, FLOPS: 1.10e+11, Memory: 2.16e+09\n",
      "Device: cuda, Input length: 10000, Time: 2.05e-03, FLOPS: 1.10e+11, Memory: 2.17e+09\n"
     ]
    },
    {
     "name": "stderr",
     "output_type": "stream",
     "text": [
      "Unsupported operator aten::div encountered 1 time(s)\n",
      "Unsupported operator aten::softmax encountered 1 time(s)\n",
      "Unsupported operator aten::div encountered 1 time(s)\n",
      "Unsupported operator aten::softmax encountered 1 time(s)\n",
      "Unsupported operator aten::div encountered 1 time(s)\n",
      "Unsupported operator aten::softmax encountered 1 time(s)\n",
      "Unsupported operator aten::div encountered 1 time(s)\n",
      "Unsupported operator aten::softmax encountered 1 time(s)\n",
      "Unsupported operator aten::div encountered 1 time(s)\n",
      "Unsupported operator aten::softmax encountered 1 time(s)\n",
      "Unsupported operator aten::div encountered 1 time(s)\n",
      "Unsupported operator aten::softmax encountered 1 time(s)\n"
     ]
    },
    {
     "name": "stdout",
     "output_type": "stream",
     "text": [
      "Device: cpu, Input length: 10, Time: 4.56e-03, FLOPS: 7.97e+06, Memory: 1.66e+05\n",
      "Device: cuda, Input length: 10, Time: 2.54e-03, FLOPS: 7.97e+06, Memory: 1.66e+05\n",
      "Device: cpu, Input length: 100, Time: 1.02e-02, FLOPS: 8.89e+07, Memory: 1.84e+06\n",
      "Device: cuda, Input length: 100, Time: 2.54e-03, FLOPS: 8.89e+07, Memory: 1.84e+06\n",
      "Device: cpu, Input length: 1000, Time: 4.29e-02, FLOPS: 1.81e+09, Memory: 3.64e+07\n",
      "Device: cuda, Input length: 1000, Time: 2.05e-03, FLOPS: 1.81e+09, Memory: 3.69e+07\n"
     ]
    },
    {
     "name": "stderr",
     "output_type": "stream",
     "text": [
      "Unsupported operator aten::div encountered 1 time(s)\n",
      "Unsupported operator aten::softmax encountered 1 time(s)\n",
      "Unsupported operator aten::div encountered 1 time(s)\n",
      "Unsupported operator aten::softmax encountered 1 time(s)\n",
      " 24%|██▍       | 24/100 [01:18<04:09,  3.29s/it]"
     ]
    },
    {
     "name": "stdout",
     "output_type": "stream",
     "text": [
      "Device: cpu, Input length: 10000, Time: 2.29e+00, FLOPS: 1.10e+11, Memory: 2.16e+09\n",
      "Device: cuda, Input length: 10000, Time: 2.04e-03, FLOPS: 1.10e+11, Memory: 2.17e+09\n"
     ]
    },
    {
     "name": "stderr",
     "output_type": "stream",
     "text": [
      "Unsupported operator aten::div encountered 1 time(s)\n",
      "Unsupported operator aten::softmax encountered 1 time(s)\n",
      "Unsupported operator aten::div encountered 1 time(s)\n",
      "Unsupported operator aten::softmax encountered 1 time(s)\n",
      "Unsupported operator aten::div encountered 1 time(s)\n",
      "Unsupported operator aten::softmax encountered 1 time(s)\n",
      "Unsupported operator aten::div encountered 1 time(s)\n",
      "Unsupported operator aten::softmax encountered 1 time(s)\n",
      "Unsupported operator aten::div encountered 1 time(s)\n",
      "Unsupported operator aten::softmax encountered 1 time(s)\n",
      "Unsupported operator aten::div encountered 1 time(s)\n",
      "Unsupported operator aten::softmax encountered 1 time(s)\n"
     ]
    },
    {
     "name": "stdout",
     "output_type": "stream",
     "text": [
      "Device: cpu, Input length: 10, Time: 4.57e-03, FLOPS: 7.97e+06, Memory: 1.66e+05\n",
      "Device: cuda, Input length: 10, Time: 2.55e-03, FLOPS: 7.97e+06, Memory: 1.66e+05\n",
      "Device: cpu, Input length: 100, Time: 9.69e-03, FLOPS: 8.89e+07, Memory: 1.84e+06\n",
      "Device: cuda, Input length: 100, Time: 2.04e-03, FLOPS: 8.89e+07, Memory: 1.84e+06\n",
      "Device: cpu, Input length: 1000, Time: 4.29e-02, FLOPS: 1.81e+09, Memory: 3.64e+07\n",
      "Device: cuda, Input length: 1000, Time: 2.03e-03, FLOPS: 1.81e+09, Memory: 3.69e+07\n"
     ]
    },
    {
     "name": "stderr",
     "output_type": "stream",
     "text": [
      "Unsupported operator aten::div encountered 1 time(s)\n",
      "Unsupported operator aten::softmax encountered 1 time(s)\n",
      "Unsupported operator aten::div encountered 1 time(s)\n",
      "Unsupported operator aten::softmax encountered 1 time(s)\n",
      " 25%|██▌       | 25/100 [01:21<04:04,  3.27s/it]"
     ]
    },
    {
     "name": "stdout",
     "output_type": "stream",
     "text": [
      "Device: cpu, Input length: 10000, Time: 2.28e+00, FLOPS: 1.10e+11, Memory: 2.16e+09\n",
      "Device: cuda, Input length: 10000, Time: 2.04e-03, FLOPS: 1.10e+11, Memory: 2.17e+09\n"
     ]
    },
    {
     "name": "stderr",
     "output_type": "stream",
     "text": [
      "Unsupported operator aten::div encountered 1 time(s)\n",
      "Unsupported operator aten::softmax encountered 1 time(s)\n",
      "Unsupported operator aten::div encountered 1 time(s)\n",
      "Unsupported operator aten::softmax encountered 1 time(s)\n",
      "Unsupported operator aten::div encountered 1 time(s)\n",
      "Unsupported operator aten::softmax encountered 1 time(s)\n",
      "Unsupported operator aten::div encountered 1 time(s)\n",
      "Unsupported operator aten::softmax encountered 1 time(s)\n",
      "Unsupported operator aten::div encountered 1 time(s)\n",
      "Unsupported operator aten::softmax encountered 1 time(s)\n",
      "Unsupported operator aten::div encountered 1 time(s)\n",
      "Unsupported operator aten::softmax encountered 1 time(s)\n"
     ]
    },
    {
     "name": "stdout",
     "output_type": "stream",
     "text": [
      "Device: cpu, Input length: 10, Time: 4.07e-03, FLOPS: 7.97e+06, Memory: 1.66e+05\n",
      "Device: cuda, Input length: 10, Time: 2.03e-03, FLOPS: 7.97e+06, Memory: 1.66e+05\n",
      "Device: cpu, Input length: 100, Time: 9.69e-03, FLOPS: 8.89e+07, Memory: 1.84e+06\n",
      "Device: cuda, Input length: 100, Time: 3.05e-03, FLOPS: 8.89e+07, Memory: 1.84e+06\n",
      "Device: cpu, Input length: 1000, Time: 4.43e-02, FLOPS: 1.81e+09, Memory: 3.64e+07\n",
      "Device: cuda, Input length: 1000, Time: 3.07e-03, FLOPS: 1.81e+09, Memory: 3.69e+07\n"
     ]
    },
    {
     "name": "stderr",
     "output_type": "stream",
     "text": [
      "Unsupported operator aten::div encountered 1 time(s)\n",
      "Unsupported operator aten::softmax encountered 1 time(s)\n",
      "Unsupported operator aten::div encountered 1 time(s)\n",
      "Unsupported operator aten::softmax encountered 1 time(s)\n",
      " 26%|██▌       | 26/100 [01:24<04:03,  3.29s/it]"
     ]
    },
    {
     "name": "stdout",
     "output_type": "stream",
     "text": [
      "Device: cpu, Input length: 10000, Time: 2.33e+00, FLOPS: 1.10e+11, Memory: 2.16e+09\n",
      "Device: cuda, Input length: 10000, Time: 2.03e-03, FLOPS: 1.10e+11, Memory: 2.17e+09\n"
     ]
    },
    {
     "name": "stderr",
     "output_type": "stream",
     "text": [
      "Unsupported operator aten::div encountered 1 time(s)\n",
      "Unsupported operator aten::softmax encountered 1 time(s)\n",
      "Unsupported operator aten::div encountered 1 time(s)\n",
      "Unsupported operator aten::softmax encountered 1 time(s)\n",
      "Unsupported operator aten::div encountered 1 time(s)\n",
      "Unsupported operator aten::softmax encountered 1 time(s)\n",
      "Unsupported operator aten::div encountered 1 time(s)\n",
      "Unsupported operator aten::softmax encountered 1 time(s)\n",
      "Unsupported operator aten::div encountered 1 time(s)\n",
      "Unsupported operator aten::softmax encountered 1 time(s)\n",
      "Unsupported operator aten::div encountered 1 time(s)\n",
      "Unsupported operator aten::softmax encountered 1 time(s)\n"
     ]
    },
    {
     "name": "stdout",
     "output_type": "stream",
     "text": [
      "Device: cpu, Input length: 10, Time: 5.08e-03, FLOPS: 7.97e+06, Memory: 1.66e+05\n",
      "Device: cuda, Input length: 10, Time: 2.03e-03, FLOPS: 7.97e+06, Memory: 1.66e+05\n",
      "Device: cpu, Input length: 100, Time: 9.16e-03, FLOPS: 8.89e+07, Memory: 1.84e+06\n",
      "Device: cuda, Input length: 100, Time: 2.03e-03, FLOPS: 8.89e+07, Memory: 1.84e+06\n",
      "Device: cpu, Input length: 1000, Time: 4.24e-02, FLOPS: 1.81e+09, Memory: 3.64e+07\n",
      "Device: cuda, Input length: 1000, Time: 5.15e-03, FLOPS: 1.81e+09, Memory: 3.69e+07\n"
     ]
    },
    {
     "name": "stderr",
     "output_type": "stream",
     "text": [
      "Unsupported operator aten::div encountered 1 time(s)\n",
      "Unsupported operator aten::softmax encountered 1 time(s)\n",
      "Unsupported operator aten::div encountered 1 time(s)\n",
      "Unsupported operator aten::softmax encountered 1 time(s)\n",
      " 27%|██▋       | 27/100 [01:27<04:01,  3.31s/it]"
     ]
    },
    {
     "name": "stdout",
     "output_type": "stream",
     "text": [
      "Device: cpu, Input length: 10000, Time: 2.30e+00, FLOPS: 1.10e+11, Memory: 2.16e+09\n",
      "Device: cuda, Input length: 10000, Time: 2.03e-03, FLOPS: 1.10e+11, Memory: 2.17e+09\n"
     ]
    },
    {
     "name": "stderr",
     "output_type": "stream",
     "text": [
      "Unsupported operator aten::div encountered 1 time(s)\n",
      "Unsupported operator aten::softmax encountered 1 time(s)\n",
      "Unsupported operator aten::div encountered 1 time(s)\n",
      "Unsupported operator aten::softmax encountered 1 time(s)\n",
      "Unsupported operator aten::div encountered 1 time(s)\n",
      "Unsupported operator aten::softmax encountered 1 time(s)\n",
      "Unsupported operator aten::div encountered 1 time(s)\n",
      "Unsupported operator aten::softmax encountered 1 time(s)\n",
      "Unsupported operator aten::div encountered 1 time(s)\n",
      "Unsupported operator aten::softmax encountered 1 time(s)\n",
      "Unsupported operator aten::div encountered 1 time(s)\n",
      "Unsupported operator aten::softmax encountered 1 time(s)\n"
     ]
    },
    {
     "name": "stdout",
     "output_type": "stream",
     "text": [
      "Device: cpu, Input length: 10, Time: 4.57e-03, FLOPS: 7.97e+06, Memory: 1.66e+05\n",
      "Device: cuda, Input length: 10, Time: 2.04e-03, FLOPS: 7.97e+06, Memory: 1.66e+05\n",
      "Device: cpu, Input length: 100, Time: 1.02e-02, FLOPS: 8.89e+07, Memory: 1.84e+06\n",
      "Device: cuda, Input length: 100, Time: 2.04e-03, FLOPS: 8.89e+07, Memory: 1.84e+06\n",
      "Device: cpu, Input length: 1000, Time: 4.36e-02, FLOPS: 1.81e+09, Memory: 3.64e+07\n",
      "Device: cuda, Input length: 1000, Time: 2.06e-03, FLOPS: 1.81e+09, Memory: 3.69e+07\n"
     ]
    },
    {
     "name": "stderr",
     "output_type": "stream",
     "text": [
      "Unsupported operator aten::div encountered 1 time(s)\n",
      "Unsupported operator aten::softmax encountered 1 time(s)\n",
      "Unsupported operator aten::div encountered 1 time(s)\n",
      "Unsupported operator aten::softmax encountered 1 time(s)\n",
      " 28%|██▊       | 28/100 [01:31<03:57,  3.30s/it]"
     ]
    },
    {
     "name": "stdout",
     "output_type": "stream",
     "text": [
      "Device: cpu, Input length: 10000, Time: 2.29e+00, FLOPS: 1.10e+11, Memory: 2.16e+09\n",
      "Device: cuda, Input length: 10000, Time: 2.06e-03, FLOPS: 1.10e+11, Memory: 2.17e+09\n"
     ]
    },
    {
     "name": "stderr",
     "output_type": "stream",
     "text": [
      "Unsupported operator aten::div encountered 1 time(s)\n",
      "Unsupported operator aten::softmax encountered 1 time(s)\n",
      "Unsupported operator aten::div encountered 1 time(s)\n",
      "Unsupported operator aten::softmax encountered 1 time(s)\n",
      "Unsupported operator aten::div encountered 1 time(s)\n",
      "Unsupported operator aten::softmax encountered 1 time(s)\n",
      "Unsupported operator aten::div encountered 1 time(s)\n",
      "Unsupported operator aten::softmax encountered 1 time(s)\n",
      "Unsupported operator aten::div encountered 1 time(s)\n",
      "Unsupported operator aten::softmax encountered 1 time(s)\n",
      "Unsupported operator aten::div encountered 1 time(s)\n",
      "Unsupported operator aten::softmax encountered 1 time(s)\n"
     ]
    },
    {
     "name": "stdout",
     "output_type": "stream",
     "text": [
      "Device: cpu, Input length: 10, Time: 4.64e-03, FLOPS: 7.97e+06, Memory: 1.66e+05\n",
      "Device: cuda, Input length: 10, Time: 2.55e-03, FLOPS: 7.97e+06, Memory: 1.66e+05\n",
      "Device: cpu, Input length: 100, Time: 1.07e-02, FLOPS: 8.89e+07, Memory: 1.84e+06\n",
      "Device: cuda, Input length: 100, Time: 2.05e-03, FLOPS: 8.89e+07, Memory: 1.84e+06\n",
      "Device: cpu, Input length: 1000, Time: 4.38e-02, FLOPS: 1.81e+09, Memory: 3.64e+07\n",
      "Device: cuda, Input length: 1000, Time: 2.05e-03, FLOPS: 1.81e+09, Memory: 3.69e+07\n"
     ]
    },
    {
     "name": "stderr",
     "output_type": "stream",
     "text": [
      "Unsupported operator aten::div encountered 1 time(s)\n",
      "Unsupported operator aten::softmax encountered 1 time(s)\n",
      "Unsupported operator aten::div encountered 1 time(s)\n",
      "Unsupported operator aten::softmax encountered 1 time(s)\n",
      " 29%|██▉       | 29/100 [01:34<03:53,  3.29s/it]"
     ]
    },
    {
     "name": "stdout",
     "output_type": "stream",
     "text": [
      "Device: cpu, Input length: 10000, Time: 2.28e+00, FLOPS: 1.10e+11, Memory: 2.16e+09\n",
      "Device: cuda, Input length: 10000, Time: 2.03e-03, FLOPS: 1.10e+11, Memory: 2.17e+09\n"
     ]
    },
    {
     "name": "stderr",
     "output_type": "stream",
     "text": [
      "Unsupported operator aten::div encountered 1 time(s)\n",
      "Unsupported operator aten::softmax encountered 1 time(s)\n",
      "Unsupported operator aten::div encountered 1 time(s)\n",
      "Unsupported operator aten::softmax encountered 1 time(s)\n",
      "Unsupported operator aten::div encountered 1 time(s)\n",
      "Unsupported operator aten::softmax encountered 1 time(s)\n",
      "Unsupported operator aten::div encountered 1 time(s)\n",
      "Unsupported operator aten::softmax encountered 1 time(s)\n",
      "Unsupported operator aten::div encountered 1 time(s)\n",
      "Unsupported operator aten::softmax encountered 1 time(s)\n",
      "Unsupported operator aten::div encountered 1 time(s)\n",
      "Unsupported operator aten::softmax encountered 1 time(s)\n"
     ]
    },
    {
     "name": "stdout",
     "output_type": "stream",
     "text": [
      "Device: cpu, Input length: 10, Time: 5.10e-03, FLOPS: 7.97e+06, Memory: 1.66e+05\n",
      "Device: cuda, Input length: 10, Time: 4.59e-03, FLOPS: 7.97e+06, Memory: 1.66e+05\n",
      "Device: cpu, Input length: 100, Time: 8.69e-03, FLOPS: 8.89e+07, Memory: 1.84e+06\n",
      "Device: cuda, Input length: 100, Time: 2.04e-03, FLOPS: 8.89e+07, Memory: 1.84e+06\n",
      "Device: cpu, Input length: 1000, Time: 4.38e-02, FLOPS: 1.81e+09, Memory: 3.64e+07\n",
      "Device: cuda, Input length: 1000, Time: 2.04e-03, FLOPS: 1.81e+09, Memory: 3.69e+07\n"
     ]
    },
    {
     "name": "stderr",
     "output_type": "stream",
     "text": [
      "Unsupported operator aten::div encountered 1 time(s)\n",
      "Unsupported operator aten::softmax encountered 1 time(s)\n",
      "Unsupported operator aten::div encountered 1 time(s)\n",
      "Unsupported operator aten::softmax encountered 1 time(s)\n",
      " 30%|███       | 30/100 [01:37<03:47,  3.26s/it]"
     ]
    },
    {
     "name": "stdout",
     "output_type": "stream",
     "text": [
      "Device: cpu, Input length: 10000, Time: 2.28e+00, FLOPS: 1.10e+11, Memory: 2.16e+09\n",
      "Device: cuda, Input length: 10000, Time: 1.52e-03, FLOPS: 1.10e+11, Memory: 2.17e+09\n"
     ]
    },
    {
     "name": "stderr",
     "output_type": "stream",
     "text": [
      "Unsupported operator aten::div encountered 1 time(s)\n",
      "Unsupported operator aten::softmax encountered 1 time(s)\n",
      "Unsupported operator aten::div encountered 1 time(s)\n",
      "Unsupported operator aten::softmax encountered 1 time(s)\n",
      "Unsupported operator aten::div encountered 1 time(s)\n",
      "Unsupported operator aten::softmax encountered 1 time(s)\n",
      "Unsupported operator aten::div encountered 1 time(s)\n",
      "Unsupported operator aten::softmax encountered 1 time(s)\n",
      "Unsupported operator aten::div encountered 1 time(s)\n",
      "Unsupported operator aten::softmax encountered 1 time(s)\n",
      "Unsupported operator aten::div encountered 1 time(s)\n",
      "Unsupported operator aten::softmax encountered 1 time(s)\n"
     ]
    },
    {
     "name": "stdout",
     "output_type": "stream",
     "text": [
      "Device: cpu, Input length: 10, Time: 4.06e-03, FLOPS: 7.97e+06, Memory: 1.66e+05\n",
      "Device: cuda, Input length: 10, Time: 2.03e-03, FLOPS: 7.97e+06, Memory: 1.66e+05\n",
      "Device: cpu, Input length: 100, Time: 1.07e-02, FLOPS: 8.89e+07, Memory: 1.84e+06\n",
      "Device: cuda, Input length: 100, Time: 2.03e-03, FLOPS: 8.89e+07, Memory: 1.84e+06\n",
      "Device: cpu, Input length: 1000, Time: 4.28e-02, FLOPS: 1.81e+09, Memory: 3.64e+07\n",
      "Device: cuda, Input length: 1000, Time: 2.03e-03, FLOPS: 1.81e+09, Memory: 3.69e+07\n"
     ]
    },
    {
     "name": "stderr",
     "output_type": "stream",
     "text": [
      "Unsupported operator aten::div encountered 1 time(s)\n",
      "Unsupported operator aten::softmax encountered 1 time(s)\n",
      "Unsupported operator aten::div encountered 1 time(s)\n",
      "Unsupported operator aten::softmax encountered 1 time(s)\n",
      " 31%|███       | 31/100 [01:40<03:43,  3.24s/it]"
     ]
    },
    {
     "name": "stdout",
     "output_type": "stream",
     "text": [
      "Device: cpu, Input length: 10000, Time: 2.28e+00, FLOPS: 1.10e+11, Memory: 2.16e+09\n",
      "Device: cuda, Input length: 10000, Time: 2.05e-03, FLOPS: 1.10e+11, Memory: 2.17e+09\n"
     ]
    },
    {
     "name": "stderr",
     "output_type": "stream",
     "text": [
      "Unsupported operator aten::div encountered 1 time(s)\n",
      "Unsupported operator aten::softmax encountered 1 time(s)\n",
      "Unsupported operator aten::div encountered 1 time(s)\n",
      "Unsupported operator aten::softmax encountered 1 time(s)\n",
      "Unsupported operator aten::div encountered 1 time(s)\n",
      "Unsupported operator aten::softmax encountered 1 time(s)\n",
      "Unsupported operator aten::div encountered 1 time(s)\n",
      "Unsupported operator aten::softmax encountered 1 time(s)\n",
      "Unsupported operator aten::div encountered 1 time(s)\n",
      "Unsupported operator aten::softmax encountered 1 time(s)\n",
      "Unsupported operator aten::div encountered 1 time(s)\n",
      "Unsupported operator aten::softmax encountered 1 time(s)\n"
     ]
    },
    {
     "name": "stdout",
     "output_type": "stream",
     "text": [
      "Device: cpu, Input length: 10, Time: 4.57e-03, FLOPS: 7.97e+06, Memory: 1.66e+05\n",
      "Device: cuda, Input length: 10, Time: 2.03e-03, FLOPS: 7.97e+06, Memory: 1.66e+05\n",
      "Device: cpu, Input length: 100, Time: 8.66e-03, FLOPS: 8.89e+07, Memory: 1.84e+06\n",
      "Device: cuda, Input length: 100, Time: 4.07e-03, FLOPS: 8.89e+07, Memory: 1.84e+06\n",
      "Device: cpu, Input length: 1000, Time: 4.24e-02, FLOPS: 1.81e+09, Memory: 3.64e+07\n",
      "Device: cuda, Input length: 1000, Time: 2.04e-03, FLOPS: 1.81e+09, Memory: 3.69e+07\n"
     ]
    },
    {
     "name": "stderr",
     "output_type": "stream",
     "text": [
      "Unsupported operator aten::div encountered 1 time(s)\n",
      "Unsupported operator aten::softmax encountered 1 time(s)\n",
      "Unsupported operator aten::div encountered 1 time(s)\n",
      "Unsupported operator aten::softmax encountered 1 time(s)\n",
      " 32%|███▏      | 32/100 [01:44<03:39,  3.22s/it]"
     ]
    },
    {
     "name": "stdout",
     "output_type": "stream",
     "text": [
      "Device: cpu, Input length: 10000, Time: 2.28e+00, FLOPS: 1.10e+11, Memory: 2.16e+09\n",
      "Device: cuda, Input length: 10000, Time: 2.05e-03, FLOPS: 1.10e+11, Memory: 2.17e+09\n"
     ]
    },
    {
     "name": "stderr",
     "output_type": "stream",
     "text": [
      "Unsupported operator aten::div encountered 1 time(s)\n",
      "Unsupported operator aten::softmax encountered 1 time(s)\n",
      "Unsupported operator aten::div encountered 1 time(s)\n",
      "Unsupported operator aten::softmax encountered 1 time(s)\n",
      "Unsupported operator aten::div encountered 1 time(s)\n",
      "Unsupported operator aten::softmax encountered 1 time(s)\n",
      "Unsupported operator aten::div encountered 1 time(s)\n",
      "Unsupported operator aten::softmax encountered 1 time(s)\n",
      "Unsupported operator aten::div encountered 1 time(s)\n",
      "Unsupported operator aten::softmax encountered 1 time(s)\n",
      "Unsupported operator aten::div encountered 1 time(s)\n",
      "Unsupported operator aten::softmax encountered 1 time(s)\n"
     ]
    },
    {
     "name": "stdout",
     "output_type": "stream",
     "text": [
      "Device: cpu, Input length: 10, Time: 4.60e-03, FLOPS: 7.97e+06, Memory: 1.66e+05\n",
      "Device: cuda, Input length: 10, Time: 2.03e-03, FLOPS: 7.97e+06, Memory: 1.66e+05\n",
      "Device: cpu, Input length: 100, Time: 9.67e-03, FLOPS: 8.89e+07, Memory: 1.84e+06\n",
      "Device: cuda, Input length: 100, Time: 2.03e-03, FLOPS: 8.89e+07, Memory: 1.84e+06\n",
      "Device: cpu, Input length: 1000, Time: 4.29e-02, FLOPS: 1.81e+09, Memory: 3.64e+07\n",
      "Device: cuda, Input length: 1000, Time: 2.03e-03, FLOPS: 1.81e+09, Memory: 3.69e+07\n"
     ]
    },
    {
     "name": "stderr",
     "output_type": "stream",
     "text": [
      "Unsupported operator aten::div encountered 1 time(s)\n",
      "Unsupported operator aten::softmax encountered 1 time(s)\n",
      "Unsupported operator aten::div encountered 1 time(s)\n",
      "Unsupported operator aten::softmax encountered 1 time(s)\n",
      " 33%|███▎      | 33/100 [01:47<03:37,  3.25s/it]"
     ]
    },
    {
     "name": "stdout",
     "output_type": "stream",
     "text": [
      "Device: cpu, Input length: 10000, Time: 2.35e+00, FLOPS: 1.10e+11, Memory: 2.16e+09\n",
      "Device: cuda, Input length: 10000, Time: 1.52e-03, FLOPS: 1.10e+11, Memory: 2.17e+09\n"
     ]
    },
    {
     "name": "stderr",
     "output_type": "stream",
     "text": [
      "Unsupported operator aten::div encountered 1 time(s)\n",
      "Unsupported operator aten::softmax encountered 1 time(s)\n",
      "Unsupported operator aten::div encountered 1 time(s)\n",
      "Unsupported operator aten::softmax encountered 1 time(s)\n",
      "Unsupported operator aten::div encountered 1 time(s)\n",
      "Unsupported operator aten::softmax encountered 1 time(s)\n",
      "Unsupported operator aten::div encountered 1 time(s)\n",
      "Unsupported operator aten::softmax encountered 1 time(s)\n",
      "Unsupported operator aten::div encountered 1 time(s)\n",
      "Unsupported operator aten::softmax encountered 1 time(s)\n",
      "Unsupported operator aten::div encountered 1 time(s)\n",
      "Unsupported operator aten::softmax encountered 1 time(s)\n"
     ]
    },
    {
     "name": "stdout",
     "output_type": "stream",
     "text": [
      "Device: cpu, Input length: 10, Time: 5.09e-03, FLOPS: 7.97e+06, Memory: 1.66e+05\n",
      "Device: cuda, Input length: 10, Time: 4.07e-03, FLOPS: 7.97e+06, Memory: 1.66e+05\n",
      "Device: cpu, Input length: 100, Time: 1.12e-02, FLOPS: 8.89e+07, Memory: 1.84e+06\n",
      "Device: cuda, Input length: 100, Time: 2.03e-03, FLOPS: 8.89e+07, Memory: 1.84e+06\n",
      "Device: cpu, Input length: 1000, Time: 4.29e-02, FLOPS: 1.81e+09, Memory: 3.64e+07\n",
      "Device: cuda, Input length: 1000, Time: 2.03e-03, FLOPS: 1.81e+09, Memory: 3.69e+07\n"
     ]
    },
    {
     "name": "stderr",
     "output_type": "stream",
     "text": [
      "Unsupported operator aten::div encountered 1 time(s)\n",
      "Unsupported operator aten::softmax encountered 1 time(s)\n",
      "Unsupported operator aten::div encountered 1 time(s)\n",
      "Unsupported operator aten::softmax encountered 1 time(s)\n",
      " 34%|███▍      | 34/100 [01:50<03:35,  3.27s/it]"
     ]
    },
    {
     "name": "stdout",
     "output_type": "stream",
     "text": [
      "Device: cpu, Input length: 10000, Time: 2.27e+00, FLOPS: 1.10e+11, Memory: 2.16e+09\n",
      "Device: cuda, Input length: 10000, Time: 2.03e-03, FLOPS: 1.10e+11, Memory: 2.17e+09\n"
     ]
    },
    {
     "name": "stderr",
     "output_type": "stream",
     "text": [
      "Unsupported operator aten::div encountered 1 time(s)\n",
      "Unsupported operator aten::softmax encountered 1 time(s)\n",
      "Unsupported operator aten::div encountered 1 time(s)\n",
      "Unsupported operator aten::softmax encountered 1 time(s)\n",
      "Unsupported operator aten::div encountered 1 time(s)\n",
      "Unsupported operator aten::softmax encountered 1 time(s)\n",
      "Unsupported operator aten::div encountered 1 time(s)\n",
      "Unsupported operator aten::softmax encountered 1 time(s)\n",
      "Unsupported operator aten::div encountered 1 time(s)\n",
      "Unsupported operator aten::softmax encountered 1 time(s)\n",
      "Unsupported operator aten::div encountered 1 time(s)\n",
      "Unsupported operator aten::softmax encountered 1 time(s)\n"
     ]
    },
    {
     "name": "stdout",
     "output_type": "stream",
     "text": [
      "Device: cpu, Input length: 10, Time: 4.07e-03, FLOPS: 7.97e+06, Memory: 1.66e+05\n",
      "Device: cuda, Input length: 10, Time: 2.55e-03, FLOPS: 7.97e+06, Memory: 1.66e+05\n",
      "Device: cpu, Input length: 100, Time: 1.07e-02, FLOPS: 8.89e+07, Memory: 1.84e+06\n",
      "Device: cuda, Input length: 100, Time: 2.54e-03, FLOPS: 8.89e+07, Memory: 1.84e+06\n",
      "Device: cpu, Input length: 1000, Time: 4.55e-02, FLOPS: 1.81e+09, Memory: 3.64e+07\n",
      "Device: cuda, Input length: 1000, Time: 2.03e-03, FLOPS: 1.81e+09, Memory: 3.69e+07\n"
     ]
    },
    {
     "name": "stderr",
     "output_type": "stream",
     "text": [
      "Unsupported operator aten::div encountered 1 time(s)\n",
      "Unsupported operator aten::softmax encountered 1 time(s)\n",
      "Unsupported operator aten::div encountered 1 time(s)\n",
      "Unsupported operator aten::softmax encountered 1 time(s)\n",
      " 35%|███▌      | 35/100 [01:53<03:30,  3.24s/it]"
     ]
    },
    {
     "name": "stdout",
     "output_type": "stream",
     "text": [
      "Device: cpu, Input length: 10000, Time: 2.29e+00, FLOPS: 1.10e+11, Memory: 2.16e+09\n",
      "Device: cuda, Input length: 10000, Time: 2.03e-03, FLOPS: 1.10e+11, Memory: 2.17e+09\n"
     ]
    },
    {
     "name": "stderr",
     "output_type": "stream",
     "text": [
      "Unsupported operator aten::div encountered 1 time(s)\n",
      "Unsupported operator aten::softmax encountered 1 time(s)\n",
      "Unsupported operator aten::div encountered 1 time(s)\n",
      "Unsupported operator aten::softmax encountered 1 time(s)\n",
      "Unsupported operator aten::div encountered 1 time(s)\n",
      "Unsupported operator aten::softmax encountered 1 time(s)\n",
      "Unsupported operator aten::div encountered 1 time(s)\n",
      "Unsupported operator aten::softmax encountered 1 time(s)\n",
      "Unsupported operator aten::div encountered 1 time(s)\n",
      "Unsupported operator aten::softmax encountered 1 time(s)\n",
      "Unsupported operator aten::div encountered 1 time(s)\n",
      "Unsupported operator aten::softmax encountered 1 time(s)\n"
     ]
    },
    {
     "name": "stdout",
     "output_type": "stream",
     "text": [
      "Device: cpu, Input length: 10, Time: 4.08e-03, FLOPS: 7.97e+06, Memory: 1.66e+05\n",
      "Device: cuda, Input length: 10, Time: 2.02e-03, FLOPS: 7.97e+06, Memory: 1.66e+05\n",
      "Device: cpu, Input length: 100, Time: 9.13e-03, FLOPS: 8.89e+07, Memory: 1.84e+06\n",
      "Device: cuda, Input length: 100, Time: 2.03e-03, FLOPS: 8.89e+07, Memory: 1.84e+06\n",
      "Device: cpu, Input length: 1000, Time: 4.29e-02, FLOPS: 1.81e+09, Memory: 3.64e+07\n",
      "Device: cuda, Input length: 1000, Time: 2.03e-03, FLOPS: 1.81e+09, Memory: 3.69e+07\n"
     ]
    },
    {
     "name": "stderr",
     "output_type": "stream",
     "text": [
      "Unsupported operator aten::div encountered 1 time(s)\n",
      "Unsupported operator aten::softmax encountered 1 time(s)\n",
      "Unsupported operator aten::div encountered 1 time(s)\n",
      "Unsupported operator aten::softmax encountered 1 time(s)\n",
      " 36%|███▌      | 36/100 [01:57<03:26,  3.23s/it]"
     ]
    },
    {
     "name": "stdout",
     "output_type": "stream",
     "text": [
      "Device: cpu, Input length: 10000, Time: 2.28e+00, FLOPS: 1.10e+11, Memory: 2.16e+09\n",
      "Device: cuda, Input length: 10000, Time: 2.03e-03, FLOPS: 1.10e+11, Memory: 2.17e+09\n"
     ]
    },
    {
     "name": "stderr",
     "output_type": "stream",
     "text": [
      "Unsupported operator aten::div encountered 1 time(s)\n",
      "Unsupported operator aten::softmax encountered 1 time(s)\n",
      "Unsupported operator aten::div encountered 1 time(s)\n",
      "Unsupported operator aten::softmax encountered 1 time(s)\n",
      "Unsupported operator aten::div encountered 1 time(s)\n",
      "Unsupported operator aten::softmax encountered 1 time(s)\n",
      "Unsupported operator aten::div encountered 1 time(s)\n",
      "Unsupported operator aten::softmax encountered 1 time(s)\n",
      "Unsupported operator aten::div encountered 1 time(s)\n",
      "Unsupported operator aten::softmax encountered 1 time(s)\n",
      "Unsupported operator aten::div encountered 1 time(s)\n",
      "Unsupported operator aten::softmax encountered 1 time(s)\n"
     ]
    },
    {
     "name": "stdout",
     "output_type": "stream",
     "text": [
      "Device: cpu, Input length: 10, Time: 4.58e-03, FLOPS: 7.97e+06, Memory: 1.66e+05\n",
      "Device: cuda, Input length: 10, Time: 2.04e-03, FLOPS: 7.97e+06, Memory: 1.66e+05\n",
      "Device: cpu, Input length: 100, Time: 1.07e-02, FLOPS: 8.89e+07, Memory: 1.84e+06\n",
      "Device: cuda, Input length: 100, Time: 2.04e-03, FLOPS: 8.89e+07, Memory: 1.84e+06\n",
      "Device: cpu, Input length: 1000, Time: 4.27e-02, FLOPS: 1.81e+09, Memory: 3.64e+07\n",
      "Device: cuda, Input length: 1000, Time: 5.10e-03, FLOPS: 1.81e+09, Memory: 3.69e+07\n"
     ]
    },
    {
     "name": "stderr",
     "output_type": "stream",
     "text": [
      "Unsupported operator aten::div encountered 1 time(s)\n",
      "Unsupported operator aten::softmax encountered 1 time(s)\n",
      "Unsupported operator aten::div encountered 1 time(s)\n",
      "Unsupported operator aten::softmax encountered 1 time(s)\n",
      " 37%|███▋      | 37/100 [02:00<03:23,  3.24s/it]"
     ]
    },
    {
     "name": "stdout",
     "output_type": "stream",
     "text": [
      "Device: cpu, Input length: 10000, Time: 2.27e+00, FLOPS: 1.10e+11, Memory: 2.16e+09\n",
      "Device: cuda, Input length: 10000, Time: 2.03e-03, FLOPS: 1.10e+11, Memory: 2.17e+09\n"
     ]
    },
    {
     "name": "stderr",
     "output_type": "stream",
     "text": [
      "Unsupported operator aten::div encountered 1 time(s)\n",
      "Unsupported operator aten::softmax encountered 1 time(s)\n",
      "Unsupported operator aten::div encountered 1 time(s)\n",
      "Unsupported operator aten::softmax encountered 1 time(s)\n",
      "Unsupported operator aten::div encountered 1 time(s)\n",
      "Unsupported operator aten::softmax encountered 1 time(s)\n",
      "Unsupported operator aten::div encountered 1 time(s)\n",
      "Unsupported operator aten::softmax encountered 1 time(s)\n",
      "Unsupported operator aten::div encountered 1 time(s)\n",
      "Unsupported operator aten::softmax encountered 1 time(s)\n",
      "Unsupported operator aten::div encountered 1 time(s)\n",
      "Unsupported operator aten::softmax encountered 1 time(s)\n"
     ]
    },
    {
     "name": "stdout",
     "output_type": "stream",
     "text": [
      "Device: cpu, Input length: 10, Time: 4.56e-03, FLOPS: 7.97e+06, Memory: 1.66e+05\n",
      "Device: cuda, Input length: 10, Time: 2.03e-03, FLOPS: 7.97e+06, Memory: 1.66e+05\n",
      "Device: cpu, Input length: 100, Time: 1.02e-02, FLOPS: 8.89e+07, Memory: 1.84e+06\n",
      "Device: cuda, Input length: 100, Time: 2.04e-03, FLOPS: 8.89e+07, Memory: 1.84e+06\n",
      "Device: cpu, Input length: 1000, Time: 4.56e-02, FLOPS: 1.81e+09, Memory: 3.64e+07\n",
      "Device: cuda, Input length: 1000, Time: 2.04e-03, FLOPS: 1.81e+09, Memory: 3.69e+07\n"
     ]
    },
    {
     "name": "stderr",
     "output_type": "stream",
     "text": [
      "Unsupported operator aten::div encountered 1 time(s)\n",
      "Unsupported operator aten::softmax encountered 1 time(s)\n",
      "Unsupported operator aten::div encountered 1 time(s)\n",
      "Unsupported operator aten::softmax encountered 1 time(s)\n",
      " 38%|███▊      | 38/100 [02:03<03:22,  3.26s/it]"
     ]
    },
    {
     "name": "stdout",
     "output_type": "stream",
     "text": [
      "Device: cpu, Input length: 10000, Time: 2.35e+00, FLOPS: 1.10e+11, Memory: 2.16e+09\n",
      "Device: cuda, Input length: 10000, Time: 2.06e-03, FLOPS: 1.10e+11, Memory: 2.17e+09\n"
     ]
    },
    {
     "name": "stderr",
     "output_type": "stream",
     "text": [
      "Unsupported operator aten::div encountered 1 time(s)\n",
      "Unsupported operator aten::softmax encountered 1 time(s)\n",
      "Unsupported operator aten::div encountered 1 time(s)\n",
      "Unsupported operator aten::softmax encountered 1 time(s)\n",
      "Unsupported operator aten::div encountered 1 time(s)\n",
      "Unsupported operator aten::softmax encountered 1 time(s)\n",
      "Unsupported operator aten::div encountered 1 time(s)\n",
      "Unsupported operator aten::softmax encountered 1 time(s)\n",
      "Unsupported operator aten::div encountered 1 time(s)\n",
      "Unsupported operator aten::softmax encountered 1 time(s)\n",
      "Unsupported operator aten::div encountered 1 time(s)\n",
      "Unsupported operator aten::softmax encountered 1 time(s)\n"
     ]
    },
    {
     "name": "stdout",
     "output_type": "stream",
     "text": [
      "Device: cpu, Input length: 10, Time: 4.59e-03, FLOPS: 7.97e+06, Memory: 1.66e+05\n",
      "Device: cuda, Input length: 10, Time: 2.04e-03, FLOPS: 7.97e+06, Memory: 1.66e+05\n",
      "Device: cpu, Input length: 100, Time: 9.66e-03, FLOPS: 8.89e+07, Memory: 1.84e+06\n",
      "Device: cuda, Input length: 100, Time: 2.04e-03, FLOPS: 8.89e+07, Memory: 1.84e+06\n",
      "Device: cpu, Input length: 1000, Time: 4.41e-02, FLOPS: 1.81e+09, Memory: 3.64e+07\n",
      "Device: cuda, Input length: 1000, Time: 2.04e-03, FLOPS: 1.81e+09, Memory: 3.69e+07\n"
     ]
    },
    {
     "name": "stderr",
     "output_type": "stream",
     "text": [
      "Unsupported operator aten::div encountered 1 time(s)\n",
      "Unsupported operator aten::softmax encountered 1 time(s)\n",
      "Unsupported operator aten::div encountered 1 time(s)\n",
      "Unsupported operator aten::softmax encountered 1 time(s)\n",
      " 39%|███▉      | 39/100 [02:06<03:18,  3.26s/it]"
     ]
    },
    {
     "name": "stdout",
     "output_type": "stream",
     "text": [
      "Device: cpu, Input length: 10000, Time: 2.28e+00, FLOPS: 1.10e+11, Memory: 2.16e+09\n",
      "Device: cuda, Input length: 10000, Time: 1.52e-03, FLOPS: 1.10e+11, Memory: 2.17e+09\n"
     ]
    },
    {
     "name": "stderr",
     "output_type": "stream",
     "text": [
      "Unsupported operator aten::div encountered 1 time(s)\n",
      "Unsupported operator aten::softmax encountered 1 time(s)\n",
      "Unsupported operator aten::div encountered 1 time(s)\n",
      "Unsupported operator aten::softmax encountered 1 time(s)\n",
      "Unsupported operator aten::div encountered 1 time(s)\n",
      "Unsupported operator aten::softmax encountered 1 time(s)\n",
      "Unsupported operator aten::div encountered 1 time(s)\n",
      "Unsupported operator aten::softmax encountered 1 time(s)\n",
      "Unsupported operator aten::div encountered 1 time(s)\n",
      "Unsupported operator aten::softmax encountered 1 time(s)\n",
      "Unsupported operator aten::div encountered 1 time(s)\n",
      "Unsupported operator aten::softmax encountered 1 time(s)\n"
     ]
    },
    {
     "name": "stdout",
     "output_type": "stream",
     "text": [
      "Device: cpu, Input length: 10, Time: 4.59e-03, FLOPS: 7.97e+06, Memory: 1.66e+05\n",
      "Device: cuda, Input length: 10, Time: 2.04e-03, FLOPS: 7.97e+06, Memory: 1.66e+05\n",
      "Device: cpu, Input length: 100, Time: 9.70e-03, FLOPS: 8.89e+07, Memory: 1.84e+06\n",
      "Device: cuda, Input length: 100, Time: 2.54e-03, FLOPS: 8.89e+07, Memory: 1.84e+06\n",
      "Device: cpu, Input length: 1000, Time: 4.50e-02, FLOPS: 1.81e+09, Memory: 3.64e+07\n",
      "Device: cuda, Input length: 1000, Time: 1.53e-03, FLOPS: 1.81e+09, Memory: 3.69e+07\n"
     ]
    },
    {
     "name": "stderr",
     "output_type": "stream",
     "text": [
      "Unsupported operator aten::div encountered 1 time(s)\n",
      "Unsupported operator aten::softmax encountered 1 time(s)\n",
      "Unsupported operator aten::div encountered 1 time(s)\n",
      "Unsupported operator aten::softmax encountered 1 time(s)\n",
      " 40%|████      | 40/100 [02:10<03:15,  3.25s/it]"
     ]
    },
    {
     "name": "stdout",
     "output_type": "stream",
     "text": [
      "Device: cpu, Input length: 10000, Time: 2.27e+00, FLOPS: 1.10e+11, Memory: 2.16e+09\n",
      "Device: cuda, Input length: 10000, Time: 1.52e-03, FLOPS: 1.10e+11, Memory: 2.17e+09\n"
     ]
    },
    {
     "name": "stderr",
     "output_type": "stream",
     "text": [
      "Unsupported operator aten::div encountered 1 time(s)\n",
      "Unsupported operator aten::softmax encountered 1 time(s)\n",
      "Unsupported operator aten::div encountered 1 time(s)\n",
      "Unsupported operator aten::softmax encountered 1 time(s)\n",
      "Unsupported operator aten::div encountered 1 time(s)\n",
      "Unsupported operator aten::softmax encountered 1 time(s)\n",
      "Unsupported operator aten::div encountered 1 time(s)\n",
      "Unsupported operator aten::softmax encountered 1 time(s)\n",
      "Unsupported operator aten::div encountered 1 time(s)\n",
      "Unsupported operator aten::softmax encountered 1 time(s)\n",
      "Unsupported operator aten::div encountered 1 time(s)\n",
      "Unsupported operator aten::softmax encountered 1 time(s)\n"
     ]
    },
    {
     "name": "stdout",
     "output_type": "stream",
     "text": [
      "Device: cpu, Input length: 10, Time: 4.58e-03, FLOPS: 7.97e+06, Memory: 1.66e+05\n",
      "Device: cuda, Input length: 10, Time: 2.04e-03, FLOPS: 7.97e+06, Memory: 1.66e+05\n",
      "Device: cpu, Input length: 100, Time: 1.02e-02, FLOPS: 8.89e+07, Memory: 1.84e+06\n",
      "Device: cuda, Input length: 100, Time: 2.54e-03, FLOPS: 8.89e+07, Memory: 1.84e+06\n",
      "Device: cpu, Input length: 1000, Time: 4.29e-02, FLOPS: 1.81e+09, Memory: 3.64e+07\n",
      "Device: cuda, Input length: 1000, Time: 2.03e-03, FLOPS: 1.81e+09, Memory: 3.69e+07\n"
     ]
    },
    {
     "name": "stderr",
     "output_type": "stream",
     "text": [
      "Unsupported operator aten::div encountered 1 time(s)\n",
      "Unsupported operator aten::softmax encountered 1 time(s)\n",
      "Unsupported operator aten::div encountered 1 time(s)\n",
      "Unsupported operator aten::softmax encountered 1 time(s)\n",
      " 41%|████      | 41/100 [02:13<03:13,  3.27s/it]"
     ]
    },
    {
     "name": "stdout",
     "output_type": "stream",
     "text": [
      "Device: cpu, Input length: 10000, Time: 2.40e+00, FLOPS: 1.10e+11, Memory: 2.16e+09\n",
      "Device: cuda, Input length: 10000, Time: 2.03e-03, FLOPS: 1.10e+11, Memory: 2.17e+09\n"
     ]
    },
    {
     "name": "stderr",
     "output_type": "stream",
     "text": [
      "Unsupported operator aten::div encountered 1 time(s)\n",
      "Unsupported operator aten::softmax encountered 1 time(s)\n",
      "Unsupported operator aten::div encountered 1 time(s)\n",
      "Unsupported operator aten::softmax encountered 1 time(s)\n",
      "Unsupported operator aten::div encountered 1 time(s)\n",
      "Unsupported operator aten::softmax encountered 1 time(s)\n",
      "Unsupported operator aten::div encountered 1 time(s)\n",
      "Unsupported operator aten::softmax encountered 1 time(s)\n",
      "Unsupported operator aten::div encountered 1 time(s)\n",
      "Unsupported operator aten::softmax encountered 1 time(s)\n",
      "Unsupported operator aten::div encountered 1 time(s)\n",
      "Unsupported operator aten::softmax encountered 1 time(s)\n"
     ]
    },
    {
     "name": "stdout",
     "output_type": "stream",
     "text": [
      "Device: cpu, Input length: 10, Time: 4.59e-03, FLOPS: 7.97e+06, Memory: 1.66e+05\n",
      "Device: cuda, Input length: 10, Time: 3.56e-03, FLOPS: 7.97e+06, Memory: 1.66e+05\n",
      "Device: cpu, Input length: 100, Time: 9.25e-03, FLOPS: 8.89e+07, Memory: 1.84e+06\n",
      "Device: cuda, Input length: 100, Time: 2.55e-03, FLOPS: 8.89e+07, Memory: 1.84e+06\n",
      "Device: cpu, Input length: 1000, Time: 4.34e-02, FLOPS: 1.81e+09, Memory: 3.64e+07\n",
      "Device: cuda, Input length: 1000, Time: 2.03e-03, FLOPS: 1.81e+09, Memory: 3.69e+07\n"
     ]
    },
    {
     "name": "stderr",
     "output_type": "stream",
     "text": [
      "Unsupported operator aten::div encountered 1 time(s)\n",
      "Unsupported operator aten::softmax encountered 1 time(s)\n",
      "Unsupported operator aten::div encountered 1 time(s)\n",
      "Unsupported operator aten::softmax encountered 1 time(s)\n",
      " 42%|████▏     | 42/100 [02:16<03:08,  3.26s/it]"
     ]
    },
    {
     "name": "stdout",
     "output_type": "stream",
     "text": [
      "Device: cpu, Input length: 10000, Time: 2.28e+00, FLOPS: 1.10e+11, Memory: 2.16e+09\n",
      "Device: cuda, Input length: 10000, Time: 2.04e-03, FLOPS: 1.10e+11, Memory: 2.17e+09\n"
     ]
    },
    {
     "name": "stderr",
     "output_type": "stream",
     "text": [
      "Unsupported operator aten::div encountered 1 time(s)\n",
      "Unsupported operator aten::softmax encountered 1 time(s)\n",
      "Unsupported operator aten::div encountered 1 time(s)\n",
      "Unsupported operator aten::softmax encountered 1 time(s)\n",
      "Unsupported operator aten::div encountered 1 time(s)\n",
      "Unsupported operator aten::softmax encountered 1 time(s)\n",
      "Unsupported operator aten::div encountered 1 time(s)\n",
      "Unsupported operator aten::softmax encountered 1 time(s)\n",
      "Unsupported operator aten::div encountered 1 time(s)\n",
      "Unsupported operator aten::softmax encountered 1 time(s)\n",
      "Unsupported operator aten::div encountered 1 time(s)\n",
      "Unsupported operator aten::softmax encountered 1 time(s)\n"
     ]
    },
    {
     "name": "stdout",
     "output_type": "stream",
     "text": [
      "Device: cpu, Input length: 10, Time: 4.07e-03, FLOPS: 7.97e+06, Memory: 1.66e+05\n",
      "Device: cuda, Input length: 10, Time: 2.03e-03, FLOPS: 7.97e+06, Memory: 1.66e+05\n",
      "Device: cpu, Input length: 100, Time: 1.07e-02, FLOPS: 8.89e+07, Memory: 1.84e+06\n",
      "Device: cuda, Input length: 100, Time: 2.03e-03, FLOPS: 8.89e+07, Memory: 1.84e+06\n",
      "Device: cpu, Input length: 1000, Time: 4.59e-02, FLOPS: 1.81e+09, Memory: 3.64e+07\n",
      "Device: cuda, Input length: 1000, Time: 2.03e-03, FLOPS: 1.81e+09, Memory: 3.69e+07\n"
     ]
    },
    {
     "name": "stderr",
     "output_type": "stream",
     "text": [
      "Unsupported operator aten::div encountered 1 time(s)\n",
      "Unsupported operator aten::softmax encountered 1 time(s)\n",
      "Unsupported operator aten::div encountered 1 time(s)\n",
      "Unsupported operator aten::softmax encountered 1 time(s)\n",
      " 43%|████▎     | 43/100 [02:19<03:04,  3.23s/it]"
     ]
    },
    {
     "name": "stdout",
     "output_type": "stream",
     "text": [
      "Device: cpu, Input length: 10000, Time: 2.27e+00, FLOPS: 1.10e+11, Memory: 2.16e+09\n",
      "Device: cuda, Input length: 10000, Time: 2.04e-03, FLOPS: 1.10e+11, Memory: 2.17e+09\n"
     ]
    },
    {
     "name": "stderr",
     "output_type": "stream",
     "text": [
      "Unsupported operator aten::div encountered 1 time(s)\n",
      "Unsupported operator aten::softmax encountered 1 time(s)\n",
      "Unsupported operator aten::div encountered 1 time(s)\n",
      "Unsupported operator aten::softmax encountered 1 time(s)\n",
      "Unsupported operator aten::div encountered 1 time(s)\n",
      "Unsupported operator aten::softmax encountered 1 time(s)\n",
      "Unsupported operator aten::div encountered 1 time(s)\n",
      "Unsupported operator aten::softmax encountered 1 time(s)\n",
      "Unsupported operator aten::div encountered 1 time(s)\n",
      "Unsupported operator aten::softmax encountered 1 time(s)\n",
      "Unsupported operator aten::div encountered 1 time(s)\n",
      "Unsupported operator aten::softmax encountered 1 time(s)\n"
     ]
    },
    {
     "name": "stdout",
     "output_type": "stream",
     "text": [
      "Device: cpu, Input length: 10, Time: 4.08e-03, FLOPS: 7.97e+06, Memory: 1.66e+05\n",
      "Device: cuda, Input length: 10, Time: 2.04e-03, FLOPS: 7.97e+06, Memory: 1.66e+05\n",
      "Device: cpu, Input length: 100, Time: 9.16e-03, FLOPS: 8.89e+07, Memory: 1.84e+06\n",
      "Device: cuda, Input length: 100, Time: 2.04e-03, FLOPS: 8.89e+07, Memory: 1.84e+06\n",
      "Device: cpu, Input length: 1000, Time: 4.33e-02, FLOPS: 1.81e+09, Memory: 3.64e+07\n",
      "Device: cuda, Input length: 1000, Time: 2.04e-03, FLOPS: 1.81e+09, Memory: 3.69e+07\n"
     ]
    },
    {
     "name": "stderr",
     "output_type": "stream",
     "text": [
      "Unsupported operator aten::div encountered 1 time(s)\n",
      "Unsupported operator aten::softmax encountered 1 time(s)\n",
      "Unsupported operator aten::div encountered 1 time(s)\n",
      "Unsupported operator aten::softmax encountered 1 time(s)\n",
      " 44%|████▍     | 44/100 [02:23<03:00,  3.22s/it]"
     ]
    },
    {
     "name": "stdout",
     "output_type": "stream",
     "text": [
      "Device: cpu, Input length: 10000, Time: 2.27e+00, FLOPS: 1.10e+11, Memory: 2.16e+09\n",
      "Device: cuda, Input length: 10000, Time: 1.95e-03, FLOPS: 1.10e+11, Memory: 2.17e+09\n"
     ]
    },
    {
     "name": "stderr",
     "output_type": "stream",
     "text": [
      "Unsupported operator aten::div encountered 1 time(s)\n",
      "Unsupported operator aten::softmax encountered 1 time(s)\n",
      "Unsupported operator aten::div encountered 1 time(s)\n",
      "Unsupported operator aten::softmax encountered 1 time(s)\n",
      "Unsupported operator aten::div encountered 1 time(s)\n",
      "Unsupported operator aten::softmax encountered 1 time(s)\n",
      "Unsupported operator aten::div encountered 1 time(s)\n",
      "Unsupported operator aten::softmax encountered 1 time(s)\n",
      "Unsupported operator aten::div encountered 1 time(s)\n",
      "Unsupported operator aten::softmax encountered 1 time(s)\n",
      "Unsupported operator aten::div encountered 1 time(s)\n",
      "Unsupported operator aten::softmax encountered 1 time(s)\n"
     ]
    },
    {
     "name": "stdout",
     "output_type": "stream",
     "text": [
      "Device: cpu, Input length: 10, Time: 4.06e-03, FLOPS: 7.97e+06, Memory: 1.66e+05\n",
      "Device: cuda, Input length: 10, Time: 2.04e-03, FLOPS: 7.97e+06, Memory: 1.66e+05\n",
      "Device: cpu, Input length: 100, Time: 1.02e-02, FLOPS: 8.89e+07, Memory: 1.84e+06\n",
      "Device: cuda, Input length: 100, Time: 2.54e-03, FLOPS: 8.89e+07, Memory: 1.84e+06\n",
      "Device: cpu, Input length: 1000, Time: 4.28e-02, FLOPS: 1.81e+09, Memory: 3.64e+07\n",
      "Device: cuda, Input length: 1000, Time: 2.03e-03, FLOPS: 1.81e+09, Memory: 3.69e+07\n"
     ]
    },
    {
     "name": "stderr",
     "output_type": "stream",
     "text": [
      "Unsupported operator aten::div encountered 1 time(s)\n",
      "Unsupported operator aten::softmax encountered 1 time(s)\n",
      "Unsupported operator aten::div encountered 1 time(s)\n",
      "Unsupported operator aten::softmax encountered 1 time(s)\n",
      " 45%|████▌     | 45/100 [02:26<02:56,  3.21s/it]"
     ]
    },
    {
     "name": "stdout",
     "output_type": "stream",
     "text": [
      "Device: cpu, Input length: 10000, Time: 2.26e+00, FLOPS: 1.10e+11, Memory: 2.16e+09\n",
      "Device: cuda, Input length: 10000, Time: 2.04e-03, FLOPS: 1.10e+11, Memory: 2.17e+09\n"
     ]
    },
    {
     "name": "stderr",
     "output_type": "stream",
     "text": [
      "Unsupported operator aten::div encountered 1 time(s)\n",
      "Unsupported operator aten::softmax encountered 1 time(s)\n",
      "Unsupported operator aten::div encountered 1 time(s)\n",
      "Unsupported operator aten::softmax encountered 1 time(s)\n",
      "Unsupported operator aten::div encountered 1 time(s)\n",
      "Unsupported operator aten::softmax encountered 1 time(s)\n",
      "Unsupported operator aten::div encountered 1 time(s)\n",
      "Unsupported operator aten::softmax encountered 1 time(s)\n",
      "Unsupported operator aten::div encountered 1 time(s)\n",
      "Unsupported operator aten::softmax encountered 1 time(s)\n",
      "Unsupported operator aten::div encountered 1 time(s)\n",
      "Unsupported operator aten::softmax encountered 1 time(s)\n"
     ]
    },
    {
     "name": "stdout",
     "output_type": "stream",
     "text": [
      "Device: cpu, Input length: 10, Time: 4.58e-03, FLOPS: 7.97e+06, Memory: 1.66e+05\n",
      "Device: cuda, Input length: 10, Time: 2.54e-03, FLOPS: 7.97e+06, Memory: 1.66e+05\n",
      "Device: cpu, Input length: 100, Time: 1.18e-02, FLOPS: 8.89e+07, Memory: 1.84e+06\n",
      "Device: cuda, Input length: 100, Time: 2.54e-03, FLOPS: 8.89e+07, Memory: 1.84e+06\n",
      "Device: cpu, Input length: 1000, Time: 4.28e-02, FLOPS: 1.81e+09, Memory: 3.64e+07\n",
      "Device: cuda, Input length: 1000, Time: 5.09e-03, FLOPS: 1.81e+09, Memory: 3.69e+07\n"
     ]
    },
    {
     "name": "stderr",
     "output_type": "stream",
     "text": [
      "Unsupported operator aten::div encountered 1 time(s)\n",
      "Unsupported operator aten::softmax encountered 1 time(s)\n",
      "Unsupported operator aten::div encountered 1 time(s)\n",
      "Unsupported operator aten::softmax encountered 1 time(s)\n",
      " 46%|████▌     | 46/100 [02:29<02:53,  3.21s/it]"
     ]
    },
    {
     "name": "stdout",
     "output_type": "stream",
     "text": [
      "Device: cpu, Input length: 10000, Time: 2.27e+00, FLOPS: 1.10e+11, Memory: 2.16e+09\n",
      "Device: cuda, Input length: 10000, Time: 2.14e-03, FLOPS: 1.10e+11, Memory: 2.17e+09\n"
     ]
    },
    {
     "name": "stderr",
     "output_type": "stream",
     "text": [
      "Unsupported operator aten::div encountered 1 time(s)\n",
      "Unsupported operator aten::softmax encountered 1 time(s)\n",
      "Unsupported operator aten::div encountered 1 time(s)\n",
      "Unsupported operator aten::softmax encountered 1 time(s)\n",
      "Unsupported operator aten::div encountered 1 time(s)\n",
      "Unsupported operator aten::softmax encountered 1 time(s)\n",
      "Unsupported operator aten::div encountered 1 time(s)\n",
      "Unsupported operator aten::softmax encountered 1 time(s)\n",
      "Unsupported operator aten::div encountered 1 time(s)\n",
      "Unsupported operator aten::softmax encountered 1 time(s)\n",
      "Unsupported operator aten::div encountered 1 time(s)\n",
      "Unsupported operator aten::softmax encountered 1 time(s)\n"
     ]
    },
    {
     "name": "stdout",
     "output_type": "stream",
     "text": [
      "Device: cpu, Input length: 10, Time: 4.60e-03, FLOPS: 7.97e+06, Memory: 1.66e+05\n",
      "Device: cuda, Input length: 10, Time: 2.03e-03, FLOPS: 7.97e+06, Memory: 1.66e+05\n",
      "Device: cpu, Input length: 100, Time: 1.07e-02, FLOPS: 8.89e+07, Memory: 1.84e+06\n",
      "Device: cuda, Input length: 100, Time: 4.60e-03, FLOPS: 8.89e+07, Memory: 1.84e+06\n",
      "Device: cpu, Input length: 1000, Time: 4.38e-02, FLOPS: 1.81e+09, Memory: 3.64e+07\n",
      "Device: cuda, Input length: 1000, Time: 2.03e-03, FLOPS: 1.81e+09, Memory: 3.69e+07\n"
     ]
    },
    {
     "name": "stderr",
     "output_type": "stream",
     "text": [
      "Unsupported operator aten::div encountered 1 time(s)\n",
      "Unsupported operator aten::softmax encountered 1 time(s)\n",
      "Unsupported operator aten::div encountered 1 time(s)\n",
      "Unsupported operator aten::softmax encountered 1 time(s)\n",
      " 47%|████▋     | 47/100 [02:32<02:49,  3.21s/it]"
     ]
    },
    {
     "name": "stdout",
     "output_type": "stream",
     "text": [
      "Device: cpu, Input length: 10000, Time: 2.26e+00, FLOPS: 1.10e+11, Memory: 2.16e+09\n",
      "Device: cuda, Input length: 10000, Time: 2.04e-03, FLOPS: 1.10e+11, Memory: 2.17e+09\n"
     ]
    },
    {
     "name": "stderr",
     "output_type": "stream",
     "text": [
      "Unsupported operator aten::div encountered 1 time(s)\n",
      "Unsupported operator aten::softmax encountered 1 time(s)\n",
      "Unsupported operator aten::div encountered 1 time(s)\n",
      "Unsupported operator aten::softmax encountered 1 time(s)\n",
      "Unsupported operator aten::div encountered 1 time(s)\n",
      "Unsupported operator aten::softmax encountered 1 time(s)\n",
      "Unsupported operator aten::div encountered 1 time(s)\n",
      "Unsupported operator aten::softmax encountered 1 time(s)\n",
      "Unsupported operator aten::div encountered 1 time(s)\n",
      "Unsupported operator aten::softmax encountered 1 time(s)\n",
      "Unsupported operator aten::div encountered 1 time(s)\n",
      "Unsupported operator aten::softmax encountered 1 time(s)\n"
     ]
    },
    {
     "name": "stdout",
     "output_type": "stream",
     "text": [
      "Device: cpu, Input length: 10, Time: 4.61e-03, FLOPS: 7.97e+06, Memory: 1.66e+05\n",
      "Device: cuda, Input length: 10, Time: 2.03e-03, FLOPS: 7.97e+06, Memory: 1.66e+05\n",
      "Device: cpu, Input length: 100, Time: 1.02e-02, FLOPS: 8.89e+07, Memory: 1.84e+06\n",
      "Device: cuda, Input length: 100, Time: 2.04e-03, FLOPS: 8.89e+07, Memory: 1.84e+06\n",
      "Device: cpu, Input length: 1000, Time: 4.41e-02, FLOPS: 1.81e+09, Memory: 3.64e+07\n",
      "Device: cuda, Input length: 1000, Time: 2.04e-03, FLOPS: 1.81e+09, Memory: 3.69e+07\n"
     ]
    },
    {
     "name": "stderr",
     "output_type": "stream",
     "text": [
      "Unsupported operator aten::div encountered 1 time(s)\n",
      "Unsupported operator aten::softmax encountered 1 time(s)\n",
      "Unsupported operator aten::div encountered 1 time(s)\n",
      "Unsupported operator aten::softmax encountered 1 time(s)\n",
      " 48%|████▊     | 48/100 [02:35<02:47,  3.22s/it]"
     ]
    },
    {
     "name": "stdout",
     "output_type": "stream",
     "text": [
      "Device: cpu, Input length: 10000, Time: 2.27e+00, FLOPS: 1.10e+11, Memory: 2.16e+09\n",
      "Device: cuda, Input length: 10000, Time: 2.04e-03, FLOPS: 1.10e+11, Memory: 2.17e+09\n"
     ]
    },
    {
     "name": "stderr",
     "output_type": "stream",
     "text": [
      "Unsupported operator aten::div encountered 1 time(s)\n",
      "Unsupported operator aten::softmax encountered 1 time(s)\n",
      "Unsupported operator aten::div encountered 1 time(s)\n",
      "Unsupported operator aten::softmax encountered 1 time(s)\n",
      "Unsupported operator aten::div encountered 1 time(s)\n",
      "Unsupported operator aten::softmax encountered 1 time(s)\n",
      "Unsupported operator aten::div encountered 1 time(s)\n",
      "Unsupported operator aten::softmax encountered 1 time(s)\n",
      "Unsupported operator aten::div encountered 1 time(s)\n",
      "Unsupported operator aten::softmax encountered 1 time(s)\n",
      "Unsupported operator aten::div encountered 1 time(s)\n",
      "Unsupported operator aten::softmax encountered 1 time(s)\n"
     ]
    },
    {
     "name": "stdout",
     "output_type": "stream",
     "text": [
      "Device: cpu, Input length: 10, Time: 4.60e-03, FLOPS: 7.97e+06, Memory: 1.66e+05\n",
      "Device: cuda, Input length: 10, Time: 2.03e-03, FLOPS: 7.97e+06, Memory: 1.66e+05\n",
      "Device: cpu, Input length: 100, Time: 9.70e-03, FLOPS: 8.89e+07, Memory: 1.84e+06\n",
      "Device: cuda, Input length: 100, Time: 2.05e-03, FLOPS: 8.89e+07, Memory: 1.84e+06\n",
      "Device: cpu, Input length: 1000, Time: 4.33e-02, FLOPS: 1.81e+09, Memory: 3.64e+07\n",
      "Device: cuda, Input length: 1000, Time: 2.04e-03, FLOPS: 1.81e+09, Memory: 3.69e+07\n"
     ]
    },
    {
     "name": "stderr",
     "output_type": "stream",
     "text": [
      "Unsupported operator aten::div encountered 1 time(s)\n",
      "Unsupported operator aten::softmax encountered 1 time(s)\n",
      "Unsupported operator aten::div encountered 1 time(s)\n",
      "Unsupported operator aten::softmax encountered 1 time(s)\n",
      " 49%|████▉     | 49/100 [02:39<02:43,  3.22s/it]"
     ]
    },
    {
     "name": "stdout",
     "output_type": "stream",
     "text": [
      "Device: cpu, Input length: 10000, Time: 2.28e+00, FLOPS: 1.10e+11, Memory: 2.16e+09\n",
      "Device: cuda, Input length: 10000, Time: 2.05e-03, FLOPS: 1.10e+11, Memory: 2.17e+09\n"
     ]
    },
    {
     "name": "stderr",
     "output_type": "stream",
     "text": [
      "Unsupported operator aten::div encountered 1 time(s)\n",
      "Unsupported operator aten::softmax encountered 1 time(s)\n",
      "Unsupported operator aten::div encountered 1 time(s)\n",
      "Unsupported operator aten::softmax encountered 1 time(s)\n",
      "Unsupported operator aten::div encountered 1 time(s)\n",
      "Unsupported operator aten::softmax encountered 1 time(s)\n",
      "Unsupported operator aten::div encountered 1 time(s)\n",
      "Unsupported operator aten::softmax encountered 1 time(s)\n",
      "Unsupported operator aten::div encountered 1 time(s)\n",
      "Unsupported operator aten::softmax encountered 1 time(s)\n",
      "Unsupported operator aten::div encountered 1 time(s)\n",
      "Unsupported operator aten::softmax encountered 1 time(s)\n"
     ]
    },
    {
     "name": "stdout",
     "output_type": "stream",
     "text": [
      "Device: cpu, Input length: 10, Time: 4.06e-03, FLOPS: 7.97e+06, Memory: 1.66e+05\n",
      "Device: cuda, Input length: 10, Time: 2.55e-03, FLOPS: 7.97e+06, Memory: 1.66e+05\n",
      "Device: cpu, Input length: 100, Time: 1.02e-02, FLOPS: 8.89e+07, Memory: 1.84e+06\n",
      "Device: cuda, Input length: 100, Time: 2.54e-03, FLOPS: 8.89e+07, Memory: 1.84e+06\n",
      "Device: cpu, Input length: 1000, Time: 4.34e-02, FLOPS: 1.81e+09, Memory: 3.64e+07\n",
      "Device: cuda, Input length: 1000, Time: 2.03e-03, FLOPS: 1.81e+09, Memory: 3.69e+07\n"
     ]
    },
    {
     "name": "stderr",
     "output_type": "stream",
     "text": [
      "Unsupported operator aten::div encountered 1 time(s)\n",
      "Unsupported operator aten::softmax encountered 1 time(s)\n",
      "Unsupported operator aten::div encountered 1 time(s)\n",
      "Unsupported operator aten::softmax encountered 1 time(s)\n",
      " 50%|█████     | 50/100 [02:42<02:39,  3.20s/it]"
     ]
    },
    {
     "name": "stdout",
     "output_type": "stream",
     "text": [
      "Device: cpu, Input length: 10000, Time: 2.26e+00, FLOPS: 1.10e+11, Memory: 2.16e+09\n",
      "Device: cuda, Input length: 10000, Time: 2.03e-03, FLOPS: 1.10e+11, Memory: 2.17e+09\n"
     ]
    },
    {
     "name": "stderr",
     "output_type": "stream",
     "text": [
      "Unsupported operator aten::div encountered 1 time(s)\n",
      "Unsupported operator aten::softmax encountered 1 time(s)\n",
      "Unsupported operator aten::div encountered 1 time(s)\n",
      "Unsupported operator aten::softmax encountered 1 time(s)\n",
      "Unsupported operator aten::div encountered 1 time(s)\n",
      "Unsupported operator aten::softmax encountered 1 time(s)\n",
      "Unsupported operator aten::div encountered 1 time(s)\n",
      "Unsupported operator aten::softmax encountered 1 time(s)\n",
      "Unsupported operator aten::div encountered 1 time(s)\n",
      "Unsupported operator aten::softmax encountered 1 time(s)\n",
      "Unsupported operator aten::div encountered 1 time(s)\n",
      "Unsupported operator aten::softmax encountered 1 time(s)\n"
     ]
    },
    {
     "name": "stdout",
     "output_type": "stream",
     "text": [
      "Device: cpu, Input length: 10, Time: 4.57e-03, FLOPS: 7.97e+06, Memory: 1.66e+05\n",
      "Device: cuda, Input length: 10, Time: 2.54e-03, FLOPS: 7.97e+06, Memory: 1.66e+05\n",
      "Device: cpu, Input length: 100, Time: 9.71e-03, FLOPS: 8.89e+07, Memory: 1.84e+06\n",
      "Device: cuda, Input length: 100, Time: 4.60e-03, FLOPS: 8.89e+07, Memory: 1.84e+06\n",
      "Device: cpu, Input length: 1000, Time: 4.28e-02, FLOPS: 1.81e+09, Memory: 3.64e+07\n",
      "Device: cuda, Input length: 1000, Time: 2.03e-03, FLOPS: 1.81e+09, Memory: 3.69e+07\n"
     ]
    },
    {
     "name": "stderr",
     "output_type": "stream",
     "text": [
      "Unsupported operator aten::div encountered 1 time(s)\n",
      "Unsupported operator aten::softmax encountered 1 time(s)\n",
      "Unsupported operator aten::div encountered 1 time(s)\n",
      "Unsupported operator aten::softmax encountered 1 time(s)\n",
      " 51%|█████     | 51/100 [02:45<02:37,  3.21s/it]"
     ]
    },
    {
     "name": "stdout",
     "output_type": "stream",
     "text": [
      "Device: cpu, Input length: 10000, Time: 2.27e+00, FLOPS: 1.10e+11, Memory: 2.16e+09\n",
      "Device: cuda, Input length: 10000, Time: 2.03e-03, FLOPS: 1.10e+11, Memory: 2.17e+09\n"
     ]
    },
    {
     "name": "stderr",
     "output_type": "stream",
     "text": [
      "Unsupported operator aten::div encountered 1 time(s)\n",
      "Unsupported operator aten::softmax encountered 1 time(s)\n",
      "Unsupported operator aten::div encountered 1 time(s)\n",
      "Unsupported operator aten::softmax encountered 1 time(s)\n",
      "Unsupported operator aten::div encountered 1 time(s)\n",
      "Unsupported operator aten::softmax encountered 1 time(s)\n",
      "Unsupported operator aten::div encountered 1 time(s)\n",
      "Unsupported operator aten::softmax encountered 1 time(s)\n",
      "Unsupported operator aten::div encountered 1 time(s)\n",
      "Unsupported operator aten::softmax encountered 1 time(s)\n",
      "Unsupported operator aten::div encountered 1 time(s)\n",
      "Unsupported operator aten::softmax encountered 1 time(s)\n"
     ]
    },
    {
     "name": "stdout",
     "output_type": "stream",
     "text": [
      "Device: cpu, Input length: 10, Time: 4.08e-03, FLOPS: 7.97e+06, Memory: 1.66e+05\n",
      "Device: cuda, Input length: 10, Time: 2.04e-03, FLOPS: 7.97e+06, Memory: 1.66e+05\n",
      "Device: cpu, Input length: 100, Time: 9.70e-03, FLOPS: 8.89e+07, Memory: 1.84e+06\n",
      "Device: cuda, Input length: 100, Time: 2.03e-03, FLOPS: 8.89e+07, Memory: 1.84e+06\n",
      "Device: cpu, Input length: 1000, Time: 4.28e-02, FLOPS: 1.81e+09, Memory: 3.64e+07\n",
      "Device: cuda, Input length: 1000, Time: 5.08e-03, FLOPS: 1.81e+09, Memory: 3.69e+07\n"
     ]
    },
    {
     "name": "stderr",
     "output_type": "stream",
     "text": [
      "Unsupported operator aten::div encountered 1 time(s)\n",
      "Unsupported operator aten::softmax encountered 1 time(s)\n",
      "Unsupported operator aten::div encountered 1 time(s)\n",
      "Unsupported operator aten::softmax encountered 1 time(s)\n",
      " 52%|█████▏    | 52/100 [02:48<02:33,  3.21s/it]"
     ]
    },
    {
     "name": "stdout",
     "output_type": "stream",
     "text": [
      "Device: cpu, Input length: 10000, Time: 2.27e+00, FLOPS: 1.10e+11, Memory: 2.16e+09\n",
      "Device: cuda, Input length: 10000, Time: 1.53e-03, FLOPS: 1.10e+11, Memory: 2.17e+09\n"
     ]
    },
    {
     "name": "stderr",
     "output_type": "stream",
     "text": [
      "Unsupported operator aten::div encountered 1 time(s)\n",
      "Unsupported operator aten::softmax encountered 1 time(s)\n",
      "Unsupported operator aten::div encountered 1 time(s)\n",
      "Unsupported operator aten::softmax encountered 1 time(s)\n",
      "Unsupported operator aten::div encountered 1 time(s)\n",
      "Unsupported operator aten::softmax encountered 1 time(s)\n",
      "Unsupported operator aten::div encountered 1 time(s)\n",
      "Unsupported operator aten::softmax encountered 1 time(s)\n",
      "Unsupported operator aten::div encountered 1 time(s)\n",
      "Unsupported operator aten::softmax encountered 1 time(s)\n",
      "Unsupported operator aten::div encountered 1 time(s)\n",
      "Unsupported operator aten::softmax encountered 1 time(s)\n"
     ]
    },
    {
     "name": "stdout",
     "output_type": "stream",
     "text": [
      "Device: cpu, Input length: 10, Time: 4.59e-03, FLOPS: 7.97e+06, Memory: 1.66e+05\n",
      "Device: cuda, Input length: 10, Time: 2.54e-03, FLOPS: 7.97e+06, Memory: 1.66e+05\n",
      "Device: cpu, Input length: 100, Time: 1.02e-02, FLOPS: 8.89e+07, Memory: 1.84e+06\n",
      "Device: cuda, Input length: 100, Time: 2.54e-03, FLOPS: 8.89e+07, Memory: 1.84e+06\n",
      "Device: cpu, Input length: 1000, Time: 4.34e-02, FLOPS: 1.81e+09, Memory: 3.64e+07\n",
      "Device: cuda, Input length: 1000, Time: 2.04e-03, FLOPS: 1.81e+09, Memory: 3.69e+07\n"
     ]
    },
    {
     "name": "stderr",
     "output_type": "stream",
     "text": [
      "Unsupported operator aten::div encountered 1 time(s)\n",
      "Unsupported operator aten::softmax encountered 1 time(s)\n",
      "Unsupported operator aten::div encountered 1 time(s)\n",
      "Unsupported operator aten::softmax encountered 1 time(s)\n",
      " 53%|█████▎    | 53/100 [02:51<02:30,  3.20s/it]"
     ]
    },
    {
     "name": "stdout",
     "output_type": "stream",
     "text": [
      "Device: cpu, Input length: 10000, Time: 2.26e+00, FLOPS: 1.10e+11, Memory: 2.16e+09\n",
      "Device: cuda, Input length: 10000, Time: 2.05e-03, FLOPS: 1.10e+11, Memory: 2.17e+09\n"
     ]
    },
    {
     "name": "stderr",
     "output_type": "stream",
     "text": [
      "Unsupported operator aten::div encountered 1 time(s)\n",
      "Unsupported operator aten::softmax encountered 1 time(s)\n",
      "Unsupported operator aten::div encountered 1 time(s)\n",
      "Unsupported operator aten::softmax encountered 1 time(s)\n",
      "Unsupported operator aten::div encountered 1 time(s)\n",
      "Unsupported operator aten::softmax encountered 1 time(s)\n",
      "Unsupported operator aten::div encountered 1 time(s)\n",
      "Unsupported operator aten::softmax encountered 1 time(s)\n",
      "Unsupported operator aten::div encountered 1 time(s)\n",
      "Unsupported operator aten::softmax encountered 1 time(s)\n",
      "Unsupported operator aten::div encountered 1 time(s)\n",
      "Unsupported operator aten::softmax encountered 1 time(s)\n"
     ]
    },
    {
     "name": "stdout",
     "output_type": "stream",
     "text": [
      "Device: cpu, Input length: 10, Time: 5.11e-03, FLOPS: 7.97e+06, Memory: 1.66e+05\n",
      "Device: cuda, Input length: 10, Time: 2.04e-03, FLOPS: 7.97e+06, Memory: 1.66e+05\n",
      "Device: cpu, Input length: 100, Time: 9.69e-03, FLOPS: 8.89e+07, Memory: 1.84e+06\n",
      "Device: cuda, Input length: 100, Time: 2.04e-03, FLOPS: 8.89e+07, Memory: 1.84e+06\n",
      "Device: cpu, Input length: 1000, Time: 4.36e-02, FLOPS: 1.81e+09, Memory: 3.64e+07\n",
      "Device: cuda, Input length: 1000, Time: 2.55e-03, FLOPS: 1.81e+09, Memory: 3.69e+07\n"
     ]
    },
    {
     "name": "stderr",
     "output_type": "stream",
     "text": [
      "Unsupported operator aten::div encountered 1 time(s)\n",
      "Unsupported operator aten::softmax encountered 1 time(s)\n",
      "Unsupported operator aten::div encountered 1 time(s)\n",
      "Unsupported operator aten::softmax encountered 1 time(s)\n",
      " 54%|█████▍    | 54/100 [02:55<02:27,  3.20s/it]"
     ]
    },
    {
     "name": "stdout",
     "output_type": "stream",
     "text": [
      "Device: cpu, Input length: 10000, Time: 2.27e+00, FLOPS: 1.10e+11, Memory: 2.16e+09\n",
      "Device: cuda, Input length: 10000, Time: 2.03e-03, FLOPS: 1.10e+11, Memory: 2.17e+09\n"
     ]
    },
    {
     "name": "stderr",
     "output_type": "stream",
     "text": [
      "Unsupported operator aten::div encountered 1 time(s)\n",
      "Unsupported operator aten::softmax encountered 1 time(s)\n",
      "Unsupported operator aten::div encountered 1 time(s)\n",
      "Unsupported operator aten::softmax encountered 1 time(s)\n",
      "Unsupported operator aten::div encountered 1 time(s)\n",
      "Unsupported operator aten::softmax encountered 1 time(s)\n",
      "Unsupported operator aten::div encountered 1 time(s)\n",
      "Unsupported operator aten::softmax encountered 1 time(s)\n",
      "Unsupported operator aten::div encountered 1 time(s)\n",
      "Unsupported operator aten::softmax encountered 1 time(s)\n",
      "Unsupported operator aten::div encountered 1 time(s)\n",
      "Unsupported operator aten::softmax encountered 1 time(s)\n"
     ]
    },
    {
     "name": "stdout",
     "output_type": "stream",
     "text": [
      "Device: cpu, Input length: 10, Time: 4.59e-03, FLOPS: 7.97e+06, Memory: 1.66e+05\n",
      "Device: cuda, Input length: 10, Time: 2.03e-03, FLOPS: 7.97e+06, Memory: 1.66e+05\n",
      "Device: cpu, Input length: 100, Time: 1.08e-02, FLOPS: 8.89e+07, Memory: 1.84e+06\n",
      "Device: cuda, Input length: 100, Time: 2.13e-03, FLOPS: 8.89e+07, Memory: 1.84e+06\n",
      "Device: cpu, Input length: 1000, Time: 4.36e-02, FLOPS: 1.81e+09, Memory: 3.64e+07\n",
      "Device: cuda, Input length: 1000, Time: 2.05e-03, FLOPS: 1.81e+09, Memory: 3.69e+07\n"
     ]
    },
    {
     "name": "stderr",
     "output_type": "stream",
     "text": [
      "Unsupported operator aten::div encountered 1 time(s)\n",
      "Unsupported operator aten::softmax encountered 1 time(s)\n",
      "Unsupported operator aten::div encountered 1 time(s)\n",
      "Unsupported operator aten::softmax encountered 1 time(s)\n",
      " 55%|█████▌    | 55/100 [02:58<02:25,  3.22s/it]"
     ]
    },
    {
     "name": "stdout",
     "output_type": "stream",
     "text": [
      "Device: cpu, Input length: 10000, Time: 2.34e+00, FLOPS: 1.10e+11, Memory: 2.16e+09\n",
      "Device: cuda, Input length: 10000, Time: 1.53e-03, FLOPS: 1.10e+11, Memory: 2.17e+09\n"
     ]
    },
    {
     "name": "stderr",
     "output_type": "stream",
     "text": [
      "Unsupported operator aten::div encountered 1 time(s)\n",
      "Unsupported operator aten::softmax encountered 1 time(s)\n",
      "Unsupported operator aten::div encountered 1 time(s)\n",
      "Unsupported operator aten::softmax encountered 1 time(s)\n",
      "Unsupported operator aten::div encountered 1 time(s)\n",
      "Unsupported operator aten::softmax encountered 1 time(s)\n",
      "Unsupported operator aten::div encountered 1 time(s)\n",
      "Unsupported operator aten::softmax encountered 1 time(s)\n",
      "Unsupported operator aten::div encountered 1 time(s)\n",
      "Unsupported operator aten::softmax encountered 1 time(s)\n",
      "Unsupported operator aten::div encountered 1 time(s)\n",
      "Unsupported operator aten::softmax encountered 1 time(s)\n"
     ]
    },
    {
     "name": "stdout",
     "output_type": "stream",
     "text": [
      "Device: cpu, Input length: 10, Time: 4.57e-03, FLOPS: 7.97e+06, Memory: 1.66e+05\n",
      "Device: cuda, Input length: 10, Time: 2.53e-03, FLOPS: 7.97e+06, Memory: 1.66e+05\n",
      "Device: cpu, Input length: 100, Time: 1.07e-02, FLOPS: 8.89e+07, Memory: 1.84e+06\n",
      "Device: cuda, Input length: 100, Time: 2.03e-03, FLOPS: 8.89e+07, Memory: 1.84e+06\n",
      "Device: cpu, Input length: 1000, Time: 4.38e-02, FLOPS: 1.81e+09, Memory: 3.64e+07\n",
      "Device: cuda, Input length: 1000, Time: 2.03e-03, FLOPS: 1.81e+09, Memory: 3.69e+07\n"
     ]
    },
    {
     "name": "stderr",
     "output_type": "stream",
     "text": [
      "Unsupported operator aten::div encountered 1 time(s)\n",
      "Unsupported operator aten::softmax encountered 1 time(s)\n",
      "Unsupported operator aten::div encountered 1 time(s)\n",
      "Unsupported operator aten::softmax encountered 1 time(s)\n",
      " 56%|█████▌    | 56/100 [03:01<02:21,  3.22s/it]"
     ]
    },
    {
     "name": "stdout",
     "output_type": "stream",
     "text": [
      "Device: cpu, Input length: 10000, Time: 2.28e+00, FLOPS: 1.10e+11, Memory: 2.16e+09\n",
      "Device: cuda, Input length: 10000, Time: 2.03e-03, FLOPS: 1.10e+11, Memory: 2.17e+09\n"
     ]
    },
    {
     "name": "stderr",
     "output_type": "stream",
     "text": [
      "Unsupported operator aten::div encountered 1 time(s)\n",
      "Unsupported operator aten::softmax encountered 1 time(s)\n",
      "Unsupported operator aten::div encountered 1 time(s)\n",
      "Unsupported operator aten::softmax encountered 1 time(s)\n",
      "Unsupported operator aten::div encountered 1 time(s)\n",
      "Unsupported operator aten::softmax encountered 1 time(s)\n",
      "Unsupported operator aten::div encountered 1 time(s)\n",
      "Unsupported operator aten::softmax encountered 1 time(s)\n",
      "Unsupported operator aten::div encountered 1 time(s)\n",
      "Unsupported operator aten::softmax encountered 1 time(s)\n",
      "Unsupported operator aten::div encountered 1 time(s)\n",
      "Unsupported operator aten::softmax encountered 1 time(s)\n"
     ]
    },
    {
     "name": "stdout",
     "output_type": "stream",
     "text": [
      "Device: cpu, Input length: 10, Time: 5.08e-03, FLOPS: 7.97e+06, Memory: 1.66e+05\n",
      "Device: cuda, Input length: 10, Time: 2.03e-03, FLOPS: 7.97e+06, Memory: 1.66e+05\n",
      "Device: cpu, Input length: 100, Time: 1.03e-02, FLOPS: 8.89e+07, Memory: 1.84e+06\n",
      "Device: cuda, Input length: 100, Time: 2.03e-03, FLOPS: 8.89e+07, Memory: 1.84e+06\n",
      "Device: cpu, Input length: 1000, Time: 4.34e-02, FLOPS: 1.81e+09, Memory: 3.64e+07\n",
      "Device: cuda, Input length: 1000, Time: 2.03e-03, FLOPS: 1.81e+09, Memory: 3.69e+07\n"
     ]
    },
    {
     "name": "stderr",
     "output_type": "stream",
     "text": [
      "Unsupported operator aten::div encountered 1 time(s)\n",
      "Unsupported operator aten::softmax encountered 1 time(s)\n",
      "Unsupported operator aten::div encountered 1 time(s)\n",
      "Unsupported operator aten::softmax encountered 1 time(s)\n",
      " 57%|█████▋    | 57/100 [03:04<02:18,  3.22s/it]"
     ]
    },
    {
     "name": "stdout",
     "output_type": "stream",
     "text": [
      "Device: cpu, Input length: 10000, Time: 2.27e+00, FLOPS: 1.10e+11, Memory: 2.16e+09\n",
      "Device: cuda, Input length: 10000, Time: 1.53e-03, FLOPS: 1.10e+11, Memory: 2.17e+09\n"
     ]
    },
    {
     "name": "stderr",
     "output_type": "stream",
     "text": [
      "Unsupported operator aten::div encountered 1 time(s)\n",
      "Unsupported operator aten::softmax encountered 1 time(s)\n",
      "Unsupported operator aten::div encountered 1 time(s)\n",
      "Unsupported operator aten::softmax encountered 1 time(s)\n",
      "Unsupported operator aten::div encountered 1 time(s)\n",
      "Unsupported operator aten::softmax encountered 1 time(s)\n",
      "Unsupported operator aten::div encountered 1 time(s)\n",
      "Unsupported operator aten::softmax encountered 1 time(s)\n",
      "Unsupported operator aten::div encountered 1 time(s)\n",
      "Unsupported operator aten::softmax encountered 1 time(s)\n",
      "Unsupported operator aten::div encountered 1 time(s)\n",
      "Unsupported operator aten::softmax encountered 1 time(s)\n"
     ]
    },
    {
     "name": "stdout",
     "output_type": "stream",
     "text": [
      "Device: cpu, Input length: 10, Time: 4.59e-03, FLOPS: 7.97e+06, Memory: 1.66e+05\n",
      "Device: cuda, Input length: 10, Time: 2.54e-03, FLOPS: 7.97e+06, Memory: 1.66e+05\n",
      "Device: cpu, Input length: 100, Time: 1.02e-02, FLOPS: 8.89e+07, Memory: 1.84e+06\n",
      "Device: cuda, Input length: 100, Time: 2.55e-03, FLOPS: 8.89e+07, Memory: 1.84e+06\n",
      "Device: cpu, Input length: 1000, Time: 4.39e-02, FLOPS: 1.81e+09, Memory: 3.64e+07\n",
      "Device: cuda, Input length: 1000, Time: 2.03e-03, FLOPS: 1.81e+09, Memory: 3.69e+07\n"
     ]
    },
    {
     "name": "stderr",
     "output_type": "stream",
     "text": [
      "Unsupported operator aten::div encountered 1 time(s)\n",
      "Unsupported operator aten::softmax encountered 1 time(s)\n",
      "Unsupported operator aten::div encountered 1 time(s)\n",
      "Unsupported operator aten::softmax encountered 1 time(s)\n",
      " 58%|█████▊    | 58/100 [03:08<02:15,  3.22s/it]"
     ]
    },
    {
     "name": "stdout",
     "output_type": "stream",
     "text": [
      "Device: cpu, Input length: 10000, Time: 2.27e+00, FLOPS: 1.10e+11, Memory: 2.16e+09\n",
      "Device: cuda, Input length: 10000, Time: 1.53e-03, FLOPS: 1.10e+11, Memory: 2.17e+09\n"
     ]
    },
    {
     "name": "stderr",
     "output_type": "stream",
     "text": [
      "Unsupported operator aten::div encountered 1 time(s)\n",
      "Unsupported operator aten::softmax encountered 1 time(s)\n",
      "Unsupported operator aten::div encountered 1 time(s)\n",
      "Unsupported operator aten::softmax encountered 1 time(s)\n",
      "Unsupported operator aten::div encountered 1 time(s)\n",
      "Unsupported operator aten::softmax encountered 1 time(s)\n",
      "Unsupported operator aten::div encountered 1 time(s)\n",
      "Unsupported operator aten::softmax encountered 1 time(s)\n",
      "Unsupported operator aten::div encountered 1 time(s)\n",
      "Unsupported operator aten::softmax encountered 1 time(s)\n",
      "Unsupported operator aten::div encountered 1 time(s)\n",
      "Unsupported operator aten::softmax encountered 1 time(s)\n"
     ]
    },
    {
     "name": "stdout",
     "output_type": "stream",
     "text": [
      "Device: cpu, Input length: 10, Time: 4.57e-03, FLOPS: 7.97e+06, Memory: 1.66e+05\n",
      "Device: cuda, Input length: 10, Time: 2.03e-03, FLOPS: 7.97e+06, Memory: 1.66e+05\n",
      "Device: cpu, Input length: 100, Time: 1.02e-02, FLOPS: 8.89e+07, Memory: 1.84e+06\n",
      "Device: cuda, Input length: 100, Time: 2.55e-03, FLOPS: 8.89e+07, Memory: 1.84e+06\n",
      "Device: cpu, Input length: 1000, Time: 4.43e-02, FLOPS: 1.81e+09, Memory: 3.64e+07\n",
      "Device: cuda, Input length: 1000, Time: 2.03e-03, FLOPS: 1.81e+09, Memory: 3.69e+07\n"
     ]
    },
    {
     "name": "stderr",
     "output_type": "stream",
     "text": [
      "Unsupported operator aten::div encountered 1 time(s)\n",
      "Unsupported operator aten::softmax encountered 1 time(s)\n",
      "Unsupported operator aten::div encountered 1 time(s)\n",
      "Unsupported operator aten::softmax encountered 1 time(s)\n",
      " 59%|█████▉    | 59/100 [03:11<02:11,  3.21s/it]"
     ]
    },
    {
     "name": "stdout",
     "output_type": "stream",
     "text": [
      "Device: cpu, Input length: 10000, Time: 2.25e+00, FLOPS: 1.10e+11, Memory: 2.16e+09\n",
      "Device: cuda, Input length: 10000, Time: 2.04e-03, FLOPS: 1.10e+11, Memory: 2.17e+09\n"
     ]
    },
    {
     "name": "stderr",
     "output_type": "stream",
     "text": [
      "Unsupported operator aten::div encountered 1 time(s)\n",
      "Unsupported operator aten::softmax encountered 1 time(s)\n",
      "Unsupported operator aten::div encountered 1 time(s)\n",
      "Unsupported operator aten::softmax encountered 1 time(s)\n",
      "Unsupported operator aten::div encountered 1 time(s)\n",
      "Unsupported operator aten::softmax encountered 1 time(s)\n",
      "Unsupported operator aten::div encountered 1 time(s)\n",
      "Unsupported operator aten::softmax encountered 1 time(s)\n",
      "Unsupported operator aten::div encountered 1 time(s)\n",
      "Unsupported operator aten::softmax encountered 1 time(s)\n",
      "Unsupported operator aten::div encountered 1 time(s)\n",
      "Unsupported operator aten::softmax encountered 1 time(s)\n"
     ]
    },
    {
     "name": "stdout",
     "output_type": "stream",
     "text": [
      "Device: cpu, Input length: 10, Time: 4.59e-03, FLOPS: 7.97e+06, Memory: 1.66e+05\n",
      "Device: cuda, Input length: 10, Time: 2.04e-03, FLOPS: 7.97e+06, Memory: 1.66e+05\n",
      "Device: cpu, Input length: 100, Time: 9.18e-03, FLOPS: 8.89e+07, Memory: 1.84e+06\n",
      "Device: cuda, Input length: 100, Time: 2.61e-03, FLOPS: 8.89e+07, Memory: 1.84e+06\n",
      "Device: cpu, Input length: 1000, Time: 4.29e-02, FLOPS: 1.81e+09, Memory: 3.64e+07\n",
      "Device: cuda, Input length: 1000, Time: 4.61e-03, FLOPS: 1.81e+09, Memory: 3.69e+07\n"
     ]
    },
    {
     "name": "stderr",
     "output_type": "stream",
     "text": [
      "Unsupported operator aten::div encountered 1 time(s)\n",
      "Unsupported operator aten::softmax encountered 1 time(s)\n",
      "Unsupported operator aten::div encountered 1 time(s)\n",
      "Unsupported operator aten::softmax encountered 1 time(s)\n",
      " 60%|██████    | 60/100 [03:14<02:08,  3.22s/it]"
     ]
    },
    {
     "name": "stdout",
     "output_type": "stream",
     "text": [
      "Device: cpu, Input length: 10000, Time: 2.27e+00, FLOPS: 1.10e+11, Memory: 2.16e+09\n",
      "Device: cuda, Input length: 10000, Time: 2.03e-03, FLOPS: 1.10e+11, Memory: 2.17e+09\n"
     ]
    },
    {
     "name": "stderr",
     "output_type": "stream",
     "text": [
      "Unsupported operator aten::div encountered 1 time(s)\n",
      "Unsupported operator aten::softmax encountered 1 time(s)\n",
      "Unsupported operator aten::div encountered 1 time(s)\n",
      "Unsupported operator aten::softmax encountered 1 time(s)\n",
      "Unsupported operator aten::div encountered 1 time(s)\n",
      "Unsupported operator aten::softmax encountered 1 time(s)\n",
      "Unsupported operator aten::div encountered 1 time(s)\n",
      "Unsupported operator aten::softmax encountered 1 time(s)\n",
      "Unsupported operator aten::div encountered 1 time(s)\n",
      "Unsupported operator aten::softmax encountered 1 time(s)\n",
      "Unsupported operator aten::div encountered 1 time(s)\n",
      "Unsupported operator aten::softmax encountered 1 time(s)\n"
     ]
    },
    {
     "name": "stdout",
     "output_type": "stream",
     "text": [
      "Device: cpu, Input length: 10, Time: 5.10e-03, FLOPS: 7.97e+06, Memory: 1.66e+05\n",
      "Device: cuda, Input length: 10, Time: 2.55e-03, FLOPS: 7.97e+06, Memory: 1.66e+05\n",
      "Device: cpu, Input length: 100, Time: 9.68e-03, FLOPS: 8.89e+07, Memory: 1.84e+06\n",
      "Device: cuda, Input length: 100, Time: 2.03e-03, FLOPS: 8.89e+07, Memory: 1.84e+06\n",
      "Device: cpu, Input length: 1000, Time: 4.33e-02, FLOPS: 1.81e+09, Memory: 3.64e+07\n",
      "Device: cuda, Input length: 1000, Time: 2.03e-03, FLOPS: 1.81e+09, Memory: 3.69e+07\n"
     ]
    },
    {
     "name": "stderr",
     "output_type": "stream",
     "text": [
      "Unsupported operator aten::div encountered 1 time(s)\n",
      "Unsupported operator aten::softmax encountered 1 time(s)\n",
      "Unsupported operator aten::div encountered 1 time(s)\n",
      "Unsupported operator aten::softmax encountered 1 time(s)\n",
      " 61%|██████    | 61/100 [03:17<02:05,  3.21s/it]"
     ]
    },
    {
     "name": "stdout",
     "output_type": "stream",
     "text": [
      "Device: cpu, Input length: 10000, Time: 2.26e+00, FLOPS: 1.10e+11, Memory: 2.16e+09\n",
      "Device: cuda, Input length: 10000, Time: 1.53e-03, FLOPS: 1.10e+11, Memory: 2.17e+09\n"
     ]
    },
    {
     "name": "stderr",
     "output_type": "stream",
     "text": [
      "Unsupported operator aten::div encountered 1 time(s)\n",
      "Unsupported operator aten::softmax encountered 1 time(s)\n",
      "Unsupported operator aten::div encountered 1 time(s)\n",
      "Unsupported operator aten::softmax encountered 1 time(s)\n",
      "Unsupported operator aten::div encountered 1 time(s)\n",
      "Unsupported operator aten::softmax encountered 1 time(s)\n",
      "Unsupported operator aten::div encountered 1 time(s)\n",
      "Unsupported operator aten::softmax encountered 1 time(s)\n",
      "Unsupported operator aten::div encountered 1 time(s)\n",
      "Unsupported operator aten::softmax encountered 1 time(s)\n",
      "Unsupported operator aten::div encountered 1 time(s)\n",
      "Unsupported operator aten::softmax encountered 1 time(s)\n"
     ]
    },
    {
     "name": "stdout",
     "output_type": "stream",
     "text": [
      "Device: cpu, Input length: 10, Time: 4.59e-03, FLOPS: 7.97e+06, Memory: 1.66e+05\n",
      "Device: cuda, Input length: 10, Time: 2.54e-03, FLOPS: 7.97e+06, Memory: 1.66e+05\n",
      "Device: cpu, Input length: 100, Time: 9.19e-03, FLOPS: 8.89e+07, Memory: 1.84e+06\n",
      "Device: cuda, Input length: 100, Time: 2.04e-03, FLOPS: 8.89e+07, Memory: 1.84e+06\n",
      "Device: cpu, Input length: 1000, Time: 4.33e-02, FLOPS: 1.81e+09, Memory: 3.64e+07\n",
      "Device: cuda, Input length: 1000, Time: 2.01e-03, FLOPS: 1.81e+09, Memory: 3.69e+07\n"
     ]
    },
    {
     "name": "stderr",
     "output_type": "stream",
     "text": [
      "Unsupported operator aten::div encountered 1 time(s)\n",
      "Unsupported operator aten::softmax encountered 1 time(s)\n",
      "Unsupported operator aten::div encountered 1 time(s)\n",
      "Unsupported operator aten::softmax encountered 1 time(s)\n",
      " 62%|██████▏   | 62/100 [03:20<02:01,  3.20s/it]"
     ]
    },
    {
     "name": "stdout",
     "output_type": "stream",
     "text": [
      "Device: cpu, Input length: 10000, Time: 2.27e+00, FLOPS: 1.10e+11, Memory: 2.16e+09\n",
      "Device: cuda, Input length: 10000, Time: 1.52e-03, FLOPS: 1.10e+11, Memory: 2.17e+09\n"
     ]
    },
    {
     "name": "stderr",
     "output_type": "stream",
     "text": [
      "Unsupported operator aten::div encountered 1 time(s)\n",
      "Unsupported operator aten::softmax encountered 1 time(s)\n",
      "Unsupported operator aten::div encountered 1 time(s)\n",
      "Unsupported operator aten::softmax encountered 1 time(s)\n",
      "Unsupported operator aten::div encountered 1 time(s)\n",
      "Unsupported operator aten::softmax encountered 1 time(s)\n",
      "Unsupported operator aten::div encountered 1 time(s)\n",
      "Unsupported operator aten::softmax encountered 1 time(s)\n",
      "Unsupported operator aten::div encountered 1 time(s)\n",
      "Unsupported operator aten::softmax encountered 1 time(s)\n",
      "Unsupported operator aten::div encountered 1 time(s)\n",
      "Unsupported operator aten::softmax encountered 1 time(s)\n"
     ]
    },
    {
     "name": "stdout",
     "output_type": "stream",
     "text": [
      "Device: cpu, Input length: 10, Time: 5.08e-03, FLOPS: 7.97e+06, Memory: 1.66e+05\n",
      "Device: cuda, Input length: 10, Time: 2.03e-03, FLOPS: 7.97e+06, Memory: 1.66e+05\n",
      "Device: cpu, Input length: 100, Time: 9.19e-03, FLOPS: 8.89e+07, Memory: 1.84e+06\n",
      "Device: cuda, Input length: 100, Time: 2.54e-03, FLOPS: 8.89e+07, Memory: 1.84e+06\n",
      "Device: cpu, Input length: 1000, Time: 4.34e-02, FLOPS: 1.81e+09, Memory: 3.64e+07\n",
      "Device: cuda, Input length: 1000, Time: 2.03e-03, FLOPS: 1.81e+09, Memory: 3.69e+07\n"
     ]
    },
    {
     "name": "stderr",
     "output_type": "stream",
     "text": [
      "Unsupported operator aten::div encountered 1 time(s)\n",
      "Unsupported operator aten::softmax encountered 1 time(s)\n",
      "Unsupported operator aten::div encountered 1 time(s)\n",
      "Unsupported operator aten::softmax encountered 1 time(s)\n",
      " 63%|██████▎   | 63/100 [03:24<01:58,  3.20s/it]"
     ]
    },
    {
     "name": "stdout",
     "output_type": "stream",
     "text": [
      "Device: cpu, Input length: 10000, Time: 2.26e+00, FLOPS: 1.10e+11, Memory: 2.16e+09\n",
      "Device: cuda, Input length: 10000, Time: 2.04e-03, FLOPS: 1.10e+11, Memory: 2.17e+09\n"
     ]
    },
    {
     "name": "stderr",
     "output_type": "stream",
     "text": [
      "Unsupported operator aten::div encountered 1 time(s)\n",
      "Unsupported operator aten::softmax encountered 1 time(s)\n",
      "Unsupported operator aten::div encountered 1 time(s)\n",
      "Unsupported operator aten::softmax encountered 1 time(s)\n",
      "Unsupported operator aten::div encountered 1 time(s)\n",
      "Unsupported operator aten::softmax encountered 1 time(s)\n",
      "Unsupported operator aten::div encountered 1 time(s)\n",
      "Unsupported operator aten::softmax encountered 1 time(s)\n",
      "Unsupported operator aten::div encountered 1 time(s)\n",
      "Unsupported operator aten::softmax encountered 1 time(s)\n",
      "Unsupported operator aten::div encountered 1 time(s)\n",
      "Unsupported operator aten::softmax encountered 1 time(s)\n"
     ]
    },
    {
     "name": "stdout",
     "output_type": "stream",
     "text": [
      "Device: cpu, Input length: 10, Time: 4.59e-03, FLOPS: 7.97e+06, Memory: 1.66e+05\n",
      "Device: cuda, Input length: 10, Time: 4.07e-03, FLOPS: 7.97e+06, Memory: 1.66e+05\n",
      "Device: cpu, Input length: 100, Time: 1.07e-02, FLOPS: 8.89e+07, Memory: 1.84e+06\n",
      "Device: cuda, Input length: 100, Time: 2.03e-03, FLOPS: 8.89e+07, Memory: 1.84e+06\n",
      "Device: cpu, Input length: 1000, Time: 4.34e-02, FLOPS: 1.81e+09, Memory: 3.64e+07\n",
      "Device: cuda, Input length: 1000, Time: 2.03e-03, FLOPS: 1.81e+09, Memory: 3.69e+07\n"
     ]
    },
    {
     "name": "stderr",
     "output_type": "stream",
     "text": [
      "Unsupported operator aten::div encountered 1 time(s)\n",
      "Unsupported operator aten::softmax encountered 1 time(s)\n",
      "Unsupported operator aten::div encountered 1 time(s)\n",
      "Unsupported operator aten::softmax encountered 1 time(s)\n",
      " 64%|██████▍   | 64/100 [03:27<01:55,  3.20s/it]"
     ]
    },
    {
     "name": "stdout",
     "output_type": "stream",
     "text": [
      "Device: cpu, Input length: 10000, Time: 2.26e+00, FLOPS: 1.10e+11, Memory: 2.16e+09\n",
      "Device: cuda, Input length: 10000, Time: 1.52e-03, FLOPS: 1.10e+11, Memory: 2.17e+09\n"
     ]
    },
    {
     "name": "stderr",
     "output_type": "stream",
     "text": [
      "Unsupported operator aten::div encountered 1 time(s)\n",
      "Unsupported operator aten::softmax encountered 1 time(s)\n",
      "Unsupported operator aten::div encountered 1 time(s)\n",
      "Unsupported operator aten::softmax encountered 1 time(s)\n",
      "Unsupported operator aten::div encountered 1 time(s)\n",
      "Unsupported operator aten::softmax encountered 1 time(s)\n",
      "Unsupported operator aten::div encountered 1 time(s)\n",
      "Unsupported operator aten::softmax encountered 1 time(s)\n",
      "Unsupported operator aten::div encountered 1 time(s)\n",
      "Unsupported operator aten::softmax encountered 1 time(s)\n",
      "Unsupported operator aten::div encountered 1 time(s)\n",
      "Unsupported operator aten::softmax encountered 1 time(s)\n"
     ]
    },
    {
     "name": "stdout",
     "output_type": "stream",
     "text": [
      "Device: cpu, Input length: 10, Time: 4.07e-03, FLOPS: 7.97e+06, Memory: 1.66e+05\n",
      "Device: cuda, Input length: 10, Time: 2.53e-03, FLOPS: 7.97e+06, Memory: 1.66e+05\n",
      "Device: cpu, Input length: 100, Time: 9.74e-03, FLOPS: 8.89e+07, Memory: 1.84e+06\n",
      "Device: cuda, Input length: 100, Time: 2.52e-03, FLOPS: 8.89e+07, Memory: 1.84e+06\n",
      "Device: cpu, Input length: 1000, Time: 4.43e-02, FLOPS: 1.81e+09, Memory: 3.64e+07\n",
      "Device: cuda, Input length: 1000, Time: 5.10e-03, FLOPS: 1.81e+09, Memory: 3.69e+07\n"
     ]
    },
    {
     "name": "stderr",
     "output_type": "stream",
     "text": [
      "Unsupported operator aten::div encountered 1 time(s)\n",
      "Unsupported operator aten::softmax encountered 1 time(s)\n",
      "Unsupported operator aten::div encountered 1 time(s)\n",
      "Unsupported operator aten::softmax encountered 1 time(s)\n",
      " 65%|██████▌   | 65/100 [03:30<01:52,  3.20s/it]"
     ]
    },
    {
     "name": "stdout",
     "output_type": "stream",
     "text": [
      "Device: cpu, Input length: 10000, Time: 2.27e+00, FLOPS: 1.10e+11, Memory: 2.16e+09\n",
      "Device: cuda, Input length: 10000, Time: 2.04e-03, FLOPS: 1.10e+11, Memory: 2.17e+09\n"
     ]
    },
    {
     "name": "stderr",
     "output_type": "stream",
     "text": [
      "Unsupported operator aten::div encountered 1 time(s)\n",
      "Unsupported operator aten::softmax encountered 1 time(s)\n",
      "Unsupported operator aten::div encountered 1 time(s)\n",
      "Unsupported operator aten::softmax encountered 1 time(s)\n",
      "Unsupported operator aten::div encountered 1 time(s)\n",
      "Unsupported operator aten::softmax encountered 1 time(s)\n",
      "Unsupported operator aten::div encountered 1 time(s)\n",
      "Unsupported operator aten::softmax encountered 1 time(s)\n",
      "Unsupported operator aten::div encountered 1 time(s)\n",
      "Unsupported operator aten::softmax encountered 1 time(s)\n",
      "Unsupported operator aten::div encountered 1 time(s)\n",
      "Unsupported operator aten::softmax encountered 1 time(s)\n"
     ]
    },
    {
     "name": "stdout",
     "output_type": "stream",
     "text": [
      "Device: cpu, Input length: 10, Time: 4.08e-03, FLOPS: 7.97e+06, Memory: 1.66e+05\n",
      "Device: cuda, Input length: 10, Time: 2.54e-03, FLOPS: 7.97e+06, Memory: 1.66e+05\n",
      "Device: cpu, Input length: 100, Time: 1.02e-02, FLOPS: 8.89e+07, Memory: 1.84e+06\n",
      "Device: cuda, Input length: 100, Time: 4.58e-03, FLOPS: 8.89e+07, Memory: 1.84e+06\n",
      "Device: cpu, Input length: 1000, Time: 4.38e-02, FLOPS: 1.81e+09, Memory: 3.64e+07\n",
      "Device: cuda, Input length: 1000, Time: 2.04e-03, FLOPS: 1.81e+09, Memory: 3.69e+07\n"
     ]
    },
    {
     "name": "stderr",
     "output_type": "stream",
     "text": [
      "Unsupported operator aten::div encountered 1 time(s)\n",
      "Unsupported operator aten::softmax encountered 1 time(s)\n",
      "Unsupported operator aten::div encountered 1 time(s)\n",
      "Unsupported operator aten::softmax encountered 1 time(s)\n",
      " 66%|██████▌   | 66/100 [03:33<01:48,  3.21s/it]"
     ]
    },
    {
     "name": "stdout",
     "output_type": "stream",
     "text": [
      "Device: cpu, Input length: 10000, Time: 2.27e+00, FLOPS: 1.10e+11, Memory: 2.16e+09\n",
      "Device: cuda, Input length: 10000, Time: 2.03e-03, FLOPS: 1.10e+11, Memory: 2.17e+09\n"
     ]
    },
    {
     "name": "stderr",
     "output_type": "stream",
     "text": [
      "Unsupported operator aten::div encountered 1 time(s)\n",
      "Unsupported operator aten::softmax encountered 1 time(s)\n",
      "Unsupported operator aten::div encountered 1 time(s)\n",
      "Unsupported operator aten::softmax encountered 1 time(s)\n",
      "Unsupported operator aten::div encountered 1 time(s)\n",
      "Unsupported operator aten::softmax encountered 1 time(s)\n",
      "Unsupported operator aten::div encountered 1 time(s)\n",
      "Unsupported operator aten::softmax encountered 1 time(s)\n",
      "Unsupported operator aten::div encountered 1 time(s)\n",
      "Unsupported operator aten::softmax encountered 1 time(s)\n",
      "Unsupported operator aten::div encountered 1 time(s)\n",
      "Unsupported operator aten::softmax encountered 1 time(s)\n"
     ]
    },
    {
     "name": "stdout",
     "output_type": "stream",
     "text": [
      "Device: cpu, Input length: 10, Time: 4.07e-03, FLOPS: 7.97e+06, Memory: 1.66e+05\n",
      "Device: cuda, Input length: 10, Time: 2.03e-03, FLOPS: 7.97e+06, Memory: 1.66e+05\n",
      "Device: cpu, Input length: 100, Time: 1.02e-02, FLOPS: 8.89e+07, Memory: 1.84e+06\n",
      "Device: cuda, Input length: 100, Time: 2.54e-03, FLOPS: 8.89e+07, Memory: 1.84e+06\n",
      "Device: cpu, Input length: 1000, Time: 4.43e-02, FLOPS: 1.81e+09, Memory: 3.64e+07\n",
      "Device: cuda, Input length: 1000, Time: 2.05e-03, FLOPS: 1.81e+09, Memory: 3.69e+07\n"
     ]
    },
    {
     "name": "stderr",
     "output_type": "stream",
     "text": [
      "Unsupported operator aten::div encountered 1 time(s)\n",
      "Unsupported operator aten::softmax encountered 1 time(s)\n",
      "Unsupported operator aten::div encountered 1 time(s)\n",
      "Unsupported operator aten::softmax encountered 1 time(s)\n",
      " 67%|██████▋   | 67/100 [03:36<01:45,  3.20s/it]"
     ]
    },
    {
     "name": "stdout",
     "output_type": "stream",
     "text": [
      "Device: cpu, Input length: 10000, Time: 2.26e+00, FLOPS: 1.10e+11, Memory: 2.16e+09\n",
      "Device: cuda, Input length: 10000, Time: 2.04e-03, FLOPS: 1.10e+11, Memory: 2.17e+09\n"
     ]
    },
    {
     "name": "stderr",
     "output_type": "stream",
     "text": [
      "Unsupported operator aten::div encountered 1 time(s)\n",
      "Unsupported operator aten::softmax encountered 1 time(s)\n",
      "Unsupported operator aten::div encountered 1 time(s)\n",
      "Unsupported operator aten::softmax encountered 1 time(s)\n",
      "Unsupported operator aten::div encountered 1 time(s)\n",
      "Unsupported operator aten::softmax encountered 1 time(s)\n",
      "Unsupported operator aten::div encountered 1 time(s)\n",
      "Unsupported operator aten::softmax encountered 1 time(s)\n",
      "Unsupported operator aten::div encountered 1 time(s)\n",
      "Unsupported operator aten::softmax encountered 1 time(s)\n",
      "Unsupported operator aten::div encountered 1 time(s)\n",
      "Unsupported operator aten::softmax encountered 1 time(s)\n"
     ]
    },
    {
     "name": "stdout",
     "output_type": "stream",
     "text": [
      "Device: cpu, Input length: 10, Time: 4.58e-03, FLOPS: 7.97e+06, Memory: 1.66e+05\n",
      "Device: cuda, Input length: 10, Time: 2.02e-03, FLOPS: 7.97e+06, Memory: 1.66e+05\n",
      "Device: cpu, Input length: 100, Time: 1.07e-02, FLOPS: 8.89e+07, Memory: 1.84e+06\n",
      "Device: cuda, Input length: 100, Time: 2.55e-03, FLOPS: 8.89e+07, Memory: 1.84e+06\n",
      "Device: cpu, Input length: 1000, Time: 4.44e-02, FLOPS: 1.81e+09, Memory: 3.64e+07\n",
      "Device: cuda, Input length: 1000, Time: 2.03e-03, FLOPS: 1.81e+09, Memory: 3.69e+07\n"
     ]
    },
    {
     "name": "stderr",
     "output_type": "stream",
     "text": [
      "Unsupported operator aten::div encountered 1 time(s)\n",
      "Unsupported operator aten::softmax encountered 1 time(s)\n",
      "Unsupported operator aten::div encountered 1 time(s)\n",
      "Unsupported operator aten::softmax encountered 1 time(s)\n",
      " 68%|██████▊   | 68/100 [03:40<01:42,  3.20s/it]"
     ]
    },
    {
     "name": "stdout",
     "output_type": "stream",
     "text": [
      "Device: cpu, Input length: 10000, Time: 2.26e+00, FLOPS: 1.10e+11, Memory: 2.16e+09\n",
      "Device: cuda, Input length: 10000, Time: 2.03e-03, FLOPS: 1.10e+11, Memory: 2.17e+09\n"
     ]
    },
    {
     "name": "stderr",
     "output_type": "stream",
     "text": [
      "Unsupported operator aten::div encountered 1 time(s)\n",
      "Unsupported operator aten::softmax encountered 1 time(s)\n",
      "Unsupported operator aten::div encountered 1 time(s)\n",
      "Unsupported operator aten::softmax encountered 1 time(s)\n",
      "Unsupported operator aten::div encountered 1 time(s)\n",
      "Unsupported operator aten::softmax encountered 1 time(s)\n",
      "Unsupported operator aten::div encountered 1 time(s)\n",
      "Unsupported operator aten::softmax encountered 1 time(s)\n",
      "Unsupported operator aten::div encountered 1 time(s)\n",
      "Unsupported operator aten::softmax encountered 1 time(s)\n",
      "Unsupported operator aten::div encountered 1 time(s)\n",
      "Unsupported operator aten::softmax encountered 1 time(s)\n"
     ]
    },
    {
     "name": "stdout",
     "output_type": "stream",
     "text": [
      "Device: cpu, Input length: 10, Time: 4.07e-03, FLOPS: 7.97e+06, Memory: 1.66e+05\n",
      "Device: cuda, Input length: 10, Time: 2.03e-03, FLOPS: 7.97e+06, Memory: 1.66e+05\n",
      "Device: cpu, Input length: 100, Time: 1.02e-02, FLOPS: 8.89e+07, Memory: 1.84e+06\n",
      "Device: cuda, Input length: 100, Time: 2.61e-03, FLOPS: 8.89e+07, Memory: 1.84e+06\n",
      "Device: cpu, Input length: 1000, Time: 4.31e-02, FLOPS: 1.81e+09, Memory: 3.64e+07\n",
      "Device: cuda, Input length: 1000, Time: 2.03e-03, FLOPS: 1.81e+09, Memory: 3.69e+07\n"
     ]
    },
    {
     "name": "stderr",
     "output_type": "stream",
     "text": [
      "Unsupported operator aten::div encountered 1 time(s)\n",
      "Unsupported operator aten::softmax encountered 1 time(s)\n",
      "Unsupported operator aten::div encountered 1 time(s)\n",
      "Unsupported operator aten::softmax encountered 1 time(s)\n",
      " 69%|██████▉   | 69/100 [03:43<01:39,  3.20s/it]"
     ]
    },
    {
     "name": "stdout",
     "output_type": "stream",
     "text": [
      "Device: cpu, Input length: 10000, Time: 2.26e+00, FLOPS: 1.10e+11, Memory: 2.16e+09\n",
      "Device: cuda, Input length: 10000, Time: 1.52e-03, FLOPS: 1.10e+11, Memory: 2.17e+09\n"
     ]
    },
    {
     "name": "stderr",
     "output_type": "stream",
     "text": [
      "Unsupported operator aten::div encountered 1 time(s)\n",
      "Unsupported operator aten::softmax encountered 1 time(s)\n",
      "Unsupported operator aten::div encountered 1 time(s)\n",
      "Unsupported operator aten::softmax encountered 1 time(s)\n",
      "Unsupported operator aten::div encountered 1 time(s)\n",
      "Unsupported operator aten::softmax encountered 1 time(s)\n",
      "Unsupported operator aten::div encountered 1 time(s)\n",
      "Unsupported operator aten::softmax encountered 1 time(s)\n",
      "Unsupported operator aten::div encountered 1 time(s)\n",
      "Unsupported operator aten::softmax encountered 1 time(s)\n",
      "Unsupported operator aten::div encountered 1 time(s)\n",
      "Unsupported operator aten::softmax encountered 1 time(s)\n"
     ]
    },
    {
     "name": "stdout",
     "output_type": "stream",
     "text": [
      "Device: cpu, Input length: 10, Time: 7.76e-03, FLOPS: 7.97e+06, Memory: 1.66e+05\n",
      "Device: cuda, Input length: 10, Time: 2.05e-03, FLOPS: 7.97e+06, Memory: 1.66e+05\n",
      "Device: cpu, Input length: 100, Time: 9.71e-03, FLOPS: 8.89e+07, Memory: 1.84e+06\n",
      "Device: cuda, Input length: 100, Time: 2.04e-03, FLOPS: 8.89e+07, Memory: 1.84e+06\n",
      "Device: cpu, Input length: 1000, Time: 4.23e-02, FLOPS: 1.81e+09, Memory: 3.64e+07\n",
      "Device: cuda, Input length: 1000, Time: 2.03e-03, FLOPS: 1.81e+09, Memory: 3.69e+07\n"
     ]
    },
    {
     "name": "stderr",
     "output_type": "stream",
     "text": [
      "Unsupported operator aten::div encountered 1 time(s)\n",
      "Unsupported operator aten::softmax encountered 1 time(s)\n",
      "Unsupported operator aten::div encountered 1 time(s)\n",
      "Unsupported operator aten::softmax encountered 1 time(s)\n",
      " 70%|███████   | 70/100 [03:46<01:35,  3.20s/it]"
     ]
    },
    {
     "name": "stdout",
     "output_type": "stream",
     "text": [
      "Device: cpu, Input length: 10000, Time: 2.26e+00, FLOPS: 1.10e+11, Memory: 2.16e+09\n",
      "Device: cuda, Input length: 10000, Time: 1.52e-03, FLOPS: 1.10e+11, Memory: 2.17e+09\n"
     ]
    },
    {
     "name": "stderr",
     "output_type": "stream",
     "text": [
      "Unsupported operator aten::div encountered 1 time(s)\n",
      "Unsupported operator aten::softmax encountered 1 time(s)\n",
      "Unsupported operator aten::div encountered 1 time(s)\n",
      "Unsupported operator aten::softmax encountered 1 time(s)\n",
      "Unsupported operator aten::div encountered 1 time(s)\n",
      "Unsupported operator aten::softmax encountered 1 time(s)\n",
      "Unsupported operator aten::div encountered 1 time(s)\n",
      "Unsupported operator aten::softmax encountered 1 time(s)\n",
      "Unsupported operator aten::div encountered 1 time(s)\n",
      "Unsupported operator aten::softmax encountered 1 time(s)\n",
      "Unsupported operator aten::div encountered 1 time(s)\n",
      "Unsupported operator aten::softmax encountered 1 time(s)\n"
     ]
    },
    {
     "name": "stdout",
     "output_type": "stream",
     "text": [
      "Device: cpu, Input length: 10, Time: 4.57e-03, FLOPS: 7.97e+06, Memory: 1.66e+05\n",
      "Device: cuda, Input length: 10, Time: 2.54e-03, FLOPS: 7.97e+06, Memory: 1.66e+05\n",
      "Device: cpu, Input length: 100, Time: 9.68e-03, FLOPS: 8.89e+07, Memory: 1.84e+06\n",
      "Device: cuda, Input length: 100, Time: 4.08e-03, FLOPS: 8.89e+07, Memory: 1.84e+06\n",
      "Device: cpu, Input length: 1000, Time: 4.38e-02, FLOPS: 1.81e+09, Memory: 3.64e+07\n",
      "Device: cuda, Input length: 1000, Time: 5.10e-03, FLOPS: 1.81e+09, Memory: 3.69e+07\n"
     ]
    },
    {
     "name": "stderr",
     "output_type": "stream",
     "text": [
      "Unsupported operator aten::div encountered 1 time(s)\n",
      "Unsupported operator aten::softmax encountered 1 time(s)\n",
      "Unsupported operator aten::div encountered 1 time(s)\n",
      "Unsupported operator aten::softmax encountered 1 time(s)\n",
      " 71%|███████   | 71/100 [03:49<01:32,  3.20s/it]"
     ]
    },
    {
     "name": "stdout",
     "output_type": "stream",
     "text": [
      "Device: cpu, Input length: 10000, Time: 2.25e+00, FLOPS: 1.10e+11, Memory: 2.16e+09\n",
      "Device: cuda, Input length: 10000, Time: 2.03e-03, FLOPS: 1.10e+11, Memory: 2.17e+09\n"
     ]
    },
    {
     "name": "stderr",
     "output_type": "stream",
     "text": [
      "Unsupported operator aten::div encountered 1 time(s)\n",
      "Unsupported operator aten::softmax encountered 1 time(s)\n",
      "Unsupported operator aten::div encountered 1 time(s)\n",
      "Unsupported operator aten::softmax encountered 1 time(s)\n",
      "Unsupported operator aten::div encountered 1 time(s)\n",
      "Unsupported operator aten::softmax encountered 1 time(s)\n",
      "Unsupported operator aten::div encountered 1 time(s)\n",
      "Unsupported operator aten::softmax encountered 1 time(s)\n",
      "Unsupported operator aten::div encountered 1 time(s)\n",
      "Unsupported operator aten::softmax encountered 1 time(s)\n",
      "Unsupported operator aten::div encountered 1 time(s)\n",
      "Unsupported operator aten::softmax encountered 1 time(s)\n"
     ]
    },
    {
     "name": "stdout",
     "output_type": "stream",
     "text": [
      "Device: cpu, Input length: 10, Time: 4.58e-03, FLOPS: 7.97e+06, Memory: 1.66e+05\n",
      "Device: cuda, Input length: 10, Time: 3.05e-03, FLOPS: 7.97e+06, Memory: 1.66e+05\n",
      "Device: cpu, Input length: 100, Time: 8.68e-03, FLOPS: 8.89e+07, Memory: 1.84e+06\n",
      "Device: cuda, Input length: 100, Time: 2.03e-03, FLOPS: 8.89e+07, Memory: 1.84e+06\n",
      "Device: cpu, Input length: 1000, Time: 4.13e-02, FLOPS: 1.81e+09, Memory: 3.64e+07\n",
      "Device: cuda, Input length: 1000, Time: 2.04e-03, FLOPS: 1.81e+09, Memory: 3.69e+07\n"
     ]
    },
    {
     "name": "stderr",
     "output_type": "stream",
     "text": [
      "Unsupported operator aten::div encountered 1 time(s)\n",
      "Unsupported operator aten::softmax encountered 1 time(s)\n",
      "Unsupported operator aten::div encountered 1 time(s)\n",
      "Unsupported operator aten::softmax encountered 1 time(s)\n",
      " 72%|███████▏  | 72/100 [03:52<01:30,  3.22s/it]"
     ]
    },
    {
     "name": "stdout",
     "output_type": "stream",
     "text": [
      "Device: cpu, Input length: 10000, Time: 2.32e+00, FLOPS: 1.10e+11, Memory: 2.16e+09\n",
      "Device: cuda, Input length: 10000, Time: 1.52e-03, FLOPS: 1.10e+11, Memory: 2.17e+09\n"
     ]
    },
    {
     "name": "stderr",
     "output_type": "stream",
     "text": [
      "Unsupported operator aten::div encountered 1 time(s)\n",
      "Unsupported operator aten::softmax encountered 1 time(s)\n",
      "Unsupported operator aten::div encountered 1 time(s)\n",
      "Unsupported operator aten::softmax encountered 1 time(s)\n",
      "Unsupported operator aten::div encountered 1 time(s)\n",
      "Unsupported operator aten::softmax encountered 1 time(s)\n",
      "Unsupported operator aten::div encountered 1 time(s)\n",
      "Unsupported operator aten::softmax encountered 1 time(s)\n",
      "Unsupported operator aten::div encountered 1 time(s)\n",
      "Unsupported operator aten::softmax encountered 1 time(s)\n",
      "Unsupported operator aten::div encountered 1 time(s)\n",
      "Unsupported operator aten::softmax encountered 1 time(s)\n"
     ]
    },
    {
     "name": "stdout",
     "output_type": "stream",
     "text": [
      "Device: cpu, Input length: 10, Time: 5.09e-03, FLOPS: 7.97e+06, Memory: 1.66e+05\n",
      "Device: cuda, Input length: 10, Time: 2.55e-03, FLOPS: 7.97e+06, Memory: 1.66e+05\n",
      "Device: cpu, Input length: 100, Time: 9.67e-03, FLOPS: 8.89e+07, Memory: 1.84e+06\n",
      "Device: cuda, Input length: 100, Time: 2.04e-03, FLOPS: 8.89e+07, Memory: 1.84e+06\n",
      "Device: cpu, Input length: 1000, Time: 4.28e-02, FLOPS: 1.81e+09, Memory: 3.64e+07\n",
      "Device: cuda, Input length: 1000, Time: 2.04e-03, FLOPS: 1.81e+09, Memory: 3.69e+07\n"
     ]
    },
    {
     "name": "stderr",
     "output_type": "stream",
     "text": [
      "Unsupported operator aten::div encountered 1 time(s)\n",
      "Unsupported operator aten::softmax encountered 1 time(s)\n",
      "Unsupported operator aten::div encountered 1 time(s)\n",
      "Unsupported operator aten::softmax encountered 1 time(s)\n",
      " 73%|███████▎  | 73/100 [03:56<01:26,  3.21s/it]"
     ]
    },
    {
     "name": "stdout",
     "output_type": "stream",
     "text": [
      "Device: cpu, Input length: 10000, Time: 2.28e+00, FLOPS: 1.10e+11, Memory: 2.16e+09\n",
      "Device: cuda, Input length: 10000, Time: 1.52e-03, FLOPS: 1.10e+11, Memory: 2.17e+09\n"
     ]
    },
    {
     "name": "stderr",
     "output_type": "stream",
     "text": [
      "Unsupported operator aten::div encountered 1 time(s)\n",
      "Unsupported operator aten::softmax encountered 1 time(s)\n",
      "Unsupported operator aten::div encountered 1 time(s)\n",
      "Unsupported operator aten::softmax encountered 1 time(s)\n",
      "Unsupported operator aten::div encountered 1 time(s)\n",
      "Unsupported operator aten::softmax encountered 1 time(s)\n",
      "Unsupported operator aten::div encountered 1 time(s)\n",
      "Unsupported operator aten::softmax encountered 1 time(s)\n",
      "Unsupported operator aten::div encountered 1 time(s)\n",
      "Unsupported operator aten::softmax encountered 1 time(s)\n",
      "Unsupported operator aten::div encountered 1 time(s)\n",
      "Unsupported operator aten::softmax encountered 1 time(s)\n"
     ]
    },
    {
     "name": "stdout",
     "output_type": "stream",
     "text": [
      "Device: cpu, Input length: 10, Time: 4.58e-03, FLOPS: 7.97e+06, Memory: 1.66e+05\n",
      "Device: cuda, Input length: 10, Time: 2.02e-03, FLOPS: 7.97e+06, Memory: 1.66e+05\n",
      "Device: cpu, Input length: 100, Time: 1.02e-02, FLOPS: 8.89e+07, Memory: 1.84e+06\n",
      "Device: cuda, Input length: 100, Time: 2.19e-03, FLOPS: 8.89e+07, Memory: 1.84e+06\n",
      "Device: cpu, Input length: 1000, Time: 4.39e-02, FLOPS: 1.81e+09, Memory: 3.64e+07\n",
      "Device: cuda, Input length: 1000, Time: 2.04e-03, FLOPS: 1.81e+09, Memory: 3.69e+07\n"
     ]
    },
    {
     "name": "stderr",
     "output_type": "stream",
     "text": [
      "Unsupported operator aten::div encountered 1 time(s)\n",
      "Unsupported operator aten::softmax encountered 1 time(s)\n",
      "Unsupported operator aten::div encountered 1 time(s)\n",
      "Unsupported operator aten::softmax encountered 1 time(s)\n",
      " 74%|███████▍  | 74/100 [03:59<01:23,  3.21s/it]"
     ]
    },
    {
     "name": "stdout",
     "output_type": "stream",
     "text": [
      "Device: cpu, Input length: 10000, Time: 2.27e+00, FLOPS: 1.10e+11, Memory: 2.16e+09\n",
      "Device: cuda, Input length: 10000, Time: 2.03e-03, FLOPS: 1.10e+11, Memory: 2.17e+09\n"
     ]
    },
    {
     "name": "stderr",
     "output_type": "stream",
     "text": [
      "Unsupported operator aten::div encountered 1 time(s)\n",
      "Unsupported operator aten::softmax encountered 1 time(s)\n",
      "Unsupported operator aten::div encountered 1 time(s)\n",
      "Unsupported operator aten::softmax encountered 1 time(s)\n",
      "Unsupported operator aten::div encountered 1 time(s)\n",
      "Unsupported operator aten::softmax encountered 1 time(s)\n",
      "Unsupported operator aten::div encountered 1 time(s)\n",
      "Unsupported operator aten::softmax encountered 1 time(s)\n",
      "Unsupported operator aten::div encountered 1 time(s)\n",
      "Unsupported operator aten::softmax encountered 1 time(s)\n",
      "Unsupported operator aten::div encountered 1 time(s)\n",
      "Unsupported operator aten::softmax encountered 1 time(s)\n"
     ]
    },
    {
     "name": "stdout",
     "output_type": "stream",
     "text": [
      "Device: cpu, Input length: 10, Time: 5.11e-03, FLOPS: 7.97e+06, Memory: 1.66e+05\n",
      "Device: cuda, Input length: 10, Time: 2.54e-03, FLOPS: 7.97e+06, Memory: 1.66e+05\n",
      "Device: cpu, Input length: 100, Time: 1.07e-02, FLOPS: 8.89e+07, Memory: 1.84e+06\n",
      "Device: cuda, Input length: 100, Time: 2.04e-03, FLOPS: 8.89e+07, Memory: 1.84e+06\n",
      "Device: cpu, Input length: 1000, Time: 4.51e-02, FLOPS: 1.81e+09, Memory: 3.64e+07\n",
      "Device: cuda, Input length: 1000, Time: 2.04e-03, FLOPS: 1.81e+09, Memory: 3.69e+07\n"
     ]
    },
    {
     "name": "stderr",
     "output_type": "stream",
     "text": [
      "Unsupported operator aten::div encountered 1 time(s)\n",
      "Unsupported operator aten::softmax encountered 1 time(s)\n",
      "Unsupported operator aten::div encountered 1 time(s)\n",
      "Unsupported operator aten::softmax encountered 1 time(s)\n",
      " 75%|███████▌  | 75/100 [04:02<01:20,  3.21s/it]"
     ]
    },
    {
     "name": "stdout",
     "output_type": "stream",
     "text": [
      "Device: cpu, Input length: 10000, Time: 2.27e+00, FLOPS: 1.10e+11, Memory: 2.16e+09\n",
      "Device: cuda, Input length: 10000, Time: 2.03e-03, FLOPS: 1.10e+11, Memory: 2.17e+09\n"
     ]
    },
    {
     "name": "stderr",
     "output_type": "stream",
     "text": [
      "Unsupported operator aten::div encountered 1 time(s)\n",
      "Unsupported operator aten::softmax encountered 1 time(s)\n",
      "Unsupported operator aten::div encountered 1 time(s)\n",
      "Unsupported operator aten::softmax encountered 1 time(s)\n",
      "Unsupported operator aten::div encountered 1 time(s)\n",
      "Unsupported operator aten::softmax encountered 1 time(s)\n",
      "Unsupported operator aten::div encountered 1 time(s)\n",
      "Unsupported operator aten::softmax encountered 1 time(s)\n",
      "Unsupported operator aten::div encountered 1 time(s)\n",
      "Unsupported operator aten::softmax encountered 1 time(s)\n",
      "Unsupported operator aten::div encountered 1 time(s)\n",
      "Unsupported operator aten::softmax encountered 1 time(s)\n"
     ]
    },
    {
     "name": "stdout",
     "output_type": "stream",
     "text": [
      "Device: cpu, Input length: 10, Time: 4.08e-03, FLOPS: 7.97e+06, Memory: 1.66e+05\n",
      "Device: cuda, Input length: 10, Time: 2.05e-03, FLOPS: 7.97e+06, Memory: 1.66e+05\n",
      "Device: cpu, Input length: 100, Time: 9.68e-03, FLOPS: 8.89e+07, Memory: 1.84e+06\n",
      "Device: cuda, Input length: 100, Time: 2.54e-03, FLOPS: 8.89e+07, Memory: 1.84e+06\n",
      "Device: cpu, Input length: 1000, Time: 4.27e-02, FLOPS: 1.81e+09, Memory: 3.64e+07\n",
      "Device: cuda, Input length: 1000, Time: 1.53e-03, FLOPS: 1.81e+09, Memory: 3.69e+07\n"
     ]
    },
    {
     "name": "stderr",
     "output_type": "stream",
     "text": [
      "Unsupported operator aten::div encountered 1 time(s)\n",
      "Unsupported operator aten::softmax encountered 1 time(s)\n",
      "Unsupported operator aten::div encountered 1 time(s)\n",
      "Unsupported operator aten::softmax encountered 1 time(s)\n",
      " 76%|███████▌  | 76/100 [04:05<01:16,  3.20s/it]"
     ]
    },
    {
     "name": "stdout",
     "output_type": "stream",
     "text": [
      "Device: cpu, Input length: 10000, Time: 2.26e+00, FLOPS: 1.10e+11, Memory: 2.16e+09\n",
      "Device: cuda, Input length: 10000, Time: 2.03e-03, FLOPS: 1.10e+11, Memory: 2.17e+09\n"
     ]
    },
    {
     "name": "stderr",
     "output_type": "stream",
     "text": [
      "Unsupported operator aten::div encountered 1 time(s)\n",
      "Unsupported operator aten::softmax encountered 1 time(s)\n",
      "Unsupported operator aten::div encountered 1 time(s)\n",
      "Unsupported operator aten::softmax encountered 1 time(s)\n",
      "Unsupported operator aten::div encountered 1 time(s)\n",
      "Unsupported operator aten::softmax encountered 1 time(s)\n",
      "Unsupported operator aten::div encountered 1 time(s)\n",
      "Unsupported operator aten::softmax encountered 1 time(s)\n",
      "Unsupported operator aten::div encountered 1 time(s)\n",
      "Unsupported operator aten::softmax encountered 1 time(s)\n",
      "Unsupported operator aten::div encountered 1 time(s)\n",
      "Unsupported operator aten::softmax encountered 1 time(s)\n"
     ]
    },
    {
     "name": "stdout",
     "output_type": "stream",
     "text": [
      "Device: cpu, Input length: 10, Time: 4.60e-03, FLOPS: 7.97e+06, Memory: 1.66e+05\n",
      "Device: cuda, Input length: 10, Time: 2.04e-03, FLOPS: 7.97e+06, Memory: 1.66e+05\n",
      "Device: cpu, Input length: 100, Time: 8.67e-03, FLOPS: 8.89e+07, Memory: 1.84e+06\n",
      "Device: cuda, Input length: 100, Time: 2.54e-03, FLOPS: 8.89e+07, Memory: 1.84e+06\n",
      "Device: cpu, Input length: 1000, Time: 4.34e-02, FLOPS: 1.81e+09, Memory: 3.64e+07\n",
      "Device: cuda, Input length: 1000, Time: 2.03e-03, FLOPS: 1.81e+09, Memory: 3.69e+07\n"
     ]
    },
    {
     "name": "stderr",
     "output_type": "stream",
     "text": [
      "Unsupported operator aten::div encountered 1 time(s)\n",
      "Unsupported operator aten::softmax encountered 1 time(s)\n",
      "Unsupported operator aten::div encountered 1 time(s)\n",
      "Unsupported operator aten::softmax encountered 1 time(s)\n",
      " 77%|███████▋  | 77/100 [04:08<01:13,  3.21s/it]"
     ]
    },
    {
     "name": "stdout",
     "output_type": "stream",
     "text": [
      "Device: cpu, Input length: 10000, Time: 2.27e+00, FLOPS: 1.10e+11, Memory: 2.16e+09\n",
      "Device: cuda, Input length: 10000, Time: 2.04e-03, FLOPS: 1.10e+11, Memory: 2.17e+09\n"
     ]
    },
    {
     "name": "stderr",
     "output_type": "stream",
     "text": [
      "Unsupported operator aten::div encountered 1 time(s)\n",
      "Unsupported operator aten::softmax encountered 1 time(s)\n",
      "Unsupported operator aten::div encountered 1 time(s)\n",
      "Unsupported operator aten::softmax encountered 1 time(s)\n",
      "Unsupported operator aten::div encountered 1 time(s)\n",
      "Unsupported operator aten::softmax encountered 1 time(s)\n",
      "Unsupported operator aten::div encountered 1 time(s)\n",
      "Unsupported operator aten::softmax encountered 1 time(s)\n",
      "Unsupported operator aten::div encountered 1 time(s)\n",
      "Unsupported operator aten::softmax encountered 1 time(s)\n",
      "Unsupported operator aten::div encountered 1 time(s)\n",
      "Unsupported operator aten::softmax encountered 1 time(s)\n"
     ]
    },
    {
     "name": "stdout",
     "output_type": "stream",
     "text": [
      "Device: cpu, Input length: 10, Time: 4.57e-03, FLOPS: 7.97e+06, Memory: 1.66e+05\n",
      "Device: cuda, Input length: 10, Time: 2.54e-03, FLOPS: 7.97e+06, Memory: 1.66e+05\n",
      "Device: cpu, Input length: 100, Time: 9.18e-03, FLOPS: 8.89e+07, Memory: 1.84e+06\n",
      "Device: cuda, Input length: 100, Time: 2.03e-03, FLOPS: 8.89e+07, Memory: 1.84e+06\n",
      "Device: cpu, Input length: 1000, Time: 4.19e-02, FLOPS: 1.81e+09, Memory: 3.64e+07\n",
      "Device: cuda, Input length: 1000, Time: 2.03e-03, FLOPS: 1.81e+09, Memory: 3.69e+07\n"
     ]
    },
    {
     "name": "stderr",
     "output_type": "stream",
     "text": [
      "Unsupported operator aten::div encountered 1 time(s)\n",
      "Unsupported operator aten::softmax encountered 1 time(s)\n",
      "Unsupported operator aten::div encountered 1 time(s)\n",
      "Unsupported operator aten::softmax encountered 1 time(s)\n",
      " 78%|███████▊  | 78/100 [04:12<01:10,  3.20s/it]"
     ]
    },
    {
     "name": "stdout",
     "output_type": "stream",
     "text": [
      "Device: cpu, Input length: 10000, Time: 2.28e+00, FLOPS: 1.10e+11, Memory: 2.16e+09\n",
      "Device: cuda, Input length: 10000, Time: 1.53e-03, FLOPS: 1.10e+11, Memory: 2.17e+09\n"
     ]
    },
    {
     "name": "stderr",
     "output_type": "stream",
     "text": [
      "Unsupported operator aten::div encountered 1 time(s)\n",
      "Unsupported operator aten::softmax encountered 1 time(s)\n",
      "Unsupported operator aten::div encountered 1 time(s)\n",
      "Unsupported operator aten::softmax encountered 1 time(s)\n",
      "Unsupported operator aten::div encountered 1 time(s)\n",
      "Unsupported operator aten::softmax encountered 1 time(s)\n",
      "Unsupported operator aten::div encountered 1 time(s)\n",
      "Unsupported operator aten::softmax encountered 1 time(s)\n",
      "Unsupported operator aten::div encountered 1 time(s)\n",
      "Unsupported operator aten::softmax encountered 1 time(s)\n",
      "Unsupported operator aten::div encountered 1 time(s)\n",
      "Unsupported operator aten::softmax encountered 1 time(s)\n"
     ]
    },
    {
     "name": "stdout",
     "output_type": "stream",
     "text": [
      "Device: cpu, Input length: 10, Time: 4.07e-03, FLOPS: 7.97e+06, Memory: 1.66e+05\n",
      "Device: cuda, Input length: 10, Time: 2.04e-03, FLOPS: 7.97e+06, Memory: 1.66e+05\n",
      "Device: cpu, Input length: 100, Time: 1.02e-02, FLOPS: 8.89e+07, Memory: 1.84e+06\n",
      "Device: cuda, Input length: 100, Time: 2.57e-03, FLOPS: 8.89e+07, Memory: 1.84e+06\n",
      "Device: cpu, Input length: 1000, Time: 4.27e-02, FLOPS: 1.81e+09, Memory: 3.64e+07\n",
      "Device: cuda, Input length: 1000, Time: 1.52e-03, FLOPS: 1.81e+09, Memory: 3.69e+07\n"
     ]
    },
    {
     "name": "stderr",
     "output_type": "stream",
     "text": [
      "Unsupported operator aten::div encountered 1 time(s)\n",
      "Unsupported operator aten::softmax encountered 1 time(s)\n",
      "Unsupported operator aten::div encountered 1 time(s)\n",
      "Unsupported operator aten::softmax encountered 1 time(s)\n",
      " 79%|███████▉  | 79/100 [04:15<01:07,  3.19s/it]"
     ]
    },
    {
     "name": "stdout",
     "output_type": "stream",
     "text": [
      "Device: cpu, Input length: 10000, Time: 2.27e+00, FLOPS: 1.10e+11, Memory: 2.16e+09\n",
      "Device: cuda, Input length: 10000, Time: 1.53e-03, FLOPS: 1.10e+11, Memory: 2.17e+09\n"
     ]
    },
    {
     "name": "stderr",
     "output_type": "stream",
     "text": [
      "Unsupported operator aten::div encountered 1 time(s)\n",
      "Unsupported operator aten::softmax encountered 1 time(s)\n",
      "Unsupported operator aten::div encountered 1 time(s)\n",
      "Unsupported operator aten::softmax encountered 1 time(s)\n",
      "Unsupported operator aten::div encountered 1 time(s)\n",
      "Unsupported operator aten::softmax encountered 1 time(s)\n",
      "Unsupported operator aten::div encountered 1 time(s)\n",
      "Unsupported operator aten::softmax encountered 1 time(s)\n",
      "Unsupported operator aten::div encountered 1 time(s)\n",
      "Unsupported operator aten::softmax encountered 1 time(s)\n",
      "Unsupported operator aten::div encountered 1 time(s)\n",
      "Unsupported operator aten::softmax encountered 1 time(s)\n"
     ]
    },
    {
     "name": "stdout",
     "output_type": "stream",
     "text": [
      "Device: cpu, Input length: 10, Time: 4.60e-03, FLOPS: 7.97e+06, Memory: 1.66e+05\n",
      "Device: cuda, Input length: 10, Time: 2.03e-03, FLOPS: 7.97e+06, Memory: 1.66e+05\n",
      "Device: cpu, Input length: 100, Time: 9.71e-03, FLOPS: 8.89e+07, Memory: 1.84e+06\n",
      "Device: cuda, Input length: 100, Time: 2.06e-03, FLOPS: 8.89e+07, Memory: 1.84e+06\n",
      "Device: cpu, Input length: 1000, Time: 4.36e-02, FLOPS: 1.81e+09, Memory: 3.64e+07\n",
      "Device: cuda, Input length: 1000, Time: 2.04e-03, FLOPS: 1.81e+09, Memory: 3.69e+07\n"
     ]
    },
    {
     "name": "stderr",
     "output_type": "stream",
     "text": [
      "Unsupported operator aten::div encountered 1 time(s)\n",
      "Unsupported operator aten::softmax encountered 1 time(s)\n",
      "Unsupported operator aten::div encountered 1 time(s)\n",
      "Unsupported operator aten::softmax encountered 1 time(s)\n",
      " 80%|████████  | 80/100 [04:18<01:04,  3.20s/it]"
     ]
    },
    {
     "name": "stdout",
     "output_type": "stream",
     "text": [
      "Device: cpu, Input length: 10000, Time: 2.26e+00, FLOPS: 1.10e+11, Memory: 2.16e+09\n",
      "Device: cuda, Input length: 10000, Time: 2.04e-03, FLOPS: 1.10e+11, Memory: 2.17e+09\n"
     ]
    },
    {
     "name": "stderr",
     "output_type": "stream",
     "text": [
      "Unsupported operator aten::div encountered 1 time(s)\n",
      "Unsupported operator aten::softmax encountered 1 time(s)\n",
      "Unsupported operator aten::div encountered 1 time(s)\n",
      "Unsupported operator aten::softmax encountered 1 time(s)\n",
      "Unsupported operator aten::div encountered 1 time(s)\n",
      "Unsupported operator aten::softmax encountered 1 time(s)\n",
      "Unsupported operator aten::div encountered 1 time(s)\n",
      "Unsupported operator aten::softmax encountered 1 time(s)\n",
      "Unsupported operator aten::div encountered 1 time(s)\n",
      "Unsupported operator aten::softmax encountered 1 time(s)\n",
      "Unsupported operator aten::div encountered 1 time(s)\n",
      "Unsupported operator aten::softmax encountered 1 time(s)\n"
     ]
    },
    {
     "name": "stdout",
     "output_type": "stream",
     "text": [
      "Device: cpu, Input length: 10, Time: 4.60e-03, FLOPS: 7.97e+06, Memory: 1.66e+05\n",
      "Device: cuda, Input length: 10, Time: 2.55e-03, FLOPS: 7.97e+06, Memory: 1.66e+05\n",
      "Device: cpu, Input length: 100, Time: 9.15e-03, FLOPS: 8.89e+07, Memory: 1.84e+06\n",
      "Device: cuda, Input length: 100, Time: 2.54e-03, FLOPS: 8.89e+07, Memory: 1.84e+06\n",
      "Device: cpu, Input length: 1000, Time: 4.39e-02, FLOPS: 1.81e+09, Memory: 3.64e+07\n",
      "Device: cuda, Input length: 1000, Time: 2.04e-03, FLOPS: 1.81e+09, Memory: 3.69e+07\n"
     ]
    },
    {
     "name": "stderr",
     "output_type": "stream",
     "text": [
      "Unsupported operator aten::div encountered 1 time(s)\n",
      "Unsupported operator aten::softmax encountered 1 time(s)\n",
      "Unsupported operator aten::div encountered 1 time(s)\n",
      "Unsupported operator aten::softmax encountered 1 time(s)\n",
      " 81%|████████  | 81/100 [04:21<01:00,  3.20s/it]"
     ]
    },
    {
     "name": "stdout",
     "output_type": "stream",
     "text": [
      "Device: cpu, Input length: 10000, Time: 2.26e+00, FLOPS: 1.10e+11, Memory: 2.16e+09\n",
      "Device: cuda, Input length: 10000, Time: 2.04e-03, FLOPS: 1.10e+11, Memory: 2.17e+09\n"
     ]
    },
    {
     "name": "stderr",
     "output_type": "stream",
     "text": [
      "Unsupported operator aten::div encountered 1 time(s)\n",
      "Unsupported operator aten::softmax encountered 1 time(s)\n",
      "Unsupported operator aten::div encountered 1 time(s)\n",
      "Unsupported operator aten::softmax encountered 1 time(s)\n",
      "Unsupported operator aten::div encountered 1 time(s)\n",
      "Unsupported operator aten::softmax encountered 1 time(s)\n",
      "Unsupported operator aten::div encountered 1 time(s)\n",
      "Unsupported operator aten::softmax encountered 1 time(s)\n",
      "Unsupported operator aten::div encountered 1 time(s)\n",
      "Unsupported operator aten::softmax encountered 1 time(s)\n",
      "Unsupported operator aten::div encountered 1 time(s)\n",
      "Unsupported operator aten::softmax encountered 1 time(s)\n"
     ]
    },
    {
     "name": "stdout",
     "output_type": "stream",
     "text": [
      "Device: cpu, Input length: 10, Time: 4.59e-03, FLOPS: 7.97e+06, Memory: 1.66e+05\n",
      "Device: cuda, Input length: 10, Time: 2.55e-03, FLOPS: 7.97e+06, Memory: 1.66e+05\n",
      "Device: cpu, Input length: 100, Time: 9.18e-03, FLOPS: 8.89e+07, Memory: 1.84e+06\n",
      "Device: cuda, Input length: 100, Time: 2.54e-03, FLOPS: 8.89e+07, Memory: 1.84e+06\n",
      "Device: cpu, Input length: 1000, Time: 4.33e-02, FLOPS: 1.81e+09, Memory: 3.64e+07\n",
      "Device: cuda, Input length: 1000, Time: 2.03e-03, FLOPS: 1.81e+09, Memory: 3.69e+07\n"
     ]
    },
    {
     "name": "stderr",
     "output_type": "stream",
     "text": [
      "Unsupported operator aten::div encountered 1 time(s)\n",
      "Unsupported operator aten::softmax encountered 1 time(s)\n",
      "Unsupported operator aten::div encountered 1 time(s)\n",
      "Unsupported operator aten::softmax encountered 1 time(s)\n",
      " 82%|████████▏ | 82/100 [04:24<00:57,  3.19s/it]"
     ]
    },
    {
     "name": "stdout",
     "output_type": "stream",
     "text": [
      "Device: cpu, Input length: 10000, Time: 2.28e+00, FLOPS: 1.10e+11, Memory: 2.16e+09\n",
      "Device: cuda, Input length: 10000, Time: 2.03e-03, FLOPS: 1.10e+11, Memory: 2.17e+09\n"
     ]
    },
    {
     "name": "stderr",
     "output_type": "stream",
     "text": [
      "Unsupported operator aten::div encountered 1 time(s)\n",
      "Unsupported operator aten::softmax encountered 1 time(s)\n",
      "Unsupported operator aten::div encountered 1 time(s)\n",
      "Unsupported operator aten::softmax encountered 1 time(s)\n",
      "Unsupported operator aten::div encountered 1 time(s)\n",
      "Unsupported operator aten::softmax encountered 1 time(s)\n",
      "Unsupported operator aten::div encountered 1 time(s)\n",
      "Unsupported operator aten::softmax encountered 1 time(s)\n",
      "Unsupported operator aten::div encountered 1 time(s)\n",
      "Unsupported operator aten::softmax encountered 1 time(s)\n",
      "Unsupported operator aten::div encountered 1 time(s)\n",
      "Unsupported operator aten::softmax encountered 1 time(s)\n"
     ]
    },
    {
     "name": "stdout",
     "output_type": "stream",
     "text": [
      "Device: cpu, Input length: 10, Time: 5.08e-03, FLOPS: 7.97e+06, Memory: 1.66e+05\n",
      "Device: cuda, Input length: 10, Time: 2.54e-03, FLOPS: 7.97e+06, Memory: 1.66e+05\n",
      "Device: cpu, Input length: 100, Time: 9.69e-03, FLOPS: 8.89e+07, Memory: 1.84e+06\n",
      "Device: cuda, Input length: 100, Time: 2.03e-03, FLOPS: 8.89e+07, Memory: 1.84e+06\n",
      "Device: cpu, Input length: 1000, Time: 4.34e-02, FLOPS: 1.81e+09, Memory: 3.64e+07\n",
      "Device: cuda, Input length: 1000, Time: 2.54e-03, FLOPS: 1.81e+09, Memory: 3.69e+07\n"
     ]
    },
    {
     "name": "stderr",
     "output_type": "stream",
     "text": [
      "Unsupported operator aten::div encountered 1 time(s)\n",
      "Unsupported operator aten::softmax encountered 1 time(s)\n",
      "Unsupported operator aten::div encountered 1 time(s)\n",
      "Unsupported operator aten::softmax encountered 1 time(s)\n",
      " 83%|████████▎ | 83/100 [04:28<00:54,  3.20s/it]"
     ]
    },
    {
     "name": "stdout",
     "output_type": "stream",
     "text": [
      "Device: cpu, Input length: 10000, Time: 2.26e+00, FLOPS: 1.10e+11, Memory: 2.16e+09\n",
      "Device: cuda, Input length: 10000, Time: 2.04e-03, FLOPS: 1.10e+11, Memory: 2.17e+09\n"
     ]
    },
    {
     "name": "stderr",
     "output_type": "stream",
     "text": [
      "Unsupported operator aten::div encountered 1 time(s)\n",
      "Unsupported operator aten::softmax encountered 1 time(s)\n",
      "Unsupported operator aten::div encountered 1 time(s)\n",
      "Unsupported operator aten::softmax encountered 1 time(s)\n",
      "Unsupported operator aten::div encountered 1 time(s)\n",
      "Unsupported operator aten::softmax encountered 1 time(s)\n",
      "Unsupported operator aten::div encountered 1 time(s)\n",
      "Unsupported operator aten::softmax encountered 1 time(s)\n",
      "Unsupported operator aten::div encountered 1 time(s)\n",
      "Unsupported operator aten::softmax encountered 1 time(s)\n",
      "Unsupported operator aten::div encountered 1 time(s)\n",
      "Unsupported operator aten::softmax encountered 1 time(s)\n"
     ]
    },
    {
     "name": "stdout",
     "output_type": "stream",
     "text": [
      "Device: cpu, Input length: 10, Time: 4.07e-03, FLOPS: 7.97e+06, Memory: 1.66e+05\n",
      "Device: cuda, Input length: 10, Time: 2.03e-03, FLOPS: 7.97e+06, Memory: 1.66e+05\n",
      "Device: cpu, Input length: 100, Time: 9.65e-03, FLOPS: 8.89e+07, Memory: 1.84e+06\n",
      "Device: cuda, Input length: 100, Time: 4.58e-03, FLOPS: 8.89e+07, Memory: 1.84e+06\n",
      "Device: cpu, Input length: 1000, Time: 4.18e-02, FLOPS: 1.81e+09, Memory: 3.64e+07\n",
      "Device: cuda, Input length: 1000, Time: 5.10e-03, FLOPS: 1.81e+09, Memory: 3.69e+07\n"
     ]
    },
    {
     "name": "stderr",
     "output_type": "stream",
     "text": [
      "Unsupported operator aten::div encountered 1 time(s)\n",
      "Unsupported operator aten::softmax encountered 1 time(s)\n",
      "Unsupported operator aten::div encountered 1 time(s)\n",
      "Unsupported operator aten::softmax encountered 1 time(s)\n",
      " 84%|████████▍ | 84/100 [04:31<00:51,  3.20s/it]"
     ]
    },
    {
     "name": "stdout",
     "output_type": "stream",
     "text": [
      "Device: cpu, Input length: 10000, Time: 2.25e+00, FLOPS: 1.10e+11, Memory: 2.16e+09\n",
      "Device: cuda, Input length: 10000, Time: 2.04e-03, FLOPS: 1.10e+11, Memory: 2.17e+09\n"
     ]
    },
    {
     "name": "stderr",
     "output_type": "stream",
     "text": [
      "Unsupported operator aten::div encountered 1 time(s)\n",
      "Unsupported operator aten::softmax encountered 1 time(s)\n",
      "Unsupported operator aten::div encountered 1 time(s)\n",
      "Unsupported operator aten::softmax encountered 1 time(s)\n",
      "Unsupported operator aten::div encountered 1 time(s)\n",
      "Unsupported operator aten::softmax encountered 1 time(s)\n",
      "Unsupported operator aten::div encountered 1 time(s)\n",
      "Unsupported operator aten::softmax encountered 1 time(s)\n",
      "Unsupported operator aten::div encountered 1 time(s)\n",
      "Unsupported operator aten::softmax encountered 1 time(s)\n",
      "Unsupported operator aten::div encountered 1 time(s)\n",
      "Unsupported operator aten::softmax encountered 1 time(s)\n"
     ]
    },
    {
     "name": "stdout",
     "output_type": "stream",
     "text": [
      "Device: cpu, Input length: 10, Time: 4.65e-03, FLOPS: 7.97e+06, Memory: 1.66e+05\n",
      "Device: cuda, Input length: 10, Time: 4.57e-03, FLOPS: 7.97e+06, Memory: 1.66e+05\n",
      "Device: cpu, Input length: 100, Time: 1.02e-02, FLOPS: 8.89e+07, Memory: 1.84e+06\n",
      "Device: cuda, Input length: 100, Time: 2.60e-03, FLOPS: 8.89e+07, Memory: 1.84e+06\n",
      "Device: cpu, Input length: 1000, Time: 4.31e-02, FLOPS: 1.81e+09, Memory: 3.64e+07\n",
      "Device: cuda, Input length: 1000, Time: 5.14e-03, FLOPS: 1.81e+09, Memory: 3.69e+07\n"
     ]
    },
    {
     "name": "stderr",
     "output_type": "stream",
     "text": [
      "Unsupported operator aten::div encountered 1 time(s)\n",
      "Unsupported operator aten::softmax encountered 1 time(s)\n",
      "Unsupported operator aten::div encountered 1 time(s)\n",
      "Unsupported operator aten::softmax encountered 1 time(s)\n",
      " 85%|████████▌ | 85/100 [04:34<00:47,  3.19s/it]"
     ]
    },
    {
     "name": "stdout",
     "output_type": "stream",
     "text": [
      "Device: cpu, Input length: 10000, Time: 2.26e+00, FLOPS: 1.10e+11, Memory: 2.16e+09\n",
      "Device: cuda, Input length: 10000, Time: 2.05e-03, FLOPS: 1.10e+11, Memory: 2.17e+09\n"
     ]
    },
    {
     "name": "stderr",
     "output_type": "stream",
     "text": [
      "Unsupported operator aten::div encountered 1 time(s)\n",
      "Unsupported operator aten::softmax encountered 1 time(s)\n",
      "Unsupported operator aten::div encountered 1 time(s)\n",
      "Unsupported operator aten::softmax encountered 1 time(s)\n",
      "Unsupported operator aten::div encountered 1 time(s)\n",
      "Unsupported operator aten::softmax encountered 1 time(s)\n",
      "Unsupported operator aten::div encountered 1 time(s)\n",
      "Unsupported operator aten::softmax encountered 1 time(s)\n",
      "Unsupported operator aten::div encountered 1 time(s)\n",
      "Unsupported operator aten::softmax encountered 1 time(s)\n",
      "Unsupported operator aten::div encountered 1 time(s)\n",
      "Unsupported operator aten::softmax encountered 1 time(s)\n"
     ]
    },
    {
     "name": "stdout",
     "output_type": "stream",
     "text": [
      "Device: cpu, Input length: 10, Time: 4.07e-03, FLOPS: 7.97e+06, Memory: 1.66e+05\n",
      "Device: cuda, Input length: 10, Time: 2.54e-03, FLOPS: 7.97e+06, Memory: 1.66e+05\n",
      "Device: cpu, Input length: 100, Time: 1.02e-02, FLOPS: 8.89e+07, Memory: 1.84e+06\n",
      "Device: cuda, Input length: 100, Time: 2.03e-03, FLOPS: 8.89e+07, Memory: 1.84e+06\n",
      "Device: cpu, Input length: 1000, Time: 4.36e-02, FLOPS: 1.81e+09, Memory: 3.64e+07\n",
      "Device: cuda, Input length: 1000, Time: 2.04e-03, FLOPS: 1.81e+09, Memory: 3.69e+07\n"
     ]
    },
    {
     "name": "stderr",
     "output_type": "stream",
     "text": [
      "Unsupported operator aten::div encountered 1 time(s)\n",
      "Unsupported operator aten::softmax encountered 1 time(s)\n",
      "Unsupported operator aten::div encountered 1 time(s)\n",
      "Unsupported operator aten::softmax encountered 1 time(s)\n",
      " 86%|████████▌ | 86/100 [04:37<00:44,  3.18s/it]"
     ]
    },
    {
     "name": "stdout",
     "output_type": "stream",
     "text": [
      "Device: cpu, Input length: 10000, Time: 2.25e+00, FLOPS: 1.10e+11, Memory: 2.16e+09\n",
      "Device: cuda, Input length: 10000, Time: 1.54e-03, FLOPS: 1.10e+11, Memory: 2.17e+09\n"
     ]
    },
    {
     "name": "stderr",
     "output_type": "stream",
     "text": [
      "Unsupported operator aten::div encountered 1 time(s)\n",
      "Unsupported operator aten::softmax encountered 1 time(s)\n",
      "Unsupported operator aten::div encountered 1 time(s)\n",
      "Unsupported operator aten::softmax encountered 1 time(s)\n",
      "Unsupported operator aten::div encountered 1 time(s)\n",
      "Unsupported operator aten::softmax encountered 1 time(s)\n",
      "Unsupported operator aten::div encountered 1 time(s)\n",
      "Unsupported operator aten::softmax encountered 1 time(s)\n",
      "Unsupported operator aten::div encountered 1 time(s)\n",
      "Unsupported operator aten::softmax encountered 1 time(s)\n",
      "Unsupported operator aten::div encountered 1 time(s)\n",
      "Unsupported operator aten::softmax encountered 1 time(s)\n"
     ]
    },
    {
     "name": "stdout",
     "output_type": "stream",
     "text": [
      "Device: cpu, Input length: 10, Time: 4.08e-03, FLOPS: 7.97e+06, Memory: 1.66e+05\n",
      "Device: cuda, Input length: 10, Time: 2.03e-03, FLOPS: 7.97e+06, Memory: 1.66e+05\n",
      "Device: cpu, Input length: 100, Time: 9.22e-03, FLOPS: 8.89e+07, Memory: 1.84e+06\n",
      "Device: cuda, Input length: 100, Time: 4.58e-03, FLOPS: 8.89e+07, Memory: 1.84e+06\n",
      "Device: cpu, Input length: 1000, Time: 4.41e-02, FLOPS: 1.81e+09, Memory: 3.64e+07\n",
      "Device: cuda, Input length: 1000, Time: 2.55e-03, FLOPS: 1.81e+09, Memory: 3.69e+07\n"
     ]
    },
    {
     "name": "stderr",
     "output_type": "stream",
     "text": [
      "Unsupported operator aten::div encountered 1 time(s)\n",
      "Unsupported operator aten::softmax encountered 1 time(s)\n",
      "Unsupported operator aten::div encountered 1 time(s)\n",
      "Unsupported operator aten::softmax encountered 1 time(s)\n",
      " 87%|████████▋ | 87/100 [04:40<00:41,  3.19s/it]"
     ]
    },
    {
     "name": "stdout",
     "output_type": "stream",
     "text": [
      "Device: cpu, Input length: 10000, Time: 2.26e+00, FLOPS: 1.10e+11, Memory: 2.16e+09\n",
      "Device: cuda, Input length: 10000, Time: 2.04e-03, FLOPS: 1.10e+11, Memory: 2.17e+09\n"
     ]
    },
    {
     "name": "stderr",
     "output_type": "stream",
     "text": [
      "Unsupported operator aten::div encountered 1 time(s)\n",
      "Unsupported operator aten::softmax encountered 1 time(s)\n",
      "Unsupported operator aten::div encountered 1 time(s)\n",
      "Unsupported operator aten::softmax encountered 1 time(s)\n",
      "Unsupported operator aten::div encountered 1 time(s)\n",
      "Unsupported operator aten::softmax encountered 1 time(s)\n",
      "Unsupported operator aten::div encountered 1 time(s)\n",
      "Unsupported operator aten::softmax encountered 1 time(s)\n",
      "Unsupported operator aten::div encountered 1 time(s)\n",
      "Unsupported operator aten::softmax encountered 1 time(s)\n",
      "Unsupported operator aten::div encountered 1 time(s)\n",
      "Unsupported operator aten::softmax encountered 1 time(s)\n"
     ]
    },
    {
     "name": "stdout",
     "output_type": "stream",
     "text": [
      "Device: cpu, Input length: 10, Time: 4.07e-03, FLOPS: 7.97e+06, Memory: 1.66e+05\n",
      "Device: cuda, Input length: 10, Time: 2.04e-03, FLOPS: 7.97e+06, Memory: 1.66e+05\n",
      "Device: cpu, Input length: 100, Time: 1.03e-02, FLOPS: 8.89e+07, Memory: 1.84e+06\n",
      "Device: cuda, Input length: 100, Time: 2.54e-03, FLOPS: 8.89e+07, Memory: 1.84e+06\n",
      "Device: cpu, Input length: 1000, Time: 4.30e-02, FLOPS: 1.81e+09, Memory: 3.64e+07\n",
      "Device: cuda, Input length: 1000, Time: 2.03e-03, FLOPS: 1.81e+09, Memory: 3.69e+07\n"
     ]
    },
    {
     "name": "stderr",
     "output_type": "stream",
     "text": [
      "Unsupported operator aten::div encountered 1 time(s)\n",
      "Unsupported operator aten::softmax encountered 1 time(s)\n",
      "Unsupported operator aten::div encountered 1 time(s)\n",
      "Unsupported operator aten::softmax encountered 1 time(s)\n",
      " 88%|████████▊ | 88/100 [04:43<00:38,  3.19s/it]"
     ]
    },
    {
     "name": "stdout",
     "output_type": "stream",
     "text": [
      "Device: cpu, Input length: 10000, Time: 2.26e+00, FLOPS: 1.10e+11, Memory: 2.16e+09\n",
      "Device: cuda, Input length: 10000, Time: 2.03e-03, FLOPS: 1.10e+11, Memory: 2.17e+09\n"
     ]
    },
    {
     "name": "stderr",
     "output_type": "stream",
     "text": [
      "Unsupported operator aten::div encountered 1 time(s)\n",
      "Unsupported operator aten::softmax encountered 1 time(s)\n",
      "Unsupported operator aten::div encountered 1 time(s)\n",
      "Unsupported operator aten::softmax encountered 1 time(s)\n",
      "Unsupported operator aten::div encountered 1 time(s)\n",
      "Unsupported operator aten::softmax encountered 1 time(s)\n",
      "Unsupported operator aten::div encountered 1 time(s)\n",
      "Unsupported operator aten::softmax encountered 1 time(s)\n",
      "Unsupported operator aten::div encountered 1 time(s)\n",
      "Unsupported operator aten::softmax encountered 1 time(s)\n",
      "Unsupported operator aten::div encountered 1 time(s)\n",
      "Unsupported operator aten::softmax encountered 1 time(s)\n"
     ]
    },
    {
     "name": "stdout",
     "output_type": "stream",
     "text": [
      "Device: cpu, Input length: 10, Time: 4.59e-03, FLOPS: 7.97e+06, Memory: 1.66e+05\n",
      "Device: cuda, Input length: 10, Time: 2.56e-03, FLOPS: 7.97e+06, Memory: 1.66e+05\n",
      "Device: cpu, Input length: 100, Time: 9.66e-03, FLOPS: 8.89e+07, Memory: 1.84e+06\n",
      "Device: cuda, Input length: 100, Time: 2.04e-03, FLOPS: 8.89e+07, Memory: 1.84e+06\n",
      "Device: cpu, Input length: 1000, Time: 4.24e-02, FLOPS: 1.81e+09, Memory: 3.64e+07\n",
      "Device: cuda, Input length: 1000, Time: 2.05e-03, FLOPS: 1.81e+09, Memory: 3.69e+07\n"
     ]
    },
    {
     "name": "stderr",
     "output_type": "stream",
     "text": [
      "Unsupported operator aten::div encountered 1 time(s)\n",
      "Unsupported operator aten::softmax encountered 1 time(s)\n",
      "Unsupported operator aten::div encountered 1 time(s)\n",
      "Unsupported operator aten::softmax encountered 1 time(s)\n",
      " 89%|████████▉ | 89/100 [04:47<00:35,  3.20s/it]"
     ]
    },
    {
     "name": "stdout",
     "output_type": "stream",
     "text": [
      "Device: cpu, Input length: 10000, Time: 2.28e+00, FLOPS: 1.10e+11, Memory: 2.16e+09\n",
      "Device: cuda, Input length: 10000, Time: 1.53e-03, FLOPS: 1.10e+11, Memory: 2.17e+09\n"
     ]
    },
    {
     "name": "stderr",
     "output_type": "stream",
     "text": [
      "Unsupported operator aten::div encountered 1 time(s)\n",
      "Unsupported operator aten::softmax encountered 1 time(s)\n",
      "Unsupported operator aten::div encountered 1 time(s)\n",
      "Unsupported operator aten::softmax encountered 1 time(s)\n",
      "Unsupported operator aten::div encountered 1 time(s)\n",
      "Unsupported operator aten::softmax encountered 1 time(s)\n",
      "Unsupported operator aten::div encountered 1 time(s)\n",
      "Unsupported operator aten::softmax encountered 1 time(s)\n",
      "Unsupported operator aten::div encountered 1 time(s)\n",
      "Unsupported operator aten::softmax encountered 1 time(s)\n",
      "Unsupported operator aten::div encountered 1 time(s)\n",
      "Unsupported operator aten::softmax encountered 1 time(s)\n"
     ]
    },
    {
     "name": "stdout",
     "output_type": "stream",
     "text": [
      "Device: cpu, Input length: 10, Time: 4.58e-03, FLOPS: 7.97e+06, Memory: 1.66e+05\n",
      "Device: cuda, Input length: 10, Time: 2.53e-03, FLOPS: 7.97e+06, Memory: 1.66e+05\n",
      "Device: cpu, Input length: 100, Time: 9.68e-03, FLOPS: 8.89e+07, Memory: 1.84e+06\n",
      "Device: cuda, Input length: 100, Time: 2.54e-03, FLOPS: 8.89e+07, Memory: 1.84e+06\n",
      "Device: cpu, Input length: 1000, Time: 4.41e-02, FLOPS: 1.81e+09, Memory: 3.64e+07\n",
      "Device: cuda, Input length: 1000, Time: 2.03e-03, FLOPS: 1.81e+09, Memory: 3.69e+07\n"
     ]
    },
    {
     "name": "stderr",
     "output_type": "stream",
     "text": [
      "Unsupported operator aten::div encountered 1 time(s)\n",
      "Unsupported operator aten::softmax encountered 1 time(s)\n",
      "Unsupported operator aten::div encountered 1 time(s)\n",
      "Unsupported operator aten::softmax encountered 1 time(s)\n",
      " 90%|█████████ | 90/100 [04:50<00:31,  3.19s/it]"
     ]
    },
    {
     "name": "stdout",
     "output_type": "stream",
     "text": [
      "Device: cpu, Input length: 10000, Time: 2.25e+00, FLOPS: 1.10e+11, Memory: 2.16e+09\n",
      "Device: cuda, Input length: 10000, Time: 2.03e-03, FLOPS: 1.10e+11, Memory: 2.17e+09\n"
     ]
    },
    {
     "name": "stderr",
     "output_type": "stream",
     "text": [
      "Unsupported operator aten::div encountered 1 time(s)\n",
      "Unsupported operator aten::softmax encountered 1 time(s)\n",
      "Unsupported operator aten::div encountered 1 time(s)\n",
      "Unsupported operator aten::softmax encountered 1 time(s)\n",
      "Unsupported operator aten::div encountered 1 time(s)\n",
      "Unsupported operator aten::softmax encountered 1 time(s)\n",
      "Unsupported operator aten::div encountered 1 time(s)\n",
      "Unsupported operator aten::softmax encountered 1 time(s)\n",
      "Unsupported operator aten::div encountered 1 time(s)\n",
      "Unsupported operator aten::softmax encountered 1 time(s)\n",
      "Unsupported operator aten::div encountered 1 time(s)\n",
      "Unsupported operator aten::softmax encountered 1 time(s)\n"
     ]
    },
    {
     "name": "stdout",
     "output_type": "stream",
     "text": [
      "Device: cpu, Input length: 10, Time: 4.07e-03, FLOPS: 7.97e+06, Memory: 1.66e+05\n",
      "Device: cuda, Input length: 10, Time: 2.03e-03, FLOPS: 7.97e+06, Memory: 1.66e+05\n",
      "Device: cpu, Input length: 100, Time: 1.02e-02, FLOPS: 8.89e+07, Memory: 1.84e+06\n",
      "Device: cuda, Input length: 100, Time: 4.07e-03, FLOPS: 8.89e+07, Memory: 1.84e+06\n",
      "Device: cpu, Input length: 1000, Time: 4.40e-02, FLOPS: 1.81e+09, Memory: 3.64e+07\n",
      "Device: cuda, Input length: 1000, Time: 2.03e-03, FLOPS: 1.81e+09, Memory: 3.69e+07\n"
     ]
    },
    {
     "name": "stderr",
     "output_type": "stream",
     "text": [
      "Unsupported operator aten::div encountered 1 time(s)\n",
      "Unsupported operator aten::softmax encountered 1 time(s)\n",
      "Unsupported operator aten::div encountered 1 time(s)\n",
      "Unsupported operator aten::softmax encountered 1 time(s)\n",
      " 91%|█████████ | 91/100 [04:53<00:28,  3.20s/it]"
     ]
    },
    {
     "name": "stdout",
     "output_type": "stream",
     "text": [
      "Device: cpu, Input length: 10000, Time: 2.26e+00, FLOPS: 1.10e+11, Memory: 2.16e+09\n",
      "Device: cuda, Input length: 10000, Time: 2.03e-03, FLOPS: 1.10e+11, Memory: 2.17e+09\n"
     ]
    },
    {
     "name": "stderr",
     "output_type": "stream",
     "text": [
      "Unsupported operator aten::div encountered 1 time(s)\n",
      "Unsupported operator aten::softmax encountered 1 time(s)\n",
      "Unsupported operator aten::div encountered 1 time(s)\n",
      "Unsupported operator aten::softmax encountered 1 time(s)\n",
      "Unsupported operator aten::div encountered 1 time(s)\n",
      "Unsupported operator aten::softmax encountered 1 time(s)\n",
      "Unsupported operator aten::div encountered 1 time(s)\n",
      "Unsupported operator aten::softmax encountered 1 time(s)\n",
      "Unsupported operator aten::div encountered 1 time(s)\n",
      "Unsupported operator aten::softmax encountered 1 time(s)\n",
      "Unsupported operator aten::div encountered 1 time(s)\n",
      "Unsupported operator aten::softmax encountered 1 time(s)\n"
     ]
    },
    {
     "name": "stdout",
     "output_type": "stream",
     "text": [
      "Device: cpu, Input length: 10, Time: 4.58e-03, FLOPS: 7.97e+06, Memory: 1.66e+05\n",
      "Device: cuda, Input length: 10, Time: 2.54e-03, FLOPS: 7.97e+06, Memory: 1.66e+05\n",
      "Device: cpu, Input length: 100, Time: 9.72e-03, FLOPS: 8.89e+07, Memory: 1.84e+06\n",
      "Device: cuda, Input length: 100, Time: 2.54e-03, FLOPS: 8.89e+07, Memory: 1.84e+06\n",
      "Device: cpu, Input length: 1000, Time: 4.28e-02, FLOPS: 1.81e+09, Memory: 3.64e+07\n",
      "Device: cuda, Input length: 1000, Time: 2.04e-03, FLOPS: 1.81e+09, Memory: 3.69e+07\n"
     ]
    },
    {
     "name": "stderr",
     "output_type": "stream",
     "text": [
      "Unsupported operator aten::div encountered 1 time(s)\n",
      "Unsupported operator aten::softmax encountered 1 time(s)\n",
      "Unsupported operator aten::div encountered 1 time(s)\n",
      "Unsupported operator aten::softmax encountered 1 time(s)\n",
      " 92%|█████████▏| 92/100 [04:56<00:25,  3.20s/it]"
     ]
    },
    {
     "name": "stdout",
     "output_type": "stream",
     "text": [
      "Device: cpu, Input length: 10000, Time: 2.26e+00, FLOPS: 1.10e+11, Memory: 2.16e+09\n",
      "Device: cuda, Input length: 10000, Time: 1.53e-03, FLOPS: 1.10e+11, Memory: 2.17e+09\n"
     ]
    },
    {
     "name": "stderr",
     "output_type": "stream",
     "text": [
      "Unsupported operator aten::div encountered 1 time(s)\n",
      "Unsupported operator aten::softmax encountered 1 time(s)\n",
      "Unsupported operator aten::div encountered 1 time(s)\n",
      "Unsupported operator aten::softmax encountered 1 time(s)\n",
      "Unsupported operator aten::div encountered 1 time(s)\n",
      "Unsupported operator aten::softmax encountered 1 time(s)\n",
      "Unsupported operator aten::div encountered 1 time(s)\n",
      "Unsupported operator aten::softmax encountered 1 time(s)\n",
      "Unsupported operator aten::div encountered 1 time(s)\n",
      "Unsupported operator aten::softmax encountered 1 time(s)\n",
      "Unsupported operator aten::div encountered 1 time(s)\n",
      "Unsupported operator aten::softmax encountered 1 time(s)\n"
     ]
    },
    {
     "name": "stdout",
     "output_type": "stream",
     "text": [
      "Device: cpu, Input length: 10, Time: 4.57e-03, FLOPS: 7.97e+06, Memory: 1.66e+05\n",
      "Device: cuda, Input length: 10, Time: 2.03e-03, FLOPS: 7.97e+06, Memory: 1.66e+05\n",
      "Device: cpu, Input length: 100, Time: 1.02e-02, FLOPS: 8.89e+07, Memory: 1.84e+06\n",
      "Device: cuda, Input length: 100, Time: 2.11e-03, FLOPS: 8.89e+07, Memory: 1.84e+06\n",
      "Device: cpu, Input length: 1000, Time: 4.29e-02, FLOPS: 1.81e+09, Memory: 3.64e+07\n",
      "Device: cuda, Input length: 1000, Time: 2.03e-03, FLOPS: 1.81e+09, Memory: 3.69e+07\n"
     ]
    },
    {
     "name": "stderr",
     "output_type": "stream",
     "text": [
      "Unsupported operator aten::div encountered 1 time(s)\n",
      "Unsupported operator aten::softmax encountered 1 time(s)\n",
      "Unsupported operator aten::div encountered 1 time(s)\n",
      "Unsupported operator aten::softmax encountered 1 time(s)\n",
      " 93%|█████████▎| 93/100 [05:00<00:22,  3.21s/it]"
     ]
    },
    {
     "name": "stdout",
     "output_type": "stream",
     "text": [
      "Device: cpu, Input length: 10000, Time: 2.30e+00, FLOPS: 1.10e+11, Memory: 2.16e+09\n",
      "Device: cuda, Input length: 10000, Time: 1.52e-03, FLOPS: 1.10e+11, Memory: 2.17e+09\n"
     ]
    },
    {
     "name": "stderr",
     "output_type": "stream",
     "text": [
      "Unsupported operator aten::div encountered 1 time(s)\n",
      "Unsupported operator aten::softmax encountered 1 time(s)\n",
      "Unsupported operator aten::div encountered 1 time(s)\n",
      "Unsupported operator aten::softmax encountered 1 time(s)\n",
      "Unsupported operator aten::div encountered 1 time(s)\n",
      "Unsupported operator aten::softmax encountered 1 time(s)\n",
      "Unsupported operator aten::div encountered 1 time(s)\n",
      "Unsupported operator aten::softmax encountered 1 time(s)\n",
      "Unsupported operator aten::div encountered 1 time(s)\n",
      "Unsupported operator aten::softmax encountered 1 time(s)\n",
      "Unsupported operator aten::div encountered 1 time(s)\n",
      "Unsupported operator aten::softmax encountered 1 time(s)\n"
     ]
    },
    {
     "name": "stdout",
     "output_type": "stream",
     "text": [
      "Device: cpu, Input length: 10, Time: 4.10e-03, FLOPS: 7.97e+06, Memory: 1.66e+05\n",
      "Device: cuda, Input length: 10, Time: 2.54e-03, FLOPS: 7.97e+06, Memory: 1.66e+05\n",
      "Device: cpu, Input length: 100, Time: 1.02e-02, FLOPS: 8.89e+07, Memory: 1.84e+06\n",
      "Device: cuda, Input length: 100, Time: 2.04e-03, FLOPS: 8.89e+07, Memory: 1.84e+06\n",
      "Device: cpu, Input length: 1000, Time: 4.30e-02, FLOPS: 1.81e+09, Memory: 3.64e+07\n",
      "Device: cuda, Input length: 1000, Time: 5.11e-03, FLOPS: 1.81e+09, Memory: 3.69e+07\n"
     ]
    },
    {
     "name": "stderr",
     "output_type": "stream",
     "text": [
      "Unsupported operator aten::div encountered 1 time(s)\n",
      "Unsupported operator aten::softmax encountered 1 time(s)\n",
      "Unsupported operator aten::div encountered 1 time(s)\n",
      "Unsupported operator aten::softmax encountered 1 time(s)\n",
      " 94%|█████████▍| 94/100 [05:03<00:19,  3.20s/it]"
     ]
    },
    {
     "name": "stdout",
     "output_type": "stream",
     "text": [
      "Device: cpu, Input length: 10000, Time: 2.27e+00, FLOPS: 1.10e+11, Memory: 2.16e+09\n",
      "Device: cuda, Input length: 10000, Time: 2.04e-03, FLOPS: 1.10e+11, Memory: 2.17e+09\n"
     ]
    },
    {
     "name": "stderr",
     "output_type": "stream",
     "text": [
      "Unsupported operator aten::div encountered 1 time(s)\n",
      "Unsupported operator aten::softmax encountered 1 time(s)\n",
      "Unsupported operator aten::div encountered 1 time(s)\n",
      "Unsupported operator aten::softmax encountered 1 time(s)\n",
      "Unsupported operator aten::div encountered 1 time(s)\n",
      "Unsupported operator aten::softmax encountered 1 time(s)\n",
      "Unsupported operator aten::div encountered 1 time(s)\n",
      "Unsupported operator aten::softmax encountered 1 time(s)\n",
      "Unsupported operator aten::div encountered 1 time(s)\n",
      "Unsupported operator aten::softmax encountered 1 time(s)\n",
      "Unsupported operator aten::div encountered 1 time(s)\n",
      "Unsupported operator aten::softmax encountered 1 time(s)\n"
     ]
    },
    {
     "name": "stdout",
     "output_type": "stream",
     "text": [
      "Device: cpu, Input length: 10, Time: 4.59e-03, FLOPS: 7.97e+06, Memory: 1.66e+05\n",
      "Device: cuda, Input length: 10, Time: 3.57e-03, FLOPS: 7.97e+06, Memory: 1.66e+05\n",
      "Device: cpu, Input length: 100, Time: 1.07e-02, FLOPS: 8.89e+07, Memory: 1.84e+06\n",
      "Device: cuda, Input length: 100, Time: 2.04e-03, FLOPS: 8.89e+07, Memory: 1.84e+06\n",
      "Device: cpu, Input length: 1000, Time: 4.44e-02, FLOPS: 1.81e+09, Memory: 3.64e+07\n",
      "Device: cuda, Input length: 1000, Time: 2.04e-03, FLOPS: 1.81e+09, Memory: 3.69e+07\n"
     ]
    },
    {
     "name": "stderr",
     "output_type": "stream",
     "text": [
      "Unsupported operator aten::div encountered 1 time(s)\n",
      "Unsupported operator aten::softmax encountered 1 time(s)\n",
      "Unsupported operator aten::div encountered 1 time(s)\n",
      "Unsupported operator aten::softmax encountered 1 time(s)\n",
      " 95%|█████████▌| 95/100 [05:06<00:16,  3.21s/it]"
     ]
    },
    {
     "name": "stdout",
     "output_type": "stream",
     "text": [
      "Device: cpu, Input length: 10000, Time: 2.27e+00, FLOPS: 1.10e+11, Memory: 2.16e+09\n",
      "Device: cuda, Input length: 10000, Time: 2.04e-03, FLOPS: 1.10e+11, Memory: 2.17e+09\n"
     ]
    },
    {
     "name": "stderr",
     "output_type": "stream",
     "text": [
      "Unsupported operator aten::div encountered 1 time(s)\n",
      "Unsupported operator aten::softmax encountered 1 time(s)\n",
      "Unsupported operator aten::div encountered 1 time(s)\n",
      "Unsupported operator aten::softmax encountered 1 time(s)\n",
      "Unsupported operator aten::div encountered 1 time(s)\n",
      "Unsupported operator aten::softmax encountered 1 time(s)\n",
      "Unsupported operator aten::div encountered 1 time(s)\n",
      "Unsupported operator aten::softmax encountered 1 time(s)\n",
      "Unsupported operator aten::div encountered 1 time(s)\n",
      "Unsupported operator aten::softmax encountered 1 time(s)\n",
      "Unsupported operator aten::div encountered 1 time(s)\n",
      "Unsupported operator aten::softmax encountered 1 time(s)\n"
     ]
    },
    {
     "name": "stdout",
     "output_type": "stream",
     "text": [
      "Device: cpu, Input length: 10, Time: 4.61e-03, FLOPS: 7.97e+06, Memory: 1.66e+05\n",
      "Device: cuda, Input length: 10, Time: 2.04e-03, FLOPS: 7.97e+06, Memory: 1.66e+05\n",
      "Device: cpu, Input length: 100, Time: 1.02e-02, FLOPS: 8.89e+07, Memory: 1.84e+06\n",
      "Device: cuda, Input length: 100, Time: 2.03e-03, FLOPS: 8.89e+07, Memory: 1.84e+06\n",
      "Device: cpu, Input length: 1000, Time: 4.34e-02, FLOPS: 1.81e+09, Memory: 3.64e+07\n",
      "Device: cuda, Input length: 1000, Time: 2.54e-03, FLOPS: 1.81e+09, Memory: 3.69e+07\n"
     ]
    },
    {
     "name": "stderr",
     "output_type": "stream",
     "text": [
      "Unsupported operator aten::div encountered 1 time(s)\n",
      "Unsupported operator aten::softmax encountered 1 time(s)\n",
      "Unsupported operator aten::div encountered 1 time(s)\n",
      "Unsupported operator aten::softmax encountered 1 time(s)\n",
      " 96%|█████████▌| 96/100 [05:09<00:12,  3.21s/it]"
     ]
    },
    {
     "name": "stdout",
     "output_type": "stream",
     "text": [
      "Device: cpu, Input length: 10000, Time: 2.26e+00, FLOPS: 1.10e+11, Memory: 2.16e+09\n",
      "Device: cuda, Input length: 10000, Time: 2.03e-03, FLOPS: 1.10e+11, Memory: 2.17e+09\n"
     ]
    },
    {
     "name": "stderr",
     "output_type": "stream",
     "text": [
      "Unsupported operator aten::div encountered 1 time(s)\n",
      "Unsupported operator aten::softmax encountered 1 time(s)\n",
      "Unsupported operator aten::div encountered 1 time(s)\n",
      "Unsupported operator aten::softmax encountered 1 time(s)\n",
      "Unsupported operator aten::div encountered 1 time(s)\n",
      "Unsupported operator aten::softmax encountered 1 time(s)\n",
      "Unsupported operator aten::div encountered 1 time(s)\n",
      "Unsupported operator aten::softmax encountered 1 time(s)\n",
      "Unsupported operator aten::div encountered 1 time(s)\n",
      "Unsupported operator aten::softmax encountered 1 time(s)\n",
      "Unsupported operator aten::div encountered 1 time(s)\n",
      "Unsupported operator aten::softmax encountered 1 time(s)\n"
     ]
    },
    {
     "name": "stdout",
     "output_type": "stream",
     "text": [
      "Device: cpu, Input length: 10, Time: 5.64e-03, FLOPS: 7.97e+06, Memory: 1.66e+05\n",
      "Device: cuda, Input length: 10, Time: 2.03e-03, FLOPS: 7.97e+06, Memory: 1.66e+05\n",
      "Device: cpu, Input length: 100, Time: 8.66e-03, FLOPS: 8.89e+07, Memory: 1.84e+06\n",
      "Device: cuda, Input length: 100, Time: 2.55e-03, FLOPS: 8.89e+07, Memory: 1.84e+06\n",
      "Device: cpu, Input length: 1000, Time: 4.35e-02, FLOPS: 1.81e+09, Memory: 3.64e+07\n",
      "Device: cuda, Input length: 1000, Time: 2.54e-03, FLOPS: 1.81e+09, Memory: 3.69e+07\n"
     ]
    },
    {
     "name": "stderr",
     "output_type": "stream",
     "text": [
      "Unsupported operator aten::div encountered 1 time(s)\n",
      "Unsupported operator aten::softmax encountered 1 time(s)\n",
      "Unsupported operator aten::div encountered 1 time(s)\n",
      "Unsupported operator aten::softmax encountered 1 time(s)\n",
      " 97%|█████████▋| 97/100 [05:12<00:09,  3.19s/it]"
     ]
    },
    {
     "name": "stdout",
     "output_type": "stream",
     "text": [
      "Device: cpu, Input length: 10000, Time: 2.27e+00, FLOPS: 1.10e+11, Memory: 2.16e+09\n",
      "Device: cuda, Input length: 10000, Time: 2.03e-03, FLOPS: 1.10e+11, Memory: 2.17e+09\n"
     ]
    },
    {
     "name": "stderr",
     "output_type": "stream",
     "text": [
      "Unsupported operator aten::div encountered 1 time(s)\n",
      "Unsupported operator aten::softmax encountered 1 time(s)\n",
      "Unsupported operator aten::div encountered 1 time(s)\n",
      "Unsupported operator aten::softmax encountered 1 time(s)\n",
      "Unsupported operator aten::div encountered 1 time(s)\n",
      "Unsupported operator aten::softmax encountered 1 time(s)\n",
      "Unsupported operator aten::div encountered 1 time(s)\n",
      "Unsupported operator aten::softmax encountered 1 time(s)\n",
      "Unsupported operator aten::div encountered 1 time(s)\n",
      "Unsupported operator aten::softmax encountered 1 time(s)\n",
      "Unsupported operator aten::div encountered 1 time(s)\n",
      "Unsupported operator aten::softmax encountered 1 time(s)\n"
     ]
    },
    {
     "name": "stdout",
     "output_type": "stream",
     "text": [
      "Device: cpu, Input length: 10, Time: 4.08e-03, FLOPS: 7.97e+06, Memory: 1.66e+05\n",
      "Device: cuda, Input length: 10, Time: 2.54e-03, FLOPS: 7.97e+06, Memory: 1.66e+05\n",
      "Device: cpu, Input length: 100, Time: 9.16e-03, FLOPS: 8.89e+07, Memory: 1.84e+06\n",
      "Device: cuda, Input length: 100, Time: 4.58e-03, FLOPS: 8.89e+07, Memory: 1.84e+06\n",
      "Device: cpu, Input length: 1000, Time: 4.34e-02, FLOPS: 1.81e+09, Memory: 3.64e+07\n",
      "Device: cuda, Input length: 1000, Time: 2.04e-03, FLOPS: 1.81e+09, Memory: 3.69e+07\n"
     ]
    },
    {
     "name": "stderr",
     "output_type": "stream",
     "text": [
      "Unsupported operator aten::div encountered 1 time(s)\n",
      "Unsupported operator aten::softmax encountered 1 time(s)\n",
      "Unsupported operator aten::div encountered 1 time(s)\n",
      "Unsupported operator aten::softmax encountered 1 time(s)\n",
      " 98%|█████████▊| 98/100 [05:16<00:06,  3.21s/it]"
     ]
    },
    {
     "name": "stdout",
     "output_type": "stream",
     "text": [
      "Device: cpu, Input length: 10000, Time: 2.27e+00, FLOPS: 1.10e+11, Memory: 2.16e+09\n",
      "Device: cuda, Input length: 10000, Time: 1.53e-03, FLOPS: 1.10e+11, Memory: 2.17e+09\n"
     ]
    },
    {
     "name": "stderr",
     "output_type": "stream",
     "text": [
      "Unsupported operator aten::div encountered 1 time(s)\n",
      "Unsupported operator aten::softmax encountered 1 time(s)\n",
      "Unsupported operator aten::div encountered 1 time(s)\n",
      "Unsupported operator aten::softmax encountered 1 time(s)\n",
      "Unsupported operator aten::div encountered 1 time(s)\n",
      "Unsupported operator aten::softmax encountered 1 time(s)\n",
      "Unsupported operator aten::div encountered 1 time(s)\n",
      "Unsupported operator aten::softmax encountered 1 time(s)\n",
      "Unsupported operator aten::div encountered 1 time(s)\n",
      "Unsupported operator aten::softmax encountered 1 time(s)\n",
      "Unsupported operator aten::div encountered 1 time(s)\n",
      "Unsupported operator aten::softmax encountered 1 time(s)\n"
     ]
    },
    {
     "name": "stdout",
     "output_type": "stream",
     "text": [
      "Device: cpu, Input length: 10, Time: 4.08e-03, FLOPS: 7.97e+06, Memory: 1.66e+05\n",
      "Device: cuda, Input length: 10, Time: 2.54e-03, FLOPS: 7.97e+06, Memory: 1.66e+05\n",
      "Device: cpu, Input length: 100, Time: 9.15e-03, FLOPS: 8.89e+07, Memory: 1.84e+06\n",
      "Device: cuda, Input length: 100, Time: 2.05e-03, FLOPS: 8.89e+07, Memory: 1.84e+06\n",
      "Device: cpu, Input length: 1000, Time: 4.29e-02, FLOPS: 1.81e+09, Memory: 3.64e+07\n",
      "Device: cuda, Input length: 1000, Time: 4.58e-03, FLOPS: 1.81e+09, Memory: 3.69e+07\n"
     ]
    },
    {
     "name": "stderr",
     "output_type": "stream",
     "text": [
      "Unsupported operator aten::div encountered 1 time(s)\n",
      "Unsupported operator aten::softmax encountered 1 time(s)\n",
      "Unsupported operator aten::div encountered 1 time(s)\n",
      "Unsupported operator aten::softmax encountered 1 time(s)\n",
      " 99%|█████████▉| 99/100 [05:19<00:03,  3.20s/it]"
     ]
    },
    {
     "name": "stdout",
     "output_type": "stream",
     "text": [
      "Device: cpu, Input length: 10000, Time: 2.25e+00, FLOPS: 1.10e+11, Memory: 2.16e+09\n",
      "Device: cuda, Input length: 10000, Time: 2.04e-03, FLOPS: 1.10e+11, Memory: 2.17e+09\n"
     ]
    },
    {
     "name": "stderr",
     "output_type": "stream",
     "text": [
      "Unsupported operator aten::div encountered 1 time(s)\n",
      "Unsupported operator aten::softmax encountered 1 time(s)\n",
      "Unsupported operator aten::div encountered 1 time(s)\n",
      "Unsupported operator aten::softmax encountered 1 time(s)\n",
      "Unsupported operator aten::div encountered 1 time(s)\n",
      "Unsupported operator aten::softmax encountered 1 time(s)\n",
      "Unsupported operator aten::div encountered 1 time(s)\n",
      "Unsupported operator aten::softmax encountered 1 time(s)\n",
      "Unsupported operator aten::div encountered 1 time(s)\n",
      "Unsupported operator aten::softmax encountered 1 time(s)\n",
      "Unsupported operator aten::div encountered 1 time(s)\n",
      "Unsupported operator aten::softmax encountered 1 time(s)\n"
     ]
    },
    {
     "name": "stdout",
     "output_type": "stream",
     "text": [
      "Device: cpu, Input length: 10, Time: 4.08e-03, FLOPS: 7.97e+06, Memory: 1.66e+05\n",
      "Device: cuda, Input length: 10, Time: 2.04e-03, FLOPS: 7.97e+06, Memory: 1.66e+05\n",
      "Device: cpu, Input length: 100, Time: 1.02e-02, FLOPS: 8.89e+07, Memory: 1.84e+06\n",
      "Device: cuda, Input length: 100, Time: 2.55e-03, FLOPS: 8.89e+07, Memory: 1.84e+06\n",
      "Device: cpu, Input length: 1000, Time: 4.44e-02, FLOPS: 1.81e+09, Memory: 3.64e+07\n",
      "Device: cuda, Input length: 1000, Time: 2.03e-03, FLOPS: 1.81e+09, Memory: 3.69e+07\n"
     ]
    },
    {
     "name": "stderr",
     "output_type": "stream",
     "text": [
      "Unsupported operator aten::div encountered 1 time(s)\n",
      "Unsupported operator aten::softmax encountered 1 time(s)\n",
      "Unsupported operator aten::div encountered 1 time(s)\n",
      "Unsupported operator aten::softmax encountered 1 time(s)\n",
      "100%|██████████| 100/100 [05:22<00:00,  3.22s/it]\n"
     ]
    },
    {
     "name": "stdout",
     "output_type": "stream",
     "text": [
      "Device: cpu, Input length: 10000, Time: 2.26e+00, FLOPS: 1.10e+11, Memory: 2.16e+09\n",
      "Device: cuda, Input length: 10000, Time: 2.03e-03, FLOPS: 1.10e+11, Memory: 2.17e+09\n"
     ]
    },
    {
     "data": {
      "image/png": "[encoded data removed]",
      "text/plain": [
       "<Figure size 1000x600 with 1 Axes>"
      ]
     },
     "metadata": {},
     "output_type": "display_data"
    },
    {
     "data": {
      "image/png": "[encoded data removed]",
      "text/plain": [
       "<Figure size 1000x600 with 1 Axes>"
      ]
     },
     "metadata": {},
     "output_type": "display_data"
    },
    {
     "data": {
      "image/png": "[encoded data removed]",
      "text/plain": [
       "<Figure size 1000x600 with 1 Axes>"
      ]
     },
     "metadata": {},
     "output_type": "display_data"
    }
   ],
   "source": [
    "import pandas as pd\n",
    "import matplotlib.pyplot as plt\n",
    "import seaborn as sns\n",
    "import tqdm\n",
    "\n",
    "# Do a warmup run \n",
    "attn_profiler(10000)\n",
    "attn_profiler(10000, 'cuda')\n",
    "\n",
    "# Initialize lists to store results\n",
    "results = []\n",
    "\n",
    "# Run the profiler 100 times for each input length and device, and store the results\n",
    "for i in tqdm.tqdm(range(100)):\n",
    "    for input_length in input_lengths:\n",
    "        for device in devices:\n",
    "            result = attn_profiler(input_length, device)  # Result is a dictionary\n",
    "            results.append(result)  # Append the whole result dictionary to the list\n",
    "\n",
    "# Convert the list of dictionaries to a DataFrame\n",
    "df = pd.DataFrame(results)\n",
    "\n",
    "# Plotting time, FLOPS, and memory separately with error bars\n",
    "metrics = ['time', 'flops', 'memory']\n",
    "titles = {\n",
    "    'time': 'Execution Time vs Input Length',\n",
    "    'flops': 'FLOPS vs Input Length',\n",
    "    'memory': 'Memory Usage vs Input Length'\n",
    "}\n",
    "y_labels = {\n",
    "    'time': 'Time (s)',\n",
    "    'flops': 'FLOPS',\n",
    "    'memory': 'Memory Usage (bytes)'\n",
    "}\n",
    "\n",
    "# Plot each metric\n",
    "for metric in metrics:\n",
    "    plt.figure(figsize=(10, 6))\n",
    "    sns.lineplot(\n",
    "        data=df,\n",
    "        x='input_length', \n",
    "        y=metric, \n",
    "        hue='device', \n",
    "        errorbar='sd',  \n",
    "        marker='o'\n",
    "    )\n",
    "    \n",
    "    plt.title(titles[metric])\n",
    "    plt.xlabel('Input Length')\n",
    "    plt.ylabel(y_labels[metric])\n",
    "    plt.xscale('log')  \n",
    "    plt.yscale('log')\n",
    "    plt.legend(title='Device')\n",
    "    plt.grid(True)\n",
    "    plt.show()"
   ]
  },
  {
   "cell_type": "code",
   "execution_count": null,
   "metadata": {},
   "outputs": [],
   "source": []
  }
 ],
 "metadata": {
  "kernelspec": {
   "display_name": "ssm_hw5",
   "language": "python",
   "name": "python3"
  },
  "language_info": {
   "codemirror_mode": {
    "name": "ipython",
    "version": 3
   },
   "file_extension": ".py",
   "mimetype": "text/x-python",
   "name": "python",
   "nbconvert_exporter": "python",
   "pygments_lexer": "ipython3",
   "version": "3.10.13"
  }
 },
 "nbformat": 4,
 "nbformat_minor": 2
}
